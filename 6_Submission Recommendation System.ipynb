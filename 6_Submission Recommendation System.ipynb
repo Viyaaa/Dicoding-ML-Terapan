{
  "nbformat": 4,
  "nbformat_minor": 0,
  "metadata": {
    "colab": {
      "provenance": [],
      "collapsed_sections": []
    },
    "kernelspec": {
      "name": "python3",
      "display_name": "Python 3"
    },
    "language_info": {
      "name": "python"
    },
    "accelerator": "GPU"
  },
  "cells": [
    {
      "cell_type": "markdown",
      "source": [
        "Dataset yang digunakan: https://www.kaggle.com/datasets/shubhammehta21/movie-lens-small-latest-dataset\n",
        "\n",
        "Dataset berisi list movie, rating, id movie pada imbd tmbd, dan tag"
      ],
      "metadata": {
        "id": "ziAlvabtdeRz"
      }
    },
    {
      "cell_type": "markdown",
      "source": [
        "#### Mengunduh Dataset yang Digunakan"
      ],
      "metadata": {
        "id": "JiB7jSLodz9Z"
      }
    },
    {
      "cell_type": "code",
      "execution_count": 1,
      "metadata": {
        "colab": {
          "base_uri": "https://localhost:8080/"
        },
        "id": "45y9eWYtuVBK",
        "outputId": "f43c89b7-3240-4d02-c312-e254d75790bf"
      },
      "outputs": [
        {
          "output_type": "stream",
          "name": "stdout",
          "text": [
            "Looking in indexes: https://pypi.org/simple, https://us-python.pkg.dev/colab-wheels/public/simple/\n",
            "Requirement already satisfied: kaggle in /usr/local/lib/python3.7/dist-packages (1.5.12)\n",
            "Requirement already satisfied: python-slugify in /usr/local/lib/python3.7/dist-packages (from kaggle) (6.1.2)\n",
            "Requirement already satisfied: urllib3 in /usr/local/lib/python3.7/dist-packages (from kaggle) (1.24.3)\n",
            "Requirement already satisfied: certifi in /usr/local/lib/python3.7/dist-packages (from kaggle) (2022.6.15)\n",
            "Requirement already satisfied: six>=1.10 in /usr/local/lib/python3.7/dist-packages (from kaggle) (1.15.0)\n",
            "Requirement already satisfied: tqdm in /usr/local/lib/python3.7/dist-packages (from kaggle) (4.64.1)\n",
            "Requirement already satisfied: python-dateutil in /usr/local/lib/python3.7/dist-packages (from kaggle) (2.8.2)\n",
            "Requirement already satisfied: requests in /usr/local/lib/python3.7/dist-packages (from kaggle) (2.23.0)\n",
            "Requirement already satisfied: text-unidecode>=1.3 in /usr/local/lib/python3.7/dist-packages (from python-slugify->kaggle) (1.3)\n",
            "Requirement already satisfied: chardet<4,>=3.0.2 in /usr/local/lib/python3.7/dist-packages (from requests->kaggle) (3.0.4)\n",
            "Requirement already satisfied: idna<3,>=2.5 in /usr/local/lib/python3.7/dist-packages (from requests->kaggle) (2.10)\n"
          ]
        }
      ],
      "source": [
        "! pip install kaggle"
      ]
    },
    {
      "cell_type": "code",
      "source": [
        "from google.colab import files\n",
        "\n",
        "uploaded = files.upload()\n",
        "\n",
        "for fn in uploaded.keys():\n",
        "  print('User uploaded file \"{name}\" with length {length} bytes'.format(\n",
        "      name=fn, length=len(uploaded[fn])))\n",
        "  \n",
        "# Then move kaggle.json into the folder where the API expects to find it.\n",
        "!mkdir -p ~/.kaggle/ && mv kaggle.json ~/.kaggle/ && chmod 600 ~/.kaggle/kaggle.json"
      ],
      "metadata": {
        "colab": {
          "resources": {
            "http://localhost:8080/nbextensions/google.colab/files.js": {
              "data": "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",
              "ok": true,
              "headers": [
                [
                  "content-type",
                  "application/javascript"
                ]
              ],
              "status": 200,
              "status_text": ""
            }
          },
          "base_uri": "https://localhost:8080/",
          "height": 91
        },
        "id": "yu7FdvKUuclE",
        "outputId": "6d8b0e37-39bd-4543-a217-786afc38c5ff"
      },
      "execution_count": 2,
      "outputs": [
        {
          "output_type": "display_data",
          "data": {
            "text/plain": [
              "<IPython.core.display.HTML object>"
            ],
            "text/html": [
              "\n",
              "     <input type=\"file\" id=\"files-a8431b1d-83d0-4a4f-a308-a3f852888acd\" name=\"files[]\" multiple disabled\n",
              "        style=\"border:none\" />\n",
              "     <output id=\"result-a8431b1d-83d0-4a4f-a308-a3f852888acd\">\n",
              "      Upload widget is only available when the cell has been executed in the\n",
              "      current browser session. Please rerun this cell to enable.\n",
              "      </output>\n",
              "      <script src=\"/nbextensions/google.colab/files.js\"></script> "
            ]
          },
          "metadata": {}
        },
        {
          "output_type": "stream",
          "name": "stdout",
          "text": [
            "Saving kaggle.json to kaggle.json\n",
            "User uploaded file \"kaggle.json\" with length 62 bytes\n"
          ]
        }
      ]
    },
    {
      "cell_type": "code",
      "source": [
        "! kaggle datasets download -d shubhammehta21/movie-lens-small-latest-dataset"
      ],
      "metadata": {
        "colab": {
          "base_uri": "https://localhost:8080/"
        },
        "id": "CHb2M-JYueE6",
        "outputId": "12961ea2-0c1c-4f46-9573-6f92a5e20cc2"
      },
      "execution_count": 3,
      "outputs": [
        {
          "output_type": "stream",
          "name": "stdout",
          "text": [
            "Downloading movie-lens-small-latest-dataset.zip to /content\n",
            "\r  0% 0.00/971k [00:00<?, ?B/s]\n",
            "\r100% 971k/971k [00:00<00:00, 160MB/s]\n"
          ]
        }
      ]
    },
    {
      "cell_type": "code",
      "source": [
        "! unzip /content/movie-lens-small-latest-dataset.zip"
      ],
      "metadata": {
        "colab": {
          "base_uri": "https://localhost:8080/"
        },
        "id": "MwB9-yMWufSU",
        "outputId": "d951e8e1-aa6a-43a1-ef94-9bf74349fffe"
      },
      "execution_count": 4,
      "outputs": [
        {
          "output_type": "stream",
          "name": "stdout",
          "text": [
            "Archive:  /content/movie-lens-small-latest-dataset.zip\n",
            "  inflating: README.txt              \n",
            "  inflating: links.csv               \n",
            "  inflating: movies.csv              \n",
            "  inflating: ratings.csv             \n",
            "  inflating: tags.csv                \n"
          ]
        }
      ]
    },
    {
      "cell_type": "markdown",
      "source": [
        "#### Import Library yang Dibutuhkan"
      ],
      "metadata": {
        "id": "7z7UNbMo2oiW"
      }
    },
    {
      "cell_type": "code",
      "source": [
        "import pandas as pd\n",
        "import numpy as np \n",
        "from zipfile import ZipFile\n",
        "import tensorflow as tf\n",
        "from tensorflow import keras\n",
        "from tensorflow.keras import layers\n",
        "from pathlib import Path\n",
        "import matplotlib.pyplot as plt\n",
        "import plotly.express as px"
      ],
      "metadata": {
        "id": "kbcar06663Ov"
      },
      "execution_count": 5,
      "outputs": []
    },
    {
      "cell_type": "markdown",
      "source": [
        "#### Import Data dan Melakukan EDA"
      ],
      "metadata": {
        "id": "TOstbDeh2qmZ"
      }
    },
    {
      "cell_type": "code",
      "source": [
        "movies = pd.read_csv('movies.csv')\n",
        "ratings = pd.read_csv('ratings.csv')"
      ],
      "metadata": {
        "id": "upoEy0kExLjJ"
      },
      "execution_count": 6,
      "outputs": []
    },
    {
      "cell_type": "code",
      "source": [
        "movies.info()"
      ],
      "metadata": {
        "colab": {
          "base_uri": "https://localhost:8080/"
        },
        "id": "6n-I-79M3nIo",
        "outputId": "4ba9a890-1d71-4229-86fa-8aff09b2adc6"
      },
      "execution_count": 7,
      "outputs": [
        {
          "output_type": "stream",
          "name": "stdout",
          "text": [
            "<class 'pandas.core.frame.DataFrame'>\n",
            "RangeIndex: 9742 entries, 0 to 9741\n",
            "Data columns (total 3 columns):\n",
            " #   Column   Non-Null Count  Dtype \n",
            "---  ------   --------------  ----- \n",
            " 0   movieId  9742 non-null   int64 \n",
            " 1   title    9742 non-null   object\n",
            " 2   genres   9742 non-null   object\n",
            "dtypes: int64(1), object(2)\n",
            "memory usage: 228.5+ KB\n"
          ]
        }
      ]
    },
    {
      "cell_type": "markdown",
      "source": [
        "Memisahkan data pada fitur genre karena satu data memiliki banyak genre"
      ],
      "metadata": {
        "id": "GkZnEIF1d8Uv"
      }
    },
    {
      "cell_type": "code",
      "source": [
        "movies['genres'] = pd.DataFrame(movies['genres'].str.replace('|', ',', regex=True))"
      ],
      "metadata": {
        "id": "AIGfGcqhy_oL"
      },
      "execution_count": 8,
      "outputs": []
    },
    {
      "cell_type": "markdown",
      "source": [
        "Memasukkan data dengan genre yang sudah terpisah satu-satu kedalam variabel baru"
      ],
      "metadata": {
        "id": "QDoXA2czeBMk"
      }
    },
    {
      "cell_type": "code",
      "source": [
        "genres_data = (movies.set_index(movies.columns.drop('genres',1).tolist())['genres']\n",
        "               .str.split(',', expand=True)\n",
        "               .stack()\n",
        "               .reset_index()\n",
        "               .rename(columns={0:'genres'})\n",
        "               .loc[:, movies.columns]\n",
        "               )"
      ],
      "metadata": {
        "id": "uf9P_dfFzryT"
      },
      "execution_count": 9,
      "outputs": []
    },
    {
      "cell_type": "markdown",
      "source": [
        "Menampilkan visualisasi banyaknya genre dalam dataset"
      ],
      "metadata": {
        "id": "AcIoPP6reGx5"
      }
    },
    {
      "cell_type": "code",
      "source": [
        "fig = px.pie(genres_data, names = \"genres\",\n",
        "             title = \"<b>Counts in Genres</b>\",             \n",
        "             color_discrete_sequence=px.colors.sequential.Blackbody_r,             \n",
        "             hole = 0.5)\n",
        "\n",
        "fig.update_layout(title_x = 0.5,\n",
        "                  title_font = dict(size = 20))\n",
        "\n",
        "fig.update_traces(textposition='inside',\n",
        "                  textinfo='percent+label',    \n",
        "                  textfont_size=15,                  \n",
        "                  marker=dict(line=dict(color='#000000', width = 1.5)))\n",
        "\n",
        "\n",
        "fig.show()"
      ],
      "metadata": {
        "colab": {
          "base_uri": "https://localhost:8080/",
          "height": 542
        },
        "id": "fMkE5iwW1XD9",
        "outputId": "21188296-f0ab-4ca7-969c-cb0599416f31"
      },
      "execution_count": 10,
      "outputs": [
        {
          "output_type": "display_data",
          "data": {
            "text/html": [
              "<html>\n",
              "<head><meta charset=\"utf-8\" /></head>\n",
              "<body>\n",
              "    <div>            <script src=\"https://cdnjs.cloudflare.com/ajax/libs/mathjax/2.7.5/MathJax.js?config=TeX-AMS-MML_SVG\"></script><script type=\"text/javascript\">if (window.MathJax) {MathJax.Hub.Config({SVG: {font: \"STIX-Web\"}});}</script>                <script type=\"text/javascript\">window.PlotlyConfig = {MathJaxConfig: 'local'};</script>\n",
              "        <script src=\"https://cdn.plot.ly/plotly-2.8.3.min.js\"></script>                <div id=\"5ae7f3be-fd30-4e81-86af-36e2361b36f6\" class=\"plotly-graph-div\" style=\"height:525px; width:100%;\"></div>            <script type=\"text/javascript\">                                    window.PLOTLYENV=window.PLOTLYENV || {};                                    if (document.getElementById(\"5ae7f3be-fd30-4e81-86af-36e2361b36f6\")) {                    Plotly.newPlot(                        \"5ae7f3be-fd30-4e81-86af-36e2361b36f6\",                        [{\"domain\":{\"x\":[0.0,1.0],\"y\":[0.0,1.0]},\"hole\":0.5,\"hovertemplate\":\"genres=%{label}<extra></extra>\",\"labels\":[\"Adventure\",\"Animation\",\"Children\",\"Comedy\",\"Fantasy\",\"Adventure\",\"Children\",\"Fantasy\",\"Comedy\",\"Romance\",\"Comedy\",\"Drama\",\"Romance\",\"Comedy\",\"Action\",\"Crime\",\"Thriller\",\"Comedy\",\"Romance\",\"Adventure\",\"Children\",\"Action\",\"Action\",\"Adventure\",\"Thriller\",\"Comedy\",\"Drama\",\"Romance\",\"Comedy\",\"Horror\",\"Adventure\",\"Animation\",\"Children\",\"Drama\",\"Action\",\"Adventure\",\"Romance\",\"Crime\",\"Drama\",\"Drama\",\"Romance\",\"Comedy\",\"Comedy\",\"Action\",\"Comedy\",\"Crime\",\"Drama\",\"Thriller\",\"Comedy\",\"Crime\",\"Thriller\",\"Crime\",\"Drama\",\"Horror\",\"Mystery\",\"Thriller\",\"Action\",\"Crime\",\"Thriller\",\"Drama\",\"Sci-Fi\",\"Drama\",\"Romance\",\"Drama\",\"Children\",\"Drama\",\"Drama\",\"Romance\",\"Adventure\",\"Drama\",\"Fantasy\",\"Mystery\",\"Sci-Fi\",\"Crime\",\"Drama\",\"Drama\",\"Mystery\",\"Sci-Fi\",\"Thriller\",\"Children\",\"Drama\",\"Crime\",\"Drama\",\"Children\",\"Comedy\",\"Comedy\",\"Romance\",\"Drama\",\"Drama\",\"War\",\"Action\",\"Crime\",\"Drama\",\"Drama\",\"Action\",\"Adventure\",\"Fantasy\",\"Comedy\",\"Drama\",\"Thriller\",\"Drama\",\"Romance\",\"Mystery\",\"Thriller\",\"Animation\",\"Children\",\"Drama\",\"Musical\",\"Romance\",\"Drama\",\"Romance\",\"Crime\",\"Mystery\",\"Thriller\",\"Comedy\",\"Drama\",\"Romance\",\"Adventure\",\"Drama\",\"Children\",\"Comedy\",\"Drama\",\"Drama\",\"Comedy\",\"Drama\",\"Romance\",\"Adventure\",\"Children\",\"Fantasy\",\"Drama\",\"Thriller\",\"Drama\",\"Comedy\",\"Crime\",\"Comedy\",\"Romance\",\"Comedy\",\"Action\",\"Sci-Fi\",\"Thriller\",\"Comedy\",\"Romance\",\"Comedy\",\"Action\",\"Comedy\",\"Horror\",\"Thriller\",\"Action\",\"Comedy\",\"Drama\",\"Drama\",\"War\",\"Drama\",\"Romance\",\"Comedy\",\"Drama\",\"Action\",\"Sci-Fi\",\"Thriller\",\"Documentary\",\"Action\",\"Crime\",\"Drama\",\"Thriller\",\"Drama\",\"Thriller\",\"Children\",\"Drama\",\"Crime\",\"Drama\",\"Romance\",\"Comedy\",\"Drama\",\"Drama\",\"Romance\",\"Drama\",\"Romance\",\"Action\",\"Adventure\",\"Drama\",\"Children\",\"Comedy\",\"Comedy\",\"Action\",\"Thriller\",\"Drama\",\"Horror\",\"Thriller\",\"Comedy\",\"Horror\",\"Romance\",\"Comedy\",\"Drama\",\"Romance\",\"Action\",\"Adventure\",\"Thriller\",\"Comedy\",\"Drama\",\"Crime\",\"Drama\",\"Documentary\",\"Drama\",\"Thriller\",\"Adventure\",\"Comedy\",\"Crime\",\"Romance\",\"Comedy\",\"Mystery\",\"Sci-Fi\",\"Thriller\",\"Comedy\",\"Drama\",\"Romance\",\"Comedy\",\"Drama\",\"Adventure\",\"Children\",\"Comedy\",\"Musical\",\"Documentary\",\"Action\",\"Drama\",\"War\",\"Crime\",\"Drama\",\"Thriller\",\"Action\",\"Adventure\",\"Comedy\",\"Crime\",\"Drama\",\"Mystery\",\"Documentary\",\"Crime\",\"Drama\",\"Comedy\",\"Romance\",\"Comedy\",\"Drama\",\"Comedy\",\"Romance\",\"Drama\",\"Mystery\",\"Romance\",\"Comedy\",\"Adventure\",\"Children\",\"Fantasy\",\"Documentary\",\"Comedy\",\"Romance\",\"Thriller\",\"Comedy\",\"Documentary\",\"Drama\",\"Romance\",\"Comedy\",\"Comedy\",\"Action\",\"Comedy\",\"Crime\",\"Drama\",\"Thriller\",\"Adventure\",\"Children\",\"Drama\",\"Drama\",\"Crime\",\"Drama\",\"Thriller\",\"Adventure\",\"Drama\",\"IMAX\",\"Action\",\"Drama\",\"Romance\",\"War\",\"Drama\",\"Horror\",\"Action\",\"Adventure\",\"Comedy\",\"Crime\",\"Drama\",\"Adventure\",\"Drama\",\"War\",\"Comedy\",\"Drama\",\"Comedy\",\"War\",\"Adventure\",\"Children\",\"Crime\",\"Drama\",\"Mystery\",\"Action\",\"Adventure\",\"Mystery\",\"Sci-Fi\",\"Drama\",\"Thriller\",\"War\",\"Documentary\",\"Action\",\"Romance\",\"Western\",\"Crime\",\"Film-Noir\",\"Mystery\",\"Thriller\",\"Action\",\"Crime\",\"Thriller\",\"Comedy\",\"Crime\",\"Drama\",\"Action\",\"Drama\",\"Romance\",\"Adventure\",\"Children\",\"Drama\",\"Action\",\"Adventure\",\"Crime\",\"Thriller\",\"Comedy\",\"Drama\",\"Action\",\"Sci-Fi\",\"Thriller\",\"Action\",\"Crime\",\"Sci-Fi\",\"Comedy\",\"Drama\",\"Comedy\",\"Horror\",\"Comedy\",\"Drama\",\"Drama\",\"Romance\",\"Comedy\",\"Romance\",\"Action\",\"Children\",\"Comedy\",\"Horror\",\"Thriller\",\"Drama\",\"Action\",\"Crime\",\"Thriller\",\"Comedy\",\"Romance\",\"Comedy\",\"Fantasy\",\"Horror\",\"Mystery\",\"Comedy\",\"Fantasy\",\"Thriller\",\"Drama\",\"Romance\",\"Drama\",\"Comedy\",\"Drama\",\"Comedy\",\"Drama\",\"Romance\",\"Horror\",\"Sci-Fi\",\"Action\",\"Crime\",\"Drama\",\"Mystery\",\"Sci-Fi\",\"Thriller\",\"Drama\",\"Musical\",\"Romance\",\"Drama\",\"Fantasy\",\"Drama\",\"Romance\",\"Comedy\",\"Action\",\"Comedy\",\"Drama\",\"Documentary\",\"Drama\",\"Romance\",\"Action\",\"Adventure\",\"Sci-Fi\",\"Drama\",\"Western\",\"Drama\",\"Adventure\",\"Comedy\",\"Crime\",\"Mystery\",\"Drama\",\"Drama\",\"War\",\"Drama\",\"Romance\",\"Comedy\",\"Drama\",\"Thriller\",\"Comedy\",\"Drama\",\"Drama\",\"Horror\",\"Drama\",\"Romance\",\"Comedy\",\"Comedy\",\"Drama\",\"Romance\",\"Drama\",\"Thriller\",\"Action\",\"Thriller\",\"Comedy\",\"Drama\",\"Thriller\",\"Drama\",\"Thriller\",\"Adventure\",\"Comedy\",\"Comedy\",\"Drama\",\"Romance\",\"Drama\",\"Comedy\",\"Comedy\",\"Drama\",\"Action\",\"Comedy\",\"Romance\",\"Comedy\",\"Romance\",\"Adventure\",\"Children\",\"Animation\",\"Children\",\"Comedy\",\"Romance\",\"Thriller\",\"Children\",\"Drama\",\"Drama\",\"Musical\",\"Children\",\"Comedy\",\"Fantasy\",\"Documentary\",\"Crime\",\"Drama\",\"Comedy\",\"Drama\",\"Romance\",\"Children\",\"Comedy\",\"Action\",\"Comedy\",\"Romance\",\"Drama\",\"Horror\",\"Drama\",\"Comedy\",\"Comedy\",\"Sci-Fi\",\"Mystery\",\"Thriller\",\"Adventure\",\"Children\",\"Comedy\",\"Fantasy\",\"Romance\",\"Crime\",\"Drama\",\"Thriller\",\"Action\",\"Adventure\",\"Sci-Fi\",\"Drama\",\"Children\",\"Drama\",\"Drama\",\"Drama\",\"Fantasy\",\"Romance\",\"Drama\",\"Romance\",\"War\",\"Western\",\"Comedy\",\"Drama\",\"Drama\",\"Romance\",\"Drama\",\"Comedy\",\"Drama\",\"Drama\",\"Horror\",\"Sci-Fi\",\"Comedy\",\"Comedy\",\"Comedy\",\"Romance\",\"Drama\",\"Comedy\",\"Drama\",\"Drama\",\"Thriller\",\"Comedy\",\"Drama\",\"Romance\",\"Drama\",\"Crime\",\"Drama\",\"Action\",\"Crime\",\"Drama\",\"Horror\",\"Comedy\",\"Romance\",\"Action\",\"Crime\",\"Thriller\",\"Comedy\",\"Romance\",\"Crime\",\"Drama\",\"Drama\",\"Thriller\",\"Action\",\"Drama\",\"Sci-Fi\",\"Thriller\",\"Action\",\"Crime\",\"Drama\",\"Thriller\",\"Comedy\",\"Romance\",\"Comedy\",\"Romance\",\"Comedy\",\"Crime\",\"Drama\",\"Thriller\",\"Drama\",\"Drama\",\"Drama\",\"Drama\",\"Romance\",\"Drama\",\"Romance\",\"Action\",\"Thriller\",\"Western\",\"Comedy\",\"Drama\",\"Comedy\",\"Drama\",\"Drama\",\"Comedy\",\"Drama\",\"Comedy\",\"Horror\",\"Thriller\",\"Comedy\",\"Animation\",\"Children\",\"Children\",\"Drama\",\"Fantasy\",\"Mystery\",\"Action\",\"Drama\",\"Thriller\",\"Action\",\"Adventure\",\"Sci-Fi\",\"Comedy\",\"Drama\",\"Fantasy\",\"Crime\",\"Drama\",\"Comedy\",\"Drama\",\"Thriller\",\"Film-Noir\",\"Thriller\",\"Drama\",\"Comedy\",\"Drama\",\"Comedy\",\"Drama\",\"Comedy\",\"Drama\",\"Action\",\"Comedy\",\"Sci-Fi\",\"Horror\",\"Thriller\",\"Adventure\",\"Drama\",\"Sci-Fi\",\"Action\",\"Crime\",\"Horror\",\"Drama\",\"Horror\",\"Sci-Fi\",\"Comedy\",\"Drama\",\"Mystery\",\"Thriller\",\"Drama\",\"War\",\"Drama\",\"Action\",\"Sci-Fi\",\"Thriller\",\"Comedy\",\"Romance\",\"Adventure\",\"Drama\",\"War\",\"Drama\",\"Comedy\",\"Children\",\"Comedy\",\"Comedy\",\"Drama\",\"Drama\",\"Musical\",\"Drama\",\"Film-Noir\",\"Romance\",\"Comedy\",\"Action\",\"Crime\",\"Drama\",\"Thriller\",\"Drama\",\"Mystery\",\"Thriller\",\"Comedy\",\"Drama\",\"Romance\",\"Comedy\",\"Drama\",\"Action\",\"Crime\",\"Fantasy\",\"Thriller\",\"Drama\",\"Children\",\"Comedy\",\"Fantasy\",\"Comedy\",\"Drama\",\"Romance\",\"War\",\"Comedy\",\"Romance\",\"Drama\",\"Comedy\",\"Drama\",\"Romance\",\"Action\",\"Comedy\",\"Comedy\",\"Drama\",\"Romance\",\"Adventure\",\"Children\",\"Romance\",\"Documentary\",\"Adventure\",\"Animation\",\"Children\",\"Drama\",\"Musical\",\"IMAX\",\"Drama\",\"Drama\",\"Horror\",\"Mystery\",\"Thriller\",\"Action\",\"Comedy\",\"Crime\",\"Fantasy\",\"Adventure\",\"Comedy\",\"Western\",\"Drama\",\"Action\",\"Comedy\",\"Comedy\",\"Drama\",\"Comedy\",\"Drama\",\"Romance\",\"Thriller\",\"Children\",\"Comedy\",\"Action\",\"Thriller\",\"Action\",\"Romance\",\"Thriller\",\"Comedy\",\"Romance\",\"Action\",\"Sci-Fi\",\"Thriller\",\"Action\",\"Adventure\",\"Comedy\",\"Romance\",\"Thriller\",\"Drama\",\"Romance\",\"Drama\",\"Horror\",\"Romance\",\"Thriller\",\"Western\",\"Action\",\"Crime\",\"Drama\",\"Drama\",\"Drama\",\"Action\",\"Comedy\",\"Drama\",\"Drama\",\"Romance\",\"War\",\"Action\",\"Crime\",\"Drama\",\"Crime\",\"Drama\",\"Action\",\"Adventure\",\"Fantasy\",\"Action\",\"Fantasy\",\"Drama\",\"Horror\",\"Thriller\",\"Drama\",\"Crime\",\"Drama\",\"Children\",\"Comedy\",\"Fantasy\",\"Drama\",\"Comedy\",\"Comedy\",\"Comedy\",\"Thriller\",\"Western\",\"Comedy\",\"Romance\",\"Drama\",\"Comedy\",\"Action\",\"Comedy\",\"Crime\",\"Thriller\",\"Adventure\",\"Children\",\"Drama\",\"Thriller\",\"Action\",\"Thriller\",\"Drama\",\"Drama\",\"Romance\",\"Horror\",\"Sci-Fi\",\"Thriller\",\"Drama\",\"Mystery\",\"Romance\",\"Thriller\",\"Drama\",\"Comedy\",\"Comedy\",\"Drama\",\"Crime\",\"Drama\",\"Adventure\",\"Comedy\",\"Western\",\"Comedy\",\"Action\",\"Adventure\",\"Thriller\",\"Comedy\",\"Sci-Fi\",\"Drama\",\"Thriller\",\"Comedy\",\"Action\",\"Comedy\",\"Drama\",\"Comedy\",\"Romance\",\"Comedy\",\"Action\",\"Adventure\",\"Sci-Fi\",\"Comedy\",\"Romance\",\"Comedy\",\"Drama\",\"Romance\",\"Drama\",\"Comedy\",\"Comedy\",\"Drama\",\"Drama\",\"Mystery\",\"Romance\",\"Drama\",\"Comedy\",\"Romance\",\"Drama\",\"Thriller\",\"Adventure\",\"Children\",\"Drama\",\"Crime\",\"Drama\",\"Thriller\",\"Thriller\",\"Drama\",\"Western\",\"Action\",\"Adventure\",\"Crime\",\"Drama\",\"Romance\",\"Thriller\",\"Comedy\",\"Drama\",\"Romance\",\"Action\",\"Adventure\",\"Crime\",\"Thriller\",\"Action\",\"Comedy\",\"War\",\"Comedy\",\"Comedy\",\"Romance\",\"Drama\",\"Romance\",\"Comedy\",\"Comedy\",\"Comedy\",\"Drama\",\"Comedy\",\"War\",\"Action\",\"Thriller\",\"Drama\",\"Comedy\",\"Drama\",\"Drama\",\"Musical\",\"Comedy\",\"Crime\",\"Drama\",\"Action\",\"Crime\",\"Thriller\",\"Action\",\"Adventure\",\"Sci-Fi\",\"Thriller\",\"Drama\",\"Thriller\",\"Crime\",\"Drama\",\"Thriller\",\"Adventure\",\"Children\",\"Action\",\"Adventure\",\"Comedy\",\"Fantasy\",\"Comedy\",\"Comedy\",\"Western\",\"Drama\",\"Romance\",\"Comedy\",\"Thriller\",\"Drama\",\"Comedy\",\"Mystery\",\"Action\",\"Crime\",\"Drama\",\"Action\",\"Adventure\",\"Thriller\",\"Drama\",\"Comedy\",\"Drama\",\"Romance\",\"Thriller\",\"Comedy\",\"Romance\",\"Comedy\",\"Romance\",\"Comedy\",\"Drama\",\"Drama\",\"Action\",\"Children\",\"Romance\",\"Action\",\"Drama\",\"Sci-Fi\",\"Comedy\",\"Drama\",\"Fantasy\",\"Romance\",\"Crime\",\"Drama\",\"Thriller\",\"Drama\",\"Drama\",\"Romance\",\"Drama\",\"Action\",\"Drama\",\"Horror\",\"Sci-Fi\",\"Comedy\",\"Mystery\",\"Romance\",\"Comedy\",\"Drama\",\"Romance\",\"Comedy\",\"Drama\",\"Action\",\"Drama\",\"Mystery\",\"Comedy\",\"Action\",\"Crime\",\"Drama\",\"Sci-Fi\",\"Thriller\",\"Comedy\",\"Crime\",\"Thriller\",\"Action\",\"Drama\",\"Drama\",\"Drama\",\"Drama\",\"Drama\",\"War\",\"Comedy\",\"Drama\",\"Drama\",\"Children\",\"Drama\",\"Comedy\",\"Crime\",\"Horror\",\"Action\",\"Adventure\",\"Fantasy\",\"Mystery\",\"Drama\",\"Romance\",\"Drama\",\"Drama\",\"Drama\",\"Drama\",\"Comedy\",\"Drama\",\"Romance\",\"Thriller\",\"Action\",\"Sci-Fi\",\"Thriller\",\"Comedy\",\"Drama\",\"Romance\",\"Comedy\",\"Romance\",\"Thriller\",\"Action\",\"Crime\",\"Action\",\"Adventure\",\"Children\",\"Comedy\",\"Fantasy\",\"Sci-Fi\",\"Action\",\"Adventure\",\"Thriller\",\"Action\",\"Mystery\",\"Thriller\",\"Drama\",\"Musical\",\"Comedy\",\"Romance\",\"Animation\",\"Children\",\"Fantasy\",\"Musical\",\"Action\",\"Adventure\",\"Comedy\",\"Romance\",\"Action\",\"Drama\",\"Western\",\"Crime\",\"Thriller\",\"Documentary\",\"Action\",\"Adventure\",\"Animation\",\"Children\",\"Fantasy\",\"Comedy\",\"Drama\",\"Drama\",\"Romance\",\"Comedy\",\"Comedy\",\"Drama\",\"Comedy\",\"Drama\",\"Comedy\",\"Drama\",\"Drama\",\"Comedy\",\"Drama\",\"Children\",\"Comedy\",\"Adventure\",\"Children\",\"Drama\",\"Crime\",\"Thriller\",\"Drama\",\"Documentary\",\"Comedy\",\"Drama\",\"Comedy\",\"Children\",\"Comedy\",\"Comedy\",\"Drama\",\"Fantasy\",\"Romance\",\"Thriller\",\"Adventure\",\"Animation\",\"Children\",\"Comedy\",\"Musical\",\"Action\",\"Sci-Fi\",\"Adventure\",\"Drama\",\"Western\",\"Action\",\"Crime\",\"Thriller\",\"Crime\",\"Horror\",\"Thriller\",\"Animation\",\"Children\",\"Drama\",\"Fantasy\",\"Musical\",\"Animation\",\"Children\",\"Fantasy\",\"Musical\",\"Romance\",\"IMAX\",\"Animation\",\"Children\",\"Fantasy\",\"Musical\",\"Comedy\",\"Romance\",\"Adventure\",\"Western\",\"Action\",\"Comedy\",\"Crime\",\"Documentary\",\"Drama\",\"Romance\",\"Fantasy\",\"Horror\",\"Comedy\",\"Crime\",\"Drama\",\"Thriller\",\"Adventure\",\"Children\",\"Action\",\"Adventure\",\"Animation\",\"Horror\",\"Sci-Fi\",\"Action\",\"Horror\",\"Sci-Fi\",\"Comedy\",\"Drama\",\"Romance\",\"Comedy\",\"Drama\",\"Animation\",\"Children\",\"Comedy\",\"Drama\",\"Comedy\",\"Romance\",\"Comedy\",\"Comedy\",\"Drama\",\"Thriller\",\"Crime\",\"Drama\",\"Mystery\",\"Thriller\",\"Adventure\",\"Animation\",\"Children\",\"Fantasy\",\"Musical\",\"Romance\",\"Drama\",\"War\",\"Comedy\",\"Comedy\",\"Comedy\",\"Drama\",\"Drama\",\"Comedy\",\"Romance\",\"Comedy\",\"Drama\",\"Drama\",\"Thriller\",\"Drama\",\"Action\",\"Crime\",\"Drama\",\"War\",\"Action\",\"Adventure\",\"Mystery\",\"Thriller\",\"Comedy\",\"Drama\",\"Drama\",\"Action\",\"Adventure\",\"Fantasy\",\"Comedy\",\"Adventure\",\"Animation\",\"Children\",\"Fantasy\",\"Musical\",\"Thriller\",\"Comedy\",\"Comedy\",\"Drama\",\"War\",\"Action\",\"Drama\",\"Drama\",\"Comedy\",\"Sci-Fi\",\"Adventure\",\"Animation\",\"Children\",\"Comedy\",\"Fantasy\",\"Sci-Fi\",\"Adventure\",\"Comedy\",\"Sci-Fi\",\"Drama\",\"Thriller\",\"Drama\",\"Drama\",\"Mystery\",\"Romance\",\"Sci-Fi\",\"Thriller\",\"Drama\",\"Action\",\"Adventure\",\"Comedy\",\"War\",\"Comedy\",\"Romance\",\"Action\",\"Sci-Fi\",\"Thriller\",\"Action\",\"Crime\",\"Drama\",\"Mystery\",\"Thriller\",\"Drama\",\"Romance\",\"Drama\",\"Comedy\",\"Drama\",\"Action\",\"Adventure\",\"Drama\",\"Crime\",\"Drama\",\"Thriller\",\"Comedy\",\"Romance\",\"Adventure\",\"Animation\",\"Children\",\"Comedy\",\"Musical\",\"Comedy\",\"Adventure\",\"Children\",\"Drama\",\"Mystery\",\"Western\",\"Drama\",\"Romance\",\"Comedy\",\"Fantasy\",\"Sci-Fi\",\"Comedy\",\"Adventure\",\"Animation\",\"Comedy\",\"Documentary\",\"Drama\",\"Fantasy\",\"Horror\",\"Thriller\",\"Comedy\",\"Drama\",\"Comedy\",\"Crime\",\"Thriller\",\"Action\",\"Adventure\",\"Thriller\",\"Horror\",\"Action\",\"Adventure\",\"Romance\",\"Thriller\",\"Action\",\"Sci-Fi\",\"Animation\",\"Sci-Fi\",\"Horror\",\"Thriller\",\"Comedy\",\"Animation\",\"Children\",\"Comedy\",\"Comedy\",\"Action\",\"Sci-Fi\",\"Thriller\",\"Comedy\",\"War\",\"Drama\",\"Documentary\",\"Drama\",\"War\",\"Action\",\"Adventure\",\"Comedy\",\"Crime\",\"Drama\",\"Romance\",\"Comedy\",\"Drama\",\"Drama\",\"Drama\",\"Horror\",\"Mystery\",\"Comedy\",\"Crime\",\"Drama\",\"Drama\",\"Romance\",\"Action\",\"Adventure\",\"Sci-Fi\",\"Thriller\",\"Drama\",\"Drama\",\"Thriller\",\"Animation\",\"Children\",\"Drama\",\"Musical\",\"Romance\",\"Comedy\",\"Thriller\",\"Comedy\",\"Action\",\"Drama\",\"Thriller\",\"Comedy\",\"Fantasy\",\"Romance\",\"Sci-Fi\",\"Drama\",\"Documentary\",\"Drama\",\"Action\",\"Adventure\",\"Drama\",\"Thriller\",\"Comedy\",\"Horror\",\"Thriller\",\"Drama\",\"Mystery\",\"Western\",\"Children\",\"Comedy\",\"Drama\",\"Romance\",\"Comedy\",\"Drama\",\"Romance\",\"Comedy\",\"Romance\",\"Drama\",\"Thriller\",\"Crime\",\"Drama\",\"Adventure\",\"Children\",\"Action\",\"Adventure\",\"Children\",\"Comedy\",\"Fantasy\",\"Comedy\",\"Comedy\",\"Drama\",\"Drama\",\"Mystery\",\"Adventure\",\"Children\",\"Comedy\",\"Fantasy\",\"Musical\",\"Comedy\",\"Crime\",\"Thriller\",\"Comedy\",\"Drama\",\"Action\",\"Adventure\",\"Thriller\",\"Children\",\"Comedy\",\"Fantasy\",\"Comedy\",\"Drama\",\"Romance\",\"Action\",\"Thriller\",\"Children\",\"Comedy\",\"Horror\",\"Comedy\",\"Horror\",\"Drama\",\"Action\",\"Adventure\",\"Sci-Fi\",\"Thriller\",\"Drama\",\"Comedy\",\"Drama\",\"Romance\",\"Crime\",\"Drama\",\"Action\",\"Comedy\",\"Crime\",\"Thriller\",\"Crime\",\"Drama\",\"Romance\",\"Thriller\",\"Comedy\",\"Crime\",\"Crime\",\"Drama\",\"Musical\",\"Thriller\",\"Comedy\",\"Action\",\"Crime\",\"Drama\",\"Action\",\"Comedy\",\"Crime\",\"Thriller\",\"Horror\",\"Thriller\",\"Sci-Fi\",\"Thriller\",\"Children\",\"Comedy\",\"Drama\",\"Thriller\",\"Children\",\"Drama\",\"Fantasy\",\"Action\",\"Comedy\",\"Crime\",\"Adventure\",\"Animation\",\"Children\",\"Musical\",\"Drama\",\"Romance\",\"Horror\",\"Thriller\",\"Comedy\",\"Drama\",\"Romance\",\"Drama\",\"Drama\",\"Adventure\",\"Drama\",\"Romance\",\"War\",\"Comedy\",\"Drama\",\"Romance\",\"Comedy\",\"Musical\",\"Romance\",\"Musical\",\"Romance\",\"Comedy\",\"Musical\",\"Drama\",\"Romance\",\"Drama\",\"Mystery\",\"Romance\",\"Thriller\",\"Mystery\",\"Thriller\",\"Comedy\",\"Romance\",\"Drama\",\"Thriller\",\"Comedy\",\"Musical\",\"Romance\",\"Action\",\"Adventure\",\"Mystery\",\"Romance\",\"Thriller\",\"Comedy\",\"Drama\",\"Romance\",\"Comedy\",\"Crime\",\"Comedy\",\"Crime\",\"Mystery\",\"Romance\",\"Thriller\",\"Drama\",\"Romance\",\"Film-Noir\",\"Mystery\",\"Comedy\",\"Drama\",\"Musical\",\"Romance\",\"Comedy\",\"Romance\",\"Comedy\",\"Drama\",\"Romance\",\"Children\",\"Drama\",\"Musical\",\"Adventure\",\"Children\",\"Fantasy\",\"Musical\",\"Drama\",\"Romance\",\"War\",\"Comedy\",\"Drama\",\"Film-Noir\",\"Romance\",\"Drama\",\"Mystery\",\"Adventure\",\"Drama\",\"Sci-Fi\",\"Drama\",\"Comedy\",\"Drama\",\"Mystery\",\"Romance\",\"Thriller\",\"Drama\",\"Film-Noir\",\"Mystery\",\"Thriller\",\"Film-Noir\",\"Romance\",\"Thriller\",\"Mystery\",\"Romance\",\"Thriller\",\"Drama\",\"Romance\",\"Crime\",\"Mystery\",\"Romance\",\"Thriller\",\"Comedy\",\"Comedy\",\"Musical\",\"Comedy\",\"Romance\",\"Comedy\",\"Romance\",\"Musical\",\"Action\",\"Adventure\",\"Romance\",\"Adventure\",\"Crime\",\"Film-Noir\",\"Mystery\",\"Drama\",\"Fantasy\",\"Romance\",\"Drama\",\"Comedy\",\"Musical\",\"Romance\",\"Comedy\",\"Drama\",\"War\",\"Comedy\",\"Romance\",\"Drama\",\"Romance\",\"Western\",\"Drama\",\"Comedy\",\"Crime\",\"Comedy\",\"Romance\",\"Adventure\",\"Comedy\",\"Children\",\"Drama\",\"Fantasy\",\"Romance\",\"Drama\",\"Comedy\",\"Romance\",\"Drama\",\"Romance\",\"Drama\",\"Drama\",\"Musical\",\"Drama\",\"Mystery\",\"Thriller\",\"Horror\",\"Sci-Fi\",\"Thriller\",\"Adventure\",\"Comedy\",\"Romance\",\"War\",\"Adventure\",\"Comedy\",\"Crime\",\"Drama\",\"Romance\",\"Drama\",\"Comedy\",\"Drama\",\"Romance\",\"War\",\"Drama\",\"War\",\"Drama\",\"Drama\",\"Comedy\",\"Drama\",\"Adventure\",\"Children\",\"Drama\",\"Romance\",\"Comedy\",\"Drama\",\"Action\",\"Adventure\",\"Thriller\",\"Drama\",\"Drama\",\"Comedy\",\"Drama\",\"Action\",\"Crime\",\"Drama\",\"Thriller\",\"Action\",\"Crime\",\"Crime\",\"Film-Noir\",\"Drama\",\"Thriller\",\"Action\",\"Thriller\",\"Children\",\"Comedy\",\"Drama\",\"Children\",\"Comedy\",\"Western\",\"Adventure\",\"Western\",\"Adventure\",\"Children\",\"Fantasy\",\"Children\",\"Comedy\",\"Children\",\"Comedy\",\"Fantasy\",\"Romance\",\"Children\",\"Drama\",\"Children\",\"Comedy\",\"Romance\",\"Children\",\"Comedy\",\"Drama\",\"Adventure\",\"Children\",\"Drama\",\"Children\",\"Comedy\",\"Adventure\",\"Children\",\"Children\",\"Comedy\",\"Mystery\",\"Adventure\",\"Drama\",\"Sci-Fi\",\"Comedy\",\"Children\",\"Comedy\",\"Animation\",\"Children\",\"Fantasy\",\"Musical\",\"Romance\",\"Animation\",\"Children\",\"Musical\",\"Animation\",\"Children\",\"Musical\",\"Animation\",\"Children\",\"Fantasy\",\"Musical\",\"Adventure\",\"Drama\",\"Children\",\"Comedy\",\"Fantasy\",\"Musical\",\"Animation\",\"Children\",\"Drama\",\"Musical\",\"Adventure\",\"Animation\",\"Children\",\"Musical\",\"Adventure\",\"Children\",\"Musical\",\"Adventure\",\"Animation\",\"Children\",\"Fantasy\",\"Musical\",\"Animation\",\"Children\",\"Drama\",\"Comedy\",\"Crime\",\"Drama\",\"Thriller\",\"Musical\",\"Romance\",\"Action\",\"Crime\",\"Thriller\",\"Action\",\"Horror\",\"Sci-Fi\",\"Thriller\",\"Drama\",\"Drama\",\"Comedy\",\"Drama\",\"Drama\",\"Romance\",\"Drama\",\"Romance\",\"Action\",\"Drama\",\"Thriller\",\"Action\",\"Adventure\",\"Documentary\",\"Drama\",\"Drama\",\"Crime\",\"Drama\",\"Romance\",\"Drama\",\"Thriller\",\"Drama\",\"Comedy\",\"Musical\",\"Romance\",\"Drama\",\"Romance\",\"Comedy\",\"Drama\",\"Thriller\",\"Animation\",\"Children\",\"Comedy\",\"Fantasy\",\"Musical\",\"Romance\",\"Comedy\",\"Musical\",\"Romance\",\"Crime\",\"Film-Noir\",\"Children\",\"Comedy\",\"Fantasy\",\"Musical\",\"Drama\",\"Horror\",\"Thriller\",\"Comedy\",\"Sci-Fi\",\"Comedy\",\"War\",\"Comedy\",\"Crime\",\"Comedy\",\"Comedy\",\"Musical\",\"Romance\",\"Drama\",\"Comedy\",\"Musical\",\"Crime\",\"Drama\",\"Adventure\",\"Drama\",\"Crime\",\"Mystery\",\"Thriller\",\"Drama\",\"Musical\",\"Romance\",\"Crime\",\"Mystery\",\"Thriller\",\"Drama\",\"War\",\"Comedy\",\"Crime\",\"Mystery\",\"Thriller\",\"Drama\",\"Drama\",\"Romance\",\"Thriller\",\"Drama\",\"Drama\",\"Children\",\"Drama\",\"Sci-Fi\",\"Children\",\"Drama\",\"Fantasy\",\"Action\",\"Drama\",\"Romance\",\"Action\",\"Romance\",\"Drama\",\"Drama\",\"Horror\",\"Comedy\",\"Documentary\",\"Action\",\"Comedy\",\"Drama\",\"Crime\",\"Drama\",\"Drama\",\"Drama\",\"Drama\",\"Comedy\",\"Drama\",\"Drama\",\"Documentary\",\"Drama\",\"Comedy\",\"Crime\",\"Comedy\",\"Fantasy\",\"Action\",\"Adventure\",\"Sci-Fi\",\"Thriller\",\"Horror\",\"Action\",\"Adventure\",\"Sci-Fi\",\"Thriller\",\"Horror\",\"Mystery\",\"Drama\",\"Mystery\",\"Drama\",\"Comedy\",\"Adventure\",\"Comedy\",\"Fantasy\",\"Romance\",\"Drama\",\"Documentary\",\"Documentary\",\"Animation\",\"Children\",\"Comedy\",\"Crime\",\"Drama\",\"Animation\",\"Comedy\",\"Drama\",\"Fantasy\",\"Drama\",\"Drama\",\"War\",\"Comedy\",\"Drama\",\"Drama\",\"Comedy\",\"Action\",\"Comedy\",\"Drama\",\"Comedy\",\"Drama\",\"Comedy\",\"Drama\",\"Romance\",\"Drama\",\"Fantasy\",\"Romance\",\"Drama\",\"Romance\",\"Drama\",\"War\",\"Crime\",\"Drama\",\"Film-Noir\",\"Comedy\",\"Drama\",\"Romance\",\"War\",\"Comedy\",\"Drama\",\"Drama\",\"Drama\",\"Drama\",\"Comedy\",\"Romance\",\"Documentary\",\"Crime\",\"Drama\",\"Romance\",\"Documentary\",\"Musical\",\"Documentary\",\"Drama\",\"Comedy\",\"Action\",\"Adventure\",\"Sci-Fi\",\"Action\",\"Adventure\",\"Comedy\",\"Fantasy\",\"Romance\",\"Action\",\"Adventure\",\"Fantasy\",\"Sci-Fi\",\"Action\",\"Adventure\",\"Horror\",\"Sci-Fi\",\"Action\",\"Adventure\",\"Western\",\"Comedy\",\"Drama\",\"Adventure\",\"Drama\",\"War\",\"Crime\",\"Drama\",\"Sci-Fi\",\"Thriller\",\"Drama\",\"Action\",\"Drama\",\"War\",\"Action\",\"Drama\",\"Western\",\"Action\",\"Adventure\",\"Sci-Fi\",\"Drama\",\"Fantasy\",\"Romance\",\"Film-Noir\",\"Mystery\",\"Thriller\",\"Crime\",\"Drama\",\"Horror\",\"Sci-Fi\",\"Action\",\"Adventure\",\"Comedy\",\"Fantasy\",\"Horror\",\"Adventure\",\"Drama\",\"Romance\",\"Drama\",\"War\",\"Action\",\"Crime\",\"Drama\",\"Thriller\",\"Crime\",\"Horror\",\"Action\",\"Comedy\",\"Musical\",\"Crime\",\"Drama\",\"Drama\",\"War\",\"Adventure\",\"Animation\",\"Children\",\"Comedy\",\"Sci-Fi\",\"Action\",\"Drama\",\"Romance\",\"War\",\"Drama\",\"Drama\",\"Romance\",\"Crime\",\"Drama\",\"Drama\",\"Comedy\",\"Romance\",\"Drama\",\"Drama\",\"Mystery\",\"Sci-Fi\",\"Action\",\"Drama\",\"War\",\"Comedy\",\"Crime\",\"Comedy\",\"Drama\",\"Romance\",\"Comedy\",\"Drama\",\"Romance\",\"Drama\",\"Comedy\",\"Action\",\"Sci-Fi\",\"Thriller\",\"Comedy\",\"Fantasy\",\"Horror\",\"Drama\",\"War\",\"Comedy\",\"Drama\",\"Comedy\",\"Drama\",\"Romance\",\"Crime\",\"Drama\",\"Film-Noir\",\"Thriller\",\"Drama\",\"Comedy\",\"Drama\",\"Romance\",\"Crime\",\"Film-Noir\",\"Thriller\",\"Action\",\"Crime\",\"Romance\",\"Thriller\",\"Adventure\",\"Drama\",\"War\",\"Drama\",\"Fantasy\",\"Crime\",\"Film-Noir\",\"Mystery\",\"Thriller\",\"Drama\",\"Sci-Fi\",\"Thriller\",\"Action\",\"Adventure\",\"Drama\",\"Western\",\"Comedy\",\"Horror\",\"Sci-Fi\",\"Comedy\",\"Musical\",\"War\",\"Comedy\",\"Romance\",\"Horror\",\"Adventure\",\"Drama\",\"Crime\",\"Film-Noir\",\"Thriller\",\"Action\",\"Comedy\",\"Fantasy\",\"Horror\",\"Action\",\"Adventure\",\"Drama\",\"War\",\"Drama\",\"War\",\"Action\",\"Drama\",\"Mystery\",\"Romance\",\"Thriller\",\"Comedy\",\"Fantasy\",\"Romance\",\"Drama\",\"Western\",\"Crime\",\"Thriller\",\"War\",\"Comedy\",\"Drama\",\"Comedy\",\"Mystery\",\"Thriller\",\"Adventure\",\"Comedy\",\"Sci-Fi\",\"Comedy\",\"Crime\",\"Drama\",\"Drama\",\"War\",\"Comedy\",\"Drama\",\"Film-Noir\",\"Action\",\"Adventure\",\"Animation\",\"Sci-Fi\",\"Action\",\"Adventure\",\"Fantasy\",\"Drama\",\"Comedy\",\"Drama\",\"Romance\",\"Comedy\",\"Fantasy\",\"Comedy\",\"Drama\",\"Drama\",\"Comedy\",\"Drama\",\"War\",\"Animation\",\"Children\",\"Fantasy\",\"Musical\",\"Drama\",\"Western\",\"Crime\",\"Film-Noir\",\"Mystery\",\"Comedy\",\"Drama\",\"Romance\",\"Action\",\"Adventure\",\"Drama\",\"Comedy\",\"Documentary\",\"Drama\",\"Romance\",\"Action\",\"Adventure\",\"Comedy\",\"Drama\",\"Drama\",\"Drama\",\"Drama\",\"Romance\",\"Comedy\",\"Drama\",\"Musical\",\"Drama\",\"War\",\"Comedy\",\"Drama\",\"Drama\",\"Sci-Fi\",\"Children\",\"Drama\",\"Fantasy\",\"Adventure\",\"Drama\",\"Action\",\"Western\",\"Drama\",\"Romance\",\"Adventure\",\"Drama\",\"Sci-Fi\",\"Comedy\",\"Romance\",\"Documentary\",\"Drama\",\"Comedy\",\"Drama\",\"Action\",\"Horror\",\"Sci-Fi\",\"Thriller\",\"Comedy\",\"Horror\",\"Thriller\",\"Horror\",\"Horror\",\"Horror\",\"Horror\",\"Horror\",\"Drama\",\"Horror\",\"Mystery\",\"Thriller\",\"Horror\",\"Horror\",\"Horror\",\"Horror\",\"Horror\",\"Thriller\",\"Horror\",\"Thriller\",\"Horror\",\"Sci-Fi\",\"Horror\",\"Mystery\",\"Horror\",\"Thriller\",\"Drama\",\"Horror\",\"Thriller\",\"Fantasy\",\"Horror\",\"Romance\",\"Thriller\",\"Drama\",\"Horror\",\"Sci-Fi\",\"Horror\",\"Horror\",\"Thriller\",\"Thriller\",\"Crime\",\"Drama\",\"Thriller\",\"Drama\",\"Fantasy\",\"Horror\",\"Thriller\",\"Drama\",\"Fantasy\",\"Horror\",\"Horror\",\"Thriller\",\"Horror\",\"Horror\",\"Horror\",\"Mystery\",\"Thriller\",\"Crime\",\"Drama\",\"Thriller\",\"Crime\",\"Thriller\",\"Comedy\",\"Drama\",\"Romance\",\"Drama\",\"Mystery\",\"Horror\",\"Thriller\",\"Action\",\"Adventure\",\"Sci-Fi\",\"Thriller\",\"Drama\",\"Romance\",\"Drama\",\"Children\",\"Comedy\",\"Documentary\",\"Drama\",\"Drama\",\"Drama\",\"Adventure\",\"Children\",\"Comedy\",\"Action\",\"Adventure\",\"Thriller\",\"Adventure\",\"Sci-Fi\",\"Action\",\"Mystery\",\"Sci-Fi\",\"Action\",\"Sci-Fi\",\"Action\",\"Adventure\",\"Sci-Fi\",\"Thriller\",\"Action\",\"Adventure\",\"Sci-Fi\",\"Adventure\",\"Comedy\",\"Sci-Fi\",\"Action\",\"Crime\",\"Action\",\"Comedy\",\"Western\",\"Action\",\"Western\",\"Comedy\",\"Musical\",\"Romance\",\"Comedy\",\"Musical\",\"Romance\",\"Action\",\"Drama\",\"Action\",\"Drama\",\"Thriller\",\"Action\",\"Horror\",\"Horror\",\"Thriller\",\"Action\",\"Horror\",\"Comedy\",\"Action\",\"Comedy\",\"Sci-Fi\",\"Comedy\",\"Drama\",\"Drama\",\"Romance\",\"Comedy\",\"Comedy\",\"Drama\",\"Action\",\"Comedy\",\"Crime\",\"Drama\",\"Sci-Fi\",\"Drama\",\"Romance\",\"War\",\"Drama\",\"Drama\",\"Adventure\",\"Animation\",\"Comedy\",\"Crime\",\"Crime\",\"Drama\",\"Mystery\",\"Thriller\",\"Comedy\",\"Horror\",\"Mystery\",\"Thriller\",\"Action\",\"Romance\",\"War\",\"Western\",\"Comedy\",\"Drama\",\"Fantasy\",\"Romance\",\"Crime\",\"Drama\",\"Romance\",\"Drama\",\"Drama\",\"Comedy\",\"Crime\",\"Drama\",\"Romance\",\"Drama\",\"Musical\",\"Drama\",\"Adventure\",\"Drama\",\"Crime\",\"Drama\",\"Mystery\",\"Thriller\",\"Drama\",\"Comedy\",\"Children\",\"Action\",\"Thriller\",\"Drama\",\"Action\",\"Adventure\",\"Comedy\",\"Thriller\",\"Comedy\",\"Thriller\",\"Action\",\"Comedy\",\"Action\",\"Comedy\",\"Crime\",\"Drama\",\"Thriller\",\"Drama\",\"Action\",\"Thriller\",\"Comedy\",\"Comedy\",\"Comedy\",\"Romance\",\"Drama\",\"Comedy\",\"War\",\"Comedy\",\"Drama\",\"Crime\",\"Comedy\",\"Comedy\",\"Romance\",\"Comedy\",\"Drama\",\"Comedy\",\"Comedy\",\"Drama\",\"Romance\",\"Drama\",\"Fantasy\",\"Romance\",\"Mystery\",\"Thriller\",\"Children\",\"Comedy\",\"Mystery\",\"Comedy\",\"Crime\",\"Drama\",\"Fantasy\",\"Film-Noir\",\"Mystery\",\"Romance\",\"Action\",\"Drama\",\"Crime\",\"Drama\",\"Comedy\",\"Romance\",\"Action\",\"Comedy\",\"Crime\",\"Drama\",\"Children\",\"Comedy\",\"Romance\",\"Comedy\",\"Drama\",\"Romance\",\"Action\",\"Romance\",\"Sci-Fi\",\"Thriller\",\"Drama\",\"Thriller\",\"Drama\",\"Thriller\",\"Comedy\",\"Drama\",\"Mystery\",\"Romance\",\"Comedy\",\"Drama\",\"Musical\",\"Action\",\"Drama\",\"Thriller\",\"Animation\",\"Children\",\"Musical\",\"Comedy\",\"Romance\",\"Action\",\"Adventure\",\"Children\",\"Drama\",\"Romance\",\"Action\",\"Drama\",\"Romance\",\"Action\",\"Adventure\",\"Thriller\",\"Comedy\",\"Crime\",\"Romance\",\"Drama\",\"Romance\",\"Comedy\",\"Drama\",\"War\",\"Comedy\",\"Romance\",\"Action\",\"Drama\",\"Thriller\",\"Comedy\",\"Action\",\"Adventure\",\"Comedy\",\"Action\",\"Thriller\",\"Drama\",\"Comedy\",\"Action\",\"Adventure\",\"Comedy\",\"Sci-Fi\",\"Comedy\",\"Drama\",\"Drama\",\"Comedy\",\"Drama\",\"Romance\",\"Comedy\",\"Romance\",\"Comedy\",\"Drama\",\"Romance\",\"Action\",\"Adventure\",\"Sci-Fi\",\"Thriller\",\"Drama\",\"Comedy\",\"Children\",\"Drama\",\"Drama\",\"Romance\",\"Comedy\",\"Romance\",\"Adventure\",\"Children\",\"Drama\",\"Action\",\"Adventure\",\"Thriller\",\"Drama\",\"Romance\",\"Action\",\"Romance\",\"Thriller\",\"Action\",\"Adventure\",\"Fantasy\",\"Thriller\",\"Comedy\",\"Drama\",\"Romance\",\"Comedy\",\"Thriller\",\"Adventure\",\"Animation\",\"Children\",\"Comedy\",\"Musical\",\"Comedy\",\"Romance\",\"Comedy\",\"Romance\",\"Drama\",\"Action\",\"Crime\",\"Drama\",\"Thriller\",\"Romance\",\"Action\",\"Comedy\",\"Sci-Fi\",\"Comedy\",\"Adventure\",\"Children\",\"Children\",\"Fantasy\",\"Drama\",\"Sci-Fi\",\"Comedy\",\"Action\",\"Drama\",\"Action\",\"Adventure\",\"Fantasy\",\"Children\",\"Comedy\",\"Action\",\"Crime\",\"Drama\",\"Thriller\",\"Horror\",\"Sci-Fi\",\"Thriller\",\"Action\",\"Adventure\",\"Sci-Fi\",\"Thriller\",\"Children\",\"Comedy\",\"Comedy\",\"Romance\",\"Comedy\",\"Drama\",\"Drama\",\"Drama\",\"Mystery\",\"Romance\",\"Thriller\",\"Crime\",\"Drama\",\"Thriller\",\"Action\",\"Drama\",\"Romance\",\"Crime\",\"Drama\",\"Film-Noir\",\"Comedy\",\"Horror\",\"Sci-Fi\",\"Thriller\",\"Action\",\"Comedy\",\"Adventure\",\"Romance\",\"Action\",\"Adventure\",\"Action\",\"Thriller\",\"Drama\",\"Thriller\",\"Action\",\"Adventure\",\"Thriller\",\"Drama\",\"Romance\",\"Comedy\",\"Drama\",\"Comedy\",\"Adventure\",\"Drama\",\"Action\",\"Thriller\",\"War\",\"Crime\",\"Film-Noir\",\"Mystery\",\"Thriller\",\"Adventure\",\"Drama\",\"War\",\"Crime\",\"Drama\",\"Mystery\",\"Thriller\",\"Drama\",\"Horror\",\"Drama\",\"Drama\",\"Mystery\",\"Thriller\",\"Action\",\"Drama\",\"Thriller\",\"Crime\",\"Drama\",\"Mystery\",\"Comedy\",\"Romance\",\"Action\",\"Thriller\",\"Drama\",\"Drama\",\"Comedy\",\"Drama\",\"Romance\",\"Comedy\",\"Drama\",\"Comedy\",\"Drama\",\"Drama\",\"Romance\",\"Horror\",\"Mystery\",\"Thriller\",\"Drama\",\"Mystery\",\"Thriller\",\"Children\",\"Comedy\",\"Romance\",\"Sci-Fi\",\"Crime\",\"Drama\",\"Thriller\",\"Comedy\",\"Drama\",\"Documentary\",\"Drama\",\"Documentary\",\"Drama\",\"Sci-Fi\",\"Thriller\",\"Children\",\"Drama\",\"Fantasy\",\"Drama\",\"Horror\",\"Thriller\",\"Drama\",\"Romance\",\"Romance\",\"Thriller\",\"Drama\",\"Drama\",\"Crime\",\"Mystery\",\"Thriller\",\"Crime\",\"Comedy\",\"War\",\"Comedy\",\"Action\",\"Drama\",\"Drama\",\"War\",\"Crime\",\"Drama\",\"Thriller\",\"Drama\",\"Drama\",\"Drama\",\"Romance\",\"Thriller\",\"Crime\",\"Thriller\",\"Action\",\"Sci-Fi\",\"Comedy\",\"Drama\",\"Drama\",\"Romance\",\"Comedy\",\"Drama\",\"Romance\",\"Action\",\"Adventure\",\"Fantasy\",\"Comedy\",\"Drama\",\"Sci-Fi\",\"Drama\",\"Romance\",\"Drama\",\"Romance\",\"Drama\",\"Romance\",\"Crime\",\"Thriller\",\"Action\",\"Thriller\",\"Adventure\",\"Animation\",\"Children\",\"Drama\",\"Musical\",\"Comedy\",\"Crime\",\"Thriller\",\"Action\",\"Horror\",\"Sci-Fi\",\"Drama\",\"Mystery\",\"Drama\",\"Drama\",\"Drama\",\"War\",\"Comedy\",\"Drama\",\"Comedy\",\"Drama\",\"Children\",\"Comedy\",\"Fantasy\",\"Comedy\",\"Drama\",\"Romance\",\"Children\",\"Comedy\",\"Crime\",\"Drama\",\"Mystery\",\"Children\",\"Comedy\",\"Comedy\",\"Horror\",\"Mystery\",\"Thriller\",\"Thriller\",\"Drama\",\"Drama\",\"Romance\",\"Action\",\"Adventure\",\"Thriller\",\"Action\",\"Adventure\",\"Drama\",\"Sci-Fi\",\"Drama\",\"Romance\",\"Crime\",\"Drama\",\"Thriller\",\"Drama\",\"Comedy\",\"Comedy\",\"Crime\",\"Drama\",\"Romance\",\"Comedy\",\"Drama\",\"Drama\",\"Romance\",\"Action\",\"Children\",\"Comedy\",\"Comedy\",\"Comedy\",\"Adventure\",\"Film-Noir\",\"Sci-Fi\",\"Thriller\",\"Action\",\"Crime\",\"Thriller\",\"Comedy\",\"Crime\",\"Drama\",\"Fantasy\",\"Thriller\",\"Comedy\",\"Romance\",\"Drama\",\"Romance\",\"Drama\",\"Comedy\",\"Action\",\"Horror\",\"Sci-Fi\",\"Drama\",\"Romance\",\"Action\",\"Crime\",\"Thriller\",\"Crime\",\"Romance\",\"Thriller\",\"Horror\",\"Action\",\"Comedy\",\"Musical\",\"Comedy\",\"Romance\",\"Sci-Fi\",\"Thriller\",\"Crime\",\"Drama\",\"Mystery\",\"Romance\",\"Thriller\",\"Comedy\",\"Drama\",\"Romance\",\"Crime\",\"Thriller\",\"Crime\",\"Drama\",\"Thriller\",\"Action\",\"Crime\",\"Thriller\",\"Comedy\",\"Comedy\",\"Drama\",\"Documentary\",\"IMAX\",\"Thriller\",\"Comedy\",\"Crime\",\"Drama\",\"Mystery\",\"Thriller\",\"Action\",\"Adventure\",\"Drama\",\"Crime\",\"Drama\",\"Crime\",\"Drama\",\"Mystery\",\"Thriller\",\"Adventure\",\"Children\",\"Comedy\",\"Drama\",\"Crime\",\"Drama\",\"Comedy\",\"Drama\",\"Children\",\"Comedy\",\"Drama\",\"Comedy\",\"Drama\",\"Comedy\",\"Romance\",\"Comedy\",\"Thriller\",\"Comedy\",\"Drama\",\"Adventure\",\"Children\",\"Comedy\",\"Documentary\",\"Drama\",\"Romance\",\"Action\",\"Adventure\",\"Sci-Fi\",\"Action\",\"Drama\",\"Thriller\",\"Crime\",\"Drama\",\"Mystery\",\"Thriller\",\"Drama\",\"Fantasy\",\"Romance\",\"Comedy\",\"Drama\",\"Comedy\",\"Comedy\",\"Drama\",\"Drama\",\"Thriller\",\"Drama\",\"Romance\",\"Comedy\",\"Mystery\",\"Thriller\",\"Adventure\",\"Children\",\"Comedy\",\"Fantasy\",\"Comedy\",\"Documentary\",\"Comedy\",\"Action\",\"Comedy\",\"Drama\",\"Drama\",\"Horror\",\"Sci-Fi\",\"Comedy\",\"Action\",\"Comedy\",\"Crime\",\"Action\",\"Adventure\",\"Comedy\",\"Drama\",\"Crime\",\"Drama\",\"Romance\",\"War\",\"Comedy\",\"Drama\",\"Sci-Fi\",\"Thriller\",\"Adventure\",\"Animation\",\"Children\",\"Fantasy\",\"Musical\",\"Action\",\"Sci-Fi\",\"Thriller\",\"Comedy\",\"Drama\",\"Romance\",\"Adventure\",\"Comedy\",\"Drama\",\"Comedy\",\"Drama\",\"Romance\",\"Adventure\",\"Comedy\",\"Western\",\"Comedy\",\"Drama\",\"Romance\",\"Drama\",\"Mystery\",\"Thriller\",\"Horror\",\"Thriller\",\"Thriller\",\"Drama\",\"Adventure\",\"Comedy\",\"Romance\",\"Comedy\",\"Drama\",\"Romance\",\"Drama\",\"Romance\",\"Comedy\",\"Drama\",\"Drama\",\"Romance\",\"Comedy\",\"Drama\",\"Comedy\",\"Romance\",\"Adventure\",\"Animation\",\"Children\",\"Comedy\",\"Drama\",\"Musical\",\"Romance\",\"Action\",\"Crime\",\"Mystery\",\"Sci-Fi\",\"Thriller\",\"Comedy\",\"Crime\",\"Drama\",\"Comedy\",\"Comedy\",\"Crime\",\"Drama\",\"Romance\",\"Thriller\",\"Drama\",\"Mystery\",\"Comedy\",\"Drama\",\"Drama\",\"Romance\",\"Action\",\"Romance\",\"Sci-Fi\",\"Thriller\",\"Action\",\"Comedy\",\"Crime\",\"Thriller\",\"Children\",\"Comedy\",\"Animation\",\"Children\",\"Fantasy\",\"War\",\"Drama\",\"Sci-Fi\",\"Thriller\",\"Drama\",\"Comedy\",\"Romance\",\"Horror\",\"Sci-Fi\",\"Musical\",\"Action\",\"Drama\",\"War\",\"Drama\",\"Western\",\"Drama\",\"Romance\",\"Adventure\",\"Drama\",\"Drama\",\"Musical\",\"Drama\",\"Comedy\",\"Romance\",\"Drama\",\"War\",\"Comedy\",\"Drama\",\"Musical\",\"Drama\",\"Drama\",\"War\",\"Drama\",\"Drama\",\"Drama\",\"Drama\",\"Romance\",\"War\",\"Crime\",\"Drama\",\"Drama\",\"Romance\",\"Drama\",\"Musical\",\"Romance\",\"Adventure\",\"Comedy\",\"Romance\",\"Drama\",\"Drama\",\"Mystery\",\"Drama\",\"Musical\",\"Drama\",\"Action\",\"Crime\",\"Thriller\",\"Drama\",\"Drama\",\"Drama\",\"Drama\",\"Comedy\",\"Drama\",\"Drama\",\"Romance\",\"Drama\",\"Drama\",\"Drama\",\"Comedy\",\"Crime\",\"Drama\",\"Mystery\",\"Comedy\",\"Sci-Fi\",\"Comedy\",\"Adventure\",\"Fantasy\",\"Musical\",\"Comedy\",\"Drama\",\"Horror\",\"Horror\",\"Thriller\",\"Horror\",\"Thriller\",\"Horror\",\"Horror\",\"Horror\",\"Mystery\",\"Thriller\",\"Horror\",\"Horror\",\"Horror\",\"Horror\",\"Horror\",\"Horror\",\"Horror\",\"Horror\",\"Horror\",\"Horror\",\"Horror\",\"Horror\",\"Horror\",\"Horror\",\"Horror\",\"Thriller\",\"Horror\",\"Thriller\",\"Comedy\",\"Horror\",\"Thriller\",\"Horror\",\"Thriller\",\"Horror\",\"Thriller\",\"Horror\",\"Thriller\",\"Horror\",\"Mystery\",\"Horror\",\"Horror\",\"Action\",\"Comedy\",\"Crime\",\"Drama\",\"Action\",\"Comedy\",\"Crime\",\"Drama\",\"Action\",\"Comedy\",\"Crime\",\"Drama\",\"Comedy\",\"Horror\",\"Comedy\",\"Horror\",\"Action\",\"Adventure\",\"Children\",\"Comedy\",\"Fantasy\",\"Action\",\"Comedy\",\"Romance\",\"Comedy\",\"Crime\",\"Drama\",\"Film-Noir\",\"Drama\",\"Mystery\",\"Sci-Fi\",\"Thriller\",\"Drama\",\"Sci-Fi\",\"Adventure\",\"Comedy\",\"Sci-Fi\",\"Adventure\",\"Comedy\",\"Sci-Fi\",\"Western\",\"Action\",\"Adventure\",\"Drama\",\"Children\",\"Comedy\",\"Fantasy\",\"Children\",\"Comedy\",\"Fantasy\",\"Children\",\"Comedy\",\"Western\",\"Children\",\"Fantasy\",\"Musical\",\"Animation\",\"Children\",\"Drama\",\"Action\",\"Adventure\",\"Drama\",\"Drama\",\"Romance\",\"Adventure\",\"Sci-Fi\",\"Drama\",\"Crime\",\"Drama\",\"Mystery\",\"Thriller\",\"Drama\",\"Mystery\",\"Drama\",\"Romance\",\"Horror\",\"Thriller\",\"Comedy\",\"Crime\",\"Action\",\"Drama\",\"War\",\"Children\",\"Comedy\",\"Adventure\",\"Animation\",\"Children\",\"Fantasy\",\"Children\",\"Sci-Fi\",\"Children\",\"Comedy\",\"Children\",\"Comedy\",\"Adventure\",\"Children\",\"Comedy\",\"Children\",\"Comedy\",\"Sci-Fi\",\"Children\",\"Comedy\",\"Action\",\"Adventure\",\"Children\",\"Comedy\",\"Children\",\"Comedy\",\"Adventure\",\"Children\",\"Fantasy\",\"Comedy\",\"Fantasy\",\"Adventure\",\"Children\",\"Sci-Fi\",\"Action\",\"Animation\",\"Children\",\"Crime\",\"Adventure\",\"Children\",\"Comedy\",\"Adventure\",\"Children\",\"Comedy\",\"Children\",\"Comedy\",\"Fantasy\",\"Horror\",\"Children\",\"Comedy\",\"Sci-Fi\",\"Adventure\",\"Children\",\"Comedy\",\"Fantasy\",\"Sci-Fi\",\"Action\",\"Comedy\",\"Western\",\"Adventure\",\"Children\",\"Adventure\",\"Children\",\"Action\",\"Crime\",\"Drama\",\"Mystery\",\"Thriller\",\"Children\",\"Comedy\",\"Romance\",\"Comedy\",\"Documentary\",\"Comedy\",\"Drama\",\"Fantasy\",\"Romance\",\"Film-Noir\",\"Drama\",\"Romance\",\"War\",\"Drama\",\"Fantasy\",\"Mystery\",\"Drama\",\"Drama\",\"Romance\",\"Western\",\"Drama\",\"Comedy\",\"Comedy\",\"Crime\",\"Drama\",\"Romance\",\"Drama\",\"War\",\"Drama\",\"Mystery\",\"Thriller\",\"Adventure\",\"Children\",\"Animation\",\"Children\",\"Comedy\",\"Musical\",\"Animation\",\"Children\",\"Comedy\",\"Romance\",\"Animation\",\"Children\",\"Comedy\",\"Musical\",\"Romance\",\"Children\",\"Comedy\",\"Children\",\"Comedy\",\"Musical\",\"Children\",\"Musical\",\"Adventure\",\"Animation\",\"Children\",\"Animation\",\"Children\",\"Fantasy\",\"Musical\",\"Adventure\",\"Comedy\",\"Musical\",\"Adventure\",\"Animation\",\"Children\",\"Adventure\",\"Animation\",\"Children\",\"Crime\",\"Drama\",\"Children\",\"Sci-Fi\",\"Adventure\",\"Animation\",\"Children\",\"Fantasy\",\"Musical\",\"Romance\",\"Adventure\",\"Children\",\"Fantasy\",\"Action\",\"Adventure\",\"Sci-Fi\",\"Children\",\"Comedy\",\"Animation\",\"Children\",\"Musical\",\"Children\",\"Drama\",\"Fantasy\",\"Mystery\",\"Thriller\",\"Children\",\"Comedy\",\"Adventure\",\"Animation\",\"Children\",\"Musical\",\"Comedy\",\"Fantasy\",\"Romance\",\"Animation\",\"Children\",\"Comedy\",\"Musical\",\"Adventure\",\"Children\",\"Fantasy\",\"Western\",\"Drama\",\"Action\",\"Adventure\",\"Sci-Fi\",\"Drama\",\"War\",\"Horror\",\"Thriller\",\"Comedy\",\"Romance\",\"Comedy\",\"Comedy\",\"Crime\",\"Thriller\",\"Comedy\",\"Crime\",\"Drama\",\"Drama\",\"Action\",\"Adventure\",\"Fantasy\",\"Adventure\",\"Animation\",\"Children\",\"Fantasy\",\"Drama\",\"Sci-Fi\",\"Thriller\",\"Horror\",\"Drama\",\"Horror\",\"Horror\",\"Thriller\",\"Horror\",\"Thriller\",\"Animation\",\"Children\",\"Comedy\",\"Drama\",\"Fantasy\",\"Children\",\"Comedy\",\"Fantasy\",\"Comedy\",\"Drama\",\"Romance\",\"Action\",\"Crime\",\"Mystery\",\"Thriller\",\"Crime\",\"Drama\",\"Romance\",\"Drama\",\"Drama\",\"Adventure\",\"Comedy\",\"Comedy\",\"Fantasy\",\"Sci-Fi\",\"Adventure\",\"Children\",\"Musical\",\"Comedy\",\"Sci-Fi\",\"Animation\",\"Children\",\"Adventure\",\"Animation\",\"Children\",\"Drama\",\"Fantasy\",\"Adventure\",\"Animation\",\"Children\",\"Drama\",\"Adventure\",\"Fantasy\",\"Adventure\",\"Animation\",\"Children\",\"Comedy\",\"Adventure\",\"Animation\",\"Children\",\"Musical\",\"Western\",\"Adventure\",\"Fantasy\",\"Romance\",\"Comedy\",\"Romance\",\"Comedy\",\"Drama\",\"Romance\",\"Drama\",\"Romance\",\"Adventure\",\"Drama\",\"Fantasy\",\"Comedy\",\"Fantasy\",\"Horror\",\"Comedy\",\"Fantasy\",\"Horror\",\"Adventure\",\"Comedy\",\"Comedy\",\"Children\",\"Comedy\",\"Action\",\"Adventure\",\"Drama\",\"Romance\",\"Comedy\",\"Drama\",\"Comedy\",\"Drama\",\"Romance\",\"Crime\",\"Horror\",\"Thriller\",\"Drama\",\"Horror\",\"Thriller\",\"Adventure\",\"Children\",\"Fantasy\",\"Adventure\",\"Children\",\"Fantasy\",\"Comedy\",\"Horror\",\"Action\",\"Comedy\",\"Drama\",\"Horror\",\"Comedy\",\"Drama\",\"Crime\",\"Drama\",\"Romance\",\"Thriller\",\"Action\",\"Horror\",\"Thriller\",\"Comedy\",\"Action\",\"Comedy\",\"Comedy\",\"Drama\",\"Romance\",\"Comedy\",\"Drama\",\"Comedy\",\"Fantasy\",\"Drama\",\"Romance\",\"Crime\",\"Drama\",\"Thriller\",\"Comedy\",\"Thriller\",\"Thriller\",\"Thriller\",\"Thriller\",\"Drama\",\"Mystery\",\"Romance\",\"Thriller\",\"Drama\",\"Film-Noir\",\"Thriller\",\"Adventure\",\"Drama\",\"Mystery\",\"Thriller\",\"Comedy\",\"Mystery\",\"Thriller\",\"Crime\",\"Drama\",\"Film-Noir\",\"Thriller\",\"Mystery\",\"Romance\",\"Thriller\",\"Drama\",\"Drama\",\"Action\",\"Adventure\",\"Fantasy\",\"Action\",\"Crime\",\"Drama\",\"Comedy\",\"Action\",\"Drama\",\"Drama\",\"War\",\"Crime\",\"Drama\",\"Thriller\",\"Mystery\",\"Thriller\",\"Comedy\",\"Romance\",\"Film-Noir\",\"Mystery\",\"Thriller\",\"Drama\",\"Drama\",\"Mystery\",\"Thriller\",\"Thriller\",\"Thriller\",\"Drama\",\"Thriller\",\"Drama\",\"Crime\",\"Drama\",\"Thriller\",\"Drama\",\"Horror\",\"Mystery\",\"Sci-Fi\",\"Thriller\",\"Drama\",\"Comedy\",\"Drama\",\"Drama\",\"Comedy\",\"Comedy\",\"Drama\",\"Romance\",\"Comedy\",\"Romance\",\"Comedy\",\"Drama\",\"Romance\",\"Comedy\",\"Comedy\",\"Drama\",\"Romance\",\"Comedy\",\"Comedy\",\"Drama\",\"Comedy\",\"Fantasy\",\"Comedy\",\"Horror\",\"Sci-Fi\",\"Comedy\",\"Romance\",\"Comedy\",\"Romance\",\"Crime\",\"Drama\",\"Comedy\",\"Comedy\",\"Drama\",\"Romance\",\"Drama\",\"Fantasy\",\"Thriller\",\"Comedy\",\"Crime\",\"Adventure\",\"Comedy\",\"Comedy\",\"Romance\",\"Mystery\",\"Thriller\",\"Crime\",\"Drama\",\"Thriller\",\"Drama\",\"Romance\",\"Drama\",\"Drama\",\"Action\",\"Comedy\",\"Crime\",\"Thriller\",\"Action\",\"Adventure\",\"Sci-Fi\",\"Action\",\"Crime\",\"Thriller\",\"Horror\",\"Thriller\",\"Crime\",\"Action\",\"Crime\",\"Drama\",\"Comedy\",\"Drama\",\"Drama\",\"Comedy\",\"Horror\",\"Sci-Fi\",\"Thriller\",\"Action\",\"Horror\",\"Sci-Fi\",\"Thriller\",\"Comedy\",\"Crime\",\"Drama\",\"Comedy\",\"Drama\",\"Drama\",\"Fantasy\",\"Romance\",\"Comedy\",\"Romance\",\"Adventure\",\"Animation\",\"Children\",\"Comedy\",\"Fantasy\",\"Comedy\",\"Comedy\",\"Adventure\",\"Drama\",\"Fantasy\",\"Romance\",\"Thriller\",\"Comedy\",\"Comedy\",\"Musical\",\"Comedy\",\"Drama\",\"Musical\",\"Drama\",\"Comedy\",\"Action\",\"Crime\",\"Drama\",\"Sci-Fi\",\"Drama\",\"Drama\",\"Drama\",\"Comedy\",\"Horror\",\"Thriller\",\"Drama\",\"Fantasy\",\"Mystery\",\"Romance\",\"Comedy\",\"Drama\",\"Drama\",\"Thriller\",\"Comedy\",\"Drama\",\"Fantasy\",\"Action\",\"Sci-Fi\",\"War\",\"Documentary\",\"Comedy\",\"Drama\",\"Romance\",\"War\",\"Comedy\",\"Fantasy\",\"Horror\",\"Thriller\",\"Horror\",\"Western\",\"Crime\",\"Drama\",\"Comedy\",\"Documentary\",\"Comedy\",\"Drama\",\"Romance\",\"Crime\",\"Drama\",\"Drama\",\"Action\",\"Thriller\",\"Comedy\",\"Drama\",\"Drama\",\"Horror\",\"Mystery\",\"Thriller\",\"Comedy\",\"Romance\",\"Romance\",\"Comedy\",\"Drama\",\"Action\",\"Adventure\",\"Drama\",\"Thriller\",\"Mystery\",\"Sci-Fi\",\"Thriller\",\"Drama\",\"Drama\",\"Comedy\",\"Thriller\",\"Comedy\",\"Drama\",\"Comedy\",\"Drama\",\"Action\",\"Thriller\",\"Animation\",\"Children\",\"Comedy\",\"Adventure\",\"Animation\",\"Children\",\"Comedy\",\"Comedy\",\"Drama\",\"Drama\",\"War\",\"Comedy\",\"Drama\",\"Comedy\",\"Drama\",\"Drama\",\"Horror\",\"Sci-Fi\",\"Action\",\"Horror\",\"Sci-Fi\",\"Thriller\",\"Action\",\"Sci-Fi\",\"Action\",\"Adventure\",\"Fantasy\",\"Horror\",\"Adventure\",\"Fantasy\",\"Romance\",\"Sci-Fi\",\"Thriller\",\"Adventure\",\"Sci-Fi\",\"Comedy\",\"Drama\",\"Romance\",\"Action\",\"Adventure\",\"Drama\",\"Comedy\",\"Crime\",\"Mystery\",\"Comedy\",\"Action\",\"Adventure\",\"Fantasy\",\"Comedy\",\"Drama\",\"Comedy\",\"Action\",\"Adventure\",\"Thriller\",\"Horror\",\"Sci-Fi\",\"Comedy\",\"Crime\",\"Comedy\",\"Crime\",\"Comedy\",\"Crime\",\"Comedy\",\"Crime\",\"Comedy\",\"Crime\",\"Comedy\",\"Crime\",\"Adventure\",\"Children\",\"Drama\",\"Comedy\",\"Romance\",\"Comedy\",\"Crime\",\"Drama\",\"Romance\",\"Crime\",\"Horror\",\"Thriller\",\"Comedy\",\"Crime\",\"Drama\",\"Thriller\",\"Children\",\"Comedy\",\"Drama\",\"Action\",\"Drama\",\"Romance\",\"Sci-Fi\",\"Animation\",\"Musical\",\"Comedy\",\"Drama\",\"Comedy\",\"Drama\",\"Romance\",\"Comedy\",\"Drama\",\"Adventure\",\"Children\",\"Fantasy\",\"Children\",\"Drama\",\"Fantasy\",\"Western\",\"Action\",\"Adventure\",\"Thriller\",\"Action\",\"Adventure\",\"Drama\",\"Thriller\",\"Action\",\"Adventure\",\"Thriller\",\"War\",\"Action\",\"Adventure\",\"Comedy\",\"Romance\",\"Action\",\"Adventure\",\"Comedy\",\"Romance\",\"Comedy\",\"Sci-Fi\",\"Comedy\",\"Sci-Fi\",\"Action\",\"Drama\",\"Action\",\"Drama\",\"Action\",\"Drama\",\"Action\",\"Drama\",\"Comedy\",\"Crime\",\"Mystery\",\"Thriller\",\"Action\",\"Adventure\",\"Children\",\"Fantasy\",\"Mystery\",\"Thriller\",\"Drama\",\"Romance\",\"Comedy\",\"Comedy\",\"Drama\",\"Comedy\",\"Drama\",\"Thriller\",\"Drama\",\"Action\",\"Adventure\",\"Drama\",\"Action\",\"Adventure\",\"Children\",\"Drama\",\"Comedy\",\"Comedy\",\"Romance\",\"Crime\",\"Action\",\"Drama\",\"War\",\"Horror\",\"Sci-Fi\",\"Action\",\"Adventure\",\"Drama\",\"Fantasy\",\"Thriller\",\"Adventure\",\"Children\",\"Drama\",\"Comedy\",\"Drama\",\"Drama\",\"Drama\",\"Drama\",\"Comedy\",\"Drama\",\"War\",\"Drama\",\"Drama\",\"Drama\",\"Romance\",\"Drama\",\"Horror\",\"Thriller\",\"Comedy\",\"Drama\",\"Horror\",\"Sci-Fi\",\"Adventure\",\"Comedy\",\"Sci-Fi\",\"Horror\",\"Drama\",\"Fantasy\",\"Horror\",\"Mystery\",\"Sci-Fi\",\"Drama\",\"Horror\",\"Sci-Fi\",\"Thriller\",\"Horror\",\"Sci-Fi\",\"Action\",\"Comedy\",\"Comedy\",\"Crime\",\"Horror\",\"Horror\",\"Horror\",\"Comedy\",\"Horror\",\"Crime\",\"Drama\",\"Mystery\",\"Thriller\",\"Action\",\"Comedy\",\"Romance\",\"Thriller\",\"Comedy\",\"Drama\",\"Adventure\",\"Comedy\",\"Action\",\"Adventure\",\"Comedy\",\"Comedy\",\"Comedy\",\"Drama\",\"Action\",\"Mystery\",\"Thriller\",\"Action\",\"War\",\"Adventure\",\"Comedy\",\"Western\",\"Drama\",\"Romance\",\"Comedy\",\"Romance\",\"Adventure\",\"Comedy\",\"Thriller\",\"Comedy\",\"Romance\",\"Drama\",\"Horror\",\"Thriller\",\"Action\",\"Thriller\",\"Comedy\",\"Romance\",\"Comedy\",\"Romance\",\"Drama\",\"Documentary\",\"Animation\",\"Sci-Fi\",\"Comedy\",\"Romance\",\"Romance\",\"Comedy\",\"Sci-Fi\",\"Comedy\",\"Drama\",\"Comedy\",\"Crime\",\"Drama\",\"Comedy\",\"Drama\",\"Drama\",\"Mystery\",\"Thriller\",\"Comedy\",\"Drama\",\"Romance\",\"Crime\",\"Film-Noir\",\"Drama\",\"Horror\",\"Comedy\",\"Horror\",\"Horror\",\"Horror\",\"Horror\",\"Comedy\",\"Drama\",\"Action\",\"Drama\",\"Thriller\",\"Drama\",\"Drama\",\"Thriller\",\"Action\",\"Adventure\",\"Drama\",\"Thriller\",\"Action\",\"Horror\",\"Sci-Fi\",\"Sci-Fi\",\"Action\",\"Sci-Fi\",\"Thriller\",\"Western\",\"Action\",\"Adventure\",\"Sci-Fi\",\"Action\",\"Drama\",\"Sci-Fi\",\"Action\",\"Sci-Fi\",\"Action\",\"Sci-Fi\",\"Action\",\"Sci-Fi\",\"Action\",\"Sci-Fi\",\"Action\",\"Action\",\"Drama\",\"Thriller\",\"Adventure\",\"Documentary\",\"Comedy\",\"Action\",\"Crime\",\"Drama\",\"Thriller\",\"Drama\",\"Comedy\",\"Crime\",\"Thriller\",\"Drama\",\"Romance\",\"Drama\",\"Horror\",\"Action\",\"Sci-Fi\",\"Horror\",\"Thriller\",\"Drama\",\"Horror\",\"Thriller\",\"Comedy\",\"Horror\",\"Sci-Fi\",\"Thriller\",\"Horror\",\"Sci-Fi\",\"Thriller\",\"Comedy\",\"Drama\",\"Thriller\",\"Comedy\",\"Romance\",\"Animation\",\"Children\",\"Horror\",\"Thriller\",\"Crime\",\"Thriller\",\"Drama\",\"Drama\",\"Musical\",\"Romance\",\"Animation\",\"Children\",\"Comedy\",\"Action\",\"Crime\",\"Drama\",\"Romance\",\"Action\",\"Sci-Fi\",\"Thriller\",\"Comedy\",\"Romance\",\"Drama\",\"Musical\",\"Comedy\",\"Drama\",\"Comedy\",\"Drama\",\"Crime\",\"Mystery\",\"Thriller\",\"Comedy\",\"Crime\",\"Comedy\",\"Romance\",\"Action\",\"Comedy\",\"Comedy\",\"Drama\",\"Drama\",\"Romance\",\"Comedy\",\"Crime\",\"Thriller\",\"Comedy\",\"Crime\",\"Drama\",\"Comedy\",\"Drama\",\"Romance\",\"Drama\",\"Comedy\",\"Drama\",\"Romance\",\"Sci-Fi\",\"Thriller\",\"Comedy\",\"Drama\",\"Comedy\",\"Romance\",\"Comedy\",\"Comedy\",\"Action\",\"Sci-Fi\",\"Thriller\",\"Crime\",\"Thriller\",\"Comedy\",\"Horror\",\"Drama\",\"Romance\",\"Drama\",\"Drama\",\"Drama\",\"Film-Noir\",\"Comedy\",\"Horror\",\"Sci-Fi\",\"Action\",\"Horror\",\"Sci-Fi\",\"Adventure\",\"Sci-Fi\",\"Action\",\"Crime\",\"Action\",\"Adventure\",\"Comedy\",\"Fantasy\",\"Horror\",\"Thriller\",\"Comedy\",\"Drama\",\"Romance\",\"Comedy\",\"Fantasy\",\"Comedy\",\"Drama\",\"Fantasy\",\"Action\",\"Adventure\",\"Crime\",\"Sci-Fi\",\"Thriller\",\"Action\",\"Adventure\",\"Sci-Fi\",\"Comedy\",\"Romance\",\"Drama\",\"Adventure\",\"Drama\",\"Mystery\",\"Horror\",\"Romance\",\"Horror\",\"Drama\",\"Action\",\"Adventure\",\"Sci-Fi\",\"Action\",\"Sci-Fi\",\"Action\",\"Adventure\",\"Sci-Fi\",\"Action\",\"Adventure\",\"Sci-Fi\",\"Horror\",\"Drama\",\"Horror\",\"Sci-Fi\",\"Horror\",\"Horror\",\"Drama\",\"Fantasy\",\"Horror\",\"Horror\",\"Horror\",\"Sci-Fi\",\"Comedy\",\"Horror\",\"Musical\",\"Sci-Fi\",\"Comedy\",\"Documentary\",\"Horror\",\"Sci-Fi\",\"Sci-Fi\",\"Action\",\"Drama\",\"Sci-Fi\",\"Horror\",\"Sci-Fi\",\"Thriller\",\"Sci-Fi\",\"Horror\",\"Sci-Fi\",\"War\",\"War\",\"Comedy\",\"Romance\",\"Drama\",\"Sci-Fi\",\"Thriller\",\"Drama\",\"Fantasy\",\"Drama\",\"Thriller\",\"Documentary\",\"Musical\",\"Comedy\",\"Romance\",\"Sci-Fi\",\"Drama\",\"Action\",\"Adventure\",\"Comedy\",\"Drama\",\"Mystery\",\"Adventure\",\"Animation\",\"Children\",\"Drama\",\"Crime\",\"Drama\",\"Mystery\",\"Thriller\",\"Comedy\",\"Romance\",\"Drama\",\"Action\",\"Crime\",\"Documentary\",\"Comedy\",\"Drama\",\"Comedy\",\"Comedy\",\"Drama\",\"Romance\",\"Sci-Fi\",\"Comedy\",\"Horror\",\"Animation\",\"Comedy\",\"Musical\",\"Action\",\"Comedy\",\"Sci-Fi\",\"Western\",\"Drama\",\"Comedy\",\"Romance\",\"Thriller\",\"Romance\",\"Children\",\"Comedy\",\"Drama\",\"Horror\",\"Thriller\",\"Drama\",\"Mystery\",\"Thriller\",\"Horror\",\"Thriller\",\"Action\",\"Comedy\",\"Sci-Fi\",\"Comedy\",\"Fantasy\",\"Sci-Fi\",\"Comedy\",\"Horror\",\"Thriller\",\"Action\",\"Adventure\",\"Children\",\"Comedy\",\"Action\",\"Horror\",\"Sci-Fi\",\"Thriller\",\"Action\",\"Comedy\",\"Fantasy\",\"Comedy\",\"Romance\",\"Drama\",\"Crime\",\"Film-Noir\",\"Crime\",\"Film-Noir\",\"Action\",\"Drama\",\"Romance\",\"War\",\"Drama\",\"Romance\",\"Drama\",\"Romance\",\"War\",\"Crime\",\"Drama\",\"Drama\",\"Romance\",\"Adventure\",\"Comedy\",\"Romance\",\"Adventure\",\"Drama\",\"Thriller\",\"Action\",\"Adventure\",\"Comedy\",\"Fantasy\",\"Mystery\",\"Comedy\",\"Action\",\"Drama\",\"Thriller\",\"Comedy\",\"Drama\",\"Drama\",\"Horror\",\"Sci-Fi\",\"Action\",\"Crime\",\"Thriller\",\"Comedy\",\"Drama\",\"Drama\",\"Drama\",\"Drama\",\"Comedy\",\"Horror\",\"Musical\",\"Comedy\",\"Horror\",\"Action\",\"Adventure\",\"Comedy\",\"Drama\",\"Mystery\",\"Comedy\",\"Drama\",\"Comedy\",\"Drama\",\"Comedy\",\"Mystery\",\"Horror\",\"Drama\",\"Comedy\",\"Adventure\",\"Animation\",\"Children\",\"Drama\",\"Sci-Fi\",\"Drama\",\"Horror\",\"Mystery\",\"Action\",\"Mystery\",\"Crime\",\"Drama\",\"Romance\",\"Thriller\",\"Comedy\",\"Drama\",\"Comedy\",\"Drama\",\"Crime\",\"Drama\",\"Comedy\",\"Drama\",\"Comedy\",\"Comedy\",\"Romance\",\"Drama\",\"Comedy\",\"Horror\",\"Horror\",\"Comedy\",\"Horror\",\"Comedy\",\"Horror\",\"Horror\",\"Thriller\",\"Comedy\",\"Comedy\",\"Comedy\",\"Horror\",\"Romance\",\"Thriller\",\"Adventure\",\"Comedy\",\"Romance\",\"Comedy\",\"Comedy\",\"Comedy\",\"Drama\",\"Fantasy\",\"Romance\",\"Children\",\"Comedy\",\"Comedy\",\"Adventure\",\"Animation\",\"Children\",\"Drama\",\"Fantasy\",\"Drama\",\"Romance\",\"Action\",\"Drama\",\"Romance\",\"Thriller\",\"Crime\",\"Drama\",\"Mystery\",\"Romance\",\"Thriller\",\"Children\",\"Comedy\",\"Comedy\",\"Romance\",\"Comedy\",\"Thriller\",\"Action\",\"Sci-Fi\",\"Action\",\"Sci-Fi\",\"Animation\",\"Horror\",\"Mystery\",\"Thriller\",\"Action\",\"Thriller\",\"Documentary\",\"Action\",\"War\",\"Action\",\"War\",\"Action\",\"Action\",\"War\",\"Drama\",\"Mystery\",\"Romance\",\"Thriller\",\"Drama\",\"Adventure\",\"Romance\",\"Documentary\",\"Drama\",\"Action\",\"Adventure\",\"Fantasy\",\"Horror\",\"Sci-Fi\",\"Thriller\",\"Children\",\"Comedy\",\"Comedy\",\"Action\",\"Adventure\",\"Comedy\",\"Thriller\",\"Comedy\",\"Comedy\",\"Romance\",\"Drama\",\"Drama\",\"Thriller\",\"Horror\",\"Mystery\",\"Thriller\",\"Comedy\",\"Romance\",\"Drama\",\"Mystery\",\"Adventure\",\"Children\",\"Comedy\",\"Drama\",\"Adventure\",\"Drama\",\"Romance\",\"Drama\",\"Adventure\",\"Sci-Fi\",\"Thriller\",\"Drama\",\"Thriller\",\"Adventure\",\"Animation\",\"Comedy\",\"Fantasy\",\"Musical\",\"Drama\",\"Romance\",\"Documentary\",\"Musical\",\"Comedy\",\"Comedy\",\"Drama\",\"Drama\",\"Adventure\",\"Comedy\",\"Musical\",\"Comedy\",\"Drama\",\"Comedy\",\"Horror\",\"Thriller\",\"Horror\",\"Comedy\",\"Adventure\",\"Drama\",\"Thriller\",\"Adventure\",\"Fantasy\",\"Comedy\",\"Musical\",\"Romance\",\"Drama\",\"Mystery\",\"Romance\",\"Animation\",\"Children\",\"Fantasy\",\"Musical\",\"Horror\",\"Action\",\"Adventure\",\"Comedy\",\"Action\",\"Adventure\",\"Comedy\",\"Action\",\"Crime\",\"Drama\",\"Thriller\",\"Drama\",\"Comedy\",\"Drama\",\"Comedy\",\"Romance\",\"Drama\",\"Romance\",\"Children\",\"Comedy\",\"Action\",\"Comedy\",\"Comedy\",\"Romance\",\"Comedy\",\"Drama\",\"Action\",\"Adventure\",\"Comedy\",\"Drama\",\"War\",\"Comedy\",\"Action\",\"Drama\",\"Action\",\"Adventure\",\"Drama\",\"Drama\",\"Romance\",\"Western\",\"Comedy\",\"War\",\"Horror\",\"Mystery\",\"Adventure\",\"Animation\",\"Children\",\"Horror\",\"Sci-Fi\",\"Horror\",\"Sci-Fi\",\"Horror\",\"Mystery\",\"Thriller\",\"Horror\",\"Thriller\",\"Action\",\"Adventure\",\"Drama\",\"Drama\",\"Romance\",\"Comedy\",\"Drama\",\"Crime\",\"Drama\",\"Thriller\",\"Comedy\",\"Action\",\"Adventure\",\"Sci-Fi\",\"Thriller\",\"Crime\",\"Thriller\",\"Comedy\",\"Drama\",\"Romance\",\"War\",\"Western\",\"Crime\",\"Drama\",\"Western\",\"Action\",\"Comedy\",\"Drama\",\"Comedy\",\"Drama\",\"Drama\",\"Romance\",\"Drama\",\"Drama\",\"Romance\",\"Documentary\",\"Comedy\",\"Crime\",\"Drama\",\"Fantasy\",\"Drama\",\"Comedy\",\"Romance\",\"Adventure\",\"Comedy\",\"Romance\",\"Comedy\",\"Drama\",\"Thriller\",\"Drama\",\"Film-Noir\",\"Mystery\",\"Romance\",\"Musical\",\"Romance\",\"War\",\"Drama\",\"Romance\",\"Drama\",\"Romance\",\"Action\",\"Drama\",\"War\",\"Comedy\",\"Musical\",\"Action\",\"Adventure\",\"Thriller\",\"Action\",\"Adventure\",\"Thriller\",\"Action\",\"Adventure\",\"Thriller\",\"Adventure\",\"Drama\",\"Romance\",\"Action\",\"Western\",\"Crime\",\"Drama\",\"Thriller\",\"Children\",\"Comedy\",\"Action\",\"Crime\",\"Thriller\",\"Action\",\"Crime\",\"Drama\",\"Thriller\",\"Comedy\",\"Drama\",\"Comedy\",\"Romance\",\"Drama\",\"Action\",\"Adventure\",\"Drama\",\"Drama\",\"Thriller\",\"Adventure\",\"Comedy\",\"Fantasy\",\"Sci-Fi\",\"Drama\",\"Romance\",\"Adventure\",\"Drama\",\"Drama\",\"Fantasy\",\"Musical\",\"Drama\",\"War\",\"Comedy\",\"Crime\",\"Drama\",\"Horror\",\"Thriller\",\"Comedy\",\"Drama\",\"Drama\",\"Comedy\",\"Drama\",\"Comedy\",\"Romance\",\"Drama\",\"Horror\",\"Thriller\",\"Thriller\",\"Documentary\",\"Action\",\"Crime\",\"Drama\",\"Sci-Fi\",\"Thriller\",\"Action\",\"Crime\",\"Sci-Fi\",\"Thriller\",\"Adventure\",\"Animation\",\"Children\",\"Comedy\",\"Crime\",\"Fantasy\",\"Mystery\",\"Drama\",\"Action\",\"Adventure\",\"Thriller\",\"Action\",\"Adventure\",\"Thriller\",\"Action\",\"Adventure\",\"Thriller\",\"Horror\",\"Thriller\",\"Action\",\"Adventure\",\"Thriller\",\"Horror\",\"Thriller\",\"Drama\",\"Comedy\",\"Drama\",\"Fantasy\",\"Action\",\"Adventure\",\"Animation\",\"Drama\",\"Fantasy\",\"Documentary\",\"Comedy\",\"Drama\",\"Romance\",\"War\",\"Comedy\",\"Romance\",\"Thriller\",\"Drama\",\"Thriller\",\"Documentary\",\"Drama\",\"Sci-Fi\",\"Drama\",\"Drama\",\"Comedy\",\"Horror\",\"Comedy\",\"Thriller\",\"Horror\",\"Horror\",\"Comedy\",\"Horror\",\"Sci-Fi\",\"Crime\",\"Drama\",\"Action\",\"Drama\",\"Horror\",\"Comedy\",\"War\",\"Horror\",\"Sci-Fi\",\"Comedy\",\"Action\",\"Drama\",\"Action\",\"Adventure\",\"Comedy\",\"Action\",\"Drama\",\"Sci-Fi\",\"Thriller\",\"Comedy\",\"Sci-Fi\",\"Adventure\",\"Animation\",\"Children\",\"Comedy\",\"Musical\",\"Comedy\",\"Drama\",\"War\",\"Adventure\",\"Drama\",\"Western\",\"Drama\",\"Comedy\",\"Comedy\",\"Comedy\",\"Comedy\",\"Comedy\",\"Mystery\",\"Romance\",\"Thriller\",\"Comedy\",\"Drama\",\"Comedy\",\"Romance\",\"Comedy\",\"Comedy\",\"Drama\",\"Adventure\",\"Comedy\",\"Fantasy\",\"Drama\",\"War\",\"Adventure\",\"Animation\",\"Children\",\"Fantasy\",\"Sci-Fi\",\"Thriller\",\"Crime\",\"Drama\",\"Thriller\",\"Comedy\",\"Comedy\",\"Drama\",\"Musical\",\"Comedy\",\"Musical\",\"Action\",\"Drama\",\"War\",\"Drama\",\"Thriller\",\"Drama\",\"Thriller\",\"Action\",\"Drama\",\"War\",\"Comedy\",\"Drama\",\"Drama\",\"Mystery\",\"Adventure\",\"Comedy\",\"Sci-Fi\",\"Comedy\",\"Drama\",\"Comedy\",\"Romance\",\"Drama\",\"Romance\",\"Western\",\"Drama\",\"Horror\",\"Comedy\",\"Documentary\",\"Drama\",\"Comedy\",\"Drama\",\"Romance\",\"Fantasy\",\"Horror\",\"Mystery\",\"Romance\",\"Action\",\"Adventure\",\"Thriller\",\"Drama\",\"Children\",\"Comedy\",\"Fantasy\",\"Musical\",\"Comedy\",\"Fantasy\",\"Romance\",\"Comedy\",\"Fantasy\",\"Drama\",\"Drama\",\"Drama\",\"War\",\"Drama\",\"Western\",\"Drama\",\"Romance\",\"Drama\",\"Comedy\",\"Comedy\",\"Drama\",\"Romance\",\"Drama\",\"Comedy\",\"Drama\",\"Romance\",\"Drama\",\"Drama\",\"Thriller\",\"Crime\",\"Romance\",\"Thriller\",\"Drama\",\"Romance\",\"Action\",\"Comedy\",\"Crime\",\"Thriller\",\"Drama\",\"Mystery\",\"Drama\",\"Romance\",\"Action\",\"Drama\",\"Comedy\",\"Drama\",\"Fantasy\",\"Romance\",\"Drama\",\"Drama\",\"Drama\",\"Action\",\"Fantasy\",\"Horror\",\"Mystery\",\"Thriller\",\"Adventure\",\"Animation\",\"Children\",\"Comedy\",\"Fantasy\",\"Drama\",\"Drama\",\"Romance\",\"War\",\"Comedy\",\"Drama\",\"Comedy\",\"Drama\",\"Comedy\",\"Drama\",\"Comedy\",\"Crime\",\"Drama\",\"Comedy\",\"Drama\",\"Drama\",\"War\",\"Drama\",\"Drama\",\"Drama\",\"Documentary\",\"Musical\",\"Drama\",\"War\",\"Drama\",\"Comedy\",\"Crime\",\"Drama\",\"Drama\",\"Drama\",\"Thriller\",\"Drama\",\"Action\",\"Adventure\",\"Fantasy\",\"Drama\",\"Romance\",\"Drama\",\"Romance\",\"Sci-Fi\",\"Children\",\"Comedy\",\"Fantasy\",\"Drama\",\"Animation\",\"Children\",\"Musical\",\"IMAX\",\"Drama\",\"Drama\",\"Romance\",\"Comedy\",\"Drama\",\"Comedy\",\"Drama\",\"Musical\",\"Action\",\"Drama\",\"Comedy\",\"Drama\",\"Adventure\",\"Drama\",\"Crime\",\"Drama\",\"Thriller\",\"Drama\",\"Drama\",\"Comedy\",\"Drama\",\"Adventure\",\"Comedy\",\"Sci-Fi\",\"Drama\",\"Mystery\",\"Thriller\",\"Comedy\",\"Drama\",\"Drama\",\"Drama\",\"Documentary\",\"Drama\",\"Drama\",\"Drama\",\"Children\",\"Drama\",\"Adventure\",\"Sci-Fi\",\"Thriller\",\"Drama\",\"Drama\",\"Romance\",\"Drama\",\"War\",\"Action\",\"Crime\",\"Romance\",\"Thriller\",\"Crime\",\"Drama\",\"Comedy\",\"Drama\",\"Drama\",\"Thriller\",\"Action\",\"Mystery\",\"Thriller\",\"Romance\",\"Action\",\"Comedy\",\"Comedy\",\"Drama\",\"Romance\",\"Drama\",\"Animation\",\"Children\",\"Drama\",\"Drama\",\"Mystery\",\"Thriller\",\"Drama\",\"Drama\",\"Drama\",\"Comedy\",\"Romance\",\"Thriller\",\"Comedy\",\"Thriller\",\"Comedy\",\"Comedy\",\"Comedy\",\"Comedy\",\"Romance\",\"Drama\",\"Comedy\",\"Crime\",\"Comedy\",\"Drama\",\"Thriller\",\"Drama\",\"Drama\",\"Mystery\",\"Drama\",\"Comedy\",\"Comedy\",\"Comedy\",\"Drama\",\"Action\",\"Crime\",\"Drama\",\"Thriller\",\"Drama\",\"Romance\",\"Thriller\",\"Comedy\",\"Fantasy\",\"Adventure\",\"Drama\",\"Romance\",\"Drama\",\"Comedy\",\"Drama\",\"Romance\",\"Crime\",\"Drama\",\"Mystery\",\"Thriller\",\"Comedy\",\"Drama\",\"Action\",\"Comedy\",\"Horror\",\"Action\",\"Crime\",\"Drama\",\"Thriller\",\"Comedy\",\"Crime\",\"Drama\",\"Thriller\",\"Action\",\"Crime\",\"Thriller\",\"Western\",\"Action\",\"Comedy\",\"Drama\",\"Romance\",\"Sci-Fi\",\"Comedy\",\"Drama\",\"Romance\",\"Drama\",\"Crime\",\"Drama\",\"Comedy\",\"Horror\",\"Mystery\",\"Thriller\",\"Drama\",\"Thriller\",\"Action\",\"Crime\",\"Drama\",\"Thriller\",\"Comedy\",\"Horror\",\"Documentary\",\"Action\",\"Comedy\",\"Mystery\",\"Romance\",\"Adventure\",\"Drama\",\"Comedy\",\"Animation\",\"Children\",\"Drama\",\"Horror\",\"Drama\",\"Drama\",\"Crime\",\"Drama\",\"Thriller\",\"Comedy\",\"Drama\",\"Horror\",\"Sci-Fi\",\"Thriller\",\"Comedy\",\"Crime\",\"Comedy\",\"Documentary\",\"Comedy\",\"Comedy\",\"Drama\",\"Romance\",\"Comedy\",\"Drama\",\"Comedy\",\"Drama\",\"Comedy\",\"Musical\",\"Action\",\"Thriller\",\"Comedy\",\"Drama\",\"Comedy\",\"Crime\",\"Comedy\",\"Comedy\",\"Drama\",\"Comedy\",\"Sci-Fi\",\"Documentary\",\"Crime\",\"Drama\",\"Drama\",\"Romance\",\"Drama\",\"Romance\",\"Drama\",\"Crime\",\"Drama\",\"Film-Noir\",\"Thriller\",\"Documentary\",\"Comedy\",\"Drama\",\"War\",\"Horror\",\"Adventure\",\"Children\",\"Adventure\",\"Drama\",\"Drama\",\"Comedy\",\"Romance\",\"Sci-Fi\",\"Fantasy\",\"Horror\",\"Mystery\",\"Thriller\",\"Drama\",\"Romance\",\"Comedy\",\"Drama\",\"Fantasy\",\"Romance\",\"Comedy\",\"Drama\",\"Drama\",\"Romance\",\"Comedy\",\"Drama\",\"Romance\",\"Crime\",\"Drama\",\"Comedy\",\"Drama\",\"Crime\",\"Film-Noir\",\"Drama\",\"Western\",\"Romance\",\"Western\",\"Drama\",\"Thriller\",\"Action\",\"War\",\"Drama\",\"Drama\",\"Drama\",\"Action\",\"Crime\",\"Comedy\",\"Drama\",\"Mystery\",\"Thriller\",\"Comedy\",\"Mystery\",\"Children\",\"Comedy\",\"Action\",\"Adventure\",\"Adventure\",\"Crime\",\"Drama\",\"Romance\",\"Comedy\",\"Comedy\",\"Comedy\",\"Fantasy\",\"Romance\",\"Comedy\",\"Romance\",\"Comedy\",\"Adventure\",\"Children\",\"Comedy\",\"Musical\",\"Children\",\"Comedy\",\"Children\",\"Comedy\",\"Musical\",\"Adventure\",\"Animation\",\"Children\",\"Fantasy\",\"Adventure\",\"Sci-Fi\",\"Comedy\",\"Drama\",\"Romance\",\"Drama\",\"Thriller\",\"Action\",\"Drama\",\"Action\",\"Drama\",\"Action\",\"Adventure\",\"Drama\",\"War\",\"Drama\",\"Drama\",\"Thriller\",\"Comedy\",\"Drama\",\"Adventure\",\"Children\",\"Drama\",\"Drama\",\"Romance\",\"War\",\"Drama\",\"Adventure\",\"Comedy\",\"Adventure\",\"Crime\",\"Drama\",\"Drama\",\"Thriller\",\"Comedy\",\"Comedy\",\"Romance\",\"Drama\",\"Drama\",\"Drama\",\"Musical\",\"Drama\",\"Romance\",\"Drama\",\"Animation\",\"Comedy\",\"Action\",\"Crime\",\"Drama\",\"Action\",\"Drama\",\"Action\",\"Drama\",\"Action\",\"Drama\",\"Action\",\"Drama\",\"Crime\",\"Drama\",\"Film-Noir\",\"Drama\",\"Romance\",\"Action\",\"Children\",\"Comedy\",\"Fantasy\",\"Sci-Fi\",\"Action\",\"Children\",\"Fantasy\",\"Action\",\"Adventure\",\"Children\",\"Comedy\",\"Fantasy\",\"Action\",\"Drama\",\"War\",\"Action\",\"Crime\",\"Drama\",\"Action\",\"Mystery\",\"Thriller\",\"Comedy\",\"Drama\",\"Drama\",\"Comedy\",\"Drama\",\"War\",\"Drama\",\"Comedy\",\"Drama\",\"Action\",\"Crime\",\"Romance\",\"Thriller\",\"Drama\",\"Romance\",\"Comedy\",\"Romance\",\"Drama\",\"Thriller\",\"Drama\",\"Drama\",\"Horror\",\"Adventure\",\"Drama\",\"Thriller\",\"Comedy\",\"Drama\",\"Romance\",\"Comedy\",\"Fantasy\",\"Drama\",\"Western\",\"Drama\",\"Drama\",\"Adventure\",\"Drama\",\"Adventure\",\"Drama\",\"Sci-Fi\",\"Comedy\",\"Sci-Fi\",\"Thriller\",\"Drama\",\"Romance\",\"Horror\",\"Mystery\",\"Comedy\",\"Drama\",\"Drama\",\"Adventure\",\"Fantasy\",\"Romance\",\"Drama\",\"Romance\",\"Comedy\",\"Drama\",\"Romance\",\"Animation\",\"Children\",\"Thriller\",\"Adventure\",\"Comedy\",\"Fantasy\",\"Adventure\",\"Comedy\",\"Romance\",\"Adventure\",\"Drama\",\"Western\",\"Drama\",\"Comedy\",\"Drama\",\"Drama\",\"Horror\",\"Thriller\",\"Comedy\",\"Drama\",\"Comedy\",\"Romance\",\"Drama\",\"Drama\",\"Mystery\",\"Sci-Fi\",\"Comedy\",\"Drama\",\"Drama\",\"Mystery\",\"Thriller\",\"Comedy\",\"Drama\",\"Comedy\",\"Action\",\"Adventure\",\"Drama\",\"Thriller\",\"Western\",\"Drama\",\"Thriller\",\"Comedy\",\"Drama\",\"Romance\",\"Drama\",\"Thriller\",\"Drama\",\"Comedy\",\"Romance\",\"Comedy\",\"Fantasy\",\"Romance\",\"Action\",\"Drama\",\"War\",\"Comedy\",\"Drama\",\"Comedy\",\"Romance\",\"Comedy\",\"Comedy\",\"Drama\",\"Action\",\"Sci-Fi\",\"Thriller\",\"Drama\",\"Romance\",\"Crime\",\"Thriller\",\"Comedy\",\"Drama\",\"Romance\",\"Drama\",\"Crime\",\"Horror\",\"Mystery\",\"Thriller\",\"Comedy\",\"Drama\",\"Romance\",\"Comedy\",\"Drama\",\"Comedy\",\"Documentary\",\"Comedy\",\"Drama\",\"Comedy\",\"Drama\",\"Musical\",\"Drama\",\"Horror\",\"Thriller\",\"Comedy\",\"Drama\",\"Comedy\",\"Musical\",\"Romance\",\"Horror\",\"Crime\",\"Drama\",\"Thriller\",\"Comedy\",\"Drama\",\"Thriller\",\"Drama\",\"Romance\",\"Action\",\"Thriller\",\"War\",\"Drama\",\"Romance\",\"Mystery\",\"Thriller\",\"Comedy\",\"Drama\",\"Romance\",\"Action\",\"Horror\",\"Children\",\"Comedy\",\"Comedy\",\"Drama\",\"Comedy\",\"Drama\",\"Comedy\",\"Drama\",\"Romance\",\"Comedy\",\"Romance\",\"Comedy\",\"Drama\",\"Comedy\",\"Drama\",\"Horror\",\"Sci-Fi\",\"Horror\",\"Sci-Fi\",\"Horror\",\"Sci-Fi\",\"Action\",\"Horror\",\"Sci-Fi\",\"Drama\",\"Romance\",\"Action\",\"Adventure\",\"Drama\",\"Drama\",\"Comedy\",\"Action\",\"Drama\",\"Romance\",\"Thriller\",\"Drama\",\"Romance\",\"Horror\",\"Comedy\",\"Drama\",\"Comedy\",\"Drama\",\"Animation\",\"Sci-Fi\",\"Action\",\"Sci-Fi\",\"Drama\",\"Musical\",\"Comedy\",\"Comedy\",\"Crime\",\"Drama\",\"Romance\",\"Thriller\",\"Comedy\",\"Musical\",\"Musical\",\"Comedy\",\"Musical\",\"Romance\",\"Adventure\",\"Comedy\",\"Documentary\",\"Comedy\",\"Romance\",\"Adventure\",\"Animation\",\"Children\",\"Comedy\",\"Romance\",\"Comedy\",\"Comedy\",\"Crime\",\"Comedy\",\"Comedy\",\"Action\",\"Adventure\",\"Thriller\",\"Action\",\"Adventure\",\"Comedy\",\"Western\",\"Documentary\",\"Comedy\",\"Horror\",\"Thriller\",\"Action\",\"Drama\",\"Romance\",\"War\",\"Adventure\",\"Comedy\",\"Romance\",\"Comedy\",\"Crime\",\"Action\",\"Adventure\",\"Romance\",\"Thriller\",\"Thriller\",\"Action\",\"Adventure\",\"Thriller\",\"Drama\",\"Action\",\"Adventure\",\"Sci-Fi\",\"Thriller\",\"Action\",\"Adventure\",\"Thriller\",\"Comedy\",\"Drama\",\"Drama\",\"Action\",\"Drama\",\"War\",\"Comedy\",\"Horror\",\"Sci-Fi\",\"Drama\",\"Horror\",\"Documentary\",\"Action\",\"Adventure\",\"Drama\",\"War\",\"Drama\",\"Horror\",\"Sci-Fi\",\"Horror\",\"Sci-Fi\",\"Thriller\",\"Horror\",\"Sci-Fi\",\"Thriller\",\"Horror\",\"Sci-Fi\",\"Thriller\",\"Horror\",\"Sci-Fi\",\"Thriller\",\"Horror\",\"Sci-Fi\",\"Thriller\",\"Action\",\"Comedy\",\"Crime\",\"Drama\",\"Romance\",\"Comedy\",\"Comedy\",\"Western\",\"Adventure\",\"Children\",\"Adventure\",\"Children\",\"Adventure\",\"Children\",\"Comedy\",\"Drama\",\"Comedy\",\"Musical\",\"Romance\",\"Drama\",\"Horror\",\"Documentary\",\"Drama\",\"Documentary\",\"Musical\",\"Documentary\",\"Action\",\"Drama\",\"Thriller\",\"Western\",\"Action\",\"Crime\",\"Drama\",\"Thriller\",\"Crime\",\"Drama\",\"Film-Noir\",\"Drama\",\"Romance\",\"Comedy\",\"Drama\",\"Romance\",\"Horror\",\"Sci-Fi\",\"Thriller\",\"Adventure\",\"Animation\",\"Fantasy\",\"Sci-Fi\",\"Comedy\",\"Comedy\",\"Comedy\",\"Comedy\",\"Comedy\",\"Horror\",\"Comedy\",\"Horror\",\"Comedy\",\"Horror\",\"Comedy\",\"Horror\",\"Comedy\",\"Horror\",\"Sci-Fi\",\"Thriller\",\"Action\",\"Sci-Fi\",\"Thriller\",\"Action\",\"Sci-Fi\",\"Adventure\",\"Drama\",\"Romance\",\"Sci-Fi\",\"Drama\",\"Sci-Fi\",\"Crime\",\"Drama\",\"Sci-Fi\",\"Thriller\",\"Action\",\"Adventure\",\"Sci-Fi\",\"Action\",\"Adventure\",\"Sci-Fi\",\"Thriller\",\"Action\",\"Adventure\",\"Sci-Fi\",\"Action\",\"Comedy\",\"Romance\",\"Film-Noir\",\"Horror\",\"Mystery\",\"Thriller\",\"Drama\",\"Romance\",\"Horror\",\"Thriller\",\"Horror\",\"Action\",\"Comedy\",\"Crime\",\"Thriller\",\"Drama\",\"Comedy\",\"Drama\",\"Drama\",\"Comedy\",\"Crime\",\"Action\",\"Comedy\",\"Crime\",\"Drama\",\"Action\",\"Crime\",\"Comedy\",\"Romance\",\"Drama\",\"Drama\",\"Drama\",\"War\",\"Animation\",\"Musical\",\"Action\",\"Thriller\",\"Horror\",\"Western\",\"Crime\",\"Drama\",\"Film-Noir\",\"Thriller\",\"Action\",\"Crime\",\"Drama\",\"Thriller\",\"Drama\",\"Mystery\",\"Drama\",\"Thriller\",\"Horror\",\"Drama\",\"Crime\",\"Drama\",\"Drama\",\"Drama\",\"Western\",\"Drama\",\"Comedy\",\"Romance\",\"Action\",\"Adventure\",\"Comedy\",\"Fantasy\",\"Crime\",\"Drama\",\"Thriller\",\"Drama\",\"War\",\"Comedy\",\"Romance\",\"Action\",\"Crime\",\"Thriller\",\"Action\",\"Adventure\",\"Animation\",\"Children\",\"Sci-Fi\",\"Drama\",\"Drama\",\"Animation\",\"Children\",\"Comedy\",\"Adventure\",\"Comedy\",\"Action\",\"Drama\",\"War\",\"Adventure\",\"Animation\",\"Children\",\"Comedy\",\"Fantasy\",\"Drama\",\"Thriller\",\"Drama\",\"Drama\",\"Sci-Fi\",\"Thriller\",\"Comedy\",\"Action\",\"Crime\",\"Drama\",\"Thriller\",\"Action\",\"Crime\",\"Thriller\",\"Action\",\"Crime\",\"Thriller\",\"Crime\",\"Drama\",\"Romance\",\"Action\",\"War\",\"Action\",\"War\",\"Action\",\"War\",\"Action\",\"Horror\",\"Sci-Fi\",\"Thriller\",\"Action\",\"Adventure\",\"Fantasy\",\"Comedy\",\"Comedy\",\"Drama\",\"Romance\",\"Crime\",\"Drama\",\"Comedy\",\"Fantasy\",\"Comedy\",\"Horror\",\"Comedy\",\"Comedy\",\"Drama\",\"Mystery\",\"Drama\",\"Drama\",\"Drama\",\"Drama\",\"Romance\",\"Western\",\"Action\",\"Adventure\",\"Sci-Fi\",\"Comedy\",\"Drama\",\"Drama\",\"Thriller\",\"Drama\",\"Horror\",\"Mystery\",\"Animation\",\"Children\",\"Drama\",\"Mystery\",\"Action\",\"Sci-Fi\",\"Western\",\"Adventure\",\"Fantasy\",\"Drama\",\"War\",\"Comedy\",\"Drama\",\"Thriller\",\"Drama\",\"War\",\"Comedy\",\"Drama\",\"Comedy\",\"Drama\",\"Comedy\",\"Comedy\",\"Drama\",\"Romance\",\"Drama\",\"Drama\",\"Romance\",\"Comedy\",\"Drama\",\"Romance\",\"Horror\",\"Sci-Fi\",\"Thriller\",\"Action\",\"Adventure\",\"Comedy\",\"Sci-Fi\",\"Comedy\",\"Horror\",\"Thriller\",\"Comedy\",\"Horror\",\"Horror\",\"Sci-Fi\",\"Adventure\",\"Drama\",\"Romance\",\"Thriller\",\"Action\",\"Comedy\",\"War\",\"Action\",\"Fantasy\",\"Horror\",\"Sci-Fi\",\"Thriller\",\"Horror\",\"Horror\",\"Horror\",\"Action\",\"Comedy\",\"Horror\",\"Drama\",\"Drama\",\"Comedy\",\"Horror\",\"Horror\",\"Mystery\",\"Thriller\",\"Comedy\",\"Comedy\",\"Drama\",\"Romance\",\"Thriller\",\"Comedy\",\"Documentary\",\"Comedy\",\"Comedy\",\"Drama\",\"Horror\",\"Thriller\",\"Action\",\"Adventure\",\"Sci-Fi\",\"Comedy\",\"Documentary\",\"Action\",\"Comedy\",\"Crime\",\"Romance\",\"Comedy\",\"Drama\",\"Drama\",\"Western\",\"Drama\",\"Comedy\",\"Western\",\"Action\",\"Adventure\",\"Fantasy\",\"Action\",\"Thriller\",\"Comedy\",\"Comedy\",\"Drama\",\"Romance\",\"Action\",\"Adventure\",\"Fantasy\",\"Comedy\",\"Crime\",\"Drama\",\"Romance\",\"Thriller\",\"Drama\",\"Crime\",\"Thriller\",\"Crime\",\"Thriller\",\"Drama\",\"Action\",\"Comedy\",\"Crime\",\"Drama\",\"Thriller\",\"Comedy\",\"Drama\",\"Comedy\",\"Drama\",\"Crime\",\"Thriller\",\"Horror\",\"Comedy\",\"Romance\",\"Drama\",\"Musical\",\"Comedy\",\"Comedy\",\"Drama\",\"Drama\",\"Drama\",\"Drama\",\"Horror\",\"Horror\",\"Horror\",\"Drama\",\"Fantasy\",\"Mystery\",\"Romance\",\"Comedy\",\"Comedy\",\"Drama\",\"Adventure\",\"Sci-Fi\",\"Adventure\",\"Sci-Fi\",\"Comedy\",\"Horror\",\"Comedy\",\"Adventure\",\"Horror\",\"Sci-Fi\",\"Horror\",\"Sci-Fi\",\"Horror\",\"Sci-Fi\",\"Sci-Fi\",\"Thriller\",\"Horror\",\"Horror\",\"Horror\",\"Horror\",\"Horror\",\"Comedy\",\"Adventure\",\"Animation\",\"Children\",\"Action\",\"Drama\",\"Thriller\",\"Action\",\"Crime\",\"Drama\",\"Thriller\",\"Comedy\",\"Drama\",\"Drama\",\"Drama\",\"Drama\",\"Thriller\",\"Comedy\",\"Romance\",\"Comedy\",\"Action\",\"Drama\",\"Drama\",\"Action\",\"Adventure\",\"Sci-Fi\",\"Comedy\",\"Horror\",\"Musical\",\"Animation\",\"Children\",\"Drama\",\"Film-Noir\",\"Crime\",\"Film-Noir\",\"Drama\",\"Comedy\",\"Drama\",\"Comedy\",\"Mystery\",\"Action\",\"Comedy\",\"Crime\",\"Horror\",\"Mystery\",\"Thriller\",\"Adventure\",\"Children\",\"Action\",\"Comedy\",\"Drama\",\"Romance\",\"Comedy\",\"Drama\",\"Action\",\"Sci-Fi\",\"Thriller\",\"Drama\",\"Romance\",\"Action\",\"Adventure\",\"Thriller\",\"Drama\",\"War\",\"Action\",\"Sci-Fi\",\"Thriller\",\"Drama\",\"Romance\",\"Children\",\"Comedy\",\"Fantasy\",\"Documentary\",\"Animation\",\"Children\",\"Comedy\",\"Children\",\"Comedy\",\"Drama\",\"Romance\",\"War\",\"Drama\",\"Romance\",\"Drama\",\"Sci-Fi\",\"Action\",\"Drama\",\"Romance\",\"Action\",\"Adventure\",\"Comedy\",\"Fantasy\",\"Drama\",\"Action\",\"Adventure\",\"Adventure\",\"Drama\",\"Comedy\",\"Comedy\",\"Action\",\"Adventure\",\"Thriller\",\"Adventure\",\"Animation\",\"Children\",\"Sci-Fi\",\"Drama\",\"Drama\",\"War\",\"Drama\",\"Comedy\",\"Comedy\",\"Crime\",\"Thriller\",\"Comedy\",\"Drama\",\"Drama\",\"Romance\",\"Comedy\",\"Sci-Fi\",\"Adventure\",\"Animation\",\"Children\",\"Comedy\",\"Fantasy\",\"Drama\",\"Comedy\",\"Romance\",\"Drama\",\"Thriller\",\"Drama\",\"Drama\",\"Comedy\",\"Drama\",\"Romance\",\"Romance\",\"Comedy\",\"Crime\",\"Adventure\",\"Comedy\",\"Crime\",\"Comedy\",\"Drama\",\"Horror\",\"Drama\",\"Romance\",\"Western\",\"Comedy\",\"Drama\",\"Thriller\",\"War\",\"Crime\",\"Drama\",\"Thriller\",\"Romance\",\"Western\",\"Drama\",\"Horror\",\"Crime\",\"Film-Noir\",\"Mystery\",\"Thriller\",\"Children\",\"Musical\",\"Comedy\",\"Drama\",\"Romance\",\"Action\",\"Drama\",\"War\",\"Western\",\"Crime\",\"Drama\",\"Drama\",\"Drama\",\"War\",\"Horror\",\"Sci-Fi\",\"Crime\",\"Drama\",\"Thriller\",\"Action\",\"Comedy\",\"Drama\",\"Romance\",\"Drama\",\"Crime\",\"Drama\",\"Mystery\",\"Thriller\",\"Drama\",\"Romance\",\"Comedy\",\"Drama\",\"Romance\",\"Comedy\",\"Drama\",\"Romance\",\"Action\",\"Crime\",\"Thriller\",\"Action\",\"Crime\",\"Drama\",\"Action\",\"Comedy\",\"Drama\",\"Romance\",\"Comedy\",\"Comedy\",\"Romance\",\"Drama\",\"Drama\",\"Thriller\",\"Drama\",\"Comedy\",\"Sci-Fi\",\"Comedy\",\"Comedy\",\"Comedy\",\"Drama\",\"Romance\",\"Thriller\",\"Action\",\"Comedy\",\"Crime\",\"Thriller\",\"Action\",\"Comedy\",\"Crime\",\"Drama\",\"Action\",\"Crime\",\"Mystery\",\"Romance\",\"Thriller\",\"Comedy\",\"Animation\",\"Children\",\"Comedy\",\"Romance\",\"Romance\",\"Sci-Fi\",\"Thriller\",\"Comedy\",\"Documentary\",\"Action\",\"Adventure\",\"Drama\",\"War\",\"Comedy\",\"Fantasy\",\"Horror\",\"Thriller\",\"Drama\",\"Thriller\",\"Thriller\",\"Drama\",\"War\",\"Drama\",\"Comedy\",\"Comedy\",\"Drama\",\"Action\",\"Adventure\",\"Comedy\",\"Sci-Fi\",\"Comedy\",\"Horror\",\"Thriller\",\"Comedy\",\"Sci-Fi\",\"Drama\",\"Comedy\",\"Comedy\",\"Horror\",\"Thriller\",\"Fantasy\",\"Romance\",\"Comedy\",\"Fantasy\",\"Comedy\",\"Romance\",\"Sci-Fi\",\"Comedy\",\"Romance\",\"Action\",\"Adventure\",\"Fantasy\",\"Sci-Fi\",\"Adventure\",\"Comedy\",\"Horror\",\"Comedy\",\"Horror\",\"Crime\",\"Drama\",\"Comedy\",\"Romance\",\"Action\",\"Adventure\",\"Drama\",\"Thriller\",\"Horror\",\"Mystery\",\"Drama\",\"Romance\",\"Drama\",\"Mystery\",\"Romance\",\"Comedy\",\"Drama\",\"Romance\",\"Horror\",\"Thriller\",\"Comedy\",\"Romance\",\"Drama\",\"Comedy\",\"Fantasy\",\"Romance\",\"Animation\",\"Children\",\"Drama\",\"Romance\",\"Comedy\",\"Comedy\",\"Drama\",\"Fantasy\",\"Romance\",\"Animation\",\"Comedy\",\"Fantasy\",\"Action\",\"Thriller\",\"Drama\",\"Romance\",\"Action\",\"Comedy\",\"Drama\",\"Action\",\"Drama\",\"Thriller\",\"Comedy\",\"Romance\",\"Documentary\",\"Drama\",\"Comedy\",\"Drama\",\"Drama\",\"Action\",\"Drama\",\"Comedy\",\"Comedy\",\"Drama\",\"Romance\",\"Drama\",\"Drama\",\"Drama\",\"Comedy\",\"Drama\",\"Romance\",\"Musical\",\"Drama\",\"Romance\",\"War\",\"Horror\",\"Mystery\",\"Comedy\",\"Sci-Fi\",\"Action\",\"Drama\",\"Action\",\"Crime\",\"Drama\",\"Comedy\",\"Comedy\",\"Drama\",\"Romance\",\"Action\",\"Adventure\",\"War\",\"Action\",\"Crime\",\"Drama\",\"Horror\",\"Thriller\",\"Drama\",\"Crime\",\"Mystery\",\"Comedy\",\"Comedy\",\"Documentary\",\"Crime\",\"Drama\",\"Comedy\",\"Comedy\",\"Comedy\",\"Drama\",\"War\",\"Action\",\"Thriller\",\"Comedy\",\"Mystery\",\"Thriller\",\"Comedy\",\"Crime\",\"Romance\",\"Comedy\",\"Romance\",\"Comedy\",\"Romance\",\"Action\",\"Adventure\",\"Children\",\"Comedy\",\"Comedy\",\"Drama\",\"Thriller\",\"Drama\",\"Thriller\",\"Documentary\",\"Documentary\",\"Action\",\"Crime\",\"Mystery\",\"Thriller\",\"Crime\",\"Drama\",\"Comedy\",\"Fantasy\",\"Animation\",\"Children\",\"Comedy\",\"Crime\",\"Drama\",\"Thriller\",\"Crime\",\"Drama\",\"Mystery\",\"Comedy\",\"Drama\",\"Romance\",\"Adventure\",\"Comedy\",\"Mystery\",\"Romance\",\"Comedy\",\"Drama\",\"Thriller\",\"Drama\",\"Comedy\",\"Drama\",\"Comedy\",\"Drama\",\"Drama\",\"Romance\",\"Drama\",\"Action\",\"Crime\",\"Drama\",\"Drama\",\"Action\",\"Thriller\",\"Comedy\",\"Comedy\",\"Action\",\"Adventure\",\"Comedy\",\"Thriller\",\"Drama\",\"Action\",\"Adventure\",\"Fantasy\",\"Sci-Fi\",\"Comedy\",\"Documentary\",\"Comedy\",\"Drama\",\"Romance\",\"Drama\",\"Fantasy\",\"Comedy\",\"Comedy\",\"Romance\",\"Comedy\",\"Drama\",\"Comedy\",\"Drama\",\"Musical\",\"Comedy\",\"Crime\",\"Drama\",\"Comedy\",\"Children\",\"Fantasy\",\"Musical\",\"Drama\",\"Romance\",\"Drama\",\"Crime\",\"Film-Noir\",\"Thriller\",\"Action\",\"Comedy\",\"Romance\",\"Drama\",\"Documentary\",\"Romance\",\"Thriller\",\"Adventure\",\"Animation\",\"Children\",\"Comedy\",\"Fantasy\",\"Romance\",\"Comedy\",\"Romance\",\"Drama\",\"Musical\",\"Romance\",\"Action\",\"Drama\",\"Romance\",\"War\",\"Adventure\",\"Drama\",\"Drama\",\"Drama\",\"Comedy\",\"Romance\",\"Comedy\",\"Western\",\"Drama\",\"Adventure\",\"War\",\"Western\",\"Drama\",\"Crime\",\"Drama\",\"Thriller\",\"Adventure\",\"Western\",\"Western\",\"Comedy\",\"Crime\",\"Drama\",\"Drama\",\"Romance\",\"War\",\"Drama\",\"War\",\"Action\",\"Adventure\",\"Drama\",\"War\",\"Comedy\",\"Drama\",\"Romance\",\"Comedy\",\"Sci-Fi\",\"Action\",\"Crime\",\"Drama\",\"Drama\",\"Comedy\",\"Drama\",\"Comedy\",\"War\",\"Comedy\",\"Documentary\",\"Action\",\"Crime\",\"Thriller\",\"Action\",\"War\",\"Crime\",\"Thriller\",\"Action\",\"Drama\",\"Comedy\",\"Musical\",\"Romance\",\"Comedy\",\"Drama\",\"Romance\",\"Comedy\",\"Comedy\",\"Romance\",\"Adventure\",\"Animation\",\"Children\",\"Fantasy\",\"Action\",\"Adventure\",\"Comedy\",\"Action\",\"Crime\",\"Thriller\",\"Adventure\",\"Drama\",\"Sci-Fi\",\"Crime\",\"Drama\",\"Drama\",\"Romance\",\"Comedy\",\"Comedy\",\"Romance\",\"Crime\",\"Drama\",\"Drama\",\"Romance\",\"Comedy\",\"Crime\",\"Drama\",\"Mystery\",\"Thriller\",\"Drama\",\"Children\",\"Comedy\",\"Action\",\"Comedy\",\"Drama\",\"Crime\",\"Drama\",\"Thriller\",\"Comedy\",\"Drama\",\"Fantasy\",\"Romance\",\"Drama\",\"Comedy\",\"Musical\",\"Comedy\",\"Crime\",\"Action\",\"Comedy\",\"Action\",\"Comedy\",\"Comedy\",\"Drama\",\"Comedy\",\"Horror\",\"Drama\",\"Fantasy\",\"Horror\",\"Crime\",\"Drama\",\"Western\",\"Drama\",\"Thriller\",\"War\",\"Drama\",\"Comedy\",\"Drama\",\"Mystery\",\"Thriller\",\"Comedy\",\"Crime\",\"Drama\",\"Comedy\",\"Horror\",\"Sci-Fi\",\"Drama\",\"Romance\",\"Drama\",\"Drama\",\"Drama\",\"Film-Noir\",\"Drama\",\"Comedy\",\"Drama\",\"Romance\",\"Western\",\"Drama\",\"Drama\",\"Film-Noir\",\"Drama\",\"Action\",\"Comedy\",\"Sci-Fi\",\"Thriller\",\"Mystery\",\"Thriller\",\"Horror\",\"Action\",\"Drama\",\"Romance\",\"Thriller\",\"Drama\",\"Action\",\"Thriller\",\"Action\",\"Action\",\"Comedy\",\"Drama\",\"Action\",\"Sci-Fi\",\"Thriller\",\"Action\",\"Crime\",\"Adventure\",\"Documentary\",\"IMAX\",\"Adventure\",\"Animation\",\"Fantasy\",\"Sci-Fi\",\"Comedy\",\"Romance\",\"Action\",\"Drama\",\"Drama\",\"Crime\",\"Drama\",\"Thriller\",\"Comedy\",\"Drama\",\"Romance\",\"Comedy\",\"Documentary\",\"IMAX\",\"Animation\",\"Drama\",\"Sci-Fi\",\"IMAX\",\"Documentary\",\"IMAX\",\"Documentary\",\"IMAX\",\"Comedy\",\"Fantasy\",\"Drama\",\"War\",\"Comedy\",\"Drama\",\"Romance\",\"Drama\",\"Action\",\"Crime\",\"Drama\",\"Adventure\",\"Comedy\",\"Fantasy\",\"Drama\",\"Comedy\",\"Romance\",\"Drama\",\"War\",\"Comedy\",\"Drama\",\"Musical\",\"Drama\",\"War\",\"Comedy\",\"Adventure\",\"Children\",\"Comedy\",\"Comedy\",\"Drama\",\"Horror\",\"Sci-Fi\",\"Drama\",\"Comedy\",\"Drama\",\"Drama\",\"Romance\",\"Action\",\"Crime\",\"Drama\",\"Comedy\",\"Romance\",\"Comedy\",\"Comedy\",\"Sci-Fi\",\"Comedy\",\"Romance\",\"Film-Noir\",\"Mystery\",\"Thriller\",\"Action\",\"Comedy\",\"Horror\",\"Sci-Fi\",\"Action\",\"Crime\",\"Thriller\",\"Comedy\",\"Comedy\",\"Drama\",\"Children\",\"Comedy\",\"Comedy\",\"Drama\",\"Romance\",\"Crime\",\"Mystery\",\"Thriller\",\"Drama\",\"Comedy\",\"Comedy\",\"Comedy\",\"Horror\",\"Mystery\",\"Thriller\",\"Comedy\",\"Horror\",\"Adventure\",\"Animation\",\"Children\",\"Fantasy\",\"Comedy\",\"Drama\",\"Mystery\",\"Romance\",\"Thriller\",\"Comedy\",\"Drama\",\"Fantasy\",\"Comedy\",\"Comedy\",\"Romance\",\"Sci-Fi\",\"Comedy\",\"Romance\",\"Comedy\",\"Drama\",\"Action\",\"Comedy\",\"Horror\",\"Sci-Fi\",\"Adventure\",\"Drama\",\"Western\",\"Drama\",\"Romance\",\"Western\",\"Drama\",\"Horror\",\"Comedy\",\"Sci-Fi\",\"Comedy\",\"Sci-Fi\",\"Drama\",\"Thriller\",\"Action\",\"Horror\",\"Sci-Fi\",\"Thriller\",\"Action\",\"Sci-Fi\",\"Thriller\",\"Drama\",\"Comedy\",\"Comedy\",\"Mystery\",\"Comedy\",\"Drama\",\"Fantasy\",\"Romance\",\"Action\",\"Adventure\",\"Action\",\"Adventure\",\"Comedy\",\"Sci-Fi\",\"Action\",\"Crime\",\"Drama\",\"Comedy\",\"Drama\",\"Action\",\"Thriller\",\"Drama\",\"War\",\"Comedy\",\"Romance\",\"Action\",\"Sci-Fi\",\"Drama\",\"Action\",\"Comedy\",\"Comedy\",\"Drama\",\"Romance\",\"Comedy\",\"Comedy\",\"Musical\",\"Sci-Fi\",\"Drama\",\"Musical\",\"Mystery\",\"Adventure\",\"Comedy\",\"Fantasy\",\"Comedy\",\"Action\",\"War\",\"Drama\",\"Action\",\"Drama\",\"Mystery\",\"Drama\",\"Comedy\",\"Drama\",\"Comedy\",\"Crime\",\"Romance\",\"Comedy\",\"Romance\",\"Comedy\",\"Fantasy\",\"Crime\",\"Drama\",\"Comedy\",\"Crime\",\"Mystery\",\"Thriller\",\"Crime\",\"Drama\",\"Drama\",\"Action\",\"Comedy\",\"Crime\",\"Action\",\"Drama\",\"Drama\",\"Comedy\",\"Comedy\",\"Comedy\",\"Romance\",\"Comedy\",\"Comedy\",\"Animation\",\"Comedy\",\"Musical\",\"Drama\",\"Sci-Fi\",\"Thriller\",\"Drama\",\"Romance\",\"Sci-Fi\",\"Comedy\",\"Drama\",\"Action\",\"Crime\",\"Thriller\",\"Action\",\"Action\",\"Thriller\",\"Adventure\",\"Comedy\",\"Action\",\"Comedy\",\"Drama\",\"Action\",\"Action\",\"Adventure\",\"Sci-Fi\",\"Thriller\",\"Comedy\",\"Romance\",\"Action\",\"Crime\",\"Thriller\",\"Comedy\",\"Drama\",\"Comedy\",\"Drama\",\"Musical\",\"Action\",\"Adventure\",\"Drama\",\"Sci-Fi\",\"Comedy\",\"Drama\",\"Romance\",\"Crime\",\"Horror\",\"Thriller\",\"Comedy\",\"Drama\",\"Comedy\",\"Adventure\",\"Comedy\",\"Action\",\"Drama\",\"Drama\",\"Horror\",\"Mystery\",\"Thriller\",\"Comedy\",\"Crime\",\"Drama\",\"Thriller\",\"Comedy\",\"Crime\",\"Comedy\",\"Comedy\",\"Horror\",\"Thriller\",\"Drama\",\"Comedy\",\"Romance\",\"Action\",\"Comedy\",\"Crime\",\"Thriller\",\"Action\",\"Comedy\",\"Comedy\",\"Comedy\",\"Crime\",\"Comedy\",\"Comedy\",\"Comedy\",\"Drama\",\"Adventure\",\"Children\",\"Comedy\",\"Drama\",\"Adventure\",\"Comedy\",\"Comedy\",\"Adventure\",\"Drama\",\"Mystery\",\"Thriller\",\"Crime\",\"Musical\",\"Crime\",\"Drama\",\"Comedy\",\"Horror\",\"Drama\",\"Romance\",\"Thriller\",\"Children\",\"Comedy\",\"Romance\",\"Action\",\"Comedy\",\"Drama\",\"Adventure\",\"Comedy\",\"Comedy\",\"Drama\",\"Musical\",\"Comedy\",\"Musical\",\"Western\",\"Drama\",\"Western\",\"Documentary\",\"Drama\",\"Sci-Fi\",\"Comedy\",\"Horror\",\"Action\",\"Comedy\",\"Comedy\",\"Action\",\"Animation\",\"Comedy\",\"Crime\",\"Drama\",\"Romance\",\"Thriller\",\"Drama\",\"Horror\",\"Mystery\",\"Thriller\",\"Action\",\"Comedy\",\"Western\",\"Comedy\",\"Drama\",\"Horror\",\"Thriller\",\"Drama\",\"Romance\",\"War\",\"Comedy\",\"Comedy\",\"Comedy\",\"Adventure\",\"Comedy\",\"Horror\",\"Sci-Fi\",\"Thriller\",\"Comedy\",\"Drama\",\"Romance\",\"Romance\",\"Sci-Fi\",\"Comedy\",\"Romance\",\"Comedy\",\"Drama\",\"Romance\",\"Comedy\",\"Romance\",\"Horror\",\"Drama\",\"Action\",\"Children\",\"Comedy\",\"Action\",\"Children\",\"Comedy\",\"Action\",\"Children\",\"Drama\",\"Horror\",\"Mystery\",\"Thriller\",\"Action\",\"Adventure\",\"Drama\",\"Romance\",\"Comedy\",\"Drama\",\"Musical\",\"Comedy\",\"Drama\",\"Drama\",\"Crime\",\"Drama\",\"Romance\",\"Documentary\",\"Thriller\",\"Drama\",\"Drama\",\"Comedy\",\"Comedy\",\"Crime\",\"Drama\",\"Musical\",\"Romance\",\"Crime\",\"Drama\",\"Thriller\",\"Comedy\",\"Musical\",\"Sci-Fi\",\"Drama\",\"Comedy\",\"Romance\",\"Documentary\",\"Drama\",\"Drama\",\"Western\",\"Horror\",\"Thriller\",\"Drama\",\"Drama\",\"Romance\",\"Comedy\",\"Fantasy\",\"Horror\",\"Musical\",\"Thriller\",\"Horror\",\"Crime\",\"Horror\",\"Mystery\",\"Adventure\",\"Comedy\",\"Romance\",\"War\",\"Comedy\",\"Romance\",\"Comedy\",\"Romance\",\"Action\",\"Adventure\",\"Comedy\",\"Crime\",\"Action\",\"Adventure\",\"Drama\",\"Romance\",\"Thriller\",\"Drama\",\"Action\",\"Comedy\",\"Romance\",\"War\",\"Drama\",\"Thriller\",\"Comedy\",\"Drama\",\"Mystery\",\"Thriller\",\"Drama\",\"Drama\",\"Drama\",\"Musical\",\"Adventure\",\"Sci-Fi\",\"Sci-Fi\",\"Thriller\",\"Drama\",\"Comedy\",\"Action\",\"Adventure\",\"Comedy\",\"Drama\",\"Adventure\",\"Thriller\",\"Children\",\"Comedy\",\"Comedy\",\"Romance\",\"Comedy\",\"Drama\",\"Action\",\"Adventure\",\"Drama\",\"War\",\"Horror\",\"Comedy\",\"Romance\",\"Crime\",\"Drama\",\"Comedy\",\"Musical\",\"Horror\",\"Mystery\",\"Thriller\",\"Drama\",\"Drama\",\"Romance\",\"Drama\",\"Romance\",\"Comedy\",\"Crime\",\"Romance\",\"Comedy\",\"Crime\",\"Action\",\"Comedy\",\"Drama\",\"Crime\",\"Drama\",\"Film-Noir\",\"Mystery\",\"Thriller\",\"Comedy\",\"Drama\",\"Action\",\"Animation\",\"Sci-Fi\",\"Horror\",\"Action\",\"Crime\",\"Thriller\",\"Drama\",\"Musical\",\"Comedy\",\"Drama\",\"Comedy\",\"Crime\",\"Documentary\",\"IMAX\",\"Crime\",\"Horror\",\"Mystery\",\"Thriller\",\"Action\",\"Comedy\",\"Drama\",\"Drama\",\"Animation\",\"Drama\",\"Fantasy\",\"Drama\",\"Fantasy\",\"Mystery\",\"Sci-Fi\",\"Horror\",\"Thriller\",\"Comedy\",\"Romance\",\"Drama\",\"Mystery\",\"Sci-Fi\",\"Thriller\",\"Action\",\"Comedy\",\"Crime\",\"Drama\",\"Drama\",\"Crime\",\"Drama\",\"Drama\",\"Thriller\",\"Adventure\",\"Animation\",\"Children\",\"Comedy\",\"Fantasy\",\"Action\",\"Sci-Fi\",\"Thriller\",\"Drama\",\"Crime\",\"Drama\",\"Comedy\",\"Fantasy\",\"Romance\",\"Horror\",\"Thriller\",\"Adventure\",\"Children\",\"Fantasy\",\"Comedy\",\"Crime\",\"Mystery\",\"Thriller\",\"Adventure\",\"Comedy\",\"Fantasy\",\"Comedy\",\"Action\",\"Crime\",\"Drama\",\"Thriller\",\"Drama\",\"Fantasy\",\"Horror\",\"Thriller\",\"War\",\"Drama\",\"Comedy\",\"Sci-Fi\",\"Adventure\",\"Comedy\",\"Fantasy\",\"Drama\",\"Musical\",\"Romance\",\"Crime\",\"Drama\",\"Romance\",\"Action\",\"Adventure\",\"Fantasy\",\"Drama\",\"War\",\"Drama\",\"Crime\",\"Drama\",\"Romance\",\"Thriller\",\"Drama\",\"Romance\",\"Drama\",\"Romance\",\"Comedy\",\"Comedy\",\"Drama\",\"Musical\",\"Fantasy\",\"Mystery\",\"Thriller\",\"Drama\",\"Comedy\",\"Mystery\",\"Thriller\",\"Drama\",\"Musical\",\"Action\",\"Sci-Fi\",\"Action\",\"Adventure\",\"Sci-Fi\",\"Sci-Fi\",\"Crime\",\"Action\",\"Crime\",\"Thriller\",\"Action\",\"Adventure\",\"Drama\",\"Thriller\",\"Comedy\",\"Sci-Fi\",\"Adventure\",\"Sci-Fi\",\"Comedy\",\"Crime\",\"Action\",\"Adventure\",\"Comedy\",\"Drama\",\"Romance\",\"Thriller\",\"Crime\",\"Thriller\",\"Action\",\"Drama\",\"War\",\"Drama\",\"Documentary\",\"Adventure\",\"Western\",\"Crime\",\"Thriller\",\"Adventure\",\"Drama\",\"Romance\",\"Action\",\"Drama\",\"Thriller\",\"Sci-Fi\",\"Thriller\",\"Drama\",\"War\",\"Crime\",\"Mystery\",\"Drama\",\"Comedy\",\"Drama\",\"Comedy\",\"Romance\",\"Comedy\",\"Mystery\",\"Romance\",\"Sci-Fi\",\"Thriller\",\"Drama\",\"Drama\",\"Drama\",\"Mystery\",\"Thriller\",\"Comedy\",\"Drama\",\"Adventure\",\"Comedy\",\"Fantasy\",\"Sci-Fi\",\"Comedy\",\"Action\",\"Adventure\",\"Fantasy\",\"Action\",\"Adventure\",\"Sci-Fi\",\"Adventure\",\"Comedy\",\"Adventure\",\"Animation\",\"Children\",\"Comedy\",\"Comedy\",\"Drama\",\"Romance\",\"Comedy\",\"Romance\",\"Adventure\",\"Fantasy\",\"Comedy\",\"Drama\",\"Romance\",\"Drama\",\"Romance\",\"Adventure\",\"Crime\",\"Drama\",\"Thriller\",\"Comedy\",\"Adventure\",\"Comedy\",\"Thriller\",\"Drama\",\"Mystery\",\"Thriller\",\"Drama\",\"Action\",\"Drama\",\"War\",\"Drama\",\"Romance\",\"Drama\",\"Musical\",\"Romance\",\"Comedy\",\"Drama\",\"Mystery\",\"Drama\",\"Drama\",\"Romance\",\"Drama\",\"Comedy\",\"Crime\",\"Mystery\",\"Thriller\",\"Drama\",\"Comedy\",\"Action\",\"Mystery\",\"Thriller\",\"Action\",\"Comedy\",\"Crime\",\"Drama\",\"Thriller\",\"Drama\",\"Drama\",\"Thriller\",\"Drama\",\"Romance\",\"Action\",\"Adventure\",\"Fantasy\",\"Action\",\"Adventure\",\"Fantasy\",\"Animation\",\"Fantasy\",\"Action\",\"Drama\",\"Sci-Fi\",\"Thriller\",\"Action\",\"Comedy\",\"Adventure\",\"Children\",\"Comedy\",\"Action\",\"Comedy\",\"Crime\",\"Drama\",\"Comedy\",\"Drama\",\"Romance\",\"Comedy\",\"Sci-Fi\",\"Thriller\",\"Action\",\"Drama\",\"Documentary\",\"Comedy\",\"Drama\",\"War\",\"Mystery\",\"Sci-Fi\",\"Thriller\",\"Western\",\"Action\",\"Adventure\",\"Drama\",\"Thriller\",\"Drama\",\"Fantasy\",\"Horror\",\"Mystery\",\"Thriller\",\"Drama\",\"Romance\",\"Drama\",\"Action\",\"Adventure\",\"Animation\",\"Drama\",\"Fantasy\",\"Drama\",\"Romance\",\"Animation\",\"Sci-Fi\",\"Drama\",\"Comedy\",\"Drama\",\"Comedy\",\"Adventure\",\"Children\",\"Comedy\",\"Drama\",\"Comedy\",\"Romance\",\"Comedy\",\"Drama\",\"Romance\",\"Comedy\",\"Drama\",\"Comedy\",\"Crime\",\"Drama\",\"Children\",\"Comedy\",\"Action\",\"Thriller\",\"Action\",\"Sci-Fi\",\"Comedy\",\"Crime\",\"Comedy\",\"Children\",\"Drama\",\"Comedy\",\"Fantasy\",\"Children\",\"Comedy\",\"Drama\",\"Drama\",\"Horror\",\"Thriller\",\"Comedy\",\"Musical\",\"Romance\",\"Drama\",\"War\",\"Crime\",\"Drama\",\"Thriller\",\"Adventure\",\"Animation\",\"Children\",\"Comedy\",\"Crime\",\"Mystery\",\"Drama\",\"Thriller\",\"Drama\",\"Comedy\",\"Crime\",\"Drama\",\"Comedy\",\"Comedy\",\"Mystery\",\"Thriller\",\"Comedy\",\"Drama\",\"Drama\",\"Fantasy\",\"Mystery\",\"Romance\",\"Thriller\",\"Fantasy\",\"Horror\",\"Comedy\",\"Drama\",\"Comedy\",\"Drama\",\"Comedy\",\"Romance\",\"Drama\",\"Horror\",\"Documentary\",\"Comedy\",\"Animation\",\"Fantasy\",\"Horror\",\"Sci-Fi\",\"Drama\",\"Comedy\",\"Romance\",\"Action\",\"Drama\",\"War\",\"Action\",\"Action\",\"Animation\",\"Children\",\"Comedy\",\"Musical\",\"Horror\",\"Comedy\",\"Musical\",\"Romance\",\"Action\",\"Comedy\",\"Crime\",\"Action\",\"Adventure\",\"Sci-Fi\",\"Drama\",\"Romance\",\"Crime\",\"Drama\",\"Action\",\"Sci-Fi\",\"Thriller\",\"Comedy\",\"Horror\",\"Sci-Fi\",\"Drama\",\"Drama\",\"Thriller\",\"Drama\",\"Comedy\",\"Horror\",\"Action\",\"Adventure\",\"Thriller\",\"Action\",\"Comedy\",\"Comedy\",\"Fantasy\",\"Adventure\",\"Animation\",\"Children\",\"Comedy\",\"Action\",\"Horror\",\"Sci-Fi\",\"Thriller\",\"Action\",\"Comedy\",\"Drama\",\"Comedy\",\"Romance\",\"Documentary\",\"Drama\",\"Romance\",\"Drama\",\"Romance\",\"Comedy\",\"Drama\",\"Drama\",\"Documentary\",\"Drama\",\"Action\",\"Drama\",\"Comedy\",\"Romance\",\"Action\",\"Adventure\",\"Action\",\"Comedy\",\"Action\",\"Comedy\",\"Action\",\"Comedy\",\"Comedy\",\"Action\",\"Horror\",\"Thriller\",\"Comedy\",\"Drama\",\"Drama\",\"Action\",\"Adventure\",\"Sci-Fi\",\"Thriller\",\"Comedy\",\"Crime\",\"Drama\",\"Thriller\",\"Drama\",\"Drama\",\"Fantasy\",\"Romance\",\"Drama\",\"Drama\",\"Drama\",\"Comedy\",\"Romance\",\"Comedy\",\"Romance\",\"Thriller\",\"Comedy\",\"Comedy\",\"Romance\",\"Comedy\",\"Crime\",\"Documentary\",\"War\",\"Crime\",\"Drama\",\"Mystery\",\"Comedy\",\"Drama\",\"Thriller\",\"Crime\",\"Drama\",\"Thriller\",\"Comedy\",\"Romance\",\"Drama\",\"Thriller\",\"Comedy\",\"Romance\",\"Comedy\",\"Romance\",\"Action\",\"Adventure\",\"Drama\",\"Thriller\",\"Western\",\"Comedy\",\"Romance\",\"Drama\",\"War\",\"Comedy\",\"Comedy\",\"Comedy\",\"Romance\",\"Children\",\"Horror\",\"Mystery\",\"Thriller\",\"Crime\",\"Thriller\",\"Action\",\"Adventure\",\"Fantasy\",\"Thriller\",\"Romance\",\"Thriller\",\"Crime\",\"Thriller\",\"Comedy\",\"Drama\",\"Horror\",\"Sci-Fi\",\"Thriller\",\"Comedy\",\"Romance\",\"Documentary\",\"Drama\",\"Romance\",\"Crime\",\"Drama\",\"Thriller\",\"Crime\",\"Drama\",\"Comedy\",\"Crime\",\"Comedy\",\"Drama\",\"Comedy\",\"Drama\",\"Drama\",\"Drama\",\"Drama\",\"Romance\",\"Drama\",\"Comedy\",\"Drama\",\"Action\",\"Adventure\",\"Sci-Fi\",\"Thriller\",\"Comedy\",\"Drama\",\"Horror\",\"Sci-Fi\",\"Adventure\",\"Adventure\",\"Adventure\",\"Comedy\",\"Drama\",\"Thriller\",\"Drama\",\"Romance\",\"Musical\",\"Western\",\"Drama\",\"Romance\",\"War\",\"Comedy\",\"Musical\",\"Western\",\"Comedy\",\"Drama\",\"Romance\",\"Action\",\"Adventure\",\"Sci-Fi\",\"IMAX\",\"Drama\",\"Comedy\",\"Drama\",\"Romance\",\"Comedy\",\"Crime\",\"Drama\",\"Documentary\",\"Drama\",\"Thriller\",\"Action\",\"Crime\",\"Drama\",\"Mystery\",\"Thriller\",\"Adventure\",\"Animation\",\"Children\",\"Western\",\"Drama\",\"Drama\",\"Comedy\",\"Sci-Fi\",\"Drama\",\"Drama\",\"Thriller\",\"Comedy\",\"Drama\",\"Romance\",\"Action\",\"Drama\",\"Sci-Fi\",\"Action\",\"Comedy\",\"Crime\",\"Comedy\",\"Drama\",\"Comedy\",\"Drama\",\"Thriller\",\"Drama\",\"Fantasy\",\"Action\",\"Mystery\",\"Thriller\",\"Adventure\",\"Children\",\"Comedy\",\"Fantasy\",\"Mystery\",\"Action\",\"Drama\",\"War\",\"Drama\",\"Comedy\",\"Action\",\"Crime\",\"Thriller\",\"Crime\",\"Drama\",\"Romance\",\"Thriller\",\"Drama\",\"War\",\"Comedy\",\"Comedy\",\"Adventure\",\"Drama\",\"Horror\",\"Mystery\",\"Thriller\",\"Drama\",\"Film-Noir\",\"Thriller\",\"Western\",\"Comedy\",\"Sci-Fi\",\"Thriller\",\"Action\",\"Comedy\",\"Western\",\"Action\",\"Comedy\",\"Crime\",\"Comedy\",\"Adventure\",\"Animation\",\"Children\",\"Sci-Fi\",\"Action\",\"Crime\",\"Mystery\",\"Sci-Fi\",\"Thriller\",\"Adventure\",\"Drama\",\"Drama\",\"Adventure\",\"Animation\",\"Children\",\"Comedy\",\"Comedy\",\"Romance\",\"Comedy\",\"Drama\",\"Romance\",\"Comedy\",\"Drama\",\"Romance\",\"Children\",\"Comedy\",\"Romance\",\"Comedy\",\"Romance\",\"Comedy\",\"Drama\",\"Comedy\",\"Western\",\"Children\",\"Comedy\",\"Fantasy\",\"Action\",\"Comedy\",\"Sci-Fi\",\"Action\",\"Animation\",\"Children\",\"Comedy\",\"Comedy\",\"Drama\",\"Adventure\",\"Comedy\",\"Action\",\"Adventure\",\"Fantasy\",\"Crime\",\"Drama\",\"Crime\",\"Drama\",\"Thriller\",\"Comedy\",\"Drama\",\"Romance\",\"Sci-Fi\",\"Comedy\",\"Romance\",\"Drama\",\"Romance\",\"Children\",\"Drama\",\"Musical\",\"Drama\",\"Mystery\",\"Thriller\",\"Horror\",\"Thriller\",\"Drama\",\"Romance\",\"Action\",\"Comedy\",\"Horror\",\"Sci-Fi\",\"Action\",\"Adventure\",\"Drama\",\"Thriller\",\"Children\",\"Comedy\",\"Comedy\",\"Documentary\",\"Comedy\",\"Drama\",\"Romance\",\"Comedy\",\"Horror\",\"Action\",\"Comedy\",\"Action\",\"Adventure\",\"Comedy\",\"Adventure\",\"Comedy\",\"Sci-Fi\",\"Drama\",\"Adventure\",\"Drama\",\"Romance\",\"Comedy\",\"Comedy\",\"Mystery\",\"Horror\",\"Sci-Fi\",\"Thriller\",\"Comedy\",\"Drama\",\"Romance\",\"Adventure\",\"Children\",\"Comedy\",\"Drama\",\"Crime\",\"Drama\",\"Mystery\",\"Thriller\",\"Action\",\"Crime\",\"Thriller\",\"Comedy\",\"Drama\",\"Musical\",\"Comedy\",\"Comedy\",\"Documentary\",\"Drama\",\"Action\",\"Crime\",\"Drama\",\"Action\",\"Drama\",\"Sci-Fi\",\"Action\",\"Adventure\",\"Comedy\",\"Sci-Fi\",\"Adventure\",\"Drama\",\"Romance\",\"Comedy\",\"Drama\",\"Romance\",\"Drama\",\"Romance\",\"Drama\",\"Thriller\",\"Comedy\",\"Romance\",\"Comedy\",\"Drama\",\"Fantasy\",\"Sci-Fi\",\"Drama\",\"Comedy\",\"Romance\",\"Drama\",\"Musical\",\"Animation\",\"Children\",\"Fantasy\",\"Animation\",\"Children\",\"Action\",\"Adventure\",\"Fantasy\",\"Romance\",\"Action\",\"Comedy\",\"Romance\",\"War\",\"Action\",\"Horror\",\"Sci-Fi\",\"Sci-Fi\",\"Thriller\",\"Comedy\",\"Musical\",\"Western\",\"Comedy\",\"Crime\",\"Romance\",\"Thriller\",\"Crime\",\"Horror\",\"Thriller\",\"Comedy\",\"Musical\",\"Drama\",\"Thriller\",\"Crime\",\"Drama\",\"Thriller\",\"Comedy\",\"Crime\",\"Horror\",\"Thriller\",\"Drama\",\"Horror\",\"Thriller\",\"Comedy\",\"Comedy\",\"Crime\",\"Action\",\"Crime\",\"Crime\",\"Drama\",\"Comedy\",\"Drama\",\"Action\",\"Comedy\",\"Adventure\",\"Comedy\",\"Comedy\",\"Comedy\",\"Horror\",\"Comedy\",\"Drama\",\"Crime\",\"Children\",\"Comedy\",\"Adventure\",\"Comedy\",\"Sci-Fi\",\"Comedy\",\"Sci-Fi\",\"Children\",\"Drama\",\"Comedy\",\"Crime\",\"Comedy\",\"Crime\",\"Comedy\",\"Sci-Fi\",\"Comedy\",\"Drama\",\"Drama\",\"Thriller\",\"Action\",\"Thriller\",\"Comedy\",\"Drama\",\"Adventure\",\"War\",\"Action\",\"Thriller\",\"Comedy\",\"Crime\",\"Musical\",\"Mystery\",\"Drama\",\"Romance\",\"Drama\",\"Comedy\",\"Drama\",\"Romance\",\"Adventure\",\"Animation\",\"Fantasy\",\"Documentary\",\"Comedy\",\"Romance\",\"Action\",\"Comedy\",\"Drama\",\"Romance\",\"Action\",\"Comedy\",\"Crime\",\"Drama\",\"Thriller\",\"Animation\",\"Children\",\"Musical\",\"Crime\",\"Mystery\",\"Thriller\",\"Drama\",\"Drama\",\"Drama\",\"Comedy\",\"Crime\",\"Drama\",\"Action\",\"Adventure\",\"Fantasy\",\"Sci-Fi\",\"Horror\",\"Sci-Fi\",\"Documentary\",\"Drama\",\"Drama\",\"Romance\",\"Horror\",\"Comedy\",\"Animation\",\"Comedy\",\"War\",\"Action\",\"Adventure\",\"Comedy\",\"Crime\",\"Drama\",\"Horror\",\"Romance\",\"Action\",\"Comedy\",\"Crime\",\"Comedy\",\"Drama\",\"Romance\",\"Thriller\",\"Drama\",\"Fantasy\",\"Drama\",\"Documentary\",\"Comedy\",\"Documentary\",\"Adventure\",\"Animation\",\"Children\",\"Fantasy\",\"Comedy\",\"Drama\",\"Romance\",\"Comedy\",\"Romance\",\"Action\",\"Comedy\",\"Crime\",\"Thriller\",\"Horror\",\"Mystery\",\"Thriller\",\"Crime\",\"Drama\",\"Drama\",\"Documentary\",\"Comedy\",\"Drama\",\"Drama\",\"Crime\",\"Drama\",\"Animation\",\"Drama\",\"War\",\"Comedy\",\"Drama\",\"Romance\",\"Comedy\",\"Drama\",\"Musical\",\"Drama\",\"Western\",\"Action\",\"Adventure\",\"Fantasy\",\"Sci-Fi\",\"Horror\",\"Sci-Fi\",\"Comedy\",\"Drama\",\"Drama\",\"Romance\",\"Comedy\",\"Mystery\",\"Thriller\",\"Action\",\"Adventure\",\"Comedy\",\"Drama\",\"Comedy\",\"Romance\",\"Thriller\",\"Documentary\",\"Horror\",\"Documentary\",\"Horror\",\"Drama\",\"Romance\",\"Comedy\",\"Drama\",\"Comedy\",\"Drama\",\"Action\",\"Horror\",\"Mystery\",\"Sci-Fi\",\"Drama\",\"War\",\"Drama\",\"Horror\",\"Comedy\",\"Romance\",\"Horror\",\"Mystery\",\"Drama\",\"Horror\",\"Sci-Fi\",\"Thriller\",\"Comedy\",\"Crime\",\"Comedy\",\"Fantasy\",\"Drama\",\"Horror\",\"Thriller\",\"Drama\",\"Comedy\",\"Horror\",\"Sci-Fi\",\"Comedy\",\"Action\",\"Drama\",\"Thriller\",\"Horror\",\"Action\",\"Comedy\",\"Documentary\",\"Action\",\"Drama\",\"Mystery\",\"Thriller\",\"Drama\",\"Drama\",\"Romance\",\"Comedy\",\"Drama\",\"Action\",\"Adventure\",\"Comedy\",\"Fantasy\",\"Horror\",\"Drama\",\"Romance\",\"War\",\"Comedy\",\"War\",\"Comedy\",\"Action\",\"Adventure\",\"Comedy\",\"Crime\",\"Children\",\"Comedy\",\"Fantasy\",\"Romance\",\"Crime\",\"Thriller\",\"Drama\",\"Drama\",\"Romance\",\"Adventure\",\"Fantasy\",\"Drama\",\"War\",\"Drama\",\"Romance\",\"Documentary\",\"Musical\",\"Romance\",\"Western\",\"Drama\",\"Thriller\",\"Comedy\",\"Drama\",\"Romance\",\"Action\",\"Horror\",\"Comedy\",\"Romance\",\"Drama\",\"Adventure\",\"Drama\",\"Comedy\",\"Drama\",\"Adventure\",\"Romance\",\"Action\",\"Drama\",\"Drama\",\"Comedy\",\"Horror\",\"Sci-Fi\",\"Thriller\",\"Comedy\",\"Drama\",\"Romance\",\"Comedy\",\"Crime\",\"Drama\",\"Thriller\",\"Action\",\"Adventure\",\"Thriller\",\"Drama\",\"Comedy\",\"Drama\",\"Drama\",\"Thriller\",\"War\",\"Drama\",\"Romance\",\"Animation\",\"Comedy\",\"Musical\",\"Action\",\"Adventure\",\"Crime\",\"Thriller\",\"Drama\",\"Romance\",\"Sci-Fi\",\"Adventure\",\"Animation\",\"Children\",\"Sci-Fi\",\"IMAX\",\"Horror\",\"Thriller\",\"Comedy\",\"Horror\",\"Crime\",\"Drama\",\"Drama\",\"Romance\",\"Comedy\",\"Drama\",\"Horror\",\"Thriller\",\"Crime\",\"Drama\",\"Thriller\",\"Comedy\",\"Action\",\"Drama\",\"War\",\"Comedy\",\"Crime\",\"Crime\",\"Drama\",\"Comedy\",\"Drama\",\"Romance\",\"Action\",\"Sci-Fi\",\"Thriller\",\"Comedy\",\"Drama\",\"Horror\",\"Comedy\",\"Crime\",\"Action\",\"Drama\",\"War\",\"Sci-Fi\",\"Action\",\"Horror\",\"Comedy\",\"Drama\",\"Musical\",\"Romance\",\"Comedy\",\"Romance\",\"Documentary\",\"Comedy\",\"Crime\",\"Mystery\",\"Thriller\",\"Comedy\",\"Drama\",\"Musical\",\"Romance\",\"Comedy\",\"Comedy\",\"Romance\",\"Action\",\"Drama\",\"Sci-Fi\",\"Thriller\",\"Comedy\",\"Drama\",\"Drama\",\"Thriller\",\"Drama\",\"Adventure\",\"Fantasy\",\"Drama\",\"War\",\"Crime\",\"Drama\",\"Drama\",\"Crime\",\"Drama\",\"Comedy\",\"Romance\",\"Crime\",\"Drama\",\"Thriller\",\"Action\",\"Thriller\",\"Drama\",\"Thriller\",\"Drama\",\"Action\",\"War\",\"Comedy\",\"Crime\",\"Drama\",\"Comedy\",\"Drama\",\"Romance\",\"Comedy\",\"Drama\",\"Romance\",\"Animation\",\"Children\",\"Drama\",\"Fantasy\",\"Adventure\",\"Fantasy\",\"Drama\",\"Romance\",\"War\",\"Horror\",\"Sci-Fi\",\"Horror\",\"Mystery\",\"Thriller\",\"Drama\",\"Romance\",\"Drama\",\"Drama\",\"Crime\",\"Drama\",\"Children\",\"Comedy\",\"Fantasy\",\"Comedy\",\"Crime\",\"Drama\",\"Musical\",\"Drama\",\"Romance\",\"Drama\",\"Drama\",\"Romance\",\"Drama\",\"War\",\"Action\",\"Adventure\",\"Animation\",\"Fantasy\",\"Sci-Fi\",\"Comedy\",\"Drama\",\"Drama\",\"Comedy\",\"Crime\",\"Drama\",\"Thriller\",\"Comedy\",\"Documentary\",\"Comedy\",\"Romance\",\"Crime\",\"Drama\",\"Thriller\",\"Comedy\",\"Romance\",\"Action\",\"Comedy\",\"Action\",\"Comedy\",\"Action\",\"Adventure\",\"Crime\",\"Drama\",\"Thriller\",\"Comedy\",\"Drama\",\"Crime\",\"Drama\",\"Mystery\",\"Thriller\",\"Drama\",\"Comedy\",\"Crime\",\"Drama\",\"Romance\",\"Comedy\",\"Drama\",\"Romance\",\"Comedy\",\"Musical\",\"Drama\",\"Romance\",\"Comedy\",\"Crime\",\"Drama\",\"Romance\",\"Comedy\",\"Romance\",\"Comedy\",\"Romance\",\"Horror\",\"Thriller\",\"Drama\",\"Documentary\",\"Horror\",\"Thriller\",\"Drama\",\"Action\",\"Crime\",\"Drama\",\"Drama\",\"Action\",\"Crime\",\"Drama\",\"Horror\",\"Thriller\",\"Action\",\"Thriller\",\"Comedy\",\"Romance\",\"Documentary\",\"Drama\",\"Horror\",\"Drama\",\"Film-Noir\",\"Comedy\",\"Crime\",\"Drama\",\"Action\",\"Sci-Fi\",\"Thriller\",\"Crime\",\"Drama\",\"Thriller\",\"Comedy\",\"Animation\",\"Children\",\"Fantasy\",\"Action\",\"Comedy\",\"Romance\",\"Drama\",\"Mystery\",\"Thriller\",\"Comedy\",\"Drama\",\"War\",\"Adventure\",\"Romance\",\"Adventure\",\"Comedy\",\"Musical\",\"Comedy\",\"Comedy\",\"Documentary\",\"Documentary\",\"Comedy\",\"Comedy\",\"Documentary\",\"Musical\",\"Horror\",\"Mystery\",\"Thriller\",\"Comedy\",\"Comedy\",\"Crime\",\"Horror\",\"Thriller\",\"Drama\",\"Horror\",\"Thriller\",\"Comedy\",\"Sci-Fi\",\"Comedy\",\"Romance\",\"Action\",\"Adventure\",\"Comedy\",\"Action\",\"Crime\",\"Animation\",\"Children\",\"Drama\",\"Romance\",\"Adventure\",\"Drama\",\"Romance\",\"Thriller\",\"Comedy\",\"Adventure\",\"Children\",\"Adventure\",\"Children\",\"Drama\",\"Drama\",\"Romance\",\"Drama\",\"War\",\"Comedy\",\"Comedy\",\"Musical\",\"Romance\",\"Drama\",\"Sci-Fi\",\"Action\",\"Crime\",\"Drama\",\"Thriller\",\"Action\",\"Drama\",\"War\",\"Crime\",\"Drama\",\"Thriller\",\"Comedy\",\"Romance\",\"Comedy\",\"Drama\",\"Thriller\",\"Documentary\",\"Action\",\"Crime\",\"Drama\",\"Thriller\",\"Drama\",\"Mystery\",\"Drama\",\"Romance\",\"Comedy\",\"Drama\",\"Romance\",\"Comedy\",\"Comedy\",\"Action\",\"Comedy\",\"Comedy\",\"Action\",\"Drama\",\"Thriller\",\"Crime\",\"Drama\",\"Mystery\",\"Thriller\",\"Drama\",\"Drama\",\"Drama\",\"Comedy\",\"Drama\",\"Romance\",\"Action\",\"Drama\",\"Thriller\",\"Drama\",\"Horror\",\"Thriller\",\"Drama\",\"Comedy\",\"Crime\",\"Drama\",\"Drama\",\"Comedy\",\"Romance\",\"Thriller\",\"Adventure\",\"Children\",\"Drama\",\"Drama\",\"Mystery\",\"Drama\",\"War\",\"Drama\",\"Comedy\",\"Drama\",\"Romance\",\"Adventure\",\"Children\",\"Sci-Fi\",\"Comedy\",\"Drama\",\"Romance\",\"Horror\",\"Mystery\",\"Thriller\",\"Drama\",\"Comedy\",\"Drama\",\"Musical\",\"Romance\",\"Drama\",\"Comedy\",\"Drama\",\"Horror\",\"Sci-Fi\",\"Thriller\",\"Animation\",\"Children\",\"Comedy\",\"Romance\",\"Comedy\",\"Romance\",\"Drama\",\"Thriller\",\"War\",\"Action\",\"Drama\",\"Sci-Fi\",\"Thriller\",\"Comedy\",\"Comedy\",\"Drama\",\"Romance\",\"Drama\",\"Thriller\",\"Comedy\",\"Drama\",\"Romance\",\"Documentary\",\"Drama\",\"Fantasy\",\"Comedy\",\"Drama\",\"Romance\",\"Drama\",\"Film-Noir\",\"Mystery\",\"Romance\",\"Crime\",\"Drama\",\"Action\",\"Crime\",\"Drama\",\"Thriller\",\"Drama\",\"Thriller\",\"Action\",\"Animation\",\"Sci-Fi\",\"Thriller\",\"Drama\",\"Comedy\",\"Crime\",\"Drama\",\"Comedy\",\"Crime\",\"Drama\",\"Documentary\",\"IMAX\",\"Horror\",\"Crime\",\"Drama\",\"Action\",\"Adventure\",\"Sci-Fi\",\"Comedy\",\"Comedy\",\"Musical\",\"Adventure\",\"Children\",\"Comedy\",\"Mystery\",\"Comedy\",\"Crime\",\"Documentary\",\"Action\",\"Comedy\",\"Crime\",\"Drama\",\"Thriller\",\"Sci-Fi\",\"Mystery\",\"Sci-Fi\",\"Drama\",\"Sci-Fi\",\"Documentary\",\"Comedy\",\"Crime\",\"Romance\",\"Comedy\",\"Drama\",\"Comedy\",\"Comedy\",\"Crime\",\"Comedy\",\"Adventure\",\"Children\",\"Comedy\",\"Fantasy\",\"Musical\",\"Comedy\",\"Drama\",\"Comedy\",\"Crime\",\"Thriller\",\"Crime\",\"Horror\",\"Mystery\",\"Thriller\",\"Comedy\",\"Drama\",\"Documentary\",\"Drama\",\"Crime\",\"Drama\",\"Documentary\",\"Children\",\"Comedy\",\"Romance\",\"Action\",\"Adventure\",\"Sci-Fi\",\"Thriller\",\"Drama\",\"Crime\",\"Drama\",\"Thriller\",\"Drama\",\"Crime\",\"Drama\",\"Thriller\",\"Children\",\"Comedy\",\"Comedy\",\"Drama\",\"Drama\",\"Comedy\",\"Drama\",\"Romance\",\"Comedy\",\"Drama\",\"Romance\",\"Comedy\",\"Drama\",\"Musical\",\"Drama\",\"Musical\",\"Musical\",\"Drama\",\"Musical\",\"Action\",\"Adventure\",\"Animation\",\"Children\",\"Fantasy\",\"Sci-Fi\",\"Comedy\",\"Musical\",\"Romance\",\"Comedy\",\"Musical\",\"Romance\",\"Action\",\"Adventure\",\"Sci-Fi\",\"Thriller\",\"IMAX\",\"Comedy\",\"Romance\",\"Documentary\",\"Comedy\",\"Drama\",\"Romance\",\"Animation\",\"Children\",\"Comedy\",\"Drama\",\"Fantasy\",\"Romance\",\"Comedy\",\"Documentary\",\"Comedy\",\"Drama\",\"Adventure\",\"Animation\",\"Children\",\"Comedy\",\"Action\",\"Crime\",\"Horror\",\"Thriller\",\"Documentary\",\"Drama\",\"Action\",\"Crime\",\"Thriller\",\"Drama\",\"Western\",\"Action\",\"Comedy\",\"Crime\",\"Thriller\",\"Musical\",\"Action\",\"Drama\",\"Horror\",\"Sci-Fi\",\"Thriller\",\"Documentary\",\"Comedy\",\"Adventure\",\"Children\",\"Comedy\",\"Romance\",\"Comedy\",\"Documentary\",\"Comedy\",\"Comedy\",\"Western\",\"Comedy\",\"Drama\",\"Action\",\"Drama\",\"War\",\"Western\",\"Comedy\",\"Crime\",\"Mystery\",\"Romance\",\"Comedy\",\"Children\",\"Drama\",\"Comedy\",\"War\",\"Western\",\"Western\",\"Documentary\",\"War\",\"Drama\",\"Drama\",\"Thriller\",\"Comedy\",\"Romance\",\"Action\",\"Adventure\",\"Drama\",\"Drama\",\"Drama\",\"Documentary\",\"Drama\",\"Drama\",\"Drama\",\"Western\",\"Children\",\"Comedy\",\"Drama\",\"Drama\",\"Romance\",\"Mystery\",\"Thriller\",\"Drama\",\"Comedy\",\"Musical\",\"Comedy\",\"Musical\",\"Romance\",\"Action\",\"Crime\",\"Drama\",\"Comedy\",\"Drama\",\"Romance\",\"Action\",\"Horror\",\"Sci-Fi\",\"Action\",\"Adventure\",\"Comedy\",\"Crime\",\"Thriller\",\"Action\",\"Thriller\",\"Drama\",\"Romance\",\"Drama\",\"Romance\",\"Horror\",\"Crime\",\"Film-Noir\",\"Drama\",\"Drama\",\"Comedy\",\"Romance\",\"Adventure\",\"Romance\",\"Comedy\",\"Drama\",\"Horror\",\"Mystery\",\"Thriller\",\"Comedy\",\"Action\",\"Adventure\",\"Sci-Fi\",\"Comedy\",\"Adventure\",\"Animation\",\"Children\",\"Fantasy\",\"Action\",\"Adventure\",\"Sci-Fi\",\"Drama\",\"Mystery\",\"Thriller\",\"Action\",\"Adventure\",\"Comedy\",\"Fantasy\",\"Action\",\"Fantasy\",\"Sci-Fi\",\"Comedy\",\"Drama\",\"War\",\"Drama\",\"Romance\",\"Drama\",\"Fantasy\",\"Action\",\"Comedy\",\"Crime\",\"Thriller\",\"Comedy\",\"Drama\",\"Romance\",\"Action\",\"Comedy\",\"Thriller\",\"Comedy\",\"Romance\",\"Crime\",\"Drama\",\"Thriller\",\"Drama\",\"Comedy\",\"Musical\",\"Adventure\",\"Children\",\"Comedy\",\"Drama\",\"Comedy\",\"Drama\",\"Children\",\"Comedy\",\"Action\",\"Comedy\",\"Comedy\",\"War\",\"Comedy\",\"Drama\",\"Action\",\"Adventure\",\"Comedy\",\"Romance\",\"Thriller\",\"Drama\",\"Action\",\"Adventure\",\"Children\",\"Comedy\",\"Crime\",\"Drama\",\"War\",\"Comedy\",\"Musical\",\"Drama\",\"Comedy\",\"Crime\",\"Comedy\",\"Drama\",\"Action\",\"Sci-Fi\",\"Thriller\",\"Action\",\"Drama\",\"Comedy\",\"Comedy\",\"Comedy\",\"Drama\",\"Mystery\",\"Action\",\"Comedy\",\"Crime\",\"Thriller\",\"Action\",\"Sci-Fi\",\"Adventure\",\"Comedy\",\"Crime\",\"Thriller\",\"Comedy\",\"Comedy\",\"Crime\",\"Romance\",\"Romance\",\"Thriller\",\"Drama\",\"Drama\",\"Children\",\"Comedy\",\"Fantasy\",\"Action\",\"Thriller\",\"Comedy\",\"Drama\",\"Romance\",\"Action\",\"Sci-Fi\",\"Documentary\",\"Crime\",\"Drama\",\"Film-Noir\",\"Comedy\",\"Drama\",\"Drama\",\"Documentary\",\"Comedy\",\"Crime\",\"Action\",\"Horror\",\"Thriller\",\"Action\",\"Comedy\",\"Western\",\"Action\",\"Comedy\",\"Comedy\",\"Comedy\",\"Drama\",\"Action\",\"Adventure\",\"Children\",\"Fantasy\",\"Adventure\",\"Children\",\"Comedy\",\"Comedy\",\"Crime\",\"Horror\",\"Mystery\",\"Thriller\",\"Horror\",\"Sci-Fi\",\"Thriller\",\"Comedy\",\"Romance\",\"Comedy\",\"Romance\",\"Drama\",\"Thriller\",\"Drama\",\"Drama\",\"Romance\",\"Action\",\"Adventure\",\"Drama\",\"Sci-Fi\",\"Comedy\",\"Drama\",\"Adventure\",\"Sci-Fi\",\"Horror\",\"Sci-Fi\",\"Comedy\",\"Romance\",\"Comedy\",\"Horror\",\"Sci-Fi\",\"Drama\",\"Fantasy\",\"Musical\",\"Romance\",\"Comedy\",\"Crime\",\"Comedy\",\"Crime\",\"Action\",\"Adventure\",\"Horror\",\"Romance\",\"Comedy\",\"Drama\",\"Fantasy\",\"Documentary\",\"Drama\",\"Romance\",\"Drama\",\"Comedy\",\"Drama\",\"Drama\",\"Sci-Fi\",\"Documentary\",\"Drama\",\"Romance\",\"Action\",\"Comedy\",\"Crime\",\"Fantasy\",\"Comedy\",\"Romance\",\"Comedy\",\"Drama\",\"Comedy\",\"Drama\",\"Romance\",\"Drama\",\"Western\",\"Documentary\",\"Horror\",\"Thriller\",\"Comedy\",\"Drama\",\"Musical\",\"Romance\",\"Drama\",\"Comedy\",\"Comedy\",\"Crime\",\"Drama\",\"Thriller\",\"Drama\",\"Horror\",\"Thriller\",\"Comedy\",\"Crime\",\"Drama\",\"Action\",\"Adventure\",\"Crime\",\"Thriller\",\"Comedy\",\"Drama\",\"Romance\",\"Comedy\",\"Drama\",\"Romance\",\"Animation\",\"Drama\",\"Romance\",\"Horror\",\"Comedy\",\"Action\",\"Comedy\",\"Crime\",\"Action\",\"Adventure\",\"Drama\",\"Action\",\"Romance\",\"Action\",\"Comedy\",\"Crime\",\"Drama\",\"Horror\",\"Sci-Fi\",\"Thriller\",\"Comedy\",\"Musical\",\"Romance\",\"Comedy\",\"Romance\",\"Sci-Fi\",\"Thriller\",\"Comedy\",\"Horror\",\"Horror\",\"Romance\",\"Horror\",\"Comedy\",\"Drama\",\"Romance\",\"Drama\",\"Thriller\",\"Drama\",\"Children\",\"Comedy\",\"Drama\",\"Action\",\"Fantasy\",\"Horror\",\"Comedy\",\"Horror\",\"Adventure\",\"Drama\",\"Comedy\",\"Crime\",\"Action\",\"Adventure\",\"Comedy\",\"Comedy\",\"Drama\",\"Romance\",\"Drama\",\"Comedy\",\"Drama\",\"Romance\",\"Documentary\",\"Animation\",\"Comedy\",\"Fantasy\",\"Fantasy\",\"Horror\",\"Sci-Fi\",\"Thriller\",\"Documentary\",\"Comedy\",\"Drama\",\"Musical\",\"Romance\",\"Drama\",\"Documentary\",\"Comedy\",\"Musical\",\"Comedy\",\"Drama\",\"Comedy\",\"Musical\",\"Romance\",\"Western\",\"Drama\",\"Drama\",\"Thriller\",\"Comedy\",\"Drama\",\"Romance\",\"Drama\",\"Mystery\",\"Romance\",\"Drama\",\"Fantasy\",\"Sci-Fi\",\"Drama\",\"Children\",\"Comedy\",\"Drama\",\"Children\",\"Comedy\",\"Crime\",\"Drama\",\"Crime\",\"Drama\",\"Children\",\"Comedy\",\"Crime\",\"Musical\",\"Action\",\"Crime\",\"Horror\",\"Mystery\",\"Thriller\",\"Comedy\",\"Crime\",\"Comedy\",\"Action\",\"Adventure\",\"War\",\"Thriller\",\"Drama\",\"Thriller\",\"Comedy\",\"Action\",\"Comedy\",\"Thriller\",\"Action\",\"Comedy\",\"Comedy\",\"Adventure\",\"Drama\",\"Drama\",\"War\",\"Drama\",\"Horror\",\"Thriller\",\"Comedy\",\"Comedy\",\"Drama\",\"Action\",\"Horror\",\"Sci-Fi\",\"Sci-Fi\",\"Comedy\",\"Drama\",\"Romance\",\"Drama\",\"Fantasy\",\"Musical\",\"Comedy\",\"Drama\",\"Drama\",\"Romance\",\"Crime\",\"Drama\",\"Comedy\",\"Drama\",\"Musical\",\"Action\",\"Adventure\",\"Animation\",\"Fantasy\",\"Drama\",\"Crime\",\"Drama\",\"Crime\",\"Drama\",\"Thriller\",\"Comedy\",\"Musical\",\"Comedy\",\"Drama\",\"Crime\",\"Drama\",\"Mystery\",\"Thriller\",\"Crime\",\"Documentary\",\"Crime\",\"Drama\",\"Mystery\",\"Action\",\"Horror\",\"Comedy\",\"Romance\",\"Action\",\"Crime\",\"Thriller\",\"Drama\",\"Thriller\",\"Horror\",\"Comedy\",\"Drama\",\"Action\",\"Adventure\",\"Sci-Fi\",\"Drama\",\"Romance\",\"Crime\",\"Drama\",\"Thriller\",\"Crime\",\"Drama\",\"Mystery\",\"Romance\",\"Thriller\",\"Drama\",\"Romance\",\"War\",\"Drama\",\"Comedy\",\"Horror\",\"Adventure\",\"Animation\",\"Children\",\"Drama\",\"Action\",\"Comedy\",\"Crime\",\"Drama\",\"Sci-Fi\",\"Adventure\",\"Comedy\",\"Drama\",\"Fantasy\",\"Mystery\",\"Sci-Fi\",\"Thriller\",\"Thriller\",\"Musical\",\"Comedy\",\"Musical\",\"Romance\",\"Drama\",\"Crime\",\"Thriller\",\"Drama\",\"Romance\",\"Thriller\",\"Crime\",\"Drama\",\"Action\",\"Adventure\",\"Sci-Fi\",\"Thriller\",\"IMAX\",\"Documentary\",\"Children\",\"Comedy\",\"Fantasy\",\"Documentary\",\"Drama\",\"Romance\",\"Comedy\",\"Drama\",\"Romance\",\"Comedy\",\"Documentary\",\"Action\",\"Animation\",\"Children\",\"Fantasy\",\"Adventure\",\"Drama\",\"War\",\"Documentary\",\"Comedy\",\"Mystery\",\"Sci-Fi\",\"Adventure\",\"Thriller\",\"Western\",\"Children\",\"Comedy\",\"Horror\",\"Thriller\",\"Crime\",\"Drama\",\"Mystery\",\"Romance\",\"Thriller\",\"Comedy\",\"Crime\",\"Drama\",\"Mystery\",\"Romance\",\"Comedy\",\"Crime\",\"Children\",\"Comedy\",\"Fantasy\",\"Horror\",\"Action\",\"Adventure\",\"Sci-Fi\",\"Drama\",\"Documentary\",\"Documentary\",\"Documentary\",\"Action\",\"Crime\",\"Fantasy\",\"Sci-Fi\",\"Thriller\",\"Horror\",\"Mystery\",\"Drama\",\"Sci-Fi\",\"Comedy\",\"Romance\",\"Drama\",\"Thriller\",\"Drama\",\"Romance\",\"Thriller\",\"Comedy\",\"Crime\",\"Drama\",\"Horror\",\"Thriller\",\"Comedy\",\"Drama\",\"Drama\",\"Sci-Fi\",\"Thriller\",\"Drama\",\"Drama\",\"War\",\"Drama\",\"Romance\",\"Drama\",\"Drama\",\"Adventure\",\"Drama\",\"Romance\",\"Crime\",\"Fantasy\",\"Horror\",\"Crime\",\"Drama\",\"Thriller\",\"Action\",\"Adventure\",\"Comedy\",\"Crime\",\"Drama\",\"Comedy\",\"Drama\",\"Comedy\",\"Drama\",\"Romance\",\"Action\",\"Comedy\",\"Action\",\"Sci-Fi\",\"Crime\",\"Drama\",\"Drama\",\"Comedy\",\"Romance\",\"Action\",\"Adventure\",\"Comedy\",\"Horror\",\"Mystery\",\"Sci-Fi\",\"Thriller\",\"Action\",\"Comedy\",\"Crime\",\"Thriller\",\"Comedy\",\"Action\",\"Comedy\",\"Crime\",\"Drama\",\"Thriller\",\"Drama\",\"Romance\",\"Drama\",\"Drama\",\"Romance\",\"Comedy\",\"Fantasy\",\"Drama\",\"Film-Noir\",\"Thriller\",\"Comedy\",\"Romance\",\"Action\",\"Drama\",\"Action\",\"Thriller\",\"Crime\",\"Drama\",\"Thriller\",\"Comedy\",\"Drama\",\"Comedy\",\"Drama\",\"Romance\",\"Action\",\"Drama\",\"Horror\",\"Thriller\",\"Comedy\",\"Drama\",\"Romance\",\"Drama\",\"Drama\",\"War\",\"Comedy\",\"Action\",\"Western\",\"Comedy\",\"Crime\",\"Drama\",\"Action\",\"Crime\",\"Drama\",\"Thriller\",\"Drama\",\"Romance\",\"Thriller\",\"Comedy\",\"Romance\",\"Drama\",\"Romance\",\"Comedy\",\"Fantasy\",\"Comedy\",\"Drama\",\"Drama\",\"Romance\",\"Action\",\"Crime\",\"Drama\",\"Thriller\",\"Comedy\",\"Crime\",\"Crime\",\"Drama\",\"Mystery\",\"Romance\",\"Thriller\",\"Children\",\"Fantasy\",\"Comedy\",\"Fantasy\",\"Horror\",\"Thriller\",\"Action\",\"Crime\",\"Drama\",\"Action\",\"Adventure\",\"Comedy\",\"Crime\",\"Comedy\",\"Musical\",\"Romance\",\"Comedy\",\"Musical\",\"Romance\",\"Comedy\",\"Drama\",\"Comedy\",\"Musical\",\"Romance\",\"Drama\",\"Comedy\",\"Musical\",\"Romance\",\"Action\",\"Crime\",\"Drama\",\"Comedy\",\"Fantasy\",\"Romance\",\"Comedy\",\"Children\",\"Drama\",\"Drama\",\"Musical\",\"Drama\",\"Romance\",\"Drama\",\"Adventure\",\"Drama\",\"Drama\",\"Fantasy\",\"Drama\",\"War\",\"Comedy\",\"Drama\",\"Fantasy\",\"Romance\",\"Drama\",\"Action\",\"Adventure\",\"Western\",\"Drama\",\"Action\",\"Drama\",\"Romance\",\"Western\",\"Comedy\",\"Crime\",\"Mystery\",\"Comedy\",\"Adventure\",\"Comedy\",\"Musical\",\"Action\",\"Crime\",\"Drama\",\"Thriller\",\"Drama\",\"Drama\",\"Drama\",\"Musical\",\"Romance\",\"Comedy\",\"Romance\",\"Drama\",\"Comedy\",\"Romance\",\"Comedy\",\"Romance\",\"Comedy\",\"Drama\",\"Adventure\",\"Drama\",\"Drama\",\"Romance\",\"Comedy\",\"Drama\",\"Action\",\"Adventure\",\"Drama\",\"Comedy\",\"Drama\",\"Romance\",\"Comedy\",\"Documentary\",\"Adventure\",\"Animation\",\"Drama\",\"Fantasy\",\"Sci-Fi\",\"Comedy\",\"Romance\",\"Comedy\",\"Crime\",\"Drama\",\"Comedy\",\"Comedy\",\"War\",\"Comedy\",\"Thriller\",\"Action\",\"Crime\",\"Drama\",\"Drama\",\"Romance\",\"Drama\",\"Horror\",\"Thriller\",\"Horror\",\"Mystery\",\"Thriller\",\"Horror\",\"Mystery\",\"Thriller\",\"Comedy\",\"Horror\",\"Animation\",\"Drama\",\"Sci-Fi\",\"War\",\"Comedy\",\"Romance\",\"Comedy\",\"Drama\",\"War\",\"Drama\",\"Fantasy\",\"Mystery\",\"Sci-Fi\",\"Documentary\",\"Drama\",\"Action\",\"Drama\",\"Thriller\",\"Drama\",\"Comedy\",\"Musical\",\"Romance\",\"Drama\",\"Thriller\",\"Comedy\",\"Drama\",\"Romance\",\"Drama\",\"Romance\",\"Documentary\",\"Drama\",\"Romance\",\"Action\",\"Adventure\",\"Drama\",\"War\",\"Drama\",\"Fantasy\",\"Romance\",\"Comedy\",\"Drama\",\"Romance\",\"Comedy\",\"Drama\",\"Romance\",\"Action\",\"Adventure\",\"Drama\",\"Fantasy\",\"Drama\",\"Romance\",\"Comedy\",\"Documentary\",\"War\",\"Drama\",\"Crime\",\"Drama\",\"Children\",\"Comedy\",\"Drama\",\"Romance\",\"War\",\"Action\",\"Sci-Fi\",\"Thriller\",\"Action\",\"Adventure\",\"Children\",\"Fantasy\",\"Drama\",\"Musical\",\"Drama\",\"Comedy\",\"Romance\",\"Documentary\",\"Comedy\",\"Romance\",\"Action\",\"Crime\",\"Drama\",\"Drama\",\"Drama\",\"Drama\",\"Romance\",\"Drama\",\"Drama\",\"Romance\",\"Drama\",\"Comedy\",\"Action\",\"Action\",\"Comedy\",\"Horror\",\"Adventure\",\"Comedy\",\"Drama\",\"Horror\",\"Comedy\",\"Comedy\",\"Romance\",\"Comedy\",\"Romance\",\"Adventure\",\"Drama\",\"Romance\",\"Thriller\",\"War\",\"Crime\",\"Drama\",\"Film-Noir\",\"Thriller\",\"Crime\",\"Drama\",\"Film-Noir\",\"Romance\",\"Thriller\",\"Drama\",\"Western\",\"Drama\",\"Comedy\",\"Drama\",\"Drama\",\"Film-Noir\",\"Mystery\",\"Documentary\",\"Animation\",\"Comedy\",\"Fantasy\",\"Drama\",\"Action\",\"Comedy\",\"Crime\",\"Drama\",\"Horror\",\"Thriller\",\"Sci-Fi\",\"Drama\",\"War\",\"Drama\",\"Horror\",\"Thriller\",\"Adventure\",\"Children\",\"Comedy\",\"Fantasy\",\"Musical\",\"Action\",\"Adventure\",\"Drama\",\"War\",\"Drama\",\"Drama\",\"Sci-Fi\",\"Thriller\",\"Comedy\",\"Romance\",\"Adventure\",\"Documentary\",\"Comedy\",\"Crime\",\"Thriller\",\"Comedy\",\"Crime\",\"Drama\",\"Musical\",\"Comedy\",\"Drama\",\"Romance\",\"Comedy\",\"Action\",\"Adventure\",\"Children\",\"Comedy\",\"Crime\",\"Drama\",\"Comedy\",\"Romance\",\"Drama\",\"Comedy\",\"Horror\",\"Sci-Fi\",\"Comedy\",\"Horror\",\"Thriller\",\"Drama\",\"Comedy\",\"War\",\"Comedy\",\"Romance\",\"Comedy\",\"Comedy\",\"Drama\",\"Drama\",\"Drama\",\"Action\",\"Adventure\",\"Fantasy\",\"Drama\",\"War\",\"Animation\",\"Comedy\",\"Fantasy\",\"Musical\",\"Crime\",\"Drama\",\"Mystery\",\"Thriller\",\"Comedy\",\"Crime\",\"Mystery\",\"Action\",\"Adventure\",\"Drama\",\"War\",\"Adventure\",\"Comedy\",\"Action\",\"Drama\",\"Romance\",\"Comedy\",\"Drama\",\"Comedy\",\"Drama\",\"Comedy\",\"Adventure\",\"Comedy\",\"Drama\",\"Comedy\",\"Horror\",\"Romance\",\"Thriller\",\"Comedy\",\"Drama\",\"Adventure\",\"Drama\",\"Action\",\"Comedy\",\"Crime\",\"Thriller\",\"Crime\",\"Drama\",\"Drama\",\"Drama\",\"Crime\",\"Drama\",\"Thriller\",\"Film-Noir\",\"Drama\",\"War\",\"Comedy\",\"Comedy\",\"Crime\",\"Action\",\"Adventure\",\"Children\",\"Comedy\",\"Comedy\",\"Romance\",\"Mystery\",\"Thriller\",\"Thriller\",\"Drama\",\"Comedy\",\"Drama\",\"Romance\",\"Comedy\",\"Drama\",\"Romance\",\"Drama\",\"Romance\",\"Action\",\"Drama\",\"Horror\",\"Thriller\",\"Drama\",\"Romance\",\"Sci-Fi\",\"Crime\",\"Drama\",\"Thriller\",\"Comedy\",\"Crime\",\"Drama\",\"Comedy\",\"Drama\",\"Romance\",\"Comedy\",\"Crime\",\"Crime\",\"Drama\",\"Thriller\",\"Action\",\"Adventure\",\"Children\",\"Comedy\",\"Mystery\",\"Drama\",\"Mystery\",\"Thriller\",\"Drama\",\"Action\",\"Adventure\",\"Fantasy\",\"Horror\",\"Comedy\",\"Romance\",\"Action\",\"Crime\",\"Drama\",\"Drama\",\"War\",\"Western\",\"Comedy\",\"Fantasy\",\"Romance\",\"Action\",\"Comedy\",\"Crime\",\"Drama\",\"Mystery\",\"Thriller\",\"Adventure\",\"Drama\",\"Action\",\"Drama\",\"Horror\",\"Drama\",\"Musical\",\"Action\",\"Adventure\",\"Comedy\",\"Comedy\",\"Drama\",\"Drama\",\"Comedy\",\"Horror\",\"Comedy\",\"Drama\",\"Comedy\",\"Thriller\",\"Action\",\"Drama\",\"Thriller\",\"Action\",\"Crime\",\"Thriller\",\"Documentary\",\"Documentary\",\"Comedy\",\"Fantasy\",\"Romance\",\"Action\",\"Crime\",\"Drama\",\"Mystery\",\"Thriller\",\"Comedy\",\"Drama\",\"Horror\",\"Thriller\",\"Comedy\",\"Romance\",\"Comedy\",\"Action\",\"Adventure\",\"Fantasy\",\"Horror\",\"Drama\",\"Comedy\",\"Romance\",\"Action\",\"Adventure\",\"Drama\",\"War\",\"Crime\",\"Drama\",\"Comedy\",\"Drama\",\"Horror\",\"Thriller\",\"Drama\",\"Adventure\",\"Drama\",\"Sci-Fi\",\"Action\",\"Crime\",\"Drama\",\"Romance\",\"Drama\",\"Drama\",\"Horror\",\"Drama\",\"Comedy\",\"Romance\",\"Drama\",\"Thriller\",\"War\",\"Fantasy\",\"Horror\",\"Thriller\",\"Action\",\"Crime\",\"Horror\",\"Documentary\",\"Action\",\"Adventure\",\"Sci-Fi\",\"Thriller\",\"Action\",\"Adventure\",\"Thriller\",\"Drama\",\"Action\",\"Adventure\",\"Thriller\",\"Comedy\",\"Drama\",\"Romance\",\"Drama\",\"Comedy\",\"Romance\",\"Crime\",\"Drama\",\"Thriller\",\"Musical\",\"Romance\",\"Western\",\"Drama\",\"Mystery\",\"Thriller\",\"Drama\",\"Drama\",\"Comedy\",\"Drama\",\"Drama\",\"Horror\",\"Thriller\",\"Horror\",\"Mystery\",\"Thriller\",\"Comedy\",\"Adventure\",\"Sci-Fi\",\"Horror\",\"Action\",\"Comedy\",\"Fantasy\",\"Horror\",\"Drama\",\"Romance\",\"Drama\",\"Thriller\",\"Action\",\"Adventure\",\"Drama\",\"Thriller\",\"Comedy\",\"Romance\",\"Drama\",\"Action\",\"Comedy\",\"Romance\",\"Comedy\",\"Musical\",\"Comedy\",\"Drama\",\"Romance\",\"Comedy\",\"Fantasy\",\"Drama\",\"Horror\",\"Romance\",\"Thriller\",\"Drama\",\"Musical\",\"Romance\",\"Comedy\",\"Action\",\"Adventure\",\"Comedy\",\"Romance\",\"Comedy\",\"Crime\",\"Drama\",\"Film-Noir\",\"Thriller\",\"Comedy\",\"Drama\",\"Drama\",\"Horror\",\"Adventure\",\"Children\",\"Sci-Fi\",\"Drama\",\"Crime\",\"Drama\",\"Drama\",\"Drama\",\"Action\",\"Drama\",\"War\",\"Action\",\"Adventure\",\"Fantasy\",\"Drama\",\"Thriller\",\"Action\",\"Drama\",\"Thriller\",\"War\",\"Drama\",\"Film-Noir\",\"Thriller\",\"Drama\",\"Comedy\",\"Action\",\"Drama\",\"Documentary\",\"Drama\",\"Thriller\",\"Action\",\"Adventure\",\"Crime\",\"Thriller\",\"Adventure\",\"Sci-Fi\",\"Drama\",\"Sci-Fi\",\"Drama\",\"Sci-Fi\",\"Comedy\",\"Musical\",\"Crime\",\"Drama\",\"Adventure\",\"Drama\",\"Romance\",\"Comedy\",\"Romance\",\"Thriller\",\"Comedy\",\"Crime\",\"Drama\",\"Mystery\",\"Romance\",\"Comedy\",\"Crime\",\"Mystery\",\"Comedy\",\"Crime\",\"Mystery\",\"Comedy\",\"Crime\",\"Mystery\",\"Romance\",\"Comedy\",\"Crime\",\"Drama\",\"Musical\",\"Mystery\",\"Romance\",\"Comedy\",\"Adventure\",\"Comedy\",\"War\",\"Fantasy\",\"Sci-Fi\",\"Drama\",\"Fantasy\",\"Sci-Fi\",\"Comedy\",\"Action\",\"Comedy\",\"Comedy\",\"Horror\",\"Sci-Fi\",\"Comedy\",\"Horror\",\"Sci-Fi\",\"Comedy\",\"Horror\",\"Drama\",\"Horror\",\"Comedy\",\"Comedy\",\"Musical\",\"Western\",\"Drama\",\"Horror\",\"Sci-Fi\",\"Action\",\"Western\",\"Crime\",\"Drama\",\"Thriller\",\"Adventure\",\"Drama\",\"Western\",\"Action\",\"Drama\",\"Horror\",\"Sci-Fi\",\"Comedy\",\"Comedy\",\"Crime\",\"Drama\",\"Film-Noir\",\"Thriller\",\"Action\",\"Adventure\",\"Crime\",\"Drama\",\"Film-Noir\",\"Thriller\",\"Horror\",\"Mystery\",\"Thriller\",\"Documentary\",\"Comedy\",\"Drama\",\"War\",\"Drama\",\"Drama\",\"Drama\",\"Drama\",\"Crime\",\"Film-Noir\",\"Drama\",\"Thriller\",\"Fantasy\",\"Horror\",\"Drama\",\"Documentary\",\"Musical\",\"Action\",\"Drama\",\"War\",\"Crime\",\"Drama\",\"Thriller\",\"Drama\",\"Horror\",\"Mystery\",\"Thriller\",\"Comedy\",\"Horror\",\"Sci-Fi\",\"Sci-Fi\",\"Horror\",\"Comedy\",\"Sci-Fi\",\"Action\",\"Sci-Fi\",\"Comedy\",\"Horror\",\"Fantasy\",\"Musical\",\"Romance\",\"Drama\",\"Documentary\",\"Comedy\",\"Drama\",\"Drama\",\"Adventure\",\"Animation\",\"Children\",\"Fantasy\",\"Action\",\"Crime\",\"Drama\",\"Thriller\",\"Drama\",\"Horror\",\"Mystery\",\"Thriller\",\"Comedy\",\"Drama\",\"Romance\",\"Drama\",\"Comedy\",\"Crime\",\"Romance\",\"Crime\",\"Horror\",\"Thriller\",\"Crime\",\"Drama\",\"Comedy\",\"Drama\",\"Crime\",\"Drama\",\"Film-Noir\",\"Action\",\"Drama\",\"War\",\"Drama\",\"Drama\",\"Horror\",\"Sci-Fi\",\"Action\",\"Drama\",\"Romance\",\"Thriller\",\"Drama\",\"Thriller\",\"Western\",\"Action\",\"Comedy\",\"Action\",\"Adventure\",\"Thriller\",\"War\",\"Drama\",\"Comedy\",\"Drama\",\"Romance\",\"Drama\",\"Drama\",\"Comedy\",\"Romance\",\"Action\",\"Drama\",\"Crime\",\"Horror\",\"Sci-Fi\",\"Horror\",\"Sci-Fi\",\"Horror\",\"Sci-Fi\",\"Action\",\"Crime\",\"Drama\",\"Drama\",\"Sci-Fi\",\"Drama\",\"Drama\",\"Animation\",\"Fantasy\",\"Thriller\",\"Crime\",\"Drama\",\"Action\",\"Adventure\",\"Romance\",\"Children\",\"Comedy\",\"Fantasy\",\"Sci-Fi\",\"Comedy\",\"Drama\",\"Drama\",\"Comedy\",\"Comedy\",\"Drama\",\"War\",\"Drama\",\"Drama\",\"Mystery\",\"Romance\",\"Comedy\",\"Horror\",\"Drama\",\"Romance\",\"War\",\"Drama\",\"Thriller\",\"Crime\",\"Thriller\",\"Horror\",\"Mystery\",\"Comedy\",\"Drama\",\"Action\",\"Comedy\",\"Romance\",\"Drama\",\"Film-Noir\",\"Comedy\",\"Crime\",\"Comedy\",\"Drama\",\"Action\",\"Comedy\",\"Thriller\",\"Action\",\"Adventure\",\"Animation\",\"Comedy\",\"Crime\",\"Mystery\",\"Comedy\",\"Drama\",\"Fantasy\",\"Romance\",\"Drama\",\"Documentary\",\"Drama\",\"Musical\",\"Action\",\"Thriller\",\"Comedy\",\"Drama\",\"Romance\",\"Comedy\",\"Action\",\"Crime\",\"Comedy\",\"Drama\",\"Comedy\",\"Drama\",\"Romance\",\"Drama\",\"Romance\",\"Comedy\",\"Drama\",\"Comedy\",\"Romance\",\"Drama\",\"War\",\"Drama\",\"Drama\",\"Thriller\",\"Adventure\",\"Crime\",\"Drama\",\"Adventure\",\"Animation\",\"Children\",\"Comedy\",\"Musical\",\"Romance\",\"Action\",\"Adventure\",\"Drama\",\"Sci-Fi\",\"Thriller\",\"Comedy\",\"Drama\",\"Romance\",\"Comedy\",\"Drama\",\"Comedy\",\"Drama\",\"Adventure\",\"Fantasy\",\"IMAX\",\"Action\",\"Crime\",\"Horror\",\"Mystery\",\"Thriller\",\"Action\",\"Comedy\",\"Crime\",\"Drama\",\"Action\",\"Sci-Fi\",\"Thriller\",\"Animation\",\"Children\",\"Comedy\",\"Comedy\",\"Fantasy\",\"Thriller\",\"Documentary\",\"Comedy\",\"Drama\",\"Drama\",\"Comedy\",\"Comedy\",\"Comedy\",\"Romance\",\"Comedy\",\"Romance\",\"Comedy\",\"Crime\",\"Comedy\",\"Drama\",\"Comedy\",\"Romance\",\"Drama\",\"Horror\",\"Crime\",\"Drama\",\"Film-Noir\",\"Drama\",\"Romance\",\"Comedy\",\"Animation\",\"Comedy\",\"Drama\",\"Fantasy\",\"Sci-Fi\",\"Comedy\",\"Sci-Fi\",\"Action\",\"Drama\",\"Romance\",\"War\",\"Sci-Fi\",\"Adventure\",\"Romance\",\"Drama\",\"Comedy\",\"Drama\",\"Fantasy\",\"Crime\",\"Drama\",\"Thriller\",\"Drama\",\"Drama\",\"Romance\",\"Drama\",\"War\",\"Drama\",\"Drama\",\"Comedy\",\"Documentary\",\"Drama\",\"Crime\",\"Drama\",\"Film-Noir\",\"Romance\",\"Romance\",\"Sci-Fi\",\"Action\",\"Adventure\",\"Drama\",\"Romance\",\"Thriller\",\"Western\",\"Drama\",\"Fantasy\",\"Horror\",\"Drama\",\"War\",\"Children\",\"Comedy\",\"Musical\",\"Crime\",\"Drama\",\"Film-Noir\",\"Drama\",\"Fantasy\",\"Action\",\"Drama\",\"War\",\"Drama\",\"Crime\",\"Drama\",\"Action\",\"Horror\",\"Sci-Fi\",\"Action\",\"Thriller\",\"Drama\",\"Musical\",\"Romance\",\"Mystery\",\"Thriller\",\"Crime\",\"Drama\",\"Horror\",\"Comedy\",\"Comedy\",\"Drama\",\"Drama\",\"Horror\",\"Adventure\",\"Children\",\"Comedy\",\"Comedy\",\"Comedy\",\"Drama\",\"Romance\",\"Drama\",\"Romance\",\"Action\",\"Comedy\",\"Crime\",\"Drama\",\"Drama\",\"Romance\",\"Adventure\",\"Children\",\"Drama\",\"Drama\",\"Musical\",\"Comedy\",\"Musical\",\"Comedy\",\"Drama\",\"Animation\",\"Children\",\"Comedy\",\"Musical\",\"Comedy\",\"Drama\",\"Documentary\",\"Action\",\"Comedy\",\"Horror\",\"Sci-Fi\",\"Adventure\",\"Comedy\",\"Fantasy\",\"Musical\",\"Documentary\",\"Drama\",\"Documentary\",\"War\",\"Documentary\",\"Drama\",\"Mystery\",\"Romance\",\"Thriller\",\"Adventure\",\"Drama\",\"Sci-Fi\",\"Action\",\"Crime\",\"Drama\",\"Thriller\",\"Comedy\",\"Crime\",\"Crime\",\"Drama\",\"Film-Noir\",\"Thriller\",\"Comedy\",\"Drama\",\"Action\",\"Comedy\",\"Action\",\"Comedy\",\"Adventure\",\"Animation\",\"Drama\",\"Comedy\",\"Comedy\",\"Fantasy\",\"Comedy\",\"Comedy\",\"Romance\",\"Drama\",\"Comedy\",\"Drama\",\"Fantasy\",\"Mystery\",\"Documentary\",\"Comedy\",\"Romance\",\"Horror\",\"Sci-Fi\",\"Comedy\",\"Action\",\"Adventure\",\"Comedy\",\"Sci-Fi\",\"Action\",\"Adventure\",\"Sci-Fi\",\"IMAX\",\"Drama\",\"Romance\",\"Action\",\"Adventure\",\"Drama\",\"War\",\"Comedy\",\"Comedy\",\"Romance\",\"Action\",\"Adventure\",\"Sci-Fi\",\"Thriller\",\"Crime\",\"Drama\",\"Drama\",\"Crime\",\"Drama\",\"Action\",\"Crime\",\"Thriller\",\"Action\",\"Crime\",\"Fantasy\",\"Drama\",\"Romance\",\"Crime\",\"Horror\",\"Mystery\",\"Thriller\",\"Action\",\"Sci-Fi\",\"Adventure\",\"Drama\",\"Comedy\",\"Drama\",\"Comedy\",\"Drama\",\"Sci-Fi\",\"War\",\"Comedy\",\"Comedy\",\"Comedy\",\"Romance\",\"Adventure\",\"Children\",\"Fantasy\",\"Musical\",\"Drama\",\"Musical\",\"Drama\",\"Comedy\",\"Drama\",\"War\",\"Drama\",\"Action\",\"Drama\",\"War\",\"Comedy\",\"Drama\",\"Musical\",\"Romance\",\"Adventure\",\"Fantasy\",\"Sci-Fi\",\"Comedy\",\"Documentary\",\"Drama\",\"Documentary\",\"Crime\",\"Film-Noir\",\"Thriller\",\"Crime\",\"Mystery\",\"Thriller\",\"Drama\",\"Thriller\",\"Crime\",\"Mystery\",\"Thriller\",\"Mystery\",\"Crime\",\"Mystery\",\"Thriller\",\"Action\",\"Adventure\",\"Fantasy\",\"Sci-Fi\",\"Drama\",\"Mystery\",\"Thriller\",\"Comedy\",\"Drama\",\"Romance\",\"Action\",\"Adventure\",\"Drama\",\"War\",\"Comedy\",\"Musical\",\"Action\",\"Crime\",\"Drama\",\"Thriller\",\"Comedy\",\"Romance\",\"Romance\",\"Sci-Fi\",\"Drama\",\"Adventure\",\"Comedy\",\"Comedy\",\"Romance\",\"Comedy\",\"Romance\",\"Action\",\"Horror\",\"Sci-Fi\",\"Thriller\",\"Drama\",\"Comedy\",\"Horror\",\"Thriller\",\"Comedy\",\"Documentary\",\"Adventure\",\"Drama\",\"Horror\",\"Sci-Fi\",\"Thriller\",\"Crime\",\"Thriller\",\"Action\",\"Adventure\",\"Drama\",\"Drama\",\"Romance\",\"Drama\",\"Thriller\",\"Drama\",\"Romance\",\"Thriller\",\"Drama\",\"Romance\",\"Drama\",\"Drama\",\"Drama\",\"Action\",\"Crime\",\"Drama\",\"Mystery\",\"Thriller\",\"Action\",\"Horror\",\"Sci-Fi\",\"Thriller\",\"Comedy\",\"Drama\",\"Action\",\"Adventure\",\"Sci-Fi\",\"Comedy\",\"Romance\",\"Comedy\",\"Romance\",\"Drama\",\"Mystery\",\"Sci-Fi\",\"Thriller\",\"Adventure\",\"Drama\",\"Comedy\",\"Horror\",\"Drama\",\"Crime\",\"Mystery\",\"Thriller\",\"Drama\",\"Action\",\"Drama\",\"Horror\",\"Thriller\",\"Adventure\",\"Drama\",\"Horror\",\"Animation\",\"Children\",\"Comedy\",\"Action\",\"Drama\",\"Thriller\",\"Comedy\",\"Romance\",\"Action\",\"Comedy\",\"Drama\",\"Sci-Fi\",\"Drama\",\"Comedy\",\"Romance\",\"Action\",\"Adventure\",\"Animation\",\"Comedy\",\"Comedy\",\"Crime\",\"Drama\",\"Comedy\",\"Drama\",\"Fantasy\",\"Romance\",\"Drama\",\"Drama\",\"Romance\",\"Comedy\",\"Horror\",\"Comedy\",\"Drama\",\"Animation\",\"Children\",\"Comedy\",\"Action\",\"Drama\",\"Documentary\",\"Sci-Fi\",\"Thriller\",\"Comedy\",\"Drama\",\"Comedy\",\"Horror\",\"Mystery\",\"Thriller\",\"Comedy\",\"Drama\",\"Romance\",\"Comedy\",\"Drama\",\"Romance\",\"Drama\",\"Mystery\",\"Thriller\",\"Drama\",\"Drama\",\"Documentary\",\"Crime\",\"Drama\",\"Thriller\",\"Horror\",\"Mystery\",\"Thriller\",\"Drama\",\"Drama\",\"Mystery\",\"Action\",\"Adventure\",\"Animation\",\"Children\",\"Comedy\",\"Drama\",\"Adventure\",\"Animation\",\"Children\",\"Fantasy\",\"IMAX\",\"Drama\",\"Comedy\",\"Horror\",\"Action\",\"Adventure\",\"Comedy\",\"Crime\",\"Thriller\",\"Comedy\",\"Drama\",\"Romance\",\"Drama\",\"Action\",\"Adventure\",\"Drama\",\"Mystery\",\"Thriller\",\"Drama\",\"Thriller\",\"Adventure\",\"Animation\",\"Children\",\"Comedy\",\"Action\",\"Adventure\",\"Drama\",\"War\",\"Children\",\"Comedy\",\"Documentary\",\"Drama\",\"Romance\",\"Drama\",\"Action\",\"Drama\",\"Romance\",\"Action\",\"Comedy\",\"Crime\",\"Thriller\",\"Action\",\"Fantasy\",\"Horror\",\"Thriller\",\"Documentary\",\"Comedy\",\"Musical\",\"Documentary\",\"Adventure\",\"Children\",\"Sci-Fi\",\"Drama\",\"Mystery\",\"Sci-Fi\",\"Horror\",\"Sci-Fi\",\"Drama\",\"Romance\",\"Documentary\",\"War\",\"Drama\",\"Horror\",\"Comedy\",\"Fantasy\",\"Romance\",\"Comedy\",\"Drama\",\"Drama\",\"Musical\",\"Romance\",\"Comedy\",\"Romance\",\"Fantasy\",\"Crime\",\"Drama\",\"Comedy\",\"Crime\",\"Drama\",\"Comedy\",\"Drama\",\"Romance\",\"Musical\",\"Comedy\",\"Drama\",\"Romance\",\"Drama\",\"Film-Noir\",\"Comedy\",\"Romance\",\"Comedy\",\"Romance\",\"Drama\",\"Romance\",\"Adventure\",\"Drama\",\"Drama\",\"Comedy\",\"Drama\",\"Romance\",\"Crime\",\"Drama\",\"Thriller\",\"Drama\",\"Romance\",\"Drama\",\"Film-Noir\",\"Comedy\",\"Fantasy\",\"Romance\",\"Drama\",\"Romance\",\"Comedy\",\"Drama\",\"Drama\",\"Comedy\",\"Romance\",\"Drama\",\"Romance\",\"Drama\",\"Drama\",\"Film-Noir\",\"Thriller\",\"Musical\",\"Romance\",\"Drama\",\"Film-Noir\",\"Mystery\",\"Action\",\"Adventure\",\"Drama\",\"Romance\",\"Comedy\",\"Comedy\",\"Drama\",\"Comedy\",\"Musical\",\"Romance\",\"Western\",\"Action\",\"Adventure\",\"Romance\",\"Crime\",\"Drama\",\"Drama\",\"Musical\",\"Drama\",\"Crime\",\"Drama\",\"Mystery\",\"Thriller\",\"Crime\",\"Documentary\",\"War\",\"Comedy\",\"Romance\",\"Drama\",\"War\",\"Crime\",\"Drama\",\"Drama\",\"Drama\",\"War\",\"Drama\",\"Drama\",\"Children\",\"Comedy\",\"Musical\",\"Romance\",\"Adventure\",\"Drama\",\"Romance\",\"Comedy\",\"Drama\",\"War\",\"Horror\",\"Thriller\",\"Drama\",\"Horror\",\"War\",\"Sci-Fi\",\"Drama\",\"War\",\"Animation\",\"Children\",\"Comedy\",\"Adventure\",\"War\",\"Western\",\"Comedy\",\"Drama\",\"Romance\",\"Drama\",\"War\",\"Crime\",\"Drama\",\"Action\",\"Adventure\",\"Comedy\",\"Comedy\",\"Drama\",\"War\",\"Action\",\"Crime\",\"Drama\",\"Action\",\"Crime\",\"Drama\",\"Comedy\",\"Action\",\"Crime\",\"Drama\",\"Thriller\",\"Documentary\",\"Drama\",\"Action\",\"Adventure\",\"Animation\",\"Children\",\"Comedy\",\"Action\",\"Adventure\",\"Comedy\",\"Crime\",\"Thriller\",\"Documentary\",\"Musical\",\"Children\",\"Comedy\",\"Comedy\",\"Romance\",\"Crime\",\"Drama\",\"Thriller\",\"Action\",\"Adventure\",\"Comedy\",\"Drama\",\"Romance\",\"War\",\"Drama\",\"Romance\",\"Action\",\"Mystery\",\"Thriller\",\"Comedy\",\"Western\",\"Fantasy\",\"Western\",\"Adventure\",\"Comedy\",\"Horror\",\"Romance\",\"Crime\",\"Drama\",\"Thriller\",\"Comedy\",\"Sci-Fi\",\"Thriller\",\"Horror\",\"Thriller\",\"Drama\",\"Romance\",\"Comedy\",\"Drama\",\"Drama\",\"Romance\",\"Action\",\"Crime\",\"Drama\",\"Drama\",\"Action\",\"Adventure\",\"Animation\",\"Children\",\"Comedy\",\"Fantasy\",\"Action\",\"Crime\",\"Drama\",\"Thriller\",\"Comedy\",\"Drama\",\"Romance\",\"Drama\",\"Horror\",\"Thriller\",\"Drama\",\"War\",\"Sci-Fi\",\"Thriller\",\"Documentary\",\"Action\",\"Comedy\",\"Crime\",\"Comedy\",\"Thriller\",\"Drama\",\"Musical\",\"Romance\",\"Drama\",\"Romance\",\"Action\",\"Action\",\"Drama\",\"Horror\",\"Sci-Fi\",\"Action\",\"Comedy\",\"Comedy\",\"Drama\",\"Musical\",\"Comedy\",\"Horror\",\"Romance\",\"Adventure\",\"Comedy\",\"Sci-Fi\",\"Drama\",\"Mystery\",\"Action\",\"Crime\",\"Drama\",\"Drama\",\"Sci-Fi\",\"Comedy\",\"Documentary\",\"Adventure\",\"Drama\",\"Fantasy\",\"Horror\",\"Sci-Fi\",\"Thriller\",\"Drama\",\"Action\",\"Adventure\",\"Children\",\"Crime\",\"Mystery\",\"Thriller\",\"Adventure\",\"Children\",\"Fantasy\",\"Sci-Fi\",\"Horror\",\"Thriller\",\"Documentary\",\"Comedy\",\"Drama\",\"Children\",\"Drama\",\"Drama\",\"Adventure\",\"Children\",\"Fantasy\",\"Sci-Fi\",\"Action\",\"Comedy\",\"Crime\",\"Thriller\",\"Drama\",\"Mystery\",\"Sci-Fi\",\"Comedy\",\"Drama\",\"Drama\",\"Musical\",\"Comedy\",\"Drama\",\"Crime\",\"Drama\",\"Thriller\",\"Crime\",\"Drama\",\"Romance\",\"Action\",\"Adventure\",\"Animation\",\"Children\",\"Fantasy\",\"Sci-Fi\",\"Action\",\"Comedy\",\"Sci-Fi\",\"Comedy\",\"Drama\",\"Romance\",\"Fantasy\",\"Horror\",\"Sci-Fi\",\"Thriller\",\"Action\",\"Fantasy\",\"Horror\",\"Romance\",\"Crime\",\"Drama\",\"Thriller\",\"Action\",\"Adventure\",\"Drama\",\"Mystery\",\"Thriller\",\"Drama\",\"Comedy\",\"Horror\",\"Sci-Fi\",\"Musical\",\"Animation\",\"Fantasy\",\"Mystery\",\"Comedy\",\"Adventure\",\"Drama\",\"Western\",\"Adventure\",\"Animation\",\"Children\",\"Drama\",\"Fantasy\",\"Comedy\",\"Comedy\",\"Musical\",\"Romance\",\"Action\",\"Drama\",\"War\",\"Comedy\",\"Fantasy\",\"Drama\",\"Fantasy\",\"Horror\",\"Mystery\",\"Thriller\",\"Drama\",\"Drama\",\"Action\",\"Comedy\",\"Crime\",\"Action\",\"Animation\",\"Crime\",\"Drama\",\"Film-Noir\",\"Mystery\",\"Sci-Fi\",\"Thriller\",\"Crime\",\"Drama\",\"Thriller\",\"Documentary\",\"Drama\",\"Romance\",\"Drama\",\"Horror\",\"Comedy\",\"Documentary\",\"Comedy\",\"Action\",\"Crime\",\"Thriller\",\"Comedy\",\"Fantasy\",\"Romance\",\"Animation\",\"Drama\",\"Comedy\",\"Drama\",\"Romance\",\"Adventure\",\"Drama\",\"Western\",\"Crime\",\"Drama\",\"Mystery\",\"Romance\",\"Thriller\",\"Action\",\"Fantasy\",\"Sci-Fi\",\"Thriller\",\"War\",\"Action\",\"Comedy\",\"Romance\",\"Adventure\",\"Animation\",\"Comedy\",\"Fantasy\",\"Romance\",\"Drama\",\"Comedy\",\"Drama\",\"Musical\",\"Drama\",\"Romance\",\"Thriller\",\"War\",\"Action\",\"Adventure\",\"Children\",\"Comedy\",\"Drama\",\"Romance\",\"Documentary\",\"Drama\",\"Drama\",\"Action\",\"Sci-Fi\",\"Action\",\"Children\",\"Comedy\",\"Comedy\",\"Drama\",\"Action\",\"Comedy\",\"Crime\",\"Drama\",\"Adventure\",\"Drama\",\"Fantasy\",\"Horror\",\"Sci-Fi\",\"Action\",\"Crime\",\"Horror\",\"Comedy\",\"Sci-Fi\",\"Action\",\"Drama\",\"Comedy\",\"Comedy\",\"Romance\",\"Crime\",\"Film-Noir\",\"Mystery\",\"Thriller\",\"Drama\",\"Fantasy\",\"Horror\",\"Mystery\",\"Sci-Fi\",\"Thriller\",\"Comedy\",\"Drama\",\"Adventure\",\"Western\",\"Animation\",\"Drama\",\"Romance\",\"Action\",\"Animation\",\"Comedy\",\"Drama\",\"Romance\",\"Comedy\",\"Crime\",\"Thriller\",\"Romance\",\"Drama\",\"Thriller\",\"Drama\",\"Action\",\"Sci-Fi\",\"Adventure\",\"Animation\",\"Children\",\"Musical\",\"Romance\",\"Action\",\"Documentary\",\"Drama\",\"Thriller\",\"Action\",\"Horror\",\"Sci-Fi\",\"Drama\",\"Comedy\",\"Crime\",\"Horror\",\"Drama\",\"Romance\",\"Action\",\"Crime\",\"Thriller\",\"Action\",\"Adventure\",\"Comedy\",\"Sci-Fi\",\"Thriller\",\"Action\",\"Adventure\",\"Drama\",\"Fantasy\",\"Romance\",\"Sci-Fi\",\"Children\",\"Comedy\",\"Fantasy\",\"Fantasy\",\"Western\",\"Drama\",\"Thriller\",\"Action\",\"Crime\",\"Fantasy\",\"Horror\",\"Action\",\"Adventure\",\"Animation\",\"Children\",\"Fantasy\",\"Sci-Fi\",\"Action\",\"Animation\",\"Drama\",\"Fantasy\",\"Sci-Fi\",\"Documentary\",\"Comedy\",\"Romance\",\"Adventure\",\"Animation\",\"Children\",\"Fantasy\",\"Action\",\"Comedy\",\"Drama\",\"Romance\",\"Adventure\",\"Comedy\",\"Fantasy\",\"Drama\",\"Drama\",\"Fantasy\",\"Romance\",\"Sci-Fi\",\"Comedy\",\"Drama\",\"Action\",\"Animation\",\"Crime\",\"Sci-Fi\",\"Thriller\",\"Drama\",\"Horror\",\"Mystery\",\"Romance\",\"Thriller\",\"Comedy\",\"Drama\",\"Fantasy\",\"Action\",\"Comedy\",\"Crime\",\"Fantasy\",\"Thriller\",\"Documentary\",\"Adventure\",\"Comedy\",\"Fantasy\",\"Animation\",\"Comedy\",\"Comedy\",\"Drama\",\"Crime\",\"Drama\",\"Mystery\",\"Thriller\",\"War\",\"Drama\",\"Thriller\",\"Comedy\",\"Drama\",\"Romance\",\"Comedy\",\"Drama\",\"Romance\",\"Sci-Fi\",\"Action\",\"Comedy\",\"Thriller\",\"Horror\",\"Mystery\",\"Action\",\"Animation\",\"Horror\",\"Adventure\",\"Western\",\"Comedy\",\"Crime\",\"Horror\",\"Mystery\",\"Thriller\",\"Comedy\",\"Action\",\"Crime\",\"Thriller\",\"Horror\",\"Mystery\",\"Sci-Fi\",\"Horror\",\"Mystery\",\"Thriller\",\"Drama\",\"Comedy\",\"Romance\",\"Comedy\",\"Fantasy\",\"Mystery\",\"Sci-Fi\",\"Comedy\",\"Romance\",\"Comedy\",\"Crime\",\"Drama\",\"Sci-Fi\",\"Thriller\",\"Comedy\",\"Comedy\",\"Horror\",\"Musical\",\"Comedy\",\"Horror\",\"Mystery\",\"Thriller\",\"Crime\",\"Drama\",\"Action\",\"Comedy\",\"Horror\",\"Musical\",\"Horror\",\"Mystery\",\"Thriller\",\"Drama\",\"Sci-Fi\",\"War\",\"Action\",\"Adventure\",\"Drama\",\"Sci-Fi\",\"Thriller\",\"Adventure\",\"Animation\",\"Children\",\"Comedy\",\"Drama\",\"Romance\",\"Comedy\",\"Drama\",\"Romance\",\"Action\",\"Animation\",\"Drama\",\"Sci-Fi\",\"Drama\",\"Horror\",\"Comedy\",\"Crime\",\"Drama\",\"Mystery\",\"Thriller\",\"Action\",\"Comedy\",\"Horror\",\"Sci-Fi\",\"Thriller\",\"Western\",\"Comedy\",\"Action\",\"Crime\",\"Thriller\",\"Action\",\"Comedy\",\"Drama\",\"War\",\"Action\",\"Comedy\",\"Drama\",\"Action\",\"Drama\",\"Thriller\",\"War\",\"Action\",\"Drama\",\"Thriller\",\"Adventure\",\"Children\",\"Comedy\",\"Fantasy\",\"Action\",\"Adventure\",\"Drama\",\"Romance\",\"Comedy\",\"Crime\",\"Drama\",\"Romance\",\"Drama\",\"Mystery\",\"Romance\",\"War\",\"Drama\",\"Romance\",\"Action\",\"Animation\",\"Drama\",\"Sci-Fi\",\"Thriller\",\"Adventure\",\"Animation\",\"Children\",\"Fantasy\",\"Drama\",\"Romance\",\"Drama\",\"Romance\",\"Horror\",\"Thriller\",\"Drama\",\"Horror\",\"Mystery\",\"Thriller\",\"Comedy\",\"Drama\",\"Drama\",\"Horror\",\"Mystery\",\"Thriller\",\"Drama\",\"Fantasy\",\"Horror\",\"Horror\",\"Mystery\",\"Drama\",\"Mystery\",\"Sci-Fi\",\"Thriller\",\"Children\",\"Comedy\",\"Crime\",\"Drama\",\"Fantasy\",\"Action\",\"Horror\",\"Sci-Fi\",\"War\",\"Action\",\"Thriller\",\"Action\",\"Crime\",\"Drama\",\"Thriller\",\"Drama\",\"Comedy\",\"Drama\",\"Romance\",\"Drama\",\"Action\",\"Adventure\",\"Drama\",\"War\",\"Documentary\",\"Drama\",\"Drama\",\"Thriller\",\"Drama\",\"Thriller\",\"Comedy\",\"Drama\",\"Romance\",\"Documentary\",\"Drama\",\"Crime\",\"Drama\",\"Thriller\",\"Drama\",\"Action\",\"Adventure\",\"Drama\",\"Thriller\",\"Drama\",\"Horror\",\"Mystery\",\"Thriller\",\"Documentary\",\"Documentary\",\"Action\",\"Adventure\",\"Drama\",\"Thriller\",\"Drama\",\"Action\",\"Drama\",\"War\",\"Documentary\",\"Documentary\",\"Documentary\",\"Documentary\",\"Comedy\",\"Documentary\",\"Drama\",\"Animation\",\"Drama\",\"Mystery\",\"Sci-Fi\",\"Thriller\",\"Action\",\"Drama\",\"Fantasy\",\"Sci-Fi\",\"Documentary\",\"Drama\",\"Comedy\",\"Crime\",\"Drama\",\"Horror\",\"Mystery\",\"Drama\",\"War\",\"Adventure\",\"Children\",\"Comedy\",\"Fantasy\",\"IMAX\",\"Drama\",\"Romance\",\"Adventure\",\"Comedy\",\"Fantasy\",\"Drama\",\"Drama\",\"Musical\",\"Romance\",\"Drama\",\"Musical\",\"Drama\",\"Comedy\",\"Drama\",\"Comedy\",\"Crime\",\"Drama\",\"Thriller\",\"Drama\",\"Drama\",\"Comedy\",\"Fantasy\",\"Drama\",\"Animation\",\"Documentary\",\"Drama\",\"Horror\",\"Mystery\",\"Sci-Fi\",\"Thriller\",\"Comedy\",\"Drama\",\"Romance\",\"Comedy\",\"Drama\",\"Comedy\",\"Children\",\"Drama\",\"Drama\",\"Romance\",\"Comedy\",\"Thriller\",\"Comedy\",\"Romance\",\"Crime\",\"Drama\",\"Action\",\"Crime\",\"Drama\",\"Comedy\",\"Drama\",\"Drama\",\"War\",\"Comedy\",\"Crime\",\"Animation\",\"Fantasy\",\"Sci-Fi\",\"War\",\"Comedy\",\"Drama\",\"Action\",\"Animation\",\"Fantasy\",\"Sci-Fi\",\"Animation\",\"Children\",\"Musical\",\"Action\",\"Adventure\",\"Crime\",\"Drama\",\"Children\",\"Comedy\",\"Drama\",\"Drama\",\"Comedy\",\"Musical\",\"Crime\",\"Drama\",\"Crime\",\"Drama\",\"Mystery\",\"Thriller\",\"Action\",\"Adventure\",\"Comedy\",\"Crime\",\"Romance\",\"Thriller\",\"Drama\",\"War\",\"Action\",\"Crime\",\"Drama\",\"Thriller\",\"Children\",\"Comedy\",\"Action\",\"Horror\",\"Sci-Fi\",\"Thriller\",\"Horror\",\"Mystery\",\"Thriller\",\"Drama\",\"Horror\",\"Mystery\",\"Thriller\",\"Comedy\",\"Romance\",\"Drama\",\"Drama\",\"Comedy\",\"Drama\",\"Drama\",\"Crime\",\"Film-Noir\",\"Action\",\"Adventure\",\"Sci-Fi\",\"Crime\",\"Drama\",\"Thriller\",\"Drama\",\"Action\",\"Adventure\",\"Drama\",\"Romance\",\"War\",\"Adventure\",\"Animation\",\"Fantasy\",\"Romance\",\"Action\",\"Animation\",\"Drama\",\"Sci-Fi\",\"Action\",\"Comedy\",\"Romance\",\"Comedy\",\"Romance\",\"Comedy\",\"Comedy\",\"Musical\",\"Romance\",\"Action\",\"Fantasy\",\"Horror\",\"Thriller\",\"Adventure\",\"Children\",\"Comedy\",\"Fantasy\",\"Children\",\"Comedy\",\"Drama\",\"Drama\",\"War\",\"Mystery\",\"Thriller\",\"Action\",\"Fantasy\",\"Horror\",\"Mystery\",\"Sci-Fi\",\"Thriller\",\"Comedy\",\"Action\",\"Comedy\",\"Action\",\"Comedy\",\"Drama\",\"Romance\",\"Comedy\",\"Horror\",\"Adventure\",\"Comedy\",\"Crime\",\"Drama\",\"Mystery\",\"Thriller\",\"Action\",\"Adventure\",\"Comedy\",\"Adventure\",\"Comedy\",\"Romance\",\"Comedy\",\"Crime\",\"Drama\",\"Mystery\",\"Drama\",\"War\",\"Comedy\",\"Drama\",\"Romance\",\"Horror\",\"Thriller\",\"Action\",\"Comedy\",\"Comedy\",\"Crime\",\"Musical\",\"Documentary\",\"War\",\"Action\",\"Crime\",\"Drama\",\"Thriller\",\"Adventure\",\"Animation\",\"Children\",\"Comedy\",\"Fantasy\",\"Sci-Fi\",\"IMAX\",\"Drama\",\"Horror\",\"Mystery\",\"Comedy\",\"Drama\",\"Comedy\",\"Crime\",\"Drama\",\"Thriller\",\"Horror\",\"Mystery\",\"Sci-Fi\",\"Thriller\",\"Drama\",\"Action\",\"Comedy\",\"Crime\",\"Children\",\"Comedy\",\"Drama\",\"Comedy\",\"Drama\",\"Drama\",\"Adventure\",\"Comedy\",\"Crime\",\"Comedy\",\"Romance\",\"Action\",\"Comedy\",\"Documentary\",\"Adventure\",\"Comedy\",\"Documentary\",\"Crime\",\"Drama\",\"Film-Noir\",\"Action\",\"Drama\",\"Comedy\",\"Crime\",\"Drama\",\"Western\",\"Action\",\"Comedy\",\"Comedy\",\"Animation\",\"Comedy\",\"Drama\",\"Fantasy\",\"Action\",\"Comedy\",\"Crime\",\"Drama\",\"Comedy\",\"Crime\",\"Drama\",\"Action\",\"Adventure\",\"Adventure\",\"Drama\",\"War\",\"Western\",\"Animation\",\"Fantasy\",\"Sci-Fi\",\"Thriller\",\"Documentary\",\"Drama\",\"Action\",\"Crime\",\"Film-Noir\",\"Mystery\",\"Thriller\",\"Comedy\",\"Action\",\"Adventure\",\"Comedy\",\"Comedy\",\"Romance\",\"Drama\",\"Comedy\",\"Musical\",\"Romance\",\"Action\",\"Crime\",\"Drama\",\"War\",\"Animation\",\"Drama\",\"Comedy\",\"Comedy\",\"Drama\",\"Mystery\",\"Thriller\",\"Drama\",\"Horror\",\"Thriller\",\"Drama\",\"Drama\",\"Romance\",\"Comedy\",\"Romance\",\"Comedy\",\"Drama\",\"War\",\"Action\",\"Adventure\",\"Fantasy\",\"Sci-Fi\",\"Drama\",\"War\",\"Drama\",\"Horror\",\"Thriller\",\"Comedy\",\"Fantasy\",\"Romance\",\"Adventure\",\"Comedy\",\"Sci-Fi\",\"Horror\",\"Thriller\",\"Animation\",\"Comedy\",\"Sci-Fi\",\"Drama\",\"War\",\"Comedy\",\"Western\",\"Action\",\"Crime\",\"Drama\",\"Adventure\",\"Comedy\",\"Drama\",\"Comedy\",\"Drama\",\"Romance\",\"Comedy\",\"Crime\",\"Documentary\",\"Action\",\"Crime\",\"Thriller\",\"Action\",\"Drama\",\"Romance\",\"War\",\"Horror\",\"Thriller\",\"Crime\",\"Drama\",\"Drama\",\"Mystery\",\"Comedy\",\"Romance\",\"Drama\",\"Mystery\",\"Romance\",\"Thriller\",\"Drama\",\"Musical\",\"Romance\",\"Animation\",\"Fantasy\",\"Horror\",\"Drama\",\"Romance\",\"Comedy\",\"Musical\",\"Drama\",\"Documentary\",\"Action\",\"Crime\",\"Drama\",\"Thriller\",\"Action\",\"Adventure\",\"Sci-Fi\",\"Comedy\",\"Comedy\",\"Romance\",\"Adventure\",\"Drama\",\"Comedy\",\"Adventure\",\"Animation\",\"Children\",\"Comedy\",\"Adventure\",\"Comedy\",\"Children\",\"Documentary\",\"Horror\",\"Thriller\",\"Comedy\",\"Drama\",\"Comedy\",\"Drama\",\"Romance\",\"Drama\",\"Romance\",\"Adventure\",\"Comedy\",\"Drama\",\"Action\",\"Comedy\",\"Drama\",\"Documentary\",\"Action\",\"Adventure\",\"Comedy\",\"Romance\",\"Action\",\"Adventure\",\"Children\",\"Fantasy\",\"Horror\",\"Thriller\",\"Comedy\",\"Drama\",\"Musical\",\"Comedy\",\"Drama\",\"Romance\",\"Action\",\"Crime\",\"IMAX\",\"Action\",\"Adventure\",\"Fantasy\",\"Sci-Fi\",\"Comedy\",\"Drama\",\"Romance\",\"Comedy\",\"Drama\",\"Adventure\",\"Comedy\",\"Romance\",\"Action\",\"Horror\",\"Thriller\",\"Comedy\",\"Fantasy\",\"Romance\",\"Documentary\",\"Comedy\",\"Drama\",\"Comedy\",\"Crime\",\"Thriller\",\"Horror\",\"Comedy\",\"Crime\",\"Drama\",\"Romance\",\"Comedy\",\"Comedy\",\"Musical\",\"Action\",\"Adventure\",\"Sci-Fi\",\"Thriller\",\"Documentary\",\"Comedy\",\"Drama\",\"Horror\",\"Thriller\",\"Drama\",\"Action\",\"Adventure\",\"Sci-Fi\",\"Documentary\",\"Comedy\",\"Romance\",\"Comedy\",\"Drama\",\"Crime\",\"Drama\",\"Action\",\"Horror\",\"Sci-Fi\",\"Comedy\",\"Action\",\"Sci-Fi\",\"Thriller\",\"Children\",\"Comedy\",\"Action\",\"Crime\",\"Horror\",\"Drama\",\"Drama\",\"Mystery\",\"Action\",\"Adventure\",\"Children\",\"Comedy\",\"Action\",\"Adventure\",\"Sci-Fi\",\"Thriller\",\"Comedy\",\"Romance\",\"Comedy\",\"Documentary\",\"Comedy\",\"Action\",\"Adventure\",\"Drama\",\"Thriller\",\"Action\",\"Adventure\",\"Sci-Fi\",\"Comedy\",\"Drama\",\"Action\",\"Comedy\",\"Crime\",\"Drama\",\"Drama\",\"Action\",\"Adventure\",\"Comedy\",\"Comedy\",\"Drama\",\"Comedy\",\"Drama\",\"Comedy\",\"Drama\",\"Horror\",\"Mystery\",\"Thriller\",\"Action\",\"Crime\",\"Drama\",\"Action\",\"Drama\",\"War\",\"Comedy\",\"Drama\",\"Documentary\",\"Comedy\",\"Action\",\"Crime\",\"Drama\",\"Thriller\",\"Adventure\",\"Drama\",\"Animation\",\"Drama\",\"Comedy\",\"Comedy\",\"Romance\",\"Horror\",\"Thriller\",\"Drama\",\"Mystery\",\"Thriller\",\"Adventure\",\"Children\",\"Comedy\",\"Fantasy\",\"Comedy\",\"Drama\",\"Sci-Fi\",\"Adventure\",\"Animation\",\"Children\",\"Comedy\",\"Fantasy\",\"War\",\"Comedy\",\"Fantasy\",\"Horror\",\"Thriller\",\"Comedy\",\"Drama\",\"Romance\",\"Action\",\"Adventure\",\"Horror\",\"Mystery\",\"Sci-Fi\",\"Thriller\",\"Drama\",\"Thriller\",\"Action\",\"Crime\",\"Thriller\",\"Comedy\",\"Fantasy\",\"Romance\",\"Drama\",\"Action\",\"Crime\",\"Drama\",\"Thriller\",\"War\",\"Drama\",\"Horror\",\"Mystery\",\"Thriller\",\"Comedy\",\"Drama\",\"Comedy\",\"Drama\",\"Adventure\",\"Animation\",\"Comedy\",\"Action\",\"Comedy\",\"Crime\",\"Thriller\",\"Action\",\"Crime\",\"Drama\",\"Comedy\",\"Musical\",\"Western\",\"Documentary\",\"Action\",\"Horror\",\"Sci-Fi\",\"Crime\",\"Drama\",\"Thriller\",\"Comedy\",\"Action\",\"Sci-Fi\",\"Comedy\",\"Horror\",\"Romance\",\"Drama\",\"Action\",\"Comedy\",\"Crime\",\"Fantasy\",\"Mystery\",\"Romance\",\"Thriller\",\"Drama\",\"Crime\",\"Drama\",\"Horror\",\"Thriller\",\"Action\",\"Drama\",\"Thriller\",\"Animation\",\"Comedy\",\"Fantasy\",\"Musical\",\"Romance\",\"Crime\",\"Drama\",\"Action\",\"Crime\",\"Drama\",\"Thriller\",\"Drama\",\"Drama\",\"Crime\",\"Drama\",\"Action\",\"Adventure\",\"Animation\",\"Fantasy\",\"Sci-Fi\",\"Comedy\",\"Drama\",\"Romance\",\"Action\",\"Adventure\",\"Crime\",\"Thriller\",\"Adventure\",\"Children\",\"Drama\",\"Fantasy\",\"Adventure\",\"Animation\",\"Children\",\"Comedy\",\"Comedy\",\"Crime\",\"Mystery\",\"Thriller\",\"Action\",\"Crime\",\"Drama\",\"Drama\",\"Romance\",\"Drama\",\"Romance\",\"Documentary\",\"Action\",\"Adventure\",\"Drama\",\"Fantasy\",\"Documentary\",\"Drama\",\"Action\",\"Horror\",\"Sci-Fi\",\"Thriller\",\"Comedy\",\"Drama\",\"Comedy\",\"Drama\",\"Drama\",\"Drama\",\"Romance\",\"Comedy\",\"Drama\",\"Romance\",\"Drama\",\"Crime\",\"Drama\",\"Children\",\"Drama\",\"Crime\",\"Drama\",\"Western\",\"Action\",\"Horror\",\"Mystery\",\"Thriller\",\"Comedy\",\"Drama\",\"Romance\",\"Thriller\",\"Action\",\"Adventure\",\"Drama\",\"Western\",\"Comedy\",\"Drama\",\"Horror\",\"Thriller\",\"Comedy\",\"Drama\",\"Romance\",\"Drama\",\"Comedy\",\"Adventure\",\"Comedy\",\"Fantasy\",\"Horror\",\"Drama\",\"Crime\",\"Drama\",\"Thriller\",\"Action\",\"Drama\",\"War\",\"Action\",\"Adventure\",\"Animation\",\"Children\",\"Comedy\",\"Sci-Fi\",\"Crime\",\"Thriller\",\"Drama\",\"War\",\"Horror\",\"Sci-Fi\",\"Thriller\",\"Comedy\",\"Drama\",\"Action\",\"Drama\",\"Comedy\",\"Romance\",\"Drama\",\"Thriller\",\"Comedy\",\"Drama\",\"Drama\",\"Thriller\",\"Horror\",\"Thriller\",\"Drama\",\"Romance\",\"Sci-Fi\",\"Crime\",\"Horror\",\"Thriller\",\"Adventure\",\"Drama\",\"Horror\",\"Thriller\",\"Adventure\",\"Fantasy\",\"Thriller\",\"IMAX\",\"Drama\",\"Musical\",\"Romance\",\"Drama\",\"Musical\",\"Romance\",\"Action\",\"Adventure\",\"Children\",\"Fantasy\",\"Drama\",\"Comedy\",\"Musical\",\"Comedy\",\"Drama\",\"Action\",\"Comedy\",\"Crime\",\"Thriller\",\"Comedy\",\"Romance\",\"Drama\",\"Crime\",\"Horror\",\"Mystery\",\"Thriller\",\"Crime\",\"Drama\",\"Romance\",\"Crime\",\"Drama\",\"Thriller\",\"War\",\"Adventure\",\"Children\",\"Fantasy\",\"Action\",\"Adventure\",\"Drama\",\"Fantasy\",\"Thriller\",\"Drama\",\"Romance\",\"Comedy\",\"Drama\",\"Romance\",\"Crime\",\"Drama\",\"Romance\",\"Action\",\"Drama\",\"Comedy\",\"Drama\",\"Comedy\",\"Drama\",\"Thriller\",\"Documentary\",\"Comedy\",\"Drama\",\"Romance\",\"Comedy\",\"War\",\"Adventure\",\"Crime\",\"Drama\",\"Action\",\"Crime\",\"Drama\",\"Thriller\",\"Comedy\",\"Musical\",\"Adventure\",\"Comedy\",\"Drama\",\"Comedy\",\"Drama\",\"Romance\",\"Adventure\",\"Comedy\",\"Comedy\",\"Crime\",\"Comedy\",\"Action\",\"Adventure\",\"Comedy\",\"Drama\",\"Romance\",\"Comedy\",\"Drama\",\"Drama\",\"Thriller\",\"Animation\",\"Children\",\"Horror\",\"Thriller\",\"Adventure\",\"Drama\",\"Romance\",\"Animation\",\"Drama\",\"Romance\",\"Sci-Fi\",\"Fantasy\",\"Mystery\",\"Western\",\"Action\",\"Adventure\",\"Drama\",\"Documentary\",\"Crime\",\"Drama\",\"Mystery\",\"Thriller\",\"Comedy\",\"Drama\",\"Action\",\"Crime\",\"Sci-Fi\",\"Horror\",\"Comedy\",\"Drama\",\"Romance\",\"Drama\",\"Comedy\",\"Animation\",\"Children\",\"Comedy\",\"Action\",\"Fantasy\",\"Horror\",\"Comedy\",\"Adventure\",\"Children\",\"Comedy\",\"Fantasy\",\"Adventure\",\"Drama\",\"War\",\"Action\",\"Comedy\",\"Adventure\",\"Comedy\",\"Drama\",\"Fantasy\",\"Drama\",\"Romance\",\"Drama\",\"War\",\"Drama\",\"Action\",\"Comedy\",\"Crime\",\"Western\",\"Comedy\",\"Drama\",\"Action\",\"Crime\",\"Drama\",\"Horror\",\"Drama\",\"Action\",\"Comedy\",\"Crime\",\"Children\",\"Comedy\",\"Fantasy\",\"Drama\",\"War\",\"Horror\",\"Mystery\",\"Thriller\",\"Comedy\",\"Drama\",\"Romance\",\"Comedy\",\"Documentary\",\"Comedy\",\"Drama\",\"Romance\",\"Adventure\",\"Comedy\",\"Crime\",\"Adventure\",\"Animation\",\"Children\",\"Comedy\",\"Crime\",\"Drama\",\"Thriller\",\"Horror\",\"Thriller\",\"Drama\",\"Crime\",\"Drama\",\"Drama\",\"Action\",\"Adventure\",\"Drama\",\"Romance\",\"Comedy\",\"Romance\",\"Action\",\"Crime\",\"Thriller\",\"Action\",\"Fantasy\",\"Sci-Fi\",\"Thriller\",\"Comedy\",\"Romance\",\"Action\",\"Drama\",\"Fantasy\",\"Horror\",\"Mystery\",\"Sci-Fi\",\"Thriller\",\"Crime\",\"Thriller\",\"Comedy\",\"Romance\",\"Action\",\"Animation\",\"Children\",\"Sci-Fi\",\"Adventure\",\"Animation\",\"Children\",\"Comedy\",\"Drama\",\"Romance\",\"Action\",\"Sci-Fi\",\"Thriller\",\"IMAX\",\"Comedy\",\"Romance\",\"Comedy\",\"Drama\",\"Comedy\",\"Crime\",\"Drama\",\"Crime\",\"Drama\",\"Thriller\",\"Crime\",\"Drama\",\"Children\",\"Comedy\",\"Fantasy\",\"Comedy\",\"Fantasy\",\"Horror\",\"Comedy\",\"Fantasy\",\"Horror\",\"Comedy\",\"Fantasy\",\"Horror\",\"Sci-Fi\",\"Crime\",\"Drama\",\"Drama\",\"Horror\",\"Thriller\",\"Adventure\",\"Children\",\"Comedy\",\"Fantasy\",\"Documentary\",\"Drama\",\"Romance\",\"Thriller\",\"Action\",\"Crime\",\"Mystery\",\"Drama\",\"Documentary\",\"Drama\",\"Crime\",\"Drama\",\"Mystery\",\"Comedy\",\"Drama\",\"Drama\",\"Drama\",\"Horror\",\"Sci-Fi\",\"Thriller\",\"Crime\",\"Drama\",\"Mystery\",\"Thriller\",\"Crime\",\"Drama\",\"Film-Noir\",\"Mystery\",\"Comedy\",\"Horror\",\"Comedy\",\"Horror\",\"Sci-Fi\",\"Documentary\",\"Comedy\",\"Horror\",\"Sci-Fi\",\"Comedy\",\"Action\",\"Animation\",\"Film-Noir\",\"Sci-Fi\",\"Thriller\",\"Comedy\",\"Comedy\",\"Drama\",\"Romance\",\"Comedy\",\"Drama\",\"Musical\",\"Drama\",\"Romance\",\"Drama\",\"Crime\",\"Drama\",\"Documentary\",\"Comedy\",\"Horror\",\"Drama\",\"Thriller\",\"Comedy\",\"Drama\",\"Musical\",\"Crime\",\"Drama\",\"Thriller\",\"Adventure\",\"Animation\",\"Children\",\"Comedy\",\"Fantasy\",\"Fantasy\",\"Horror\",\"Thriller\",\"Comedy\",\"Drama\",\"Comedy\",\"Drama\",\"Action\",\"Comedy\",\"Crime\",\"Thriller\",\"Action\",\"Adventure\",\"Thriller\",\"Adventure\",\"Children\",\"Comedy\",\"Crime\",\"Drama\",\"Comedy\",\"Drama\",\"Horror\",\"Mystery\",\"Thriller\",\"Drama\",\"Romance\",\"Adventure\",\"Animation\",\"Children\",\"Comedy\",\"Comedy\",\"Drama\",\"Action\",\"Adventure\",\"Thriller\",\"IMAX\",\"Drama\",\"Mystery\",\"Thriller\",\"Action\",\"Sci-Fi\",\"Thriller\",\"Comedy\",\"Drama\",\"Romance\",\"Drama\",\"Animation\",\"Children\",\"Comedy\",\"Drama\",\"Comedy\",\"Drama\",\"Drama\",\"Horror\",\"Thriller\",\"Comedy\",\"Drama\",\"Fantasy\",\"Romance\",\"Adventure\",\"Comedy\",\"Drama\",\"Fantasy\",\"Romance\",\"Comedy\",\"Drama\",\"Action\",\"Adventure\",\"Fantasy\",\"Comedy\",\"Comedy\",\"Drama\",\"Fantasy\",\"Mystery\",\"Comedy\",\"Fantasy\",\"Romance\",\"Drama\",\"Romance\",\"Documentary\",\"Documentary\",\"Comedy\",\"Romance\",\"Children\",\"Comedy\",\"Drama\",\"Musical\",\"Romance\",\"Comedy\",\"Documentary\",\"Romance\",\"Drama\",\"Action\",\"Drama\",\"Action\",\"Crime\",\"Drama\",\"Thriller\",\"Animation\",\"Children\",\"Comedy\",\"Documentary\",\"Crime\",\"Thriller\",\"Action\",\"Adventure\",\"Sci-Fi\",\"IMAX\",\"Drama\",\"War\",\"Drama\",\"Thriller\",\"Comedy\",\"Adventure\",\"Comedy\",\"Drama\",\"Drama\",\"Mystery\",\"Thriller\",\"Drama\",\"Thriller\",\"Comedy\",\"Documentary\",\"Action\",\"Drama\",\"Thriller\",\"War\",\"Drama\",\"Comedy\",\"Animation\",\"Children\",\"Fantasy\",\"Mystery\",\"Action\",\"Comedy\",\"Horror\",\"Thriller\",\"Comedy\",\"Fantasy\",\"Mystery\",\"Action\",\"Comedy\",\"Action\",\"Comedy\",\"Fantasy\",\"IMAX\",\"Drama\",\"Comedy\",\"Drama\",\"Fantasy\",\"Romance\",\"Action\",\"Crime\",\"Drama\",\"Thriller\",\"Drama\",\"Comedy\",\"Romance\",\"Adventure\",\"Animation\",\"Children\",\"Comedy\",\"Fantasy\",\"IMAX\",\"Action\",\"Thriller\",\"Drama\",\"Romance\",\"Action\",\"Crime\",\"Drama\",\"Thriller\",\"Fantasy\",\"Mystery\",\"Thriller\",\"Drama\",\"Romance\",\"Adventure\",\"Comedy\",\"Drama\",\"Fantasy\",\"Adventure\",\"Animation\",\"Comedy\",\"Fantasy\",\"Romance\",\"Sci-Fi\",\"Drama\",\"Drama\",\"Mystery\",\"Thriller\",\"Drama\",\"Fantasy\",\"Thriller\",\"Comedy\",\"Drama\",\"Children\",\"Comedy\",\"Drama\",\"Comedy\",\"Action\",\"Adventure\",\"Comedy\",\"Crime\",\"Crime\",\"Drama\",\"Film-Noir\",\"Drama\",\"Fantasy\",\"Mystery\",\"Romance\",\"Drama\",\"Comedy\",\"Drama\",\"Crime\",\"Drama\",\"Musical\",\"Children\",\"Fantasy\",\"Comedy\",\"Drama\",\"Fantasy\",\"Romance\",\"Comedy\",\"Comedy\",\"Fantasy\",\"Drama\",\"Romance\",\"Horror\",\"Mystery\",\"Thriller\",\"Drama\",\"War\",\"Comedy\",\"Horror\",\"Thriller\",\"Crime\",\"Drama\",\"Mystery\",\"Thriller\",\"Action\",\"Horror\",\"Thriller\",\"Comedy\",\"Drama\",\"Drama\",\"Adventure\",\"Comedy\",\"Sci-Fi\",\"Thriller\",\"Documentary\",\"Drama\",\"Drama\",\"Romance\",\"Comedy\",\"Drama\",\"Romance\",\"War\",\"Drama\",\"Fantasy\",\"Romance\",\"Comedy\",\"Comedy\",\"Drama\",\"Fantasy\",\"Romance\",\"Crime\",\"Drama\",\"Mystery\",\"Thriller\",\"Horror\",\"Drama\",\"Drama\",\"Documentary\",\"Adventure\",\"Drama\",\"Thriller\",\"Action\",\"Adventure\",\"Drama\",\"War\",\"Comedy\",\"Documentary\",\"Drama\",\"Comedy\",\"Drama\",\"Romance\",\"Comedy\",\"Drama\",\"Fantasy\",\"Thriller\",\"Action\",\"Adventure\",\"Drama\",\"Adventure\",\"Animation\",\"Children\",\"Comedy\",\"IMAX\",\"Comedy\",\"Crime\",\"Crime\",\"Drama\",\"Thriller\",\"Horror\",\"Thriller\",\"Comedy\",\"Comedy\",\"Drama\",\"Comedy\",\"Thriller\",\"Action\",\"Drama\",\"Thriller\",\"Drama\",\"Drama\",\"Romance\",\"Drama\",\"War\",\"Action\",\"Comedy\",\"Horror\",\"Thriller\",\"Drama\",\"Romance\",\"Documentary\",\"Drama\",\"Thriller\",\"Documentary\",\"Comedy\",\"Drama\",\"Romance\",\"Action\",\"Adventure\",\"Drama\",\"Sci-Fi\",\"Thriller\",\"Drama\",\"Mystery\",\"Sci-Fi\",\"Thriller\",\"Drama\",\"War\",\"Film-Noir\",\"Thriller\",\"Crime\",\"Horror\",\"Thriller\",\"Drama\",\"Thriller\",\"Crime\",\"Drama\",\"Mystery\",\"Thriller\",\"Animation\",\"Comedy\",\"Crime\",\"Drama\",\"Thriller\",\"Comedy\",\"Fantasy\",\"Comedy\",\"Sci-Fi\",\"Comedy\",\"Drama\",\"Romance\",\"Documentary\",\"Comedy\",\"Comedy\",\"Documentary\",\"Documentary\",\"Drama\",\"War\",\"Action\",\"Adventure\",\"Thriller\",\"Adventure\",\"Animation\",\"Children\",\"Comedy\",\"IMAX\",\"Comedy\",\"Action\",\"Sci-Fi\",\"Thriller\",\"Drama\",\"Comedy\",\"Drama\",\"Romance\",\"Comedy\",\"Romance\",\"Action\",\"Crime\",\"Drama\",\"Drama\",\"Crime\",\"Western\",\"Adventure\",\"Comedy\",\"Musical\",\"Drama\",\"Action\",\"Adventure\",\"Crime\",\"Drama\",\"Thriller\",\"War\",\"Children\",\"Comedy\",\"Drama\",\"Fantasy\",\"Action\",\"Adventure\",\"Fantasy\",\"Action\",\"Drama\",\"Drama\",\"Fantasy\",\"Romance\",\"Action\",\"Drama\",\"War\",\"Comedy\",\"Drama\",\"Romance\",\"Drama\",\"Drama\",\"Thriller\",\"Drama\",\"Musical\",\"Drama\",\"Documentary\",\"Drama\",\"Mystery\",\"Thriller\",\"Comedy\",\"Drama\",\"Drama\",\"Action\",\"Adventure\",\"Action\",\"Drama\",\"Drama\",\"Mystery\",\"Thriller\",\"Drama\",\"War\",\"Action\",\"Horror\",\"Thriller\",\"Drama\",\"Musical\",\"Drama\",\"Comedy\",\"Romance\",\"Drama\",\"Romance\",\"Comedy\",\"Comedy\",\"Horror\",\"Thriller\",\"Crime\",\"Drama\",\"Action\",\"Horror\",\"Thriller\",\"Drama\",\"Adventure\",\"Children\",\"Fantasy\",\"Comedy\",\"Horror\",\"Documentary\",\"Comedy\",\"Drama\",\"Romance\",\"Documentary\",\"Comedy\",\"Drama\",\"Romance\",\"Action\",\"Crime\",\"Drama\",\"Thriller\",\"Drama\",\"Fantasy\",\"Horror\",\"Romance\",\"Adventure\",\"Comedy\",\"Drama\",\"Horror\",\"Thriller\",\"Comedy\",\"Drama\",\"Romance\",\"Drama\",\"Horror\",\"Thriller\",\"Comedy\",\"Romance\",\"Comedy\",\"Drama\",\"Documentary\",\"Animation\",\"Children\",\"Drama\",\"Romance\",\"Drama\",\"Comedy\",\"Comedy\",\"Romance\",\"Animation\",\"Comedy\",\"Adventure\",\"Drama\",\"Fantasy\",\"Drama\",\"Mystery\",\"Thriller\",\"Action\",\"Fantasy\",\"Thriller\",\"Drama\",\"Thriller\",\"Comedy\",\"Romance\",\"Comedy\",\"Romance\",\"Drama\",\"Mystery\",\"Thriller\",\"Comedy\",\"Drama\",\"Drama\",\"Drama\",\"Action\",\"Comedy\",\"Crime\",\"Mystery\",\"Adventure\",\"Drama\",\"Romance\",\"Crime\",\"Drama\",\"Thriller\",\"Action\",\"Sci-Fi\",\"Thriller\",\"Drama\",\"Romance\",\"Comedy\",\"Horror\",\"Crime\",\"Drama\",\"Thriller\",\"Action\",\"Comedy\",\"Drama\",\"Horror\",\"Thriller\",\"Sci-Fi\",\"Fantasy\",\"Adventure\",\"Comedy\",\"Action\",\"Fantasy\",\"War\",\"IMAX\",\"Horror\",\"Mystery\",\"Thriller\",\"Drama\",\"Romance\",\"Adventure\",\"Children\",\"Sci-Fi\",\"Comedy\",\"Romance\",\"Comedy\",\"Drama\",\"Horror\",\"Sci-Fi\",\"Thriller\",\"Drama\",\"Romance\",\"Drama\",\"Romance\",\"Comedy\",\"Drama\",\"Romance\",\"Drama\",\"Fantasy\",\"Mystery\",\"Thriller\",\"Horror\",\"Mystery\",\"Thriller\",\"Drama\",\"Drama\",\"Action\",\"Drama\",\"Thriller\",\"Horror\",\"Thriller\",\"Action\",\"Adventure\",\"Animation\",\"Children\",\"Comedy\",\"Fantasy\",\"Drama\",\"Thriller\",\"War\",\"Crime\",\"Drama\",\"Thriller\",\"Comedy\",\"Romance\",\"Comedy\",\"Action\",\"Crime\",\"Horror\",\"Sci-Fi\",\"Thriller\",\"Horror\",\"Thriller\",\"Action\",\"Adventure\",\"Animation\",\"Children\",\"Comedy\",\"Sci-Fi\",\"Documentary\",\"Action\",\"Adventure\",\"Drama\",\"War\",\"Adventure\",\"Drama\",\"Sci-Fi\",\"Thriller\",\"Crime\",\"Drama\",\"Animation\",\"Comedy\",\"Fantasy\",\"Musical\",\"Drama\",\"Thriller\",\"Action\",\"Adventure\",\"Animation\",\"Comedy\",\"Fantasy\",\"Mystery\",\"Sci-Fi\",\"Drama\",\"Musical\",\"Crime\",\"Drama\",\"Mystery\",\"Thriller\",\"Horror\",\"Thriller\",\"Comedy\",\"Drama\",\"Romance\",\"Comedy\",\"Crime\",\"Drama\",\"Fantasy\",\"Mystery\",\"Thriller\",\"Comedy\",\"Action\",\"Adventure\",\"Sci-Fi\",\"Thriller\",\"IMAX\",\"Comedy\",\"Drama\",\"Children\",\"Comedy\",\"Documentary\",\"Documentary\",\"Action\",\"Crime\",\"Horror\",\"Thriller\",\"Comedy\",\"Romance\",\"Animation\",\"Mystery\",\"Sci-Fi\",\"Action\",\"Fantasy\",\"Horror\",\"Thriller\",\"Drama\",\"Drama\",\"Comedy\",\"Drama\",\"Romance\",\"Comedy\",\"Drama\",\"Musical\",\"Horror\",\"Sci-Fi\",\"Thriller\",\"Action\",\"Comedy\",\"Crime\",\"Romance\",\"Documentary\",\"Adventure\",\"Animation\",\"Children\",\"Comedy\",\"Fantasy\",\"Drama\",\"Musical\",\"Romance\",\"Action\",\"Adventure\",\"Comedy\",\"Fantasy\",\"Drama\",\"Horror\",\"Thriller\",\"Crime\",\"Drama\",\"Thriller\",\"Action\",\"Adventure\",\"Fantasy\",\"Action\",\"Adventure\",\"Comedy\",\"Fantasy\",\"Romance\",\"Action\",\"Thriller\",\"Comedy\",\"Drama\",\"Romance\",\"Sci-Fi\",\"Horror\",\"Thriller\",\"Comedy\",\"Drama\",\"Romance\",\"Crime\",\"Thriller\",\"Horror\",\"Comedy\",\"Romance\",\"Crime\",\"Horror\",\"Thriller\",\"Crime\",\"Drama\",\"Comedy\",\"Fantasy\",\"Horror\",\"Action\",\"Adventure\",\"Fantasy\",\"Sci-Fi\",\"Animation\",\"Children\",\"Comedy\",\"Action\",\"Adventure\",\"Sci-Fi\",\"Adventure\",\"Crime\",\"Thriller\",\"Comedy\",\"Horror\",\"Thriller\",\"Action\",\"Adventure\",\"Crime\",\"Horror\",\"Thriller\",\"Action\",\"Adventure\",\"Drama\",\"War\",\"Comedy\",\"Drama\",\"Comedy\",\"Comedy\",\"Documentary\",\"Documentary\",\"Drama\",\"Drama\",\"Thriller\",\"Drama\",\"Horror\",\"Thriller\",\"Comedy\",\"Action\",\"Adventure\",\"Crime\",\"Thriller\",\"Comedy\",\"Romance\",\"Comedy\",\"Fantasy\",\"Action\",\"Sci-Fi\",\"Thriller\",\"IMAX\",\"Adventure\",\"Drama\",\"Fantasy\",\"IMAX\",\"Comedy\",\"Romance\",\"Drama\",\"Thriller\",\"Drama\",\"Romance\",\"Western\",\"Documentary\",\"Drama\",\"Fantasy\",\"Musical\",\"Romance\",\"Comedy\",\"Adventure\",\"Comedy\",\"Fantasy\",\"Romance\",\"Animation\",\"Comedy\",\"Crime\",\"Drama\",\"Thriller\",\"Comedy\",\"Drama\",\"Romance\",\"Comedy\",\"Drama\",\"Action\",\"Crime\",\"Thriller\",\"Documentary\",\"Crime\",\"Drama\",\"Mystery\",\"Thriller\",\"Comedy\",\"Comedy\",\"Action\",\"Comedy\",\"Crime\",\"Thriller\",\"Action\",\"Adventure\",\"Fantasy\",\"War\",\"Comedy\",\"Comedy\",\"Action\",\"Drama\",\"Thriller\",\"Comedy\",\"Drama\",\"Children\",\"Comedy\",\"Action\",\"Drama\",\"Horror\",\"Sci-Fi\",\"Thriller\",\"Comedy\",\"Drama\",\"Romance\",\"Horror\",\"Drama\",\"Thriller\",\"Comedy\",\"Drama\",\"Romance\",\"Documentary\",\"Action\",\"Comedy\",\"Comedy\",\"Horror\",\"Thriller\",\"Comedy\",\"Drama\",\"Mystery\",\"Action\",\"Horror\",\"Sci-Fi\",\"Action\",\"Crime\",\"Drama\",\"Western\",\"Action\",\"Comedy\",\"Crime\",\"Comedy\",\"Crime\",\"Drama\",\"Drama\",\"Romance\",\"War\",\"Drama\",\"Sci-Fi\",\"Drama\",\"Thriller\",\"Drama\",\"Documentary\",\"Crime\",\"Drama\",\"Thriller\",\"Drama\",\"Mystery\",\"Drama\",\"Comedy\",\"Drama\",\"Romance\",\"Action\",\"Adventure\",\"Comedy\",\"Drama\",\"Thriller\",\"Crime\",\"Drama\",\"Thriller\",\"Documentary\",\"Action\",\"Adventure\",\"Animation\",\"Crime\",\"Fantasy\",\"Comedy\",\"Romance\",\"Drama\",\"Comedy\",\"Drama\",\"Action\",\"Horror\",\"Sci-Fi\",\"Thriller\",\"Comedy\",\"Comedy\",\"Romance\",\"Action\",\"Adventure\",\"Drama\",\"Comedy\",\"Drama\",\"Romance\",\"Thriller\",\"War\",\"Action\",\"Adventure\",\"Drama\",\"Fantasy\",\"Comedy\",\"Drama\",\"Romance\",\"Comedy\",\"Drama\",\"Romance\",\"Adventure\",\"Comedy\",\"Drama\",\"Crime\",\"Drama\",\"Drama\",\"Drama\",\"Thriller\",\"Drama\",\"Mystery\",\"Thriller\",\"Comedy\",\"Drama\",\"Horror\",\"Thriller\",\"Crime\",\"Drama\",\"Mystery\",\"Comedy\",\"Comedy\",\"Crime\",\"Drama\",\"Crime\",\"Drama\",\"Western\",\"Crime\",\"Drama\",\"Thriller\",\"Animation\",\"Drama\",\"Drama\",\"Comedy\",\"Drama\",\"Romance\",\"Horror\",\"Comedy\",\"Horror\",\"Drama\",\"Crime\",\"Horror\",\"Thriller\",\"Documentary\",\"Documentary\",\"Action\",\"Crime\",\"Drama\",\"Thriller\",\"Comedy\",\"Crime\",\"Drama\",\"Thriller\",\"Animation\",\"Comedy\",\"Crime\",\"Drama\",\"Thriller\",\"Drama\",\"Crime\",\"Drama\",\"Comedy\",\"Comedy\",\"Drama\",\"Romance\",\"Drama\",\"Drama\",\"Musical\",\"Drama\",\"Sci-Fi\",\"Drama\",\"Thriller\",\"War\",\"Action\",\"Adventure\",\"Animation\",\"Fantasy\",\"IMAX\",\"Comedy\",\"Drama\",\"Sci-Fi\",\"Thriller\",\"Comedy\",\"Documentary\",\"Drama\",\"Sci-Fi\",\"Comedy\",\"Drama\",\"Romance\",\"War\",\"Horror\",\"Sci-Fi\",\"Adventure\",\"Animation\",\"Children\",\"Comedy\",\"Fantasy\",\"Musical\",\"Romance\",\"Action\",\"Crime\",\"Thriller\",\"Drama\",\"Thriller\",\"Adventure\",\"Children\",\"Fantasy\",\"Action\",\"Horror\",\"Sci-Fi\",\"Thriller\",\"IMAX\",\"Children\",\"Comedy\",\"Animation\",\"Comedy\",\"Sci-Fi\",\"Drama\",\"Drama\",\"Comedy\",\"Drama\",\"Action\",\"Horror\",\"Thriller\",\"Drama\",\"Horror\",\"Mystery\",\"Thriller\",\"Comedy\",\"Drama\",\"Romance\",\"Documentary\",\"Drama\",\"Romance\",\"Documentary\",\"Comedy\",\"Drama\",\"Drama\",\"Horror\",\"Thriller\",\"Drama\",\"Fantasy\",\"Romance\",\"Drama\",\"Horror\",\"Musical\",\"Thriller\",\"Action\",\"Adventure\",\"Drama\",\"Western\",\"Comedy\",\"Drama\",\"War\",\"Action\",\"Horror\",\"Sci-Fi\",\"Comedy\",\"Musical\",\"Comedy\",\"Drama\",\"Romance\",\"Comedy\",\"Comedy\",\"Drama\",\"Romance\",\"Adventure\",\"Children\",\"Fantasy\",\"Action\",\"Drama\",\"Sci-Fi\",\"Thriller\",\"Comedy\",\"Drama\",\"Romance\",\"Comedy\",\"Romance\",\"Crime\",\"Drama\",\"Thriller\",\"Drama\",\"Comedy\",\"Drama\",\"Drama\",\"Horror\",\"Thriller\",\"Action\",\"Adventure\",\"Fantasy\",\"Action\",\"Mystery\",\"Sci-Fi\",\"Thriller\",\"Comedy\",\"Horror\",\"Action\",\"Adventure\",\"Drama\",\"War\",\"Adventure\",\"Animation\",\"Drama\",\"Horror\",\"Animation\",\"Comedy\",\"Drama\",\"Romance\",\"Sci-Fi\",\"Comedy\",\"Crime\",\"Crime\",\"Thriller\",\"Action\",\"Drama\",\"Thriller\",\"War\",\"Comedy\",\"Comedy\",\"Horror\",\"Sci-Fi\",\"Thriller\",\"Action\",\"Adventure\",\"Fantasy\",\"Sci-Fi\",\"Comedy\",\"Crime\",\"Drama\",\"Thriller\",\"Crime\",\"Sci-Fi\",\"Action\",\"Crime\",\"Drama\",\"Comedy\",\"Horror\",\"Action\",\"Adventure\",\"Comedy\",\"Romance\",\"Action\",\"Adventure\",\"Drama\",\"Sci-Fi\",\"Thriller\",\"Comedy\",\"Drama\",\"Romance\",\"Crime\",\"Drama\",\"Romance\",\"Thriller\",\"Action\",\"Drama\",\"Thriller\",\"Adventure\",\"Children\",\"Drama\",\"Fantasy\",\"IMAX\",\"Drama\",\"Musical\",\"Romance\",\"Drama\",\"Romance\",\"Comedy\",\"Comedy\",\"Romance\",\"Documentary\",\"Drama\",\"Thriller\",\"Comedy\",\"Adventure\",\"Romance\",\"Thriller\",\"Action\",\"Crime\",\"Thriller\",\"Action\",\"Drama\",\"Sci-Fi\",\"Thriller\",\"Adventure\",\"Animation\",\"Children\",\"Comedy\",\"Drama\",\"Thriller\",\"Crime\",\"Drama\",\"War\",\"Drama\",\"War\",\"Documentary\",\"Comedy\",\"Horror\",\"Sci-Fi\",\"Comedy\",\"Fantasy\",\"Romance\",\"Drama\",\"Documentary\",\"War\",\"Action\",\"Adventure\",\"Animation\",\"Fantasy\",\"Sci-Fi\",\"Documentary\",\"Drama\",\"Drama\",\"Action\",\"Crime\",\"Drama\",\"IMAX\",\"Action\",\"Comedy\",\"Drama\",\"Romance\",\"Sci-Fi\",\"Crime\",\"Drama\",\"Romance\",\"Thriller\",\"Comedy\",\"Drama\",\"Romance\",\"Action\",\"Crime\",\"Thriller\",\"Comedy\",\"Drama\",\"Romance\",\"Action\",\"Drama\",\"War\",\"Comedy\",\"Drama\",\"War\",\"Documentary\",\"Musical\",\"IMAX\",\"Horror\",\"Thriller\",\"Adventure\",\"Comedy\",\"Fantasy\",\"Horror\",\"Thriller\",\"Comedy\",\"Romance\",\"Action\",\"Comedy\",\"Sci-Fi\",\"Crime\",\"Drama\",\"Thriller\",\"Drama\",\"Romance\",\"Adventure\",\"Comedy\",\"Comedy\",\"Action\",\"Children\",\"Sci-Fi\",\"IMAX\",\"Action\",\"Adventure\",\"Comedy\",\"Fantasy\",\"Comedy\",\"Drama\",\"Comedy\",\"Documentary\",\"Action\",\"Horror\",\"Horror\",\"Children\",\"Comedy\",\"Drama\",\"Comedy\",\"Documentary\",\"Comedy\",\"Romance\",\"Comedy\",\"Documentary\",\"Horror\",\"Mystery\",\"Thriller\",\"Action\",\"Adventure\",\"Sci-Fi\",\"Comedy\",\"Romance\",\"Action\",\"Drama\",\"Action\",\"Crime\",\"Drama\",\"Thriller\",\"Adventure\",\"Drama\",\"Fantasy\",\"Comedy\",\"Romance\",\"Comedy\",\"Drama\",\"Romance\",\"Adventure\",\"Children\",\"Fantasy\",\"Drama\",\"Romance\",\"Crime\",\"Drama\",\"Horror\",\"Thriller\",\"Action\",\"Adventure\",\"Comedy\",\"Sci-Fi\",\"Comedy\",\"Comedy\",\"Romance\",\"Horror\",\"Thriller\",\"Documentary\",\"Horror\",\"Mystery\",\"Thriller\",\"Action\",\"Animation\",\"Children\",\"Comedy\",\"IMAX\",\"Drama\",\"Comedy\",\"Crime\",\"Drama\",\"Horror\",\"Comedy\",\"Horror\",\"Thriller\",\"Action\",\"Comedy\",\"Drama\",\"Thriller\",\"Comedy\",\"Drama\",\"Romance\",\"Crime\",\"Drama\",\"Drama\",\"Horror\",\"Thriller\",\"Drama\",\"Sci-Fi\",\"Thriller\",\"Action\",\"Sci-Fi\",\"Drama\",\"War\",\"Adventure\",\"Animation\",\"Children\",\"Romance\",\"Sci-Fi\",\"Action\",\"Thriller\",\"Action\",\"Adventure\",\"Comedy\",\"Crime\",\"Fantasy\",\"Action\",\"Comedy\",\"Comedy\",\"Children\",\"Comedy\",\"Action\",\"Animation\",\"Comedy\",\"Romance\",\"Sci-Fi\",\"Children\",\"Comedy\",\"Drama\",\"Mystery\",\"Documentary\",\"Comedy\",\"Drama\",\"Romance\",\"Horror\",\"Mystery\",\"Thriller\",\"Documentary\",\"Comedy\",\"Horror\",\"Animation\",\"Children\",\"Comedy\",\"Fantasy\",\"Musical\",\"War\",\"Comedy\",\"Musical\",\"Romance\",\"Comedy\",\"Action\",\"Adventure\",\"Horror\",\"Sci-Fi\",\"Thriller\",\"Animation\",\"Children\",\"Comedy\",\"Action\",\"Adventure\",\"Sci-Fi\",\"Adventure\",\"Children\",\"Comedy\",\"Romance\",\"Sci-Fi\",\"Action\",\"Comedy\",\"Fantasy\",\"Horror\",\"Thriller\",\"Horror\",\"Thriller\",\"Crime\",\"Drama\",\"Thriller\",\"Sci-Fi\",\"Action\",\"Drama\",\"Mystery\",\"Sci-Fi\",\"Thriller\",\"IMAX\",\"Drama\",\"Thriller\",\"Comedy\",\"Romance\",\"Crime\",\"Drama\",\"Comedy\",\"Drama\",\"Mystery\",\"Sci-Fi\",\"Thriller\",\"Documentary\",\"Animation\",\"Children\",\"Musical\",\"Adventure\",\"Fantasy\",\"Thriller\",\"Crime\",\"Horror\",\"Thriller\",\"Drama\",\"Drama\",\"Thriller\",\"Drama\",\"Romance\",\"War\",\"Comedy\",\"Drama\",\"Sci-Fi\",\"Action\",\"Adventure\",\"Fantasy\",\"Thriller\",\"Horror\",\"Mystery\",\"Thriller\",\"Drama\",\"Comedy\",\"Drama\",\"Romance\",\"Action\",\"Animation\",\"Crime\",\"Drama\",\"Mystery\",\"Action\",\"Comedy\",\"Crime\",\"Action\",\"Adventure\",\"Drama\",\"War\",\"Adventure\",\"Comedy\",\"Drama\",\"Romance\",\"Action\",\"Drama\",\"Thriller\",\"Comedy\",\"Drama\",\"Musical\",\"Romance\",\"Action\",\"Adventure\",\"Comedy\",\"War\",\"Action\",\"Adventure\",\"Animation\",\"Sci-Fi\",\"Drama\",\"Mystery\",\"Action\",\"Adventure\",\"Sci-Fi\",\"Animation\",\"Documentary\",\"Drama\",\"War\",\"Drama\",\"Fantasy\",\"Horror\",\"Romance\",\"Comedy\",\"Action\",\"Adventure\",\"Sci-Fi\",\"Thriller\",\"Comedy\",\"Comedy\",\"Documentary\",\"Horror\",\"Mystery\",\"Thriller\",\"Action\",\"Western\",\"Drama\",\"Comedy\",\"Crime\",\"Drama\",\"Comedy\",\"Action\",\"Adventure\",\"Sci-Fi\",\"Thriller\",\"Crime\",\"Drama\",\"Thriller\",\"Comedy\",\"Action\",\"Comedy\",\"Fantasy\",\"Thriller\",\"Drama\",\"Action\",\"Crime\",\"Thriller\",\"Drama\",\"Horror\",\"Sci-Fi\",\"Thriller\",\"Crime\",\"Mystery\",\"Thriller\",\"Drama\",\"Thriller\",\"Comedy\",\"Fantasy\",\"Romance\",\"Action\",\"Adventure\",\"Fantasy\",\"Thriller\",\"Western\",\"Action\",\"Animation\",\"Comedy\",\"Horror\",\"Action\",\"Crime\",\"Thriller\",\"IMAX\",\"Comedy\",\"Comedy\",\"Drama\",\"Romance\",\"Drama\",\"Crime\",\"Drama\",\"Drama\",\"Romance\",\"Action\",\"Horror\",\"Animation\",\"Comedy\",\"Fantasy\",\"Sci-Fi\",\"Drama\",\"Romance\",\"Action\",\"Drama\",\"Thriller\",\"Adventure\",\"Children\",\"Sci-Fi\",\"Action\",\"Adventure\",\"Sci-Fi\",\"Action\",\"Crime\",\"Drama\",\"Thriller\",\"Comedy\",\"Drama\",\"Romance\",\"Drama\",\"Comedy\",\"Romance\",\"Comedy\",\"Drama\",\"Drama\",\"Comedy\",\"Fantasy\",\"Drama\",\"Documentary\",\"Comedy\",\"Romance\",\"Crime\",\"Drama\",\"Drama\",\"Sci-Fi\",\"Sci-Fi\",\"Action\",\"Crime\",\"Action\",\"Adventure\",\"Animation\",\"Comedy\",\"Fantasy\",\"Sci-Fi\",\"Adventure\",\"Fantasy\",\"Sci-Fi\",\"Action\",\"Adventure\",\"Animation\",\"Children\",\"Comedy\",\"IMAX\",\"Drama\",\"Mystery\",\"Romance\",\"Thriller\",\"Crime\",\"Drama\",\"Mystery\",\"Adventure\",\"Drama\",\"Thriller\",\"Crime\",\"Drama\",\"Romance\",\"Action\",\"Adventure\",\"Thriller\",\"Comedy\",\"Drama\",\"Action\",\"Drama\",\"Thriller\",\"Children\",\"Fantasy\",\"Musical\",\"Romance\",\"Action\",\"Drama\",\"Fantasy\",\"Comedy\",\"Musical\",\"Romance\",\"Action\",\"Adventure\",\"Sci-Fi\",\"Crime\",\"Horror\",\"Thriller\",\"Comedy\",\"Drama\",\"Mystery\",\"Adventure\",\"Children\",\"Comedy\",\"Crime\",\"Drama\",\"Drama\",\"Action\",\"Horror\",\"Thriller\",\"Adventure\",\"Drama\",\"War\",\"Western\",\"Action\",\"Adventure\",\"Animation\",\"Children\",\"Comedy\",\"Drama\",\"Drama\",\"Fantasy\",\"Romance\",\"Thriller\",\"Horror\",\"Action\",\"Adventure\",\"Crime\",\"Thriller\",\"Comedy\",\"Drama\",\"War\",\"Drama\",\"Romance\",\"Animation\",\"Comedy\",\"Adventure\",\"Fantasy\",\"Drama\",\"Action\",\"Crime\",\"Drama\",\"Thriller\",\"Adventure\",\"Animation\",\"Comedy\",\"Fantasy\",\"Documentary\",\"Animation\",\"Comedy\",\"Drama\",\"Sci-Fi\",\"Thriller\",\"IMAX\",\"Drama\",\"War\",\"Drama\",\"War\",\"Drama\",\"Mystery\",\"Crime\",\"Drama\",\"Drama\",\"Drama\",\"Romance\",\"Action\",\"Adventure\",\"Animation\",\"Drama\",\"Drama\",\"Drama\",\"Fantasy\",\"Mystery\",\"Romance\",\"Comedy\",\"Drama\",\"Thriller\",\"War\",\"Animation\",\"Drama\",\"Romance\",\"Action\",\"Sci-Fi\",\"Drama\",\"Adventure\",\"Children\",\"Comedy\",\"Comedy\",\"Drama\",\"Drama\",\"Romance\",\"Comedy\",\"Comedy\",\"Documentary\",\"Drama\",\"Romance\",\"Drama\",\"Thriller\",\"War\",\"Documentary\",\"Comedy\",\"Drama\",\"Adventure\",\"Animation\",\"Children\",\"Fantasy\",\"Adventure\",\"Crime\",\"Thriller\",\"Adventure\",\"Drama\",\"Fantasy\",\"Action\",\"Drama\",\"War\",\"Adventure\",\"Animation\",\"Children\",\"Comedy\",\"Fantasy\",\"Comedy\",\"Romance\",\"Action\",\"Adventure\",\"Comedy\",\"Fantasy\",\"Action\",\"Crime\",\"Drama\",\"Thriller\",\"Horror\",\"Thriller\",\"Action\",\"Drama\",\"Sci-Fi\",\"Thriller\",\"Adventure\",\"Fantasy\",\"Action\",\"Fantasy\",\"Horror\",\"Thriller\",\"Adventure\",\"Fantasy\",\"Comedy\",\"Comedy\",\"Romance\",\"Action\",\"Comedy\",\"Crime\",\"Drama\",\"Musical\",\"Drama\",\"Horror\",\"Mystery\",\"Thriller\",\"Action\",\"Adventure\",\"Sci-Fi\",\"Horror\",\"Thriller\",\"Animation\",\"Fantasy\",\"Thriller\",\"Sci-Fi\",\"Thriller\",\"Drama\",\"Thriller\",\"Comedy\",\"Drama\",\"Romance\",\"Comedy\",\"Fantasy\",\"Action\",\"Animation\",\"Comedy\",\"Sci-Fi\",\"Drama\",\"Horror\",\"Thriller\",\"Documentary\",\"Animation\",\"Drama\",\"Comedy\",\"Horror\",\"Comedy\",\"Drama\",\"Comedy\",\"Drama\",\"Drama\",\"War\",\"Comedy\",\"Drama\",\"Romance\",\"Drama\",\"Horror\",\"Action\",\"Adventure\",\"Comedy\",\"Western\",\"Adventure\",\"Comedy\",\"Mystery\",\"Adventure\",\"Animation\",\"Children\",\"Musical\",\"Comedy\",\"Drama\",\"Musical\",\"Sci-Fi\",\"Comedy\",\"Crime\",\"Horror\",\"Thriller\",\"Comedy\",\"Adventure\",\"Comedy\",\"Horror\",\"Horror\",\"Thriller\",\"Crime\",\"Romance\",\"Thriller\",\"Action\",\"Drama\",\"Mystery\",\"Sci-Fi\",\"Thriller\",\"Crime\",\"Drama\",\"Mystery\",\"Thriller\",\"Comedy\",\"Drama\",\"Action\",\"Animation\",\"Children\",\"Comedy\",\"Action\",\"Mystery\",\"Thriller\",\"Animation\",\"Sci-Fi\",\"IMAX\",\"Action\",\"Crime\",\"Drama\",\"Thriller\",\"Comedy\",\"Comedy\",\"Drama\",\"Romance\",\"Documentary\",\"Musical\",\"Action\",\"Comedy\",\"Comedy\",\"Drama\",\"Comedy\",\"Romance\",\"Drama\",\"Fantasy\",\"Sci-Fi\",\"Thriller\",\"Comedy\",\"Action\",\"Crime\",\"Drama\",\"Thriller\",\"Comedy\",\"Comedy\",\"Drama\",\"Comedy\",\"Drama\",\"Action\",\"Drama\",\"War\",\"Crime\",\"Drama\",\"Thriller\",\"Drama\",\"Action\",\"Comedy\",\"Crime\",\"Drama\",\"Mystery\",\"Sci-Fi\",\"Thriller\",\"Drama\",\"Romance\",\"Action\",\"Sci-Fi\",\"Thriller\",\"Crime\",\"Drama\",\"Thriller\",\"Action\",\"Adventure\",\"Sci-Fi\",\"IMAX\",\"Comedy\",\"Action\",\"Comedy\",\"Crime\",\"Action\",\"Drama\",\"War\",\"Documentary\",\"Documentary\",\"Drama\",\"Crime\",\"Drama\",\"Mystery\",\"Thriller\",\"Action\",\"Drama\",\"Thriller\",\"Comedy\",\"Drama\",\"Adventure\",\"Comedy\",\"Drama\",\"Action\",\"Adventure\",\"Sci-Fi\",\"Thriller\",\"Action\",\"Comedy\",\"IMAX\",\"Adventure\",\"Fantasy\",\"Musical\",\"Romance\",\"Adventure\",\"Comedy\",\"Crime\",\"Romance\",\"Drama\",\"War\",\"Comedy\",\"Romance\",\"Drama\",\"Musical\",\"Action\",\"Animation\",\"Mystery\",\"Sci-Fi\",\"Comedy\",\"Horror\",\"Adventure\",\"Animation\",\"Children\",\"Drama\",\"Action\",\"Adventure\",\"Animation\",\"Drama\",\"Comedy\",\"Drama\",\"Mystery\",\"Comedy\",\"Crime\",\"Action\",\"Crime\",\"Drama\",\"Thriller\",\"Drama\",\"Fantasy\",\"Crime\",\"Drama\",\"Horror\",\"Thriller\",\"Comedy\",\"Horror\",\"Comedy\",\"Drama\",\"Romance\",\"Children\",\"Comedy\",\"Drama\",\"Fantasy\",\"Action\",\"Adventure\",\"Comedy\",\"Horror\",\"Action\",\"Adventure\",\"Comedy\",\"Sci-Fi\",\"Comedy\",\"Drama\",\"Fantasy\",\"Crime\",\"Drama\",\"Thriller\",\"Crime\",\"Drama\",\"Comedy\",\"Romance\",\"Adventure\",\"Comedy\",\"Adventure\",\"Sci-Fi\",\"Animation\",\"Action\",\"Drama\",\"Thriller\",\"War\",\"Drama\",\"Romance\",\"Crime\",\"Drama\",\"Film-Noir\",\"Action\",\"Adventure\",\"Thriller\",\"Action\",\"Adventure\",\"Sci-Fi\",\"IMAX\",\"Documentary\",\"Comedy\",\"Romance\",\"Comedy\",\"Fantasy\",\"Romance\",\"Crime\",\"Drama\",\"Thriller\",\"Action\",\"Adventure\",\"Animation\",\"Children\",\"Comedy\",\"Romance\",\"Action\",\"Drama\",\"Thriller\",\"Animation\",\"Comedy\",\"Drama\",\"Comedy\",\"Drama\",\"Horror\",\"Action\",\"Adventure\",\"Animation\",\"Horror\",\"Comedy\",\"Drama\",\"Romance\",\"Comedy\",\"Action\",\"Adventure\",\"Fantasy\",\"Adventure\",\"Fantasy\",\"Mystery\",\"Romance\",\"IMAX\",\"Drama\",\"War\",\"Drama\",\"War\",\"Drama\",\"Thriller\",\"Drama\",\"Fantasy\",\"Documentary\",\"Comedy\",\"Crime\",\"Drama\",\"Drama\",\"Horror\",\"Mystery\",\"Thriller\",\"Comedy\",\"Drama\",\"Romance\",\"Crime\",\"Horror\",\"Thriller\",\"Horror\",\"Thriller\",\"Mystery\",\"Sci-Fi\",\"Thriller\",\"Comedy\",\"Drama\",\"Romance\",\"Crime\",\"Drama\",\"Thriller\",\"Adventure\",\"Children\",\"Fantasy\",\"Sci-Fi\",\"Thriller\",\"Comedy\",\"Drama\",\"Musical\",\"Romance\",\"Action\",\"Adventure\",\"Sci-Fi\",\"Thriller\",\"Action\",\"Thriller\",\"Action\",\"Drama\",\"War\",\"Western\",\"Drama\",\"Fantasy\",\"Romance\",\"Sci-Fi\",\"Action\",\"Animation\",\"Sci-Fi\",\"Comedy\",\"Comedy\",\"Drama\",\"Romance\",\"Sci-Fi\",\"Drama\",\"Romance\",\"Comedy\",\"Comedy\",\"Romance\",\"Comedy\",\"Documentary\",\"Drama\",\"Romance\",\"Action\",\"Adventure\",\"Children\",\"Fantasy\",\"Adventure\",\"Drama\",\"Mystery\",\"Action\",\"Comedy\",\"Drama\",\"Thriller\",\"Documentary\",\"Comedy\",\"Fantasy\",\"Horror\",\"Comedy\",\"Drama\",\"Horror\",\"Thriller\",\"Crime\",\"Drama\",\"Mystery\",\"Romance\",\"Thriller\",\"Adventure\",\"Animation\",\"Sci-Fi\",\"Comedy\",\"Sci-Fi\",\"Drama\",\"Mystery\",\"Action\",\"Adventure\",\"Animation\",\"Fantasy\",\"Sci-Fi\",\"Documentary\",\"Horror\",\"Sci-Fi\",\"Thriller\",\"Drama\",\"Action\",\"Comedy\",\"Drama\",\"Action\",\"Adventure\",\"Fantasy\",\"Comedy\",\"Horror\",\"Sci-Fi\",\"Thriller\",\"Comedy\",\"Crime\",\"Drama\",\"Thriller\",\"Comedy\",\"Horror\",\"Thriller\",\"Action\",\"Sci-Fi\",\"Thriller\",\"Animation\",\"Children\",\"Fantasy\",\"IMAX\",\"Comedy\",\"Drama\",\"Documentary\",\"Comedy\",\"Sci-Fi\",\"Drama\",\"Horror\",\"Drama\",\"Romance\",\"Horror\",\"Horror\",\"Thriller\",\"Comedy\",\"Drama\",\"Drama\",\"Documentary\",\"Drama\",\"Documentary\",\"Comedy\",\"Drama\",\"Comedy\",\"Drama\",\"Action\",\"Fantasy\",\"Sci-Fi\",\"Animation\",\"Sci-Fi\",\"Action\",\"Animation\",\"Comedy\",\"Horror\",\"Thriller\",\"Comedy\",\"Horror\",\"Thriller\",\"Comedy\",\"Drama\",\"Comedy\",\"Action\",\"Sci-Fi\",\"Thriller\",\"Action\",\"Comedy\",\"Horror\",\"Comedy\",\"Drama\",\"Mystery\",\"Drama\",\"Romance\",\"Drama\",\"Documentary\",\"Comedy\",\"Romance\",\"Comedy\",\"Horror\",\"Adventure\",\"Children\",\"Drama\",\"Fantasy\",\"IMAX\",\"Action\",\"Adventure\",\"Drama\",\"War\",\"Drama\",\"Romance\",\"Drama\",\"Thriller\",\"Drama\",\"Animation\",\"Comedy\",\"Drama\",\"Drama\",\"Romance\",\"Action\",\"Adventure\",\"Comedy\",\"Romance\",\"Action\",\"Adventure\",\"Drama\",\"Fantasy\",\"Romance\",\"Sci-Fi\",\"Thriller\",\"Drama\",\"Romance\",\"Animation\",\"Drama\",\"Mystery\",\"Sci-Fi\",\"Thriller\",\"Crime\",\"Horror\",\"Mystery\",\"Thriller\",\"Action\",\"Comedy\",\"Drama\",\"Romance\",\"Action\",\"Adventure\",\"Comedy\",\"Fantasy\",\"Horror\",\"Thriller\",\"Action\",\"Crime\",\"Drama\",\"Thriller\",\"Action\",\"Comedy\",\"Comedy\",\"Drama\",\"War\",\"Comedy\",\"Adventure\",\"Animation\",\"Children\",\"Comedy\",\"Crime\",\"Animation\",\"Children\",\"Drama\",\"Fantasy\",\"IMAX\",\"Action\",\"Adventure\",\"Drama\",\"Sci-Fi\",\"Drama\",\"Animation\",\"Children\",\"Comedy\",\"Fantasy\",\"Action\",\"Drama\",\"Sci-Fi\",\"Thriller\",\"Drama\",\"Crime\",\"Drama\",\"Drama\",\"Fantasy\",\"Horror\",\"Romance\",\"Thriller\",\"Action\",\"Thriller\",\"Drama\",\"Romance\",\"War\",\"Action\",\"Crime\",\"Drama\",\"Thriller\",\"Action\",\"Drama\",\"Action\",\"Thriller\",\"Action\",\"Adventure\",\"Animation\",\"Comedy\",\"Thriller\",\"Animation\",\"Drama\",\"Thriller\",\"War\",\"Drama\",\"Drama\",\"Animation\",\"Comedy\",\"Fantasy\",\"Drama\",\"Comedy\",\"Adventure\",\"Animation\",\"Children\",\"Comedy\",\"Sci-Fi\",\"Documentary\",\"Drama\",\"Crime\",\"Drama\",\"Fantasy\",\"Horror\",\"Thriller\",\"Drama\",\"Animation\",\"Children\",\"Fantasy\",\"Musical\",\"Romance\",\"Action\",\"Comedy\",\"Crime\",\"Drama\",\"Romance\",\"Fantasy\",\"Romance\",\"Action\",\"Adventure\",\"Fantasy\",\"Action\",\"Adventure\",\"Sci-Fi\",\"IMAX\",\"Comedy\",\"Romance\",\"Action\",\"Crime\",\"Mystery\",\"Thriller\",\"Drama\",\"Romance\",\"Animation\",\"Children\",\"Comedy\",\"Musical\",\"Comedy\",\"Comedy\",\"Horror\",\"Horror\",\"Thriller\",\"Comedy\",\"Drama\",\"Romance\",\"Action\",\"Drama\",\"Horror\",\"Thriller\",\"Drama\",\"Comedy\",\"Romance\",\"Action\",\"Adventure\",\"Drama\",\"Action\",\"Crime\",\"Mystery\",\"Crime\",\"Drama\",\"Crime\",\"Drama\",\"Comedy\",\"Crime\",\"Action\",\"Horror\",\"Thriller\",\"Action\",\"Adventure\",\"Comedy\",\"Comedy\",\"Romance\",\"Action\",\"Comedy\",\"Crime\",\"Action\",\"Comedy\",\"Drama\",\"Comedy\",\"Drama\",\"Action\",\"Crime\",\"Drama\",\"Thriller\",\"Adventure\",\"Children\",\"Comedy\",\"Fantasy\",\"Crime\",\"Drama\",\"Thriller\",\"Comedy\",\"Drama\",\"Adventure\",\"Animation\",\"Children\",\"Fantasy\",\"Musical\",\"Comedy\",\"Action\",\"Crime\",\"Drama\",\"Comedy\",\"Drama\",\"Romance\",\"Action\",\"Fantasy\",\"Horror\",\"Thriller\",\"Comedy\",\"Horror\",\"Children\",\"Fantasy\",\"Musical\",\"Animation\",\"Fantasy\",\"Horror\",\"Sci-Fi\",\"Comedy\",\"Romance\",\"Documentary\",\"Drama\",\"Drama\",\"Horror\",\"Mystery\",\"Thriller\",\"Comedy\",\"Drama\",\"Romance\",\"Children\",\"Drama\",\"Romance\",\"Drama\",\"Comedy\",\"Drama\",\"War\",\"Horror\",\"Thriller\",\"Comedy\",\"Romance\",\"Horror\",\"Thriller\",\"Drama\",\"Mystery\",\"Thriller\",\"Drama\",\"Romance\",\"Action\",\"Crime\",\"Drama\",\"Mystery\",\"Thriller\",\"Adventure\",\"Fantasy\",\"Action\",\"Comedy\",\"Crime\",\"Drama\",\"Mystery\",\"Thriller\",\"Animation\",\"Fantasy\",\"Action\",\"Children\",\"Comedy\",\"Adventure\",\"Drama\",\"Romance\",\"Comedy\",\"Action\",\"Sci-Fi\",\"Documentary\",\"Comedy\",\"Action\",\"Drama\",\"Horror\",\"Sci-Fi\",\"Thriller\",\"Drama\",\"Romance\",\"War\",\"Documentary\",\"Drama\",\"Comedy\",\"Fantasy\",\"Comedy\",\"Crime\",\"Drama\",\"Mystery\",\"Horror\",\"Thriller\",\"Comedy\",\"Drama\",\"Romance\",\"Adventure\",\"Fantasy\",\"IMAX\",\"Animation\",\"Action\",\"Drama\",\"Thriller\",\"War\",\"Action\",\"Crime\",\"Drama\",\"Horror\",\"Sci-Fi\",\"Comedy\",\"Drama\",\"Comedy\",\"Crime\",\"Drama\",\"Thriller\",\"Drama\",\"Romance\",\"Horror\",\"Thriller\",\"Western\",\"Drama\",\"Horror\",\"Thriller\",\"Action\",\"Adventure\",\"Sci-Fi\",\"Drama\",\"Comedy\",\"Action\",\"Comedy\",\"Romance\",\"Comedy\",\"Crime\",\"Drama\",\"Thriller\",\"Comedy\",\"Documentary\",\"Action\",\"Sci-Fi\",\"Thriller\",\"Horror\",\"Thriller\",\"Documentary\",\"Drama\",\"Comedy\",\"Comedy\",\"Sci-Fi\",\"Crime\",\"Drama\",\"Mystery\",\"Thriller\",\"Adventure\",\"Animation\",\"Children\",\"Fantasy\",\"IMAX\",\"Crime\",\"Thriller\",\"Comedy\",\"Crime\",\"Action\",\"Adventure\",\"Drama\",\"Fantasy\",\"Action\",\"Comedy\",\"Action\",\"Comedy\",\"Romance\",\"Animation\",\"Children\",\"Comedy\",\"Romance\",\"Documentary\",\"Action\",\"Adventure\",\"Comedy\",\"Crime\",\"Documentary\",\"Drama\",\"Musical\",\"Documentary\",\"Comedy\",\"Action\",\"Drama\",\"War\",\"Children\",\"Comedy\",\"Comedy\",\"Documentary\",\"Drama\",\"Action\",\"Adventure\",\"Drama\",\"Mystery\",\"Thriller\",\"Drama\",\"Romance\",\"Comedy\",\"Drama\",\"Romance\",\"Horror\",\"Comedy\",\"Documentary\",\"Action\",\"Adventure\",\"Sci-Fi\",\"Thriller\",\"IMAX\",\"Action\",\"Comedy\",\"Comedy\",\"Adventure\",\"Animation\",\"Drama\",\"Sci-Fi\",\"Fantasy\",\"Horror\",\"Thriller\",\"Comedy\",\"Drama\",\"Adventure\",\"Comedy\",\"Crime\",\"Drama\",\"Action\",\"Adventure\",\"Drama\",\"Romance\",\"War\",\"Drama\",\"Romance\",\"Action\",\"Drama\",\"Comedy\",\"Musical\",\"Sci-Fi\",\"Western\",\"Comedy\",\"Drama\",\"Romance\",\"Drama\",\"Romance\",\"Action\",\"Comedy\",\"Mystery\",\"Thriller\",\"Drama\",\"War\",\"Action\",\"Adventure\",\"Fantasy\",\"Romance\",\"IMAX\",\"Comedy\",\"Drama\",\"Comedy\",\"Drama\",\"War\",\"Comedy\",\"Comedy\",\"Drama\",\"Romance\",\"Comedy\",\"Drama\",\"Thriller\",\"Comedy\",\"Romance\",\"Horror\",\"Sci-Fi\",\"Thriller\",\"Drama\",\"Romance\",\"Mystery\",\"Thriller\",\"Action\",\"Drama\",\"Thriller\",\"Western\",\"Action\",\"Comedy\",\"Thriller\",\"Adventure\",\"Animation\",\"Children\",\"Comedy\",\"Fantasy\",\"IMAX\",\"Comedy\",\"Drama\",\"Thriller\",\"Comedy\",\"Western\",\"Comedy\",\"Horror\",\"Adventure\",\"Animation\",\"Children\",\"Comedy\",\"Fantasy\",\"IMAX\",\"Comedy\",\"Drama\",\"Fantasy\",\"Romance\",\"Documentary\",\"Fantasy\",\"Romance\",\"Thriller\",\"IMAX\",\"Drama\",\"Action\",\"Adventure\",\"Fantasy\",\"Drama\",\"Documentary\",\"Animation\",\"Comedy\",\"Fantasy\",\"Action\",\"Sci-Fi\",\"Thriller\",\"Documentary\",\"Animation\",\"Children\",\"Comedy\",\"Crime\",\"Action\",\"Crime\",\"Drama\",\"Mystery\",\"Sci-Fi\",\"Thriller\",\"IMAX\",\"Comedy\",\"Action\",\"Adventure\",\"Children\",\"Comedy\",\"Fantasy\",\"Action\",\"Comedy\",\"Romance\",\"Action\",\"Children\",\"Drama\",\"Comedy\",\"Drama\",\"Horror\",\"Thriller\",\"Drama\",\"Thriller\",\"Action\",\"Animation\",\"Action\",\"Thriller\",\"Comedy\",\"Crime\",\"Mystery\",\"Comedy\",\"Crime\",\"Romance\",\"Drama\",\"Fantasy\",\"Romance\",\"Sci-Fi\",\"Comedy\",\"Crime\",\"Drama\",\"Thriller\",\"Crime\",\"Action\",\"Children\",\"Comedy\",\"Comedy\",\"Romance\",\"Action\",\"Comedy\",\"Crime\",\"Documentary\",\"Comedy\",\"Drama\",\"Action\",\"Adventure\",\"Thriller\",\"Action\",\"Comedy\",\"Fantasy\",\"Musical\",\"Romance\",\"Drama\",\"Fantasy\",\"Horror\",\"Mystery\",\"Thriller\",\"Action\",\"Horror\",\"Thriller\",\"Action\",\"Adventure\",\"Fantasy\",\"Mystery\",\"Comedy\",\"Drama\",\"Mystery\",\"Comedy\",\"Drama\",\"Action\",\"Adventure\",\"Animation\",\"Fantasy\",\"Sci-Fi\",\"Horror\",\"Thriller\",\"Action\",\"Crime\",\"Drama\",\"Drama\",\"Thriller\",\"Comedy\",\"Documentary\",\"Action\",\"Horror\",\"Thriller\",\"Comedy\",\"Romance\",\"Action\",\"Adventure\",\"Comedy\",\"Crime\",\"Thriller\",\"Comedy\",\"Romance\",\"Action\",\"Horror\",\"Sci-Fi\",\"Thriller\",\"IMAX\",\"Drama\",\"Drama\",\"Documentary\",\"Drama\",\"Mystery\",\"Crime\",\"Drama\",\"Thriller\",\"Comedy\",\"Romance\",\"Drama\",\"Romance\",\"Drama\",\"Comedy\",\"Drama\",\"Comedy\",\"Drama\",\"Romance\",\"Comedy\",\"Drama\",\"Romance\",\"Drama\",\"Adventure\",\"Animation\",\"Fantasy\",\"IMAX\",\"Comedy\",\"Drama\",\"Comedy\",\"Crime\",\"Drama\",\"Adventure\",\"Children\",\"Fantasy\",\"Drama\",\"Horror\",\"Mystery\",\"Animation\",\"Fantasy\",\"Adventure\",\"Drama\",\"Horror\",\"Mystery\",\"Thriller\",\"Comedy\",\"Comedy\",\"Romance\",\"Documentary\",\"Mystery\",\"Comedy\",\"Romance\",\"Drama\",\"Thriller\",\"Documentary\",\"Drama\",\"Sci-Fi\",\"Drama\",\"Romance\",\"Sci-Fi\",\"Animation\",\"Drama\",\"Action\",\"Adventure\",\"Comedy\",\"Crime\",\"Drama\",\"Film-Noir\",\"Horror\",\"Mystery\",\"Thriller\",\"Western\",\"Action\",\"Comedy\",\"Documentary\",\"Documentary\",\"War\",\"Documentary\",\"Action\",\"Comedy\",\"Drama\",\"Comedy\",\"Romance\",\"Horror\",\"IMAX\",\"Drama\",\"Romance\",\"Drama\",\"Fantasy\",\"Action\",\"Crime\",\"Drama\",\"Horror\",\"Mystery\",\"Thriller\",\"Comedy\",\"Adventure\",\"Drama\",\"Thriller\",\"Action\",\"Animation\",\"Children\",\"Comedy\",\"Sci-Fi\",\"IMAX\",\"Drama\",\"Thriller\",\"Drama\",\"Romance\",\"Western\",\"Action\",\"Drama\",\"Thriller\",\"Comedy\",\"Drama\",\"Romance\",\"Drama\",\"Crime\",\"Drama\",\"Romance\",\"Thriller\",\"Drama\",\"Drama\",\"Comedy\",\"Drama\",\"Action\",\"Adventure\",\"Fantasy\",\"IMAX\",\"Drama\",\"Animation\",\"Children\",\"Comedy\",\"Fantasy\",\"Musical\",\"Romance\",\"IMAX\",\"Documentary\",\"Drama\",\"Comedy\",\"Drama\",\"Romance\",\"Horror\",\"Comedy\",\"Crime\",\"Drama\",\"Crime\",\"Romance\",\"Sci-Fi\",\"Thriller\",\"Drama\",\"Fantasy\",\"Romance\",\"Comedy\",\"Drama\",\"Romance\",\"Adventure\",\"Children\",\"Fantasy\",\"Drama\",\"Thriller\",\"Action\",\"Comedy\",\"Comedy\",\"Horror\",\"Thriller\",\"Drama\",\"Mystery\",\"Thriller\",\"Western\",\"Action\",\"Adventure\",\"Sci-Fi\",\"IMAX\",\"Comedy\",\"Drama\",\"Romance\",\"Drama\",\"Drama\",\"Action\",\"Drama\",\"Crime\",\"Thriller\",\"Drama\",\"Action\",\"Crime\",\"Drama\",\"Action\",\"Adventure\",\"Comedy\",\"Drama\",\"War\",\"Drama\",\"Comedy\",\"Comedy\",\"Adventure\",\"Comedy\",\"Fantasy\",\"Adventure\",\"Documentary\",\"Western\",\"Drama\",\"Musical\",\"Romance\",\"Animation\",\"Children\",\"Fantasy\",\"Comedy\",\"Horror\",\"Children\",\"Comedy\",\"Comedy\",\"Drama\",\"Action\",\"Comedy\",\"Crime\",\"Fantasy\",\"Thriller\",\"IMAX\",\"Drama\",\"Action\",\"Fantasy\",\"Western\",\"Adventure\",\"Drama\",\"Fantasy\",\"Drama\",\"Horror\",\"Action\",\"Sci-Fi\",\"Thriller\",\"Western\",\"IMAX\",\"Crime\",\"Drama\",\"Thriller\",\"Animation\",\"Children\",\"Documentary\",\"Comedy\",\"Drama\",\"Comedy\",\"Drama\",\"Romance\",\"Comedy\",\"Drama\",\"Sci-Fi\",\"Thriller\",\"Documentary\",\"Action\",\"Animation\",\"Drama\",\"Sci-Fi\",\"Crime\",\"Horror\",\"Thriller\",\"Drama\",\"Comedy\",\"Romance\",\"Documentary\",\"Comedy\",\"Romance\",\"Crime\",\"Drama\",\"Thriller\",\"Action\",\"Adventure\",\"Animation\",\"Sci-Fi\",\"Comedy\",\"Action\",\"Comedy\",\"Drama\",\"Comedy\",\"Drama\",\"Mystery\",\"Thriller\",\"Comedy\",\"Adventure\",\"Animation\",\"Children\",\"Comedy\",\"Fantasy\",\"Romance\",\"Comedy\",\"Thriller\",\"Comedy\",\"Drama\",\"Romance\",\"Adventure\",\"Comedy\",\"Sci-Fi\",\"Horror\",\"Sci-Fi\",\"Crime\",\"Drama\",\"Comedy\",\"Drama\",\"Romance\",\"Action\",\"Fantasy\",\"Thriller\",\"Action\",\"Adventure\",\"Animation\",\"Children\",\"Comedy\",\"Western\",\"Comedy\",\"Drama\",\"Drama\",\"Horror\",\"Romance\",\"Sci-Fi\",\"Thriller\",\"Action\",\"Drama\",\"Thriller\",\"Comedy\",\"Adventure\",\"Drama\",\"Action\",\"Sci-Fi\",\"Thriller\",\"IMAX\",\"Action\",\"Sci-Fi\",\"War\",\"Adventure\",\"Animation\",\"Comedy\",\"Sci-Fi\",\"Drama\",\"Animation\",\"Children\",\"Action\",\"Adventure\",\"Animation\",\"Children\",\"Comedy\",\"Sci-Fi\",\"IMAX\",\"Adventure\",\"Children\",\"Comedy\",\"Mystery\",\"Animation\",\"Children\",\"Action\",\"Comedy\",\"Action\",\"Crime\",\"Drama\",\"Action\",\"Crime\",\"Comedy\",\"Romance\",\"Documentary\",\"Fantasy\",\"Horror\",\"Mystery\",\"Thriller\",\"Comedy\",\"Action\",\"Comedy\",\"Drama\",\"Fantasy\",\"Horror\",\"Action\",\"Drama\",\"Mystery\",\"Sci-Fi\",\"Thriller\",\"Drama\",\"Romance\",\"Action\",\"Fantasy\",\"Thriller\",\"IMAX\",\"Comedy\",\"Romance\",\"Adventure\",\"Animation\",\"Children\",\"Sci-Fi\",\"Documentary\",\"Animation\",\"Comedy\",\"Sci-Fi\",\"Fantasy\",\"Horror\",\"Thriller\",\"Action\",\"Adventure\",\"Crime\",\"Thriller\",\"Comedy\",\"Drama\",\"Drama\",\"Romance\",\"Comedy\",\"Drama\",\"Comedy\",\"Comedy\",\"Crime\",\"Animation\",\"Children\",\"Comedy\",\"Comedy\",\"Horror\",\"Thriller\",\"Action\",\"Action\",\"Adventure\",\"Mystery\",\"Thriller\",\"Documentary\",\"Documentary\",\"Animation\",\"Children\",\"Comedy\",\"Horror\",\"Comedy\",\"Documentary\",\"Comedy\",\"Comedy\",\"Horror\",\"Mystery\",\"Thriller\",\"Adventure\",\"Animation\",\"Children\",\"Comedy\",\"Drama\",\"Sci-Fi\",\"Action\",\"Adventure\",\"Drama\",\"Fantasy\",\"IMAX\",\"Comedy\",\"Comedy\",\"Drama\",\"Mystery\",\"Sci-Fi\",\"Comedy\",\"Drama\",\"Documentary\",\"Drama\",\"Romance\",\"Adventure\",\"Documentary\",\"Action\",\"Crime\",\"Action\",\"Crime\",\"Drama\",\"Thriller\",\"IMAX\",\"Documentary\",\"Animation\",\"Drama\",\"Fantasy\",\"Drama\",\"Mystery\",\"War\",\"Action\",\"Drama\",\"Comedy\",\"Drama\",\"Romance\",\"Comedy\",\"Action\",\"Horror\",\"Sci-Fi\",\"Thriller\",\"Adventure\",\"Fantasy\",\"Sci-Fi\",\"Action\",\"Adventure\",\"Fantasy\",\"IMAX\",\"Comedy\",\"Fantasy\",\"Romance\",\"Action\",\"Crime\",\"Thriller\",\"Drama\",\"Comedy\",\"Comedy\",\"Thriller\",\"Drama\",\"Thriller\",\"Action\",\"Comedy\",\"Sci-Fi\",\"Adventure\",\"Comedy\",\"Drama\",\"Action\",\"Comedy\",\"Action\",\"Adventure\",\"Animation\",\"Children\",\"Comedy\",\"IMAX\",\"Action\",\"Adventure\",\"Sci-Fi\",\"Thriller\",\"War\",\"Comedy\",\"Drama\",\"Romance\",\"Documentary\",\"Comedy\",\"Drama\",\"Drama\",\"Mystery\",\"Sci-Fi\",\"Thriller\",\"IMAX\",\"Comedy\",\"Drama\",\"Action\",\"Adventure\",\"Sci-Fi\",\"Comedy\",\"Comedy\",\"Comedy\",\"Action\",\"Adventure\",\"Sci-Fi\",\"War\",\"IMAX\",\"Comedy\",\"Drama\",\"Romance\",\"Action\",\"Adventure\",\"Comedy\",\"Fantasy\",\"Drama\",\"Action\",\"Crime\",\"Thriller\",\"Animation\",\"Comedy\",\"Drama\",\"Comedy\",\"Comedy\",\"Crime\",\"Adventure\",\"Animation\",\"Children\",\"Comedy\",\"IMAX\",\"Documentary\",\"Comedy\",\"Crime\",\"Documentary\",\"Adventure\",\"Comedy\",\"Romance\",\"Action\",\"Adventure\",\"Drama\",\"Fantasy\",\"Mystery\",\"IMAX\",\"Crime\",\"Drama\",\"Film-Noir\",\"Thriller\",\"Action\",\"Adventure\",\"Sci-Fi\",\"Thriller\",\"War\",\"Comedy\",\"Drama\",\"Romance\",\"Drama\",\"Romance\",\"Comedy\",\"Crime\",\"Animation\",\"Children\",\"Comedy\",\"Horror\",\"Action\",\"Drama\",\"War\",\"Animation\",\"Comedy\",\"Animation\",\"Children\",\"Comedy\",\"Comedy\",\"Romance\",\"Comedy\",\"Drama\",\"Action\",\"Crime\",\"Thriller\",\"Crime\",\"Drama\",\"Thriller\",\"Comedy\",\"Drama\",\"Action\",\"Sci-Fi\",\"Thriller\",\"Action\",\"Drama\",\"Sci-Fi\",\"Thriller\",\"Comedy\",\"Comedy\",\"Drama\",\"Action\",\"Comedy\",\"Crime\",\"Comedy\",\"Horror\",\"Thriller\",\"IMAX\",\"Comedy\",\"Horror\",\"Thriller\",\"Comedy\",\"Horror\",\"Drama\",\"Romance\",\"Sci-Fi\",\"Drama\",\"Horror\",\"Drama\",\"Thriller\",\"Action\",\"Adventure\",\"Drama\",\"Thriller\",\"Documentary\",\"Drama\",\"Action\",\"Adventure\",\"Fantasy\",\"Horror\",\"Thriller\",\"Romance\",\"Thriller\",\"Adventure\",\"Comedy\",\"Action\",\"Crime\",\"Horror\",\"Thriller\",\"Documentary\",\"Musical\",\"Comedy\",\"Horror\",\"Thriller\",\"Sci-Fi\",\"Thriller\",\"IMAX\",\"Drama\",\"Drama\",\"Drama\",\"Thriller\",\"Adventure\",\"Animation\",\"Children\",\"Drama\",\"Romance\",\"Action\",\"Adventure\",\"Sci-Fi\",\"IMAX\",\"Drama\",\"Film-Noir\",\"Thriller\",\"Drama\",\"Drama\",\"Thriller\",\"Drama\",\"Drama\",\"Horror\",\"Mystery\",\"Thriller\",\"Action\",\"Thriller\",\"Action\",\"Drama\",\"Romance\",\"Comedy\",\"Drama\",\"Comedy\",\"Drama\",\"Sci-Fi\",\"Comedy\",\"Drama\",\"Romance\",\"Comedy\",\"Horror\",\"Sci-Fi\",\"Drama\",\"Action\",\"Drama\",\"Documentary\",\"Action\",\"Drama\",\"Sci-Fi\",\"IMAX\",\"Comedy\",\"Drama\",\"Musical\",\"Horror\",\"Mystery\",\"Sci-Fi\",\"Thriller\",\"Drama\",\"Drama\",\"Drama\",\"Thriller\",\"Drama\",\"Thriller\",\"Action\",\"Thriller\",\"War\",\"Action\",\"Adventure\",\"Crime\",\"Sci-Fi\",\"Thriller\",\"Drama\",\"Comedy\",\"Drama\",\"Drama\",\"Thriller\",\"Horror\",\"Drama\",\"Adventure\",\"Comedy\",\"Thriller\",\"Action\",\"Drama\",\"Mystery\",\"Thriller\",\"Crime\",\"Drama\",\"Thriller\",\"Drama\",\"Comedy\",\"Romance\",\"Action\",\"Crime\",\"Thriller\",\"Action\",\"Animation\",\"Crime\",\"Documentary\",\"Adventure\",\"Animation\",\"Comedy\",\"Fantasy\",\"IMAX\",\"Action\",\"Comedy\",\"Crime\",\"Drama\",\"Action\",\"Crime\",\"Drama\",\"Mystery\",\"Thriller\",\"Action\",\"Animation\",\"Mystery\",\"IMAX\",\"Documentary\",\"Drama\",\"Documentary\",\"Children\",\"Drama\",\"Mystery\",\"Action\",\"Drama\",\"Fantasy\",\"Comedy\",\"Documentary\",\"Adventure\",\"Crime\",\"Drama\",\"Comedy\",\"Drama\",\"Drama\",\"Romance\",\"Children\",\"Comedy\",\"Musical\",\"Adventure\",\"Drama\",\"Fantasy\",\"Romance\",\"Drama\",\"War\",\"Comedy\",\"Drama\",\"Thriller\",\"Animation\",\"Comedy\",\"Sci-Fi\",\"Drama\",\"Musical\",\"Romance\",\"Children\",\"Comedy\",\"Musical\",\"Romance\",\"Action\",\"Drama\",\"Fantasy\",\"Comedy\",\"Drama\",\"Comedy\",\"Romance\",\"Adventure\",\"Animation\",\"Children\",\"Comedy\",\"Adventure\",\"Animation\",\"Children\",\"Comedy\",\"Fantasy\",\"Animation\",\"Children\",\"Comedy\",\"IMAX\",\"Animation\",\"Children\",\"Comedy\",\"Drama\",\"Action\",\"Drama\",\"Action\",\"Crime\",\"Film-Noir\",\"Action\",\"Adventure\",\"Animation\",\"Children\",\"Musical\",\"Action\",\"Adventure\",\"Drama\",\"Sci-Fi\",\"Thriller\",\"Action\",\"Adventure\",\"Crime\",\"IMAX\",\"Action\",\"Adventure\",\"Drama\",\"Thriller\",\"IMAX\",\"Action\",\"Adventure\",\"Comedy\",\"Crime\",\"Mystery\",\"Thriller\",\"Drama\",\"Thriller\",\"Comedy\",\"Drama\",\"Comedy\",\"Romance\",\"Action\",\"Adventure\",\"Thriller\",\"IMAX\",\"Comedy\",\"Drama\",\"Drama\",\"Thriller\",\"Action\",\"Horror\",\"Sci-Fi\",\"Thriller\",\"Comedy\",\"Drama\",\"Romance\",\"Animation\",\"Comedy\",\"Comedy\",\"Thriller\",\"Comedy\",\"Comedy\",\"Drama\",\"Fantasy\",\"Action\",\"Crime\",\"Drama\",\"Thriller\",\"Documentary\",\"Documentary\",\"Comedy\",\"Musical\",\"Drama\",\"Drama\",\"Comedy\",\"Horror\",\"Action\",\"Fantasy\",\"Horror\",\"IMAX\",\"Action\",\"Drama\",\"Crime\",\"Thriller\",\"Drama\",\"Action\",\"Thriller\",\"Comedy\",\"Drama\",\"Thriller\",\"Drama\",\"Horror\",\"Sci-Fi\",\"Thriller\",\"Action\",\"Drama\",\"Thriller\",\"Action\",\"Adventure\",\"Drama\",\"War\",\"Drama\",\"War\",\"Comedy\",\"Drama\",\"Action\",\"Comedy\",\"Crime\",\"Horror\",\"Thriller\",\"Adventure\",\"Animation\",\"Children\",\"Comedy\",\"Fantasy\",\"Romance\",\"Horror\",\"Action\",\"Sci-Fi\",\"Thriller\",\"Drama\",\"Horror\",\"Thriller\",\"Comedy\",\"Drama\",\"Romance\",\"Documentary\",\"Comedy\",\"Documentary\",\"Action\",\"Crime\",\"Mystery\",\"Thriller\",\"Drama\",\"Romance\",\"Comedy\",\"Crime\",\"Drama\",\"Fantasy\",\"Children\",\"Comedy\",\"Drama\",\"Comedy\",\"Drama\",\"Romance\",\"Drama\",\"Musical\",\"Action\",\"Adventure\",\"Comedy\",\"Sci-Fi\",\"IMAX\",\"Drama\",\"Romance\",\"Sci-Fi\",\"Children\",\"Fantasy\",\"Horror\",\"Sci-Fi\",\"Action\",\"Fantasy\",\"Thriller\",\"Drama\",\"Comedy\",\"Musical\",\"Comedy\",\"Musical\",\"Comedy\",\"Crime\",\"Documentary\",\"War\",\"Comedy\",\"Drama\",\"Comedy\",\"Action\",\"Adventure\",\"Horror\",\"Crime\",\"Thriller\",\"Western\",\"Animation\",\"Children\",\"Drama\",\"Thriller\",\"Comedy\",\"Animation\",\"Fantasy\",\"Musical\",\"IMAX\",\"Comedy\",\"Action\",\"Thriller\",\"War\",\"Comedy\",\"Crime\",\"Action\",\"Comedy\",\"Romance\",\"Action\",\"Adventure\",\"Sci-Fi\",\"IMAX\",\"Comedy\",\"Drama\",\"Drama\",\"Thriller\",\"Action\",\"Comedy\",\"Crime\",\"Comedy\",\"Drama\",\"Action\",\"Sci-Fi\",\"Thriller\",\"Crime\",\"Drama\",\"Thriller\",\"Action\",\"Adventure\",\"Drama\",\"Documentary\",\"Comedy\",\"Romance\",\"Comedy\",\"Drama\",\"Romance\",\"Action\",\"Adventure\",\"Fantasy\",\"IMAX\",\"Drama\",\"Action\",\"Comedy\",\"Sci-Fi\",\"Horror\",\"Comedy\",\"Action\",\"Crime\",\"Comedy\",\"Horror\",\"Sci-Fi\",\"Thriller\",\"Comedy\",\"Drama\",\"Comedy\",\"Mystery\",\"Thriller\",\"Drama\",\"Romance\",\"Action\",\"Thriller\",\"Adventure\",\"Comedy\",\"Fantasy\",\"Action\",\"Sci-Fi\",\"Thriller\",\"IMAX\",\"Comedy\",\"Drama\",\"Documentary\",\"Documentary\",\"Comedy\",\"Romance\",\"Action\",\"Animation\",\"Fantasy\",\"Sci-Fi\",\"Thriller\",\"Comedy\",\"Romance\",\"Comedy\",\"Drama\",\"Action\",\"Crime\",\"Thriller\",\"Comedy\",\"Horror\",\"IMAX\",\"Drama\",\"Thriller\",\"Comedy\",\"Romance\",\"Comedy\",\"Drama\",\"Comedy\",\"Documentary\",\"Action\",\"Comedy\",\"Sci-Fi\",\"IMAX\",\"Action\",\"Adventure\",\"Drama\",\"Drama\",\"Mystery\",\"Sci-Fi\",\"Drama\",\"Fantasy\",\"Sci-Fi\",\"Adventure\",\"Animation\",\"Children\",\"Comedy\",\"Action\",\"Horror\",\"Sci-Fi\",\"IMAX\",\"Horror\",\"Mystery\",\"Thriller\",\"Comedy\",\"Crime\",\"Drama\",\"Drama\",\"Thriller\",\"Drama\",\"Romance\",\"Comedy\",\"Comedy\",\"Drama\",\"Romance\",\"Action\",\"Crime\",\"Drama\",\"Thriller\",\"Action\",\"Animation\",\"Comedy\",\"Drama\",\"Comedy\",\"Drama\",\"Adventure\",\"Animation\",\"Children\",\"Comedy\",\"IMAX\",\"Comedy\",\"Drama\",\"Action\",\"Adventure\",\"Animation\",\"Children\",\"Action\",\"Adventure\",\"Animation\",\"Children\",\"Action\",\"Animation\",\"Fantasy\",\"Action\",\"Adventure\",\"Animation\",\"Children\",\"Action\",\"Adventure\",\"Animation\",\"Sci-Fi\",\"Thriller\",\"Action\",\"Adventure\",\"Animation\",\"Children\",\"Animation\",\"Children\",\"Fantasy\",\"Musical\",\"Drama\",\"Action\",\"Adventure\",\"Animation\",\"Sci-Fi\",\"Adventure\",\"Animation\",\"Children\",\"Comedy\",\"Drama\",\"Romance\",\"Comedy\",\"Action\",\"Fantasy\",\"Horror\",\"Thriller\",\"Documentary\",\"Comedy\",\"Drama\",\"Musical\",\"IMAX\",\"Comedy\",\"Drama\",\"Romance\",\"Animation\",\"Children\",\"Comedy\",\"Fantasy\",\"Adventure\",\"Animation\",\"Children\",\"Comedy\",\"Animation\",\"Comedy\",\"Musical\",\"Comedy\",\"Fantasy\",\"Drama\",\"Romance\",\"Action\",\"Adventure\",\"Animation\",\"Action\",\"Adventure\",\"Animation\",\"Action\",\"Adventure\",\"Animation\",\"Action\",\"Adventure\",\"Animation\",\"Crime\",\"Drama\",\"Thriller\",\"Action\",\"Adventure\",\"Sci-Fi\",\"IMAX\",\"Action\",\"Adventure\",\"Animation\",\"Fantasy\",\"Adventure\",\"Animation\",\"Comedy\",\"Drama\",\"Fantasy\",\"Crime\",\"Drama\",\"Thriller\",\"Drama\",\"Horror\",\"Animation\",\"Children\",\"Comedy\",\"Thriller\",\"Adventure\",\"Comedy\",\"Sci-Fi\",\"Children\",\"Musical\",\"Mystery\",\"Comedy\",\"Crime\",\"Thriller\",\"Action\",\"Adventure\",\"Animation\",\"Action\",\"Adventure\",\"Animation\",\"Action\",\"Horror\",\"Sci-Fi\",\"Thriller\",\"Drama\",\"Fantasy\",\"Comedy\",\"Fantasy\",\"Romance\",\"Animation\",\"Children\",\"Comedy\",\"Comedy\",\"Fantasy\",\"Romance\",\"Action\",\"Sci-Fi\",\"Thriller\",\"Comedy\",\"Drama\",\"Comedy\",\"Action\",\"Adventure\",\"Animation\",\"Action\",\"Adventure\",\"Animation\",\"Action\",\"Adventure\",\"Animation\",\"Drama\",\"Action\",\"Adventure\",\"Thriller\",\"IMAX\",\"Drama\",\"Comedy\",\"Crime\",\"Thriller\",\"Comedy\",\"Drama\",\"Documentary\",\"Adventure\",\"Animation\",\"Comedy\",\"Children\",\"Comedy\",\"Drama\",\"Documentary\",\"Action\",\"Thriller\",\"Comedy\",\"Drama\",\"Fantasy\",\"Crime\",\"Drama\",\"Comedy\",\"Horror\",\"Crime\",\"Drama\",\"Mystery\",\"Documentary\",\"Drama\",\"Thriller\",\"Drama\",\"Mystery\",\"Comedy\",\"Romance\",\"Documentary\",\"Drama\",\"Romance\",\"Comedy\",\"Musical\",\"Documentary\",\"Animation\",\"Comedy\",\"Sci-Fi\",\"Action\",\"Crime\",\"Sci-Fi\",\"Comedy\",\"Comedy\",\"Drama\",\"Sci-Fi\",\"Action\",\"Horror\",\"Sci-Fi\",\"IMAX\",\"Comedy\",\"Romance\",\"Drama\",\"Action\",\"Sci-Fi\",\"Crime\",\"Drama\",\"Thriller\",\"Horror\",\"Thriller\",\"Drama\",\"Romance\",\"Drama\",\"Drama\",\"Fantasy\",\"Musical\",\"Mystery\",\"Sci-Fi\",\"Action\",\"Crime\",\"Drama\",\"Thriller\",\"Horror\",\"Thriller\",\"Comedy\",\"Fantasy\",\"Romance\",\"Comedy\",\"Drama\",\"Romance\",\"Crime\",\"Drama\",\"Mystery\",\"Comedy\",\"Drama\",\"Romance\",\"Drama\",\"Romance\",\"Documentary\",\"Animation\",\"Comedy\",\"Horror\",\"IMAX\",\"Horror\",\"Thriller\",\"Documentary\",\"Animation\",\"Children\",\"Comedy\",\"Documentary\",\"Action\",\"Crime\",\"Mystery\",\"Drama\",\"Thriller\",\"Comedy\",\"Crime\",\"Comedy\",\"Drama\",\"Action\",\"Drama\",\"Thriller\",\"Horror\",\"Thriller\",\"Adventure\",\"Comedy\",\"Horror\",\"IMAX\",\"Action\",\"Crime\",\"Mystery\",\"Thriller\",\"Drama\",\"Sci-Fi\",\"IMAX\",\"Action\",\"Adventure\",\"Comedy\",\"Documentary\",\"Fantasy\",\"Horror\",\"Mystery\",\"Thriller\",\"Action\",\"Comedy\",\"Comedy\",\"Drama\",\"Crime\",\"Drama\",\"Thriller\",\"Documentary\",\"Drama\",\"Comedy\",\"Drama\",\"Animation\",\"Comedy\",\"Comedy\",\"Drama\",\"Drama\",\"Drama\",\"Adventure\",\"Drama\",\"IMAX\",\"Action\",\"Adventure\",\"Crime\",\"Horror\",\"Sci-Fi\",\"Thriller\",\"Children\",\"Crime\",\"Drama\",\"Comedy\",\"Documentary\",\"Documentary\",\"Action\",\"Animation\",\"Sci-Fi\",\"Drama\",\"War\",\"Comedy\",\"Comedy\",\"Horror\",\"Romance\",\"Adventure\",\"Drama\",\"Fantasy\",\"Romance\",\"IMAX\",\"Comedy\",\"Drama\",\"Romance\",\"Action\",\"War\",\"Adventure\",\"Animation\",\"Children\",\"Fantasy\",\"IMAX\",\"Comedy\",\"Crime\",\"Drama\",\"Thriller\",\"Drama\",\"Fantasy\",\"Thriller\",\"Animation\",\"Comedy\",\"Romance\",\"Action\",\"Comedy\",\"Action\",\"Comedy\",\"Drama\",\"Animation\",\"Drama\",\"Romance\",\"Action\",\"Animation\",\"Sci-Fi\",\"Action\",\"Comedy\",\"Crime\",\"Action\",\"Comedy\",\"Adventure\",\"Comedy\",\"Animation\",\"Comedy\",\"Adventure\",\"Fantasy\",\"IMAX\",\"Comedy\",\"Drama\",\"Comedy\",\"Romance\",\"Action\",\"Drama\",\"Thriller\",\"Action\",\"Crime\",\"Drama\",\"Comedy\",\"Horror\",\"Romance\",\"Comedy\",\"Drama\",\"Comedy\",\"Romance\",\"Comedy\",\"Action\",\"Crime\",\"Thriller\",\"Action\",\"Drama\",\"Western\",\"Drama\",\"Comedy\",\"Horror\",\"Comedy\",\"Horror\",\"Drama\",\"Thriller\",\"Drama\",\"Musical\",\"Romance\",\"IMAX\",\"Horror\",\"Comedy\",\"Comedy\",\"Fantasy\",\"Horror\",\"Drama\",\"Romance\",\"Drama\",\"Comedy\",\"Drama\",\"Comedy\",\"Horror\",\"Mystery\",\"Thriller\",\"Action\",\"Crime\",\"Drama\",\"Crime\",\"Drama\",\"Thriller\",\"Animation\",\"Comedy\",\"Drama\",\"Fantasy\",\"Sci-Fi\",\"Action\",\"Animation\",\"Documentary\",\"Comedy\",\"Romance\",\"Sci-Fi\",\"Action\",\"Crime\",\"Thriller\",\"Romance\",\"Sci-Fi\",\"Thriller\",\"Crime\",\"Drama\",\"Thriller\",\"Documentary\",\"Comedy\",\"Comedy\",\"Documentary\",\"Comedy\",\"Action\",\"Fantasy\",\"Horror\",\"IMAX\",\"Comedy\",\"Comedy\",\"Drama\",\"Drama\",\"Romance\",\"Drama\",\"Romance\",\"Sci-Fi\",\"Action\",\"Thriller\",\"Drama\",\"Horror\",\"Comedy\",\"Crime\",\"Crime\",\"Drama\",\"Mystery\",\"Thriller\",\"Comedy\",\"Crime\",\"Horror\",\"Drama\",\"Fantasy\",\"Romance\",\"Action\",\"Crime\",\"Thriller\",\"IMAX\",\"Comedy\",\"Drama\",\"Mystery\",\"Romance\",\"Documentary\",\"Documentary\",\"Action\",\"Sci-Fi\",\"Thriller\",\"Adventure\",\"Animation\",\"Comedy\",\"Sci-Fi\",\"Drama\",\"Romance\",\"Action\",\"Drama\",\"Thriller\",\"Horror\",\"Sci-Fi\",\"Thriller\",\"Comedy\",\"Drama\",\"Adventure\",\"Comedy\",\"Fantasy\",\"Romance\",\"IMAX\",\"Action\",\"Horror\",\"Thriller\",\"Adventure\",\"Fantasy\",\"IMAX\",\"Drama\",\"Comedy\",\"Animation\",\"Comedy\",\"Horror\",\"Musical\",\"Action\",\"Adventure\",\"Sci-Fi\",\"Thriller\",\"IMAX\",\"Drama\",\"Mystery\",\"Thriller\",\"Action\",\"Adventure\",\"Fantasy\",\"IMAX\",\"Adventure\",\"Animation\",\"Comedy\",\"Comedy\",\"Drama\",\"Thriller\",\"Action\",\"Thriller\",\"Comedy\",\"Drama\",\"Romance\",\"Action\",\"Animation\",\"Comedy\",\"Crime\",\"Drama\",\"Comedy\",\"Fantasy\",\"Thriller\",\"Drama\",\"Action\",\"Adventure\",\"Romance\",\"Comedy\",\"Romance\",\"Horror\",\"Crime\",\"Thriller\",\"Adventure\",\"Comedy\",\"Romance\",\"Action\",\"Adventure\",\"Sci-Fi\",\"IMAX\",\"Adventure\",\"Drama\",\"Thriller\",\"Drama\",\"Animation\",\"Fantasy\",\"Drama\",\"Thriller\",\"Animation\",\"Children\",\"Horror\",\"Sci-Fi\",\"Action\",\"Comedy\",\"Crime\",\"Animation\",\"Horror\",\"Thriller\",\"Comedy\",\"Horror\",\"Sci-Fi\",\"Action\",\"Animation\",\"Fantasy\",\"Action\",\"Drama\",\"IMAX\",\"Action\",\"Comedy\",\"Action\",\"Sci-Fi\",\"Thriller\",\"IMAX\",\"Comedy\",\"Drama\",\"Adventure\",\"Crime\",\"Drama\",\"Comedy\",\"Crime\",\"Thriller\",\"Action\",\"Adventure\",\"Drama\",\"Comedy\",\"Drama\",\"Drama\",\"Action\",\"Adventure\",\"Sci-Fi\",\"IMAX\",\"Comedy\",\"Documentary\",\"Fantasy\",\"Comedy\",\"Adventure\",\"Comedy\",\"Drama\",\"Thriller\",\"Comedy\",\"Action\",\"Crime\",\"Thriller\",\"IMAX\",\"Adventure\",\"Animation\",\"Fantasy\",\"Action\",\"Drama\",\"Documentary\",\"Comedy\",\"Action\",\"Crime\",\"Comedy\",\"Crime\",\"Drama\",\"Comedy\",\"Drama\",\"Horror\",\"Thriller\",\"Drama\",\"Documentary\",\"Documentary\",\"Action\",\"Adventure\",\"Sci-Fi\",\"IMAX\",\"Crime\",\"Mystery\",\"Thriller\",\"Horror\",\"Thriller\",\"Comedy\",\"Drama\",\"Comedy\",\"Drama\",\"Romance\",\"Action\",\"Adventure\",\"Fantasy\",\"Sci-Fi\",\"IMAX\",\"Comedy\",\"Crime\",\"Horror\",\"Thriller\",\"Comedy\",\"Fantasy\",\"Documentary\",\"Crime\",\"Drama\",\"Adventure\",\"Animation\",\"Comedy\",\"Comedy\",\"Action\",\"Adventure\",\"Animation\",\"Horror\",\"Thriller\",\"Comedy\",\"Romance\",\"Action\",\"Adventure\",\"Sci-Fi\",\"IMAX\",\"Action\",\"Adventure\",\"Animation\",\"Thriller\",\"Comedy\",\"Drama\",\"Romance\",\"Action\",\"Drama\",\"Horror\",\"IMAX\",\"Action\",\"Drama\",\"Sci-Fi\",\"IMAX\",\"Animation\",\"Children\",\"Comedy\",\"IMAX\",\"Action\",\"Drama\",\"Thriller\",\"IMAX\",\"Action\",\"Comedy\",\"Sci-Fi\",\"Action\",\"Crime\",\"Thriller\",\"Action\",\"Comedy\",\"Crime\",\"Action\",\"Adventure\",\"Western\",\"IMAX\",\"Crime\",\"Drama\",\"Mystery\",\"Thriller\",\"Horror\",\"Thriller\",\"Comedy\",\"Romance\",\"Comedy\",\"Drama\",\"Romance\",\"Comedy\",\"Drama\",\"Sci-Fi\",\"Comedy\",\"Documentary\",\"Comedy\",\"Drama\",\"Romance\",\"Comedy\",\"Drama\",\"Action\",\"Comedy\",\"Fantasy\",\"Drama\",\"Fantasy\",\"Thriller\",\"War\",\"Horror\",\"Thriller\",\"Adventure\",\"Animation\",\"Children\",\"Comedy\",\"Fantasy\",\"Action\",\"Adventure\",\"Fantasy\",\"Sci-Fi\",\"Comedy\",\"Drama\",\"Romance\",\"Action\",\"Comedy\",\"Crime\",\"Thriller\",\"Comedy\",\"Comedy\",\"Drama\",\"Action\",\"Comedy\",\"Crime\",\"Drama\",\"Comedy\",\"Drama\",\"Action\",\"Adventure\",\"Sci-Fi\",\"Comedy\",\"Adventure\",\"Children\",\"Fantasy\",\"Animation\",\"Children\",\"Comedy\",\"Comedy\",\"Action\",\"IMAX\",\"Action\",\"Animation\",\"Children\",\"Crime\",\"Comedy\",\"Crime\",\"Comedy\",\"Action\",\"Comedy\",\"Crime\",\"Action\",\"Sci-Fi\",\"Thriller\",\"IMAX\",\"Adventure\",\"Animation\",\"Comedy\",\"Documentary\",\"Animation\",\"Drama\",\"Romance\",\"Drama\",\"Drama\",\"Comedy\",\"Drama\",\"Fantasy\",\"Romance\",\"Action\",\"Animation\",\"Sci-Fi\",\"Horror\",\"Thriller\",\"Comedy\",\"Action\",\"Crime\",\"Adventure\",\"Animation\",\"Sci-Fi\",\"Action\",\"Crime\",\"Action\",\"Sci-Fi\",\"IMAX\",\"Comedy\",\"Drama\",\"Romance\",\"Adventure\",\"Comedy\",\"Musical\",\"Sci-Fi\",\"Drama\",\"Mystery\",\"Thriller\",\"Comedy\",\"Romance\",\"Horror\",\"Thriller\",\"Action\",\"Drama\",\"Action\",\"Comedy\",\"Crime\",\"Drama\",\"Action\",\"Comedy\",\"Thriller\",\"Comedy\",\"Action\",\"Drama\",\"War\",\"Adventure\",\"Drama\",\"Comedy\",\"Drama\",\"Romance\",\"Comedy\",\"Drama\",\"Romance\",\"Drama\",\"Fantasy\",\"Documentary\",\"Adventure\",\"Comedy\",\"Comedy\",\"Horror\",\"Crime\",\"Drama\",\"Thriller\",\"Drama\",\"Romance\",\"Animation\",\"Children\",\"Comedy\",\"Fantasy\",\"Adventure\",\"Drama\",\"Thriller\",\"IMAX\",\"Animation\",\"Children\",\"Comedy\",\"Musical\",\"Action\",\"Crime\",\"Thriller\",\"Comedy\",\"Crime\",\"Drama\",\"Action\",\"Mystery\",\"Thriller\",\"Comedy\",\"Crime\",\"Drama\",\"Drama\",\"Horror\",\"Documentary\",\"Crime\",\"Drama\",\"Thriller\",\"Drama\",\"Fantasy\",\"Horror\",\"Comedy\",\"Drama\",\"Thriller\",\"Drama\",\"Action\",\"Adventure\",\"Drama\",\"Action\",\"Adventure\",\"Sci-Fi\",\"IMAX\",\"Comedy\",\"Action\",\"Adventure\",\"Fantasy\",\"IMAX\",\"Drama\",\"Drama\",\"Comedy\",\"Drama\",\"Romance\",\"Comedy\",\"Drama\",\"Children\",\"Drama\",\"War\",\"Action\",\"Adventure\",\"Sci-Fi\",\"IMAX\",\"Adventure\",\"Fantasy\",\"IMAX\",\"Action\",\"Adventure\",\"Fantasy\",\"Comedy\",\"Action\",\"Comedy\",\"Romance\",\"Comedy\",\"Drama\",\"Romance\",\"Adventure\",\"Drama\",\"Sci-Fi\",\"Crime\",\"Drama\",\"Horror\",\"Adventure\",\"Animation\",\"Comedy\",\"Fantasy\",\"Musical\",\"Romance\",\"Drama\",\"Comedy\",\"Crime\",\"Drama\",\"Action\",\"Crime\",\"Thriller\",\"Drama\",\"Action\",\"Animation\",\"Drama\",\"Comedy\",\"Drama\",\"Documentary\",\"Crime\",\"Drama\",\"Adventure\",\"Comedy\",\"Drama\",\"Drama\",\"Romance\",\"Sci-Fi\",\"Action\",\"Comedy\",\"Sci-Fi\",\"Drama\",\"Fantasy\",\"Action\",\"Drama\",\"Thriller\",\"War\",\"Comedy\",\"Drama\",\"Action\",\"Drama\",\"Action\",\"Drama\",\"Mystery\",\"Comedy\",\"Crime\",\"Comedy\",\"Action\",\"Drama\",\"Sci-Fi\",\"Comedy\",\"Drama\",\"War\",\"Adventure\",\"Drama\",\"Sci-Fi\",\"Comedy\",\"Romance\",\"Horror\",\"Mystery\",\"Thriller\",\"Comedy\",\"Crime\",\"Children\",\"Comedy\",\"Action\",\"Crime\",\"Thriller\",\"Comedy\",\"Comedy\",\"Comedy\",\"Action\",\"Adventure\",\"Fantasy\",\"Drama\",\"Horror\",\"Romance\",\"Musical\",\"Action\",\"Adventure\",\"Thriller\",\"Comedy\",\"Crime\",\"Action\",\"Animation\",\"Fantasy\",\"IMAX\",\"Action\",\"Thriller\",\"Drama\",\"Horror\",\"Mystery\",\"Thriller\",\"Animation\",\"Children\",\"Comedy\",\"Romance\",\"Action\",\"Adventure\",\"Animation\",\"Children\",\"Action\",\"Comedy\",\"Action\",\"Drama\",\"Thriller\",\"IMAX\",\"Adventure\",\"Romance\",\"Sci-Fi\",\"IMAX\",\"Drama\",\"Adventure\",\"Animation\",\"Children\",\"Comedy\",\"Drama\",\"Romance\",\"Drama\",\"Action\",\"Fantasy\",\"Sci-Fi\",\"IMAX\",\"Comedy\",\"Drama\",\"Drama\",\"Mystery\",\"Thriller\",\"Action\",\"Adventure\",\"Animation\",\"Fantasy\",\"Action\",\"Drama\",\"War\",\"Action\",\"Adventure\",\"Animation\",\"Children\",\"Comedy\",\"Fantasy\",\"Action\",\"Crime\",\"Sci-Fi\",\"IMAX\",\"Crime\",\"Drama\",\"Mystery\",\"Adventure\",\"Comedy\",\"Fantasy\",\"Drama\",\"Comedy\",\"Drama\",\"Fantasy\",\"Sci-Fi\",\"Drama\",\"Fantasy\",\"Mystery\",\"Action\",\"Comedy\",\"Crime\",\"Documentary\",\"Crime\",\"Drama\",\"Thriller\",\"Comedy\",\"Comedy\",\"Comedy\",\"Romance\",\"Comedy\",\"Drama\",\"Animation\",\"Comedy\",\"Drama\",\"Romance\",\"Comedy\",\"Comedy\",\"Romance\",\"Sci-Fi\",\"IMAX\",\"Action\",\"Crime\",\"Drama\",\"Comedy\",\"Action\",\"Mystery\",\"Thriller\",\"Animation\",\"Drama\",\"Animation\",\"Romance\",\"Action\",\"Drama\",\"War\",\"IMAX\",\"Documentary\",\"Crime\",\"Drama\",\"Thriller\",\"Adventure\",\"Animation\",\"Comedy\",\"Horror\",\"Sci-Fi\",\"Thriller\",\"Action\",\"Crime\",\"Drama\",\"IMAX\",\"Comedy\",\"Drama\",\"Romance\",\"Comedy\",\"Crime\",\"Drama\",\"Comedy\",\"Drama\",\"Animation\",\"Comedy\",\"Action\",\"Drama\",\"Comedy\",\"Action\",\"Adventure\",\"Sci-Fi\",\"IMAX\",\"Adventure\",\"Drama\",\"IMAX\",\"Adventure\",\"Animation\",\"Children\",\"Comedy\",\"Comedy\",\"Drama\",\"Romance\",\"Horror\",\"Thriller\",\"Adventure\",\"Comedy\",\"Crime\",\"Drama\",\"Documentary\",\"Documentary\",\"Action\",\"Crime\",\"Thriller\",\"Action\",\"Comedy\",\"Action\",\"Sci-Fi\",\"IMAX\",\"Comedy\",\"Drama\",\"Horror\",\"Drama\",\"Drama\",\"Thriller\",\"Adventure\",\"Animation\",\"Children\",\"Comedy\",\"Comedy\",\"Documentary\",\"Comedy\",\"Drama\",\"Sci-Fi\",\"IMAX\",\"Comedy\",\"Horror\",\"Comedy\",\"Romance\",\"Comedy\",\"Horror\",\"Action\",\"Animation\",\"Children\",\"Comedy\",\"Musical\",\"Action\",\"Crime\",\"Drama\",\"Drama\",\"Comedy\",\"Action\",\"Adventure\",\"Animation\",\"Children\",\"Comedy\",\"Comedy\",\"Action\",\"Sci-Fi\",\"Action\",\"Adventure\",\"Sci-Fi\",\"Action\",\"Adventure\",\"Sci-Fi\",\"IMAX\",\"Comedy\",\"Thriller\",\"Comedy\",\"Horror\",\"Sci-Fi\",\"Thriller\",\"Comedy\",\"Comedy\",\"Romance\",\"Action\",\"Adventure\",\"Children\",\"IMAX\",\"Action\",\"Comedy\",\"Horror\",\"Comedy\",\"Romance\",\"Drama\",\"Fantasy\",\"Comedy\",\"Western\",\"Action\",\"Sci-Fi\",\"IMAX\",\"Action\",\"Adventure\",\"Thriller\",\"Action\",\"Adventure\",\"Fantasy\",\"Comedy\",\"Drama\",\"Comedy\",\"Drama\",\"Action\",\"Drama\",\"Drama\",\"Drama\",\"Romance\",\"Action\",\"Animation\",\"Children\",\"Drama\",\"Action\",\"Comedy\",\"Crime\",\"Action\",\"Crime\",\"Thriller\",\"Action\",\"Adventure\",\"Animation\",\"Comedy\",\"Drama\",\"Drama\",\"Comedy\",\"Romance\",\"Drama\",\"Musical\",\"Action\",\"Sci-Fi\",\"Documentary\",\"Action\",\"Adventure\",\"Sci-Fi\",\"Comedy\",\"Drama\",\"Mystery\",\"Comedy\",\"Romance\",\"Drama\",\"Adventure\",\"Animation\",\"Comedy\",\"Comedy\",\"Animation\",\"Drama\",\"Fantasy\",\"Mystery\",\"Drama\",\"Horror\",\"Thriller\",\"Drama\",\"Drama\",\"Thriller\",\"Comedy\",\"Drama\",\"Sci-Fi\",\"Crime\",\"Horror\",\"Thriller\",\"Comedy\",\"Drama\",\"Romance\",\"Comedy\",\"Drama\",\"Sci-Fi\",\"Action\",\"Horror\",\"Thriller\",\"Action\",\"Adventure\",\"Sci-Fi\",\"Sci-Fi\",\"Thriller\",\"Action\",\"Adventure\",\"Action\",\"Adventure\",\"Thriller\",\"Comedy\",\"Horror\",\"Romance\",\"Thriller\",\"Drama\",\"Musical\",\"Comedy\",\"Drama\",\"Romance\",\"Comedy\",\"Horror\",\"Thriller\",\"Comedy\",\"Drama\",\"Action\",\"Animation\",\"Crime\",\"Thriller\",\"Drama\",\"Horror\",\"Thriller\",\"Action\",\"Adventure\",\"Sci-Fi\",\"Action\",\"Adventure\",\"Comedy\",\"Drama\",\"Mystery\",\"Sci-Fi\",\"Animation\",\"Comedy\",\"Drama\",\"Sci-Fi\",\"Comedy\",\"Drama\",\"Action\",\"Crime\",\"Drama\",\"Comedy\",\"Crime\",\"Comedy\",\"Horror\",\"Thriller\",\"Action\",\"Crime\",\"Thriller\",\"Drama\",\"Drama\",\"Drama\",\"Mystery\",\"Sci-Fi\",\"Thriller\",\"Horror\",\"Thriller\",\"Comedy\",\"Drama\",\"Romance\",\"Crime\",\"Drama\",\"Thriller\",\"Thriller\",\"Comedy\",\"Drama\",\"Horror\",\"Crime\",\"Drama\",\"Thriller\",\"Documentary\",\"Drama\",\"Musical\",\"Drama\",\"Documentary\",\"Action\",\"Mystery\",\"Sci-Fi\",\"Drama\",\"Action\",\"Crime\",\"Mystery\",\"Thriller\",\"Comedy\",\"Romance\",\"(no genres listed)\",\"Drama\",\"Thriller\",\"Animation\",\"Drama\",\"Fantasy\",\"Comedy\",\"Drama\",\"Animation\",\"Drama\",\"Fantasy\",\"Action\",\"War\",\"Comedy\",\"Drama\",\"Horror\",\"Adventure\",\"Comedy\",\"Drama\",\"Horror\",\"Mystery\",\"Horror\",\"Comedy\",\"Romance\",\"Action\",\"Drama\",\"Fantasy\",\"Action\",\"Comedy\",\"Crime\",\"Sci-Fi\",\"Thriller\",\"Crime\",\"Drama\",\"Thriller\",\"Action\",\"Mystery\",\"Sci-Fi\",\"Thriller\",\"Adventure\",\"Animation\",\"Action\",\"Animation\",\"Comedy\",\"Horror\",\"Comedy\",\"Horror\",\"Action\",\"Thriller\",\"Action\",\"Crime\",\"Drama\",\"Documentary\",\"Action\",\"Drama\",\"War\",\"Drama\",\"Western\",\"Comedy\",\"Comedy\",\"Romance\",\"Crime\",\"Drama\",\"Thriller\",\"Action\",\"Animation\",\"Comedy\",\"Adventure\",\"Animation\",\"Romance\",\"Comedy\",\"Romance\",\"Crime\",\"Drama\",\"Sci-Fi\",\"Thriller\",\"Drama\",\"Sci-Fi\",\"Thriller\",\"Action\",\"Adventure\",\"Animation\",\"Comedy\",\"Adventure\",\"Drama\",\"Romance\",\"Animation\",\"Comedy\",\"Drama\",\"War\",\"Comedy\",\"Romance\",\"Drama\",\"Action\",\"Crime\",\"Drama\",\"Thriller\",\"Drama\",\"Comedy\",\"Romance\",\"Action\",\"Comedy\",\"Crime\",\"Action\",\"Comedy\",\"Action\",\"Drama\",\"War\",\"IMAX\",\"Action\",\"Comedy\",\"Horror\",\"Comedy\",\"Musical\",\"Comedy\",\"Drama\",\"Romance\",\"Adventure\",\"Comedy\",\"Horror\",\"Drama\",\"Thriller\",\"War\",\"Comedy\",\"Crime\",\"Drama\",\"Mystery\",\"Romance\",\"Comedy\",\"Drama\",\"Adventure\",\"Sci-Fi\",\"Thriller\",\"Comedy\",\"Romance\",\"Action\",\"Adventure\",\"Drama\",\"Comedy\",\"Drama\",\"Thriller\",\"Animation\",\"Children\",\"Comedy\",\"Musical\",\"Sci-Fi\",\"Comedy\",\"Comedy\",\"Comedy\",\"Drama\",\"Drama\",\"Comedy\",\"Action\",\"Drama\",\"Thriller\",\"Drama\",\"Romance\",\"Adventure\",\"Drama\",\"Documentary\",\"War\",\"Animation\",\"Comedy\",\"Animation\",\"Children\",\"Fantasy\",\"Action\",\"Adventure\",\"Drama\",\"Comedy\",\"Action\",\"Adventure\",\"Drama\",\"Sci-Fi\",\"Thriller\",\"Documentary\",\"Documentary\",\"Animation\",\"Comedy\",\"Crime\",\"Romance\",\"Comedy\",\"Crime\",\"Action\",\"Comedy\",\"Crime\",\"Romance\",\"Action\",\"Adventure\",\"Comedy\",\"Drama\",\"Fantasy\",\"Thriller\",\"Comedy\",\"Adventure\",\"Animation\",\"Children\",\"Comedy\",\"Action\",\"Drama\",\"Thriller\",\"War\",\"Adventure\",\"Animation\",\"Drama\",\"Children\",\"Comedy\",\"Action\",\"Thriller\",\"Adventure\",\"Animation\",\"Children\",\"Comedy\",\"Crime\",\"Thriller\",\"Comedy\",\"Drama\",\"Romance\",\"Documentary\",\"Drama\",\"Thriller\",\"Drama\",\"Thriller\",\"Comedy\",\"Horror\",\"Thriller\",\"Sci-Fi\",\"Crime\",\"Drama\",\"Thriller\",\"Crime\",\"Drama\",\"Mystery\",\"Thriller\",\"Comedy\",\"Comedy\",\"Comedy\",\"Crime\",\"Drama\",\"Adventure\",\"Fantasy\",\"Drama\",\"Drama\",\"War\",\"Adventure\",\"Mystery\",\"Thriller\",\"Documentary\",\"Comedy\",\"Romance\",\"Comedy\",\"Comedy\",\"Drama\",\"Horror\",\"Romance\",\"Thriller\",\"Comedy\",\"Animation\",\"Children\",\"Mystery\",\"Drama\",\"Drama\",\"Comedy\",\"Comedy\",\"Drama\",\"Children\",\"Comedy\",\"Fantasy\",\"Musical\",\"Comedy\",\"Drama\",\"Action\",\"Comedy\",\"Action\",\"Adventure\",\"Comedy\",\"Crime\",\"Comedy\",\"Adventure\",\"Children\",\"Comedy\",\"Fantasy\",\"Sci-Fi\",\"Thriller\",\"Action\",\"Crime\",\"Drama\",\"Adventure\",\"Children\",\"Fantasy\",\"Comedy\",\"Action\",\"Drama\",\"Thriller\",\"Western\",\"Comedy\",\"Animation\",\"Drama\",\"Fantasy\",\"Comedy\",\"Drama\",\"Fantasy\",\"Mystery\",\"Romance\",\"Action\",\"Thriller\",\"Documentary\",\"Drama\",\"Action\",\"Crime\",\"Thriller\",\"Action\",\"Crime\",\"Drama\",\"Mystery\",\"Thriller\",\"Drama\",\"Action\",\"Crime\",\"Drama\",\"Action\",\"Adventure\",\"Sci-Fi\",\"Thriller\",\"Comedy\",\"Comedy\",\"Crime\",\"Drama\",\"Horror\",\"Mystery\",\"Action\",\"Comedy\",\"Adventure\",\"Children\",\"Fantasy\",\"Sci-Fi\",\"Drama\",\"Adventure\",\"Children\",\"Comedy\",\"Animation\",\"Children\",\"Comedy\",\"Drama\",\"Documentary\",\"Horror\",\"Horror\",\"Thriller\",\"Adventure\",\"Comedy\",\"Romance\",\"Comedy\",\"Romance\",\"Comedy\",\"Comedy\",\"Comedy\",\"Horror\",\"Mystery\",\"Thriller\",\"Comedy\",\"Animation\",\"Children\",\"Comedy\",\"Fantasy\",\"Comedy\",\"War\",\"Children\",\"Comedy\",\"Drama\",\"War\",\"Horror\",\"Mystery\",\"Thriller\",\"Action\",\"Drama\",\"Thriller\",\"Sci-Fi\",\"Action\",\"Adventure\",\"Sci-Fi\",\"Thriller\",\"Fantasy\",\"Horror\",\"Thriller\",\"Action\",\"Adventure\",\"Fantasy\",\"Sci-Fi\",\"IMAX\",\"(no genres listed)\",\"Action\",\"Adventure\",\"Fantasy\",\"Action\",\"Adventure\",\"Sci-Fi\",\"(no genres listed)\",\"Action\",\"Adventure\",\"Sci-Fi\",\"Action\",\"Adventure\",\"Sci-Fi\",\"Action\",\"Adventure\",\"Fantasy\",\"Sci-Fi\",\"Action\",\"Adventure\",\"Comedy\",\"Sci-Fi\",\"Action\",\"Adventure\",\"Sci-Fi\",\"Action\",\"Adventure\",\"Sci-Fi\",\"Action\",\"Adventure\",\"Sci-Fi\",\"Action\",\"Adventure\",\"Sci-Fi\",\"Action\",\"Sci-Fi\",\"Thriller\",\"Action\",\"Adventure\",\"Sci-Fi\",\"Action\",\"Adventure\",\"Fantasy\",\"Sci-Fi\",\"Action\",\"Adventure\",\"Fantasy\",\"Children\",\"Comedy\",\"Romance\",\"Comedy\",\"Action\",\"Drama\",\"Romance\",\"Action\",\"Adventure\",\"Drama\",\"Fantasy\",\"Drama\",\"Comedy\",\"Adventure\",\"Animation\",\"Children\",\"Comedy\",\"Comedy\",\"Drama\",\"Adventure\",\"Romance\",\"Sci-Fi\",\"Animation\",\"Documentary\",\"Crime\",\"Drama\",\"Thriller\",\"Horror\",\"Sci-Fi\",\"Western\",\"Adventure\",\"Comedy\",\"Mystery\",\"Romance\",\"Drama\",\"Romance\",\"Adventure\",\"Children\",\"Comedy\",\"Fantasy\",\"Adventure\",\"Children\",\"Comedy\",\"Fantasy\",\"Animation\",\"Children\",\"Comedy\",\"Animation\",\"Adventure\",\"Children\",\"Fantasy\",\"Action\",\"Drama\",\"Sci-Fi\",\"Action\",\"Adventure\",\"Drama\",\"War\",\"Animation\",\"Children\",\"Fantasy\",\"Musical\",\"Comedy\",\"Animation\",\"Comedy\",\"Fantasy\",\"Adventure\",\"Animation\",\"Children\",\"Comedy\",\"Comedy\",\"Crime\",\"Romance\",\"Sci-Fi\",\"Thriller\",\"Comedy\",\"Drama\",\"Romance\",\"Drama\",\"Drama\",\"Comedy\",\"Drama\",\"Thriller\",\"Adventure\",\"Comedy\",\"Drama\",\"Drama\",\"Mystery\",\"Thriller\",\"Documentary\",\"Documentary\",\"Documentary\",\"Documentary\",\"Documentary\",\"Drama\",\"Comedy\",\"Comedy\",\"Drama\",\"Drama\",\"Comedy\",\"Drama\",\"Thriller\",\"Comedy\",\"Drama\",\"Thriller\",\"Action\",\"Adventure\",\"Sci-Fi\",\"Thriller\",\"Animation\",\"Comedy\",\"Comedy\",\"Western\",\"Comedy\",\"Comedy\",\"Comedy\",\"Comedy\",\"Romance\",\"Western\",\"Comedy\",\"Action\",\"Crime\",\"Drama\",\"Thriller\",\"Drama\",\"Mystery\",\"Romance\",\"Comedy\",\"Action\",\"Horror\",\"Sci-Fi\",\"Mystery\",\"Thriller\",\"Comedy\",\"Drama\",\"Romance\",\"Crime\",\"Drama\",\"Romance\",\"Western\",\"Drama\",\"Comedy\",\"Drama\",\"Musical\",\"Romance\",\"Horror\",\"Action\",\"Adventure\",\"Fantasy\",\"Comedy\",\"Documentary\",\"Documentary\",\"Adventure\",\"Comedy\",\"Drama\",\"Comedy\",\"Action\",\"Adventure\",\"Children\",\"Comedy\",\"Sci-Fi\",\"Animation\",\"Children\",\"Comedy\",\"Comedy\",\"Sci-Fi\",\"Animation\",\"Comedy\",\"Sci-Fi\",\"Comedy\",\"Action\",\"Adventure\",\"(no genres listed)\",\"Comedy\",\"Horror\",\"Thriller\",\"Comedy\",\"Crime\",\"Drama\",\"Romance\",\"Action\",\"Fantasy\",\"Sci-Fi\",\"Comedy\",\"Drama\",\"Comedy\",\"Action\",\"Drama\",\"Comedy\",\"Action\",\"Animation\",\"Sci-Fi\",\"Action\",\"Crime\",\"Drama\",\"Thriller\",\"Drama\",\"Fantasy\",\"Horror\",\"Mystery\",\"Thriller\",\"Drama\",\"Horror\",\"Children\",\"Drama\",\"Fantasy\",\"Romance\",\"Action\",\"Crime\",\"Drama\",\"Thriller\",\"Comedy\",\"Drama\",\"Fantasy\",\"Adventure\",\"Children\",\"Fantasy\",\"Sci-Fi\",\"Adventure\",\"Children\",\"Fantasy\",\"Comedy\",\"Drama\",\"Crime\",\"Drama\",\"Film-Noir\",\"Mystery\",\"Thriller\",\"Action\",\"Sci-Fi\",\"Thriller\",\"Comedy\",\"Action\",\"Adventure\",\"Animation\",\"Comedy\",\"Sci-Fi\",\"Adventure\",\"Animation\",\"Children\",\"Comedy\",\"Fantasy\",\"Sci-Fi\",\"Drama\",\"Sci-Fi\",\"Action\",\"Thriller\",\"Action\",\"Crime\",\"Thriller\",\"Comedy\",\"Horror\",\"Horror\",\"Romance\",\"Sci-Fi\",\"Action\",\"Adventure\",\"Sci-Fi\",\"Comedy\",\"Drama\",\"Comedy\",\"Romance\",\"Comedy\",\"Crime\",\"Documentary\",\"Animation\",\"Children\",\"Comedy\",\"Comedy\",\"Crime\",\"Animation\",\"Comedy\",\"Comedy\",\"Thriller\",\"Action\",\"Crime\",\"Thriller\",\"Comedy\",\"Comedy\",\"Fantasy\",\"Adventure\",\"Animation\",\"Children\",\"Comedy\",\"Action\",\"Adventure\",\"Documentary\",\"Action\",\"Adventure\",\"Animation\",\"Comedy\",\"Drama\",\"Comedy\",\"Comedy\",\"Drama\",\"Comedy\",\"Action\",\"Adventure\",\"Children\",\"Mystery\",\"Sci-Fi\",\"(no genres listed)\",\"Comedy\",\"Drama\",\"Horror\",\"Action\",\"Comedy\",\"Crime\",\"Documentary\",\"Drama\",\"Drama\",\"Action\",\"Animation\",\"Sci-Fi\",\"Comedy\",\"Romance\",\"Thriller\",\"Drama\",\"Romance\",\"Comedy\",\"Crime\",\"Drama\",\"Action\",\"Adventure\",\"Drama\",\"Comedy\",\"Romance\",\"Comedy\",\"Drama\",\"Children\",\"Comedy\",\"Action\",\"Crime\",\"Drama\",\"Mystery\",\"Thriller\",\"Comedy\",\"Romance\",\"Action\",\"Drama\",\"Thriller\",\"Comedy\",\"Drama\",\"Comedy\",\"Documentary\",\"Action\",\"Crime\",\"Thriller\",\"Comedy\",\"Crime\",\"Sci-Fi\",\"Comedy\",\"Drama\",\"Drama\",\"Thriller\",\"Horror\",\"Sci-Fi\",\"Thriller\",\"Comedy\",\"Comedy\",\"Drama\",\"Drama\",\"Romance\",\"Comedy\",\"Romance\",\"Comedy\",\"Crime\",\"Comedy\",\"Romance\",\"Sci-Fi\",\"Comedy\",\"Drama\",\"Drama\",\"Horror\",\"Thriller\",\"Action\",\"Comedy\",\"Action\",\"Thriller\",\"Western\",\"Horror\",\"Thriller\",\"Action\",\"Adventure\",\"Comedy\",\"Comedy\",\"Comedy\",\"Romance\",\"Animation\",\"Comedy\",\"Drama\",\"Romance\",\"Comedy\",\"Drama\",\"Romance\",\"Animation\",\"Drama\",\"Comedy\",\"Adventure\",\"Drama\",\"Sci-Fi\",\"Thriller\",\"Action\",\"Comedy\",\"Fantasy\",\"Sci-Fi\",\"Comedy\",\"Drama\",\"Action\",\"Thriller\",\"Documentary\",\"Comedy\",\"Drama\",\"Fantasy\",\"Comedy\",\"Comedy\",\"Action\",\"Comedy\",\"Crime\",\"Comedy\",\"Romance\",\"Adventure\",\"Crime\",\"Drama\",\"Documentary\",\"Comedy\",\"Drama\",\"Romance\",\"Action\",\"Adventure\",\"Drama\",\"Comedy\",\"Documentary\",\"Comedy\",\"Comedy\",\"Animation\",\"Children\",\"Comedy\",\"Adventure\",\"Animation\",\"Children\",\"Comedy\",\"Drama\",\"Fantasy\",\"Documentary\",\"(no genres listed)\",\"Drama\",\"Adventure\",\"Sci-Fi\",\"Action\",\"Comedy\",\"Sci-Fi\",\"Fantasy\",\"Comedy\",\"Drama\",\"Adventure\",\"Children\",\"Comedy\",\"Sci-Fi\",\"Drama\",\"Mystery\",\"Animation\",\"Comedy\",\"Action\",\"Animation\",\"Crime\",\"Sci-Fi\",\"Action\",\"Mystery\",\"Sci-Fi\",\"Thriller\",\"Action\",\"Adventure\",\"Fantasy\",\"Comedy\",\"Fantasy\",\"Horror\",\"Action\",\"Crime\",\"Sci-Fi\",\"Action\",\"Adventure\",\"Sci-Fi\",\"Action\",\"Adventure\",\"Sci-Fi\",\"Children\",\"Comedy\",\"Documentary\",\"Action\",\"Action\",\"Drama\",\"Comedy\",\"Comedy\",\"Sci-Fi\",\"Adventure\",\"Animation\",\"Children\",\"Comedy\",\"Comedy\",\"Thriller\",\"Action\",\"Thriller\",\"Adventure\",\"Animation\",\"Children\",\"Comedy\",\"Fantasy\",\"Crime\",\"Drama\",\"Action\",\"Adventure\",\"Crime\",\"Action\",\"Animation\",\"Crime\",\"Action\",\"Animation\",\"Horror\",\"Sci-Fi\",\"Animation\",\"Children\",\"Comedy\",\"Animation\",\"Children\",\"Comedy\",\"Animation\",\"Children\",\"Comedy\",\"Animation\",\"Children\",\"Comedy\",\"Comedy\",\"Comedy\",\"Comedy\",\"Action\",\"Animation\",\"Sci-Fi\",\"Comedy\",\"Comedy\",\"Documentary\",\"Animation\",\"Children\",\"Comedy\",\"Comedy\",\"Comedy\",\"Animation\",\"Children\",\"Drama\",\"Drama\",\"Adventure\",\"Comedy\",\"Horror\",\"Thriller\",\"Drama\",\"Crime\",\"Drama\",\"Comedy\",\"Comedy\",\"Drama\",\"Thriller\",\"Action\",\"Adventure\",\"Sci-Fi\",\"Action\",\"Comedy\",\"Horror\",\"Comedy\",\"Romance\",\"Comedy\",\"Drama\",\"Romance\",\"Crime\",\"Drama\",\"Thriller\",\"Action\",\"Adventure\",\"Romance\",\"Sci-Fi\",\"Action\",\"Adventure\",\"Fantasy\",\"Sci-Fi\",\"Adventure\",\"Horror\",\"Drama\",\"Documentary\",\"Crime\",\"Thriller\",\"Drama\",\"Fantasy\",\"Comedy\",\"Drama\",\"Adventure\",\"Drama\",\"Fantasy\",\"Action\",\"Adventure\",\"Animation\",\"Action\",\"Adventure\",\"Animation\",\"Fantasy\",\"Action\",\"Adventure\",\"Comedy\",\"Crime\",\"Drama\",\"Horror\",\"Comedy\",\"Adventure\",\"Drama\",\"Thriller\",\"Drama\",\"Comedy\",\"Drama\",\"Comedy\",\"Horror\",\"Thriller\",\"Action\",\"Crime\",\"Drama\",\"Sci-Fi\",\"Animation\",\"Children\",\"Comedy\",\"Drama\",\"Romance\",\"Comedy\",\"Adventure\",\"Animation\",\"Comedy\",\"Animation\",\"Drama\",\"Mystery\",\"Thriller\",\"Action\",\"Adventure\",\"Animation\",\"Drama\",\"Fantasy\",\"Comedy\",\"Horror\",\"Thriller\",\"Adventure\",\"Drama\",\"Crime\",\"Drama\",\"Horror\",\"Animation\",\"Action\",\"Drama\",\"Crime\",\"Drama\",\"Mystery\",\"Drama\",\"Fantasy\",\"Horror\",\"Thriller\",\"Crime\",\"Thriller\",\"Romance\",\"Animation\",\"Comedy\",\"Fantasy\",\"Thriller\",\"Action\",\"Animation\",\"Sci-Fi\",\"Thriller\",\"Comedy\",\"Romance\",\"Comedy\",\"Horror\",\"Horror\",\"Comedy\",\"Comedy\",\"Comedy\",\"Horror\",\"Drama\",\"Romance\",\"Drama\",\"Drama\",\"Drama\",\"Horror\",\"Comedy\",\"Horror\",\"Comedy\",\"Drama\",\"Comedy\",\"Romance\",\"Adventure\",\"Children\",\"Sci-Fi\",\"Animation\",\"Comedy\",\"Sci-Fi\",\"Comedy\",\"Horror\",\"Crime\",\"Drama\",\"Mystery\",\"Animation\",\"Comedy\",\"Sci-Fi\",\"Comedy\",\"Documentary\",\"Drama\",\"Romance\",\"War\",\"Action\",\"Comedy\",\"Sci-Fi\",\"Thriller\",\"Drama\",\"Crime\",\"Thriller\",\"Action\",\"Fantasy\",\"Mystery\",\"Comedy\",\"Drama\",\"Crime\",\"Drama\",\"Mystery\",\"Thriller\",\"Horror\",\"Sci-Fi\",\"Comedy\",\"Drama\",\"Action\",\"Sci-Fi\",\"Thriller\",\"Drama\",\"Horror\",\"Sci-Fi\",\"(no genres listed)\",\"Action\",\"Action\",\"Comedy\",\"Horror\",\"Drama\",\"Comedy\",\"Action\",\"Adventure\",\"Sci-Fi\",\"Comedy\",\"Drama\",\"Drama\",\"Crime\",\"Thriller\",\"Comedy\",\"Horror\",\"Drama\",\"Comedy\",\"Horror\",\"Comedy\",\"Drama\",\"Adventure\",\"Comedy\",\"Comedy\",\"Drama\",\"Fantasy\",\"Romance\",\"Comedy\",\"Adventure\",\"Comedy\",\"Comedy\",\"Adventure\",\"Comedy\",\"Documentary\",\"(no genres listed)\",\"Drama\",\"War\",\"Comedy\",\"Horror\",\"Children\",\"Comedy\",\"Comedy\",\"Action\",\"Adventure\",\"Animation\",\"Crime\",\"Horror\",\"Thriller\",\"Documentary\",\"Comedy\",\"Horror\",\"Drama\",\"Horror\",\"Thriller\",\"Comedy\",\"Drama\",\"Action\",\"Drama\",\"Sci-Fi\",\"Comedy\",\"Drama\",\"Sci-Fi\",\"Comedy\",\"Horror\",\"Mystery\",\"Adventure\",\"Drama\",\"Thriller\",\"(no genres listed)\",\"Thriller\",\"Drama\",\"Action\",\"Adventure\",\"Sci-Fi\",\"Drama\",\"Action\",\"Comedy\",\"Comedy\",\"Horror\",\"Comedy\",\"Comedy\",\"Comedy\",\"Crime\",\"Thriller\",\"Animation\",\"Comedy\",\"Crime\",\"Comedy\",\"Drama\",\"Romance\",\"Animation\",\"Fantasy\",\"Mystery\",\"Sci-Fi\",\"Thriller\",\"Comedy\",\"Drama\",\"Action\",\"Adventure\",\"Fantasy\",\"Drama\",\"Sci-Fi\",\"Thriller\",\"Drama\",\"Thriller\",\"Drama\",\"Thriller\",\"(no genres listed)\",\"Drama\",\"Mystery\",\"Thriller\",\"Action\",\"Horror\",\"Thriller\",\"Documentary\",\"Comedy\",\"Drama\",\"Comedy\",\"Crime\",\"Fantasy\",\"Comedy\",\"Documentary\",\"Comedy\",\"Documentary\",\"Comedy\",\"Comedy\",\"Romance\",\"Action\",\"Crime\",\"Drama\",\"Comedy\",\"Drama\",\"Action\",\"Horror\",\"Thriller\",\"Comedy\",\"Crime\",\"Drama\",\"Romance\",\"Thriller\",\"Adventure\",\"Comedy\",\"Horror\",\"Drama\",\"Thriller\",\"Comedy\",\"Comedy\",\"Horror\",\"Sci-Fi\",\"Horror\",\"Western\",\"Animation\",\"Horror\",\"Mystery\",\"Comedy\",\"Drama\",\"Thriller\",\"Documentary\",\"Drama\",\"Children\",\"Comedy\",\"Drama\",\"Sci-Fi\",\"Crime\",\"Drama\",\"Drama\",\"Adventure\",\"Animation\",\"Children\",\"Comedy\",\"Action\",\"Thriller\",\"Comedy\",\"Comedy\",\"Romance\",\"Western\",\"Crime\",\"Mystery\",\"Comedy\",\"Comedy\",\"Drama\",\"Romance\",\"Action\",\"Adventure\",\"Animation\",\"Drama\",\"Adventure\",\"Animation\",\"Comedy\",\"Documentary\",\"Animation\",\"Children\",\"Comedy\",\"Fantasy\",\"Mystery\",\"Thriller\",\"Action\",\"Drama\",\"Thriller\",\"Comedy\",\"Drama\",\"Romance\",\"Children\",\"Comedy\",\"Comedy\",\"Romance\",\"(no genres listed)\",\"Comedy\",\"Crime\",\"Mystery\",\"Crime\",\"Mystery\",\"Crime\",\"Mystery\",\"Crime\",\"Crime\",\"Adventure\",\"Drama\",\"Fantasy\",\"Sci-Fi\",\"Adventure\",\"Drama\",\"Sci-Fi\",\"Adventure\",\"Children\",\"Drama\",\"Sci-Fi\",\"Adventure\",\"Children\",\"Drama\",\"Sci-Fi\",\"Action\",\"Sci-Fi\",\"Sci-Fi\",\"Comedy\",\"Drama\",\"Action\",\"Action\",\"Adventure\",\"Comedy\",\"Drama\",\"Documentary\",\"Adventure\",\"Sci-Fi\",\"Thriller\",\"Comedy\",\"Comedy\",\"Drama\",\"Drama\",\"Comedy\",\"Drama\",\"Comedy\",\"Comedy\",\"Western\",\"Comedy\",\"Crime\",\"Horror\",\"Children\",\"Fantasy\",\"Thriller\",\"Adventure\",\"Children\",\"Comedy\",\"Drama\",\"Fantasy\",\"Sci-Fi\",\"Animation\",\"Comedy\",\"Comedy\",\"Comedy\",\"Romance\",\"Animation\",\"Fantasy\",\"Horror\",\"Mystery\",\"Horror\",\"Comedy\",\"Drama\",\"Horror\",\"Horror\",\"Sci-Fi\",\"Horror\",\"Sci-Fi\",\"(no genres listed)\",\"Drama\",\"Thriller\",\"Comedy\",\"Horror\",\"Comedy\",\"Children\",\"Comedy\",\"Romance\",\"Action\",\"Adventure\",\"Animation\",\"Comedy\",\"Romance\",\"Comedy\",\"Romance\",\"Thriller\",\"Action\",\"Drama\",\"Thriller\",\"Comedy\",\"Horror\",\"Romance\",\"Thriller\",\"Action\",\"Sci-Fi\",\"Thriller\",\"Horror\",\"Action\",\"Crime\",\"Action\",\"Crime\",\"Drama\",\"Mystery\",\"Thriller\",\"Adventure\",\"Children\",\"Comedy\",\"Fantasy\",\"Comedy\",\"Drama\",\"Sci-Fi\",\"Comedy\",\"Documentary\",\"Action\",\"Comedy\",\"Comedy\",\"Action\",\"Comedy\",\"Comedy\",\"Comedy\",\"Action\",\"Fantasy\",\"Sci-Fi\",\"Drama\",\"Drama\",\"Horror\",\"Thriller\",\"Comedy\",\"Drama\",\"Fantasy\",\"Children\",\"Drama\",\"Drama\",\"Sci-Fi\",\"Thriller\",\"Comedy\",\"Horror\",\"Sci-Fi\",\"Documentary\",\"Mystery\",\"Animation\",\"Drama\",\"Thriller\",\"Action\",\"Animation\",\"Crime\",\"Sci-Fi\",\"Thriller\",\"(no genres listed)\",\"Adventure\",\"Fantasy\",\"Adventure\",\"Drama\",\"Drama\",\"Thriller\",\"Action\",\"Crime\",\"Thriller\",\"Action\",\"Adventure\",\"Animation\",\"Children\",\"Comedy\",\"Comedy\",\"War\",\"Drama\",\"Comedy\",\"Comedy\",\"Horror\",\"Drama\",\"Drama\",\"Romance\",\"Horror\",\"Action\",\"Children\",\"Documentary\",\"Adventure\",\"Comedy\",\"Comedy\",\"Drama\",\"Fantasy\",\"Animation\",\"Children\",\"Comedy\",\"Fantasy\",\"Comedy\",\"Drama\",\"Fantasy\",\"Comedy\",\"Documentary\",\"Comedy\",\"Documentary\",\"Drama\",\"Horror\",\"Mystery\",\"Comedy\",\"Drama\",\"Thriller\",\"War\",\"Action\",\"Adventure\",\"Thriller\",\"Action\",\"Comedy\",\"Romance\",\"(no genres listed)\",\"Comedy\",\"Drama\",\"Comedy\",\"Adventure\",\"Comedy\",\"Comedy\",\"Comedy\",\"Adventure\",\"Animation\",\"Children\",\"Comedy\",\"Comedy\",\"Drama\",\"Animation\",\"Comedy\",\"Drama\",\"(no genres listed)\",\"Action\",\"Adventure\",\"Drama\",\"Fantasy\",\"Comedy\",\"Mystery\",\"Sci-Fi\",\"Crime\",\"Thriller\",\"Thriller\",\"Comedy\",\"Comedy\",\"Comedy\",\"Western\",\"Comedy\",\"Crime\",\"Drama\",\"Drama\",\"Romance\",\"Thriller\",\"Action\",\"Fantasy\",\"Drama\",\"Thriller\",\"Comedy\",\"Adventure\",\"Animation\",\"Comedy\",\"Comedy\",\"Animation\",\"Comedy\",\"Comedy\",\"Drama\",\"Action\",\"Crime\",\"Drama\",\"Thriller\",\"Action\",\"Crime\",\"Drama\",\"Thriller\",\"Animation\",\"Comedy\",\"Action\",\"Adventure\",\"Animation\",\"Children\",\"Comedy\",\"Sci-Fi\",\"Comedy\",\"Drama\",\"Sci-Fi\",\"Action\",\"Animation\",\"Comedy\",\"Crime\",\"Mystery\",\"Thriller\",\"Action\",\"Comedy\",\"Sci-Fi\",\"Comedy\",\"Action\",\"Drama\",\"Thriller\",\"Action\",\"Comedy\",\"Thriller\",\"Drama\",\"Romance\",\"Thriller\",\"Adventure\",\"Children\",\"Fantasy\",\"Children\",\"Fantasy\",\"Documentary\",\"Animation\",\"Comedy\",\"Action\",\"Drama\",\"Comedy\",\"Drama\",\"Romance\",\"Action\",\"Horror\",\"Sci-Fi\",\"Drama\",\"Drama\",\"Mystery\",\"Thriller\",\"Comedy\",\"Comedy\",\"Drama\",\"Action\",\"Comedy\",\"Thriller\",\"(no genres listed)\",\"Comedy\",\"Drama\",\"Romance\",\"Adventure\",\"Animation\",\"Fantasy\",\"Horror\",\"Sci-Fi\",\"Comedy\",\"Drama\",\"Romance\",\"Comedy\",\"Horror\",\"Action\",\"Adventure\",\"Comedy\",\"Drama\",\"Comedy\",\"(no genres listed)\",\"Animation\",\"Drama\",\"Fantasy\",\"Documentary\",\"Comedy\",\"Horror\",\"Drama\",\"Action\",\"Comedy\",\"Horror\",\"Sci-Fi\",\"Action\",\"Comedy\",\"Documentary\",\"Action\",\"Thriller\",\"Drama\",\"Drama\",\"War\",\"Action\",\"Thriller\",\"Action\",\"Crime\",\"Drama\",\"Action\",\"Adventure\",\"Action\",\"Horror\",\"Sci-Fi\",\"Comedy\",\"Adventure\",\"Animation\",\"Children\",\"Comedy\",\"Horror\",\"Adventure\",\"Children\",\"Fantasy\",\"Drama\",\"Drama\",\"Action\",\"Animation\",\"Action\",\"Drama\",\"Thriller\",\"Action\",\"Drama\",\"Thriller\",\"Animation\",\"Horror\",\"Drama\",\"Thriller\",\"Horror\",\"Sci-Fi\",\"Drama\",\"(no genres listed)\",\"Comedy\",\"Action\",\"Drama\",\"Sci-Fi\",\"Crime\",\"Drama\",\"Comedy\",\"Action\",\"Action\",\"Animation\",\"Crime\",\"Drama\",\"Comedy\",\"Crime\",\"Drama\",\"Action\",\"Adventure\",\"Animation\",\"Drama\",\"Fantasy\",\"Sci-Fi\",\"Thriller\",\"Drama\",\"Horror\",\"Thriller\",\"Action\",\"Adventure\",\"Horror\",\"Sci-Fi\",\"Comedy\",\"Thriller\",\"Action\",\"Thriller\",\"Comedy\",\"Action\",\"Western\",\"Drama\",\"Action\",\"Comedy\",\"Crime\",\"Adventure\",\"Animation\",\"Children\",\"Fantasy\",\"Comedy\",\"Romance\",\"Drama\",\"Fantasy\",\"Thriller\",\"Crime\",\"Drama\",\"Thriller\",\"Crime\",\"Drama\",\"Thriller\",\"Action\",\"Animation\",\"Mystery\",\"Animation\",\"Drama\",\"Sci-Fi\",\"Action\",\"Adventure\",\"Fantasy\",\"Sci-Fi\",\"Animation\",\"Children\",\"Animation\",\"Animation\",\"Drama\",\"Fantasy\",\"Romance\",\"Animation\",\"Comedy\",\"Animation\",\"Drama\",\"War\",\"Comedy\",\"Adventure\",\"Animation\",\"Drama\",\"Animation\",\"Comedy\",\"Horror\",\"Thriller\",\"Horror\",\"Sci-Fi\",\"Thriller\",\"Sci-Fi\",\"Animation\",\"Children\",\"Comedy\",\"Action\",\"Adventure\",\"Comedy\",\"Fantasy\",\"Sci-Fi\",\"Thriller\",\"Drama\",\"Fantasy\",\"Drama\",\"Horror\",\"Sci-Fi\",\"Thriller\",\"Comedy\",\"Documentary\",\"Comedy\",\"Romance\",\"Documentary\",\"Children\",\"Comedy\",\"Drama\",\"Romance\",\"Action\",\"Sci-Fi\",\"Comedy\",\"Drama\",\"Romance\",\"Documentary\",\"Drama\",\"Mystery\",\"Thriller\",\"Comedy\",\"Comedy\",\"Comedy\",\"Horror\",\"Sci-Fi\",\"Thriller\",\"Action\",\"Crime\",\"Drama\",\"Mystery\",\"Thriller\",\"Comedy\",\"(no genres listed)\",\"Drama\",\"Drama\",\"Drama\",\"Thriller\",\"Comedy\",\"Fantasy\",\"Sci-Fi\",\"Comedy\",\"Documentary\",\"Documentary\",\"Action\",\"Comedy\",\"Animation\",\"Comedy\",\"Drama\",\"Documentary\",\"Comedy\",\"Drama\",\"(no genres listed)\",\"Adventure\",\"Animation\",\"Children\",\"Adventure\",\"Children\",\"Fantasy\",\"Sci-Fi\",\"Animation\",\"Drama\",\"Romance\",\"Adventure\",\"Animation\",\"Children\",\"Comedy\",\"Fantasy\",\"Comedy\",\"Adventure\",\"Sci-Fi\",\"Action\",\"Adventure\",\"Fantasy\",\"Sci-Fi\",\"Drama\",\"Horror\",\"Thriller\",\"Action\",\"Horror\",\"Thriller\",\"Adventure\",\"Drama\",\"Romance\",\"Sci-Fi\",\"Drama\",\"Drama\",\"Drama\",\"Comedy\",\"Animation\",\"Children\",\"Comedy\",\"Documentary\",\"Drama\",\"Action\",\"Adventure\",\"Sci-Fi\",\"Comedy\",\"Drama\",\"Horror\",\"(no genres listed)\",\"Comedy\",\"Documentary\",\"Comedy\",\"Drama\",\"Action\",\"Animation\",\"Comedy\",\"Animation\",\"Comedy\",\"Children\",\"Comedy\",\"Drama\",\"Comedy\",\"Action\",\"Adventure\",\"Fantasy\",\"Sci-Fi\",\"Animation\",\"Fantasy\",\"Mystery\",\"Comedy\",\"Comedy\",\"Animation\",\"Fantasy\",\"Mystery\",\"Action\",\"Crime\",\"Thriller\",\"Horror\",\"Action\",\"Sci-Fi\",\"Action\",\"Adventure\",\"Fantasy\",\"Crime\",\"Drama\",\"Comedy\",\"Romance\",\"Drama\",\"Sci-Fi\",\"Thriller\",\"Fantasy\",\"Romance\",\"Animation\",\"Children\",\"Comedy\",\"Action\",\"Adventure\",\"Drama\",\"Drama\",\"Romance\",\"Drama\",\"Action\",\"Drama\",\"Sci-Fi\",\"Comedy\",\"Drama\",\"Romance\",\"Comedy\",\"(no genres listed)\",\"Thriller\",\"Horror\",\"Sci-Fi\",\"Comedy\",\"Drama\",\"Mystery\",\"Action\",\"Adventure\",\"Sci-Fi\",\"Action\",\"Horror\",\"Sci-Fi\",\"Thriller\",\"Action\",\"Crime\",\"Drama\",\"Action\",\"Horror\",\"Sci-Fi\",\"Action\",\"Animation\",\"Sci-Fi\",\"Drama\",\"Mystery\",\"Romance\",\"Comedy\",\"Action\",\"Comedy\",\"Drama\",\"Comedy\",\"Drama\",\"Comedy\",\"Comedy\",\"Animation\",\"Drama\",\"Action\",\"Drama\",\"War\",\"Animation\",\"Children\",\"Comedy\",\"Action\",\"Comedy\",\"Action\",\"Comedy\",\"Action\",\"Adventure\",\"Fantasy\",\"Horror\",\"Thriller\",\"Children\",\"Comedy\",\"Fantasy\",\"Action\",\"Crime\",\"Drama\",\"Thriller\",\"Comedy\",\"Documentary\",\"Comedy\",\"Action\",\"Animation\",\"Children\",\"Comedy\",\"Horror\",\"Mystery\",\"Thriller\",\"Adventure\",\"Animation\",\"Comedy\",\"Comedy\",\"Crime\",\"Drama\",\"Documentary\",\"Drama\",\"Documentary\",\"(no genres listed)\",\"(no genres listed)\",\"Comedy\",\"Drama\",\"(no genres listed)\",\"Comedy\",\"Drama\",\"Thriller\",\"Western\",\"Action\",\"Crime\",\"Thriller\",\"Action\",\"Adventure\",\"Drama\",\"Sci-Fi\",\"Comedy\",\"Sci-Fi\",\"War\",\"Comedy\",\"Drama\",\"(no genres listed)\",\"Drama\",\"Mystery\",\"Thriller\",\"Drama\",\"Comedy\",\"Comedy\",\"Mystery\",\"Romance\",\"Thriller\",\"Drama\",\"Romance\",\"Comedy\",\"Comedy\",\"Documentary\",\"(no genres listed)\",\"Adventure\",\"Animation\",\"Children\",\"Comedy\",\"Animation\",\"Children\",\"Comedy\",\"Fantasy\",\"Animation\",\"Adventure\",\"Animation\",\"Children\",\"Animation\",\"Animation\",\"(no genres listed)\",\"Action\",\"Adventure\",\"Animation\",\"Comedy\",\"Documentary\",\"Adventure\",\"Animation\",\"Children\",\"Fantasy\",\"Adventure\",\"Animation\",\"Children\",\"Animation\",\"Sci-Fi\",\"Action\",\"Animation\",\"Sci-Fi\",\"Animation\",\"Sci-Fi\",\"Animation\",\"Action\",\"Adventure\",\"Drama\",\"Sci-Fi\",\"Drama\",\"Comedy\",\"Comedy\",\"Drama\",\"War\",\"Documentary\",\"Comedy\",\"Comedy\",\"Action\",\"Adventure\",\"Sci-Fi\",\"Action\",\"Horror\",\"Sci-Fi\",\"Documentary\",\"Animation\",\"Children\",\"Comedy\",\"Fantasy\",\"Animation\",\"(no genres listed)\",\"Comedy\",\"Crime\",\"Thriller\",\"Adventure\",\"Children\",\"Fantasy\",\"Sci-Fi\",\"Thriller\",\"Thriller\",\"Comedy\",\"Comedy\",\"Drama\",\"Horror\",\"Mystery\",\"Sci-Fi\",\"Thriller\",\"Action\",\"Drama\",\"Thriller\",\"War\",\"Animation\",\"Drama\",\"Fantasy\",\"(no genres listed)\",\"Horror\",\"Thriller\",\"Comedy\",\"Comedy\",\"Crime\",\"Drama\",\"Comedy\",\"Comedy\",\"Comedy\",\"Fantasy\",\"Horror\",\"Sci-Fi\",\"Western\",\"Horror\",\"Animation\",\"Children\",\"Horror\",\"Adventure\",\"Animation\",\"Children\",\"Animation\",\"Children\",\"Fantasy\",\"Animation\",\"Animation\",\"Comedy\",\"Animation\",\"Fantasy\",\"Animation\",\"Children\",\"Comedy\",\"Horror\",\"Thriller\",\"Action\",\"Crime\",\"Mystery\",\"Thriller\",\"Comedy\",\"Action\",\"Crime\",\"Drama\",\"Thriller\",\"Action\",\"Comedy\",\"Comedy\",\"Crime\",\"Comedy\",\"Horror\",\"Documentary\",\"Comedy\",\"Comedy\",\"Animation\",\"Action\",\"Adventure\",\"Comedy\",\"Comedy\",\"Sci-Fi\",\"Adventure\",\"Animation\",\"Children\",\"Comedy\",\"Drama\",\"Comedy\",\"Drama\",\"Drama\",\"Horror\",\"Mystery\",\"Thriller\",\"Documentary\",\"Drama\",\"Horror\",\"Thriller\",\"(no genres listed)\",\"Animation\",\"Children\",\"Comedy\",\"Romance\",\"Crime\",\"Thriller\",\"Comedy\",\"Drama\",\"Action\",\"Comedy\",\"Action\",\"Adventure\",\"Animation\",\"Fantasy\",\"Sci-Fi\",\"Crime\",\"Drama\",\"Comedy\",\"Crime\",\"Drama\",\"Mystery\",\"Adventure\",\"Animation\",\"Children\",\"Animation\",\"Romance\",\"Drama\",\"Animation\",\"Documentary\",\"Documentary\",\"Comedy\",\"Comedy\",\"Drama\",\"Romance\",\"Adventure\",\"Animation\",\"Children\",\"Comedy\",\"Sci-Fi\",\"Thriller\",\"Comedy\",\"Comedy\",\"Animation\",\"Crime\",\"Drama\",\"Documentary\",\"Comedy\",\"Action\",\"Adventure\",\"Children\",\"Comedy\",\"Action\",\"Horror\",\"Adventure\",\"Drama\",\"Fantasy\",\"Romance\",\"Drama\",\"Comedy\",\"Horror\",\"Drama\",\"Drama\",\"Thriller\",\"Drama\",\"War\",\"Action\",\"Adventure\",\"Fantasy\",\"Sci-Fi\",\"Comedy\",\"Adventure\",\"Drama\",\"Fantasy\",\"Drama\",\"Drama\",\"Comedy\",\"Drama\",\"Drama\",\"Horror\",\"Thriller\",\"Documentary\",\"Comedy\",\"Drama\",\"Drama\",\"Thriller\",\"Documentary\",\"Drama\",\"Animation\",\"Children\",\"Comedy\",\"Comedy\",\"Comedy\",\"Drama\",\"Romance\",\"(no genres listed)\",\"Comedy\",\"(no genres listed)\",\"Animation\",\"Children\",\"Comedy\",\"Animation\",\"Comedy\",\"Fantasy\",\"Animation\",\"Children\",\"Comedy\",\"Animation\",\"Sci-Fi\",\"Adventure\",\"Mystery\",\"Sci-Fi\",\"Thriller\",\"(no genres listed)\",\"Children\",\"Comedy\",\"Sci-Fi\",\"Comedy\",\"Drama\",\"Action\",\"Crime\",\"Fantasy\",\"Crime\",\"Drama\",\"Mystery\",\"Thriller\",\"Comedy\",\"Documentary\",\"Comedy\",\"Horror\",\"Mystery\",\"Thriller\",\"Children\",\"Comedy\",\"Drama\",\"Action\",\"Comedy\",\"Crime\",\"Horror\",\"Action\",\"Mystery\",\"Sci-Fi\",\"Thriller\",\"Animation\",\"Comedy\",\"Comedy\",\"Comedy\",\"Comedy\",\"Action\",\"Sci-Fi\",\"Documentary\",\"Horror\",\"Mystery\",\"Sci-Fi\",\"Thriller\",\"Crime\",\"Documentary\",\"Comedy\",\"Drama\",\"Romance\",\"Action\",\"Adventure\",\"Fantasy\",\"Action\",\"Adventure\",\"Fantasy\",\"Drama\",\"Thriller\",\"Comedy\",\"Action\",\"Crime\",\"Drama\",\"Thriller\",\"Adventure\",\"Children\",\"Fantasy\",\"Sci-Fi\",\"Comedy\",\"Drama\",\"Drama\",\"Horror\",\"Thriller\",\"Adventure\",\"Thriller\",\"Drama\",\"Fantasy\",\"Thriller\",\"Crime\",\"Action\",\"Comedy\",\"Comedy\",\"Action\",\"Fantasy\",\"Sci-Fi\",\"Action\",\"Adventure\",\"Sci-Fi\",\"Action\",\"Adventure\",\"Drama\",\"Sci-Fi\",\"Thriller\",\"Action\",\"Adventure\",\"Animation\",\"Children\",\"Action\",\"Comedy\",\"Sci-Fi\",\"Action\",\"Adventure\",\"Children\",\"Sci-Fi\",\"Documentary\",\"Comedy\",\"Fantasy\",\"Sci-Fi\",\"Action\",\"Adventure\",\"Comedy\",\"Fantasy\",\"Sci-Fi\",\"Crime\",\"Drama\",\"Comedy\",\"Romance\",\"Comedy\",\"Adventure\",\"Comedy\",\"Fantasy\",\"Comedy\",\"Drama\",\"Documentary\",\"Action\",\"Adventure\",\"Thriller\",\"Action\",\"Crime\",\"Thriller\",\"Action\",\"Sci-Fi\",\"Comedy\",\"Crime\",\"Drama\",\"Sci-Fi\",\"Thriller\",\"Drama\",\"Romance\",\"Comedy\",\"Drama\",\"Drama\",\"Animation\",\"Documentary\",\"Action\",\"Adventure\",\"Comedy\",\"Sci-Fi\",\"Action\",\"Animation\",\"Comedy\",\"Sci-Fi\",\"Animation\",\"Drama\",\"Comedy\",\"Drama\",\"Animation\",\"Documentary\",\"Action\",\"Animation\",\"Comedy\",\"Fantasy\",\"Animation\",\"Comedy\",\"Fantasy\",\"Drama\",\"Action\",\"Animation\",\"Comedy\"],\"legendgroup\":\"\",\"name\":\"\",\"showlegend\":true,\"type\":\"pie\",\"textfont\":{\"size\":15},\"marker\":{\"line\":{\"color\":\"#000000\",\"width\":1.5}},\"textinfo\":\"percent+label\",\"textposition\":\"inside\"}],                        {\"template\":{\"data\":{\"bar\":[{\"error_x\":{\"color\":\"#2a3f5f\"},\"error_y\":{\"color\":\"#2a3f5f\"},\"marker\":{\"line\":{\"color\":\"#E5ECF6\",\"width\":0.5},\"pattern\":{\"fillmode\":\"overlay\",\"size\":10,\"solidity\":0.2}},\"type\":\"bar\"}],\"barpolar\":[{\"marker\":{\"line\":{\"color\":\"#E5ECF6\",\"width\":0.5},\"pattern\":{\"fillmode\":\"overlay\",\"size\":10,\"solidity\":0.2}},\"type\":\"barpolar\"}],\"carpet\":[{\"aaxis\":{\"endlinecolor\":\"#2a3f5f\",\"gridcolor\":\"white\",\"linecolor\":\"white\",\"minorgridcolor\":\"white\",\"startlinecolor\":\"#2a3f5f\"},\"baxis\":{\"endlinecolor\":\"#2a3f5f\",\"gridcolor\":\"white\",\"linecolor\":\"white\",\"minorgridcolor\":\"white\",\"startlinecolor\":\"#2a3f5f\"},\"type\":\"carpet\"}],\"choropleth\":[{\"colorbar\":{\"outlinewidth\":0,\"ticks\":\"\"},\"type\":\"choropleth\"}],\"contour\":[{\"colorbar\":{\"outlinewidth\":0,\"ticks\":\"\"},\"colorscale\":[[0.0,\"#0d0887\"],[0.1111111111111111,\"#46039f\"],[0.2222222222222222,\"#7201a8\"],[0.3333333333333333,\"#9c179e\"],[0.4444444444444444,\"#bd3786\"],[0.5555555555555556,\"#d8576b\"],[0.6666666666666666,\"#ed7953\"],[0.7777777777777778,\"#fb9f3a\"],[0.8888888888888888,\"#fdca26\"],[1.0,\"#f0f921\"]],\"type\":\"contour\"}],\"contourcarpet\":[{\"colorbar\":{\"outlinewidth\":0,\"ticks\":\"\"},\"type\":\"contourcarpet\"}],\"heatmap\":[{\"colorbar\":{\"outlinewidth\":0,\"ticks\":\"\"},\"colorscale\":[[0.0,\"#0d0887\"],[0.1111111111111111,\"#46039f\"],[0.2222222222222222,\"#7201a8\"],[0.3333333333333333,\"#9c179e\"],[0.4444444444444444,\"#bd3786\"],[0.5555555555555556,\"#d8576b\"],[0.6666666666666666,\"#ed7953\"],[0.7777777777777778,\"#fb9f3a\"],[0.8888888888888888,\"#fdca26\"],[1.0,\"#f0f921\"]],\"type\":\"heatmap\"}],\"heatmapgl\":[{\"colorbar\":{\"outlinewidth\":0,\"ticks\":\"\"},\"colorscale\":[[0.0,\"#0d0887\"],[0.1111111111111111,\"#46039f\"],[0.2222222222222222,\"#7201a8\"],[0.3333333333333333,\"#9c179e\"],[0.4444444444444444,\"#bd3786\"],[0.5555555555555556,\"#d8576b\"],[0.6666666666666666,\"#ed7953\"],[0.7777777777777778,\"#fb9f3a\"],[0.8888888888888888,\"#fdca26\"],[1.0,\"#f0f921\"]],\"type\":\"heatmapgl\"}],\"histogram\":[{\"marker\":{\"pattern\":{\"fillmode\":\"overlay\",\"size\":10,\"solidity\":0.2}},\"type\":\"histogram\"}],\"histogram2d\":[{\"colorbar\":{\"outlinewidth\":0,\"ticks\":\"\"},\"colorscale\":[[0.0,\"#0d0887\"],[0.1111111111111111,\"#46039f\"],[0.2222222222222222,\"#7201a8\"],[0.3333333333333333,\"#9c179e\"],[0.4444444444444444,\"#bd3786\"],[0.5555555555555556,\"#d8576b\"],[0.6666666666666666,\"#ed7953\"],[0.7777777777777778,\"#fb9f3a\"],[0.8888888888888888,\"#fdca26\"],[1.0,\"#f0f921\"]],\"type\":\"histogram2d\"}],\"histogram2dcontour\":[{\"colorbar\":{\"outlinewidth\":0,\"ticks\":\"\"},\"colorscale\":[[0.0,\"#0d0887\"],[0.1111111111111111,\"#46039f\"],[0.2222222222222222,\"#7201a8\"],[0.3333333333333333,\"#9c179e\"],[0.4444444444444444,\"#bd3786\"],[0.5555555555555556,\"#d8576b\"],[0.6666666666666666,\"#ed7953\"],[0.7777777777777778,\"#fb9f3a\"],[0.8888888888888888,\"#fdca26\"],[1.0,\"#f0f921\"]],\"type\":\"histogram2dcontour\"}],\"mesh3d\":[{\"colorbar\":{\"outlinewidth\":0,\"ticks\":\"\"},\"type\":\"mesh3d\"}],\"parcoords\":[{\"line\":{\"colorbar\":{\"outlinewidth\":0,\"ticks\":\"\"}},\"type\":\"parcoords\"}],\"pie\":[{\"automargin\":true,\"type\":\"pie\"}],\"scatter\":[{\"marker\":{\"colorbar\":{\"outlinewidth\":0,\"ticks\":\"\"}},\"type\":\"scatter\"}],\"scatter3d\":[{\"line\":{\"colorbar\":{\"outlinewidth\":0,\"ticks\":\"\"}},\"marker\":{\"colorbar\":{\"outlinewidth\":0,\"ticks\":\"\"}},\"type\":\"scatter3d\"}],\"scattercarpet\":[{\"marker\":{\"colorbar\":{\"outlinewidth\":0,\"ticks\":\"\"}},\"type\":\"scattercarpet\"}],\"scattergeo\":[{\"marker\":{\"colorbar\":{\"outlinewidth\":0,\"ticks\":\"\"}},\"type\":\"scattergeo\"}],\"scattergl\":[{\"marker\":{\"colorbar\":{\"outlinewidth\":0,\"ticks\":\"\"}},\"type\":\"scattergl\"}],\"scattermapbox\":[{\"marker\":{\"colorbar\":{\"outlinewidth\":0,\"ticks\":\"\"}},\"type\":\"scattermapbox\"}],\"scatterpolar\":[{\"marker\":{\"colorbar\":{\"outlinewidth\":0,\"ticks\":\"\"}},\"type\":\"scatterpolar\"}],\"scatterpolargl\":[{\"marker\":{\"colorbar\":{\"outlinewidth\":0,\"ticks\":\"\"}},\"type\":\"scatterpolargl\"}],\"scatterternary\":[{\"marker\":{\"colorbar\":{\"outlinewidth\":0,\"ticks\":\"\"}},\"type\":\"scatterternary\"}],\"surface\":[{\"colorbar\":{\"outlinewidth\":0,\"ticks\":\"\"},\"colorscale\":[[0.0,\"#0d0887\"],[0.1111111111111111,\"#46039f\"],[0.2222222222222222,\"#7201a8\"],[0.3333333333333333,\"#9c179e\"],[0.4444444444444444,\"#bd3786\"],[0.5555555555555556,\"#d8576b\"],[0.6666666666666666,\"#ed7953\"],[0.7777777777777778,\"#fb9f3a\"],[0.8888888888888888,\"#fdca26\"],[1.0,\"#f0f921\"]],\"type\":\"surface\"}],\"table\":[{\"cells\":{\"fill\":{\"color\":\"#EBF0F8\"},\"line\":{\"color\":\"white\"}},\"header\":{\"fill\":{\"color\":\"#C8D4E3\"},\"line\":{\"color\":\"white\"}},\"type\":\"table\"}]},\"layout\":{\"annotationdefaults\":{\"arrowcolor\":\"#2a3f5f\",\"arrowhead\":0,\"arrowwidth\":1},\"autotypenumbers\":\"strict\",\"coloraxis\":{\"colorbar\":{\"outlinewidth\":0,\"ticks\":\"\"}},\"colorscale\":{\"diverging\":[[0,\"#8e0152\"],[0.1,\"#c51b7d\"],[0.2,\"#de77ae\"],[0.3,\"#f1b6da\"],[0.4,\"#fde0ef\"],[0.5,\"#f7f7f7\"],[0.6,\"#e6f5d0\"],[0.7,\"#b8e186\"],[0.8,\"#7fbc41\"],[0.9,\"#4d9221\"],[1,\"#276419\"]],\"sequential\":[[0.0,\"#0d0887\"],[0.1111111111111111,\"#46039f\"],[0.2222222222222222,\"#7201a8\"],[0.3333333333333333,\"#9c179e\"],[0.4444444444444444,\"#bd3786\"],[0.5555555555555556,\"#d8576b\"],[0.6666666666666666,\"#ed7953\"],[0.7777777777777778,\"#fb9f3a\"],[0.8888888888888888,\"#fdca26\"],[1.0,\"#f0f921\"]],\"sequentialminus\":[[0.0,\"#0d0887\"],[0.1111111111111111,\"#46039f\"],[0.2222222222222222,\"#7201a8\"],[0.3333333333333333,\"#9c179e\"],[0.4444444444444444,\"#bd3786\"],[0.5555555555555556,\"#d8576b\"],[0.6666666666666666,\"#ed7953\"],[0.7777777777777778,\"#fb9f3a\"],[0.8888888888888888,\"#fdca26\"],[1.0,\"#f0f921\"]]},\"colorway\":[\"#636efa\",\"#EF553B\",\"#00cc96\",\"#ab63fa\",\"#FFA15A\",\"#19d3f3\",\"#FF6692\",\"#B6E880\",\"#FF97FF\",\"#FECB52\"],\"font\":{\"color\":\"#2a3f5f\"},\"geo\":{\"bgcolor\":\"white\",\"lakecolor\":\"white\",\"landcolor\":\"#E5ECF6\",\"showlakes\":true,\"showland\":true,\"subunitcolor\":\"white\"},\"hoverlabel\":{\"align\":\"left\"},\"hovermode\":\"closest\",\"mapbox\":{\"style\":\"light\"},\"paper_bgcolor\":\"white\",\"plot_bgcolor\":\"#E5ECF6\",\"polar\":{\"angularaxis\":{\"gridcolor\":\"white\",\"linecolor\":\"white\",\"ticks\":\"\"},\"bgcolor\":\"#E5ECF6\",\"radialaxis\":{\"gridcolor\":\"white\",\"linecolor\":\"white\",\"ticks\":\"\"}},\"scene\":{\"xaxis\":{\"backgroundcolor\":\"#E5ECF6\",\"gridcolor\":\"white\",\"gridwidth\":2,\"linecolor\":\"white\",\"showbackground\":true,\"ticks\":\"\",\"zerolinecolor\":\"white\"},\"yaxis\":{\"backgroundcolor\":\"#E5ECF6\",\"gridcolor\":\"white\",\"gridwidth\":2,\"linecolor\":\"white\",\"showbackground\":true,\"ticks\":\"\",\"zerolinecolor\":\"white\"},\"zaxis\":{\"backgroundcolor\":\"#E5ECF6\",\"gridcolor\":\"white\",\"gridwidth\":2,\"linecolor\":\"white\",\"showbackground\":true,\"ticks\":\"\",\"zerolinecolor\":\"white\"}},\"shapedefaults\":{\"line\":{\"color\":\"#2a3f5f\"}},\"ternary\":{\"aaxis\":{\"gridcolor\":\"white\",\"linecolor\":\"white\",\"ticks\":\"\"},\"baxis\":{\"gridcolor\":\"white\",\"linecolor\":\"white\",\"ticks\":\"\"},\"bgcolor\":\"#E5ECF6\",\"caxis\":{\"gridcolor\":\"white\",\"linecolor\":\"white\",\"ticks\":\"\"}},\"title\":{\"x\":0.05},\"xaxis\":{\"automargin\":true,\"gridcolor\":\"white\",\"linecolor\":\"white\",\"ticks\":\"\",\"title\":{\"standoff\":15},\"zerolinecolor\":\"white\",\"zerolinewidth\":2},\"yaxis\":{\"automargin\":true,\"gridcolor\":\"white\",\"linecolor\":\"white\",\"ticks\":\"\",\"title\":{\"standoff\":15},\"zerolinecolor\":\"white\",\"zerolinewidth\":2}}},\"legend\":{\"tracegroupgap\":0},\"title\":{\"text\":\"<b>Counts in Genres</b>\",\"font\":{\"size\":20},\"x\":0.5},\"piecolorway\":[\"rgb(160,200,255)\",\"rgb(255,255,255)\",\"rgb(230,210,0)\",\"rgb(230,0,0)\",\"rgb(0,0,0)\"]},                        {\"responsive\": true}                    ).then(function(){\n",
              "                            \n",
              "var gd = document.getElementById('5ae7f3be-fd30-4e81-86af-36e2361b36f6');\n",
              "var x = new MutationObserver(function (mutations, observer) {{\n",
              "        var display = window.getComputedStyle(gd).display;\n",
              "        if (!display || display === 'none') {{\n",
              "            console.log([gd, 'removed!']);\n",
              "            Plotly.purge(gd);\n",
              "            observer.disconnect();\n",
              "        }}\n",
              "}});\n",
              "\n",
              "// Listen for the removal of the full notebook cells\n",
              "var notebookContainer = gd.closest('#notebook-container');\n",
              "if (notebookContainer) {{\n",
              "    x.observe(notebookContainer, {childList: true});\n",
              "}}\n",
              "\n",
              "// Listen for the clearing of the current output cell\n",
              "var outputEl = gd.closest('.output');\n",
              "if (outputEl) {{\n",
              "    x.observe(outputEl, {childList: true});\n",
              "}}\n",
              "\n",
              "                        })                };                            </script>        </div>\n",
              "</body>\n",
              "</html>"
            ]
          },
          "metadata": {}
        }
      ]
    },
    {
      "cell_type": "code",
      "source": [
        "ratings.info()"
      ],
      "metadata": {
        "colab": {
          "base_uri": "https://localhost:8080/"
        },
        "id": "6jAkKiuw3nvq",
        "outputId": "754801a9-ea10-429d-cd64-2ce492dc8f08"
      },
      "execution_count": 11,
      "outputs": [
        {
          "output_type": "stream",
          "name": "stdout",
          "text": [
            "<class 'pandas.core.frame.DataFrame'>\n",
            "RangeIndex: 100836 entries, 0 to 100835\n",
            "Data columns (total 4 columns):\n",
            " #   Column     Non-Null Count   Dtype  \n",
            "---  ------     --------------   -----  \n",
            " 0   userId     100836 non-null  int64  \n",
            " 1   movieId    100836 non-null  int64  \n",
            " 2   rating     100836 non-null  float64\n",
            " 3   timestamp  100836 non-null  int64  \n",
            "dtypes: float64(1), int64(3)\n",
            "memory usage: 3.1 MB\n"
          ]
        }
      ]
    },
    {
      "cell_type": "markdown",
      "source": [
        "#### Preprocessing\n",
        "Mengecek nilai null pada tiap data"
      ],
      "metadata": {
        "id": "qfab3oV-3tRz"
      }
    },
    {
      "cell_type": "code",
      "source": [
        "movies.isnull().sum()"
      ],
      "metadata": {
        "colab": {
          "base_uri": "https://localhost:8080/"
        },
        "id": "aHWpvO053vHh",
        "outputId": "45c2f4e8-b45c-422c-d702-cf26b1e4385c"
      },
      "execution_count": 12,
      "outputs": [
        {
          "output_type": "execute_result",
          "data": {
            "text/plain": [
              "movieId    0\n",
              "title      0\n",
              "genres     0\n",
              "dtype: int64"
            ]
          },
          "metadata": {},
          "execution_count": 12
        }
      ]
    },
    {
      "cell_type": "code",
      "source": [
        "ratings.isnull().sum()"
      ],
      "metadata": {
        "colab": {
          "base_uri": "https://localhost:8080/"
        },
        "id": "oiSN5hwP3xdh",
        "outputId": "48fc2184-1dd7-4cd0-ebab-b63051db9172"
      },
      "execution_count": 13,
      "outputs": [
        {
          "output_type": "execute_result",
          "data": {
            "text/plain": [
              "userId       0\n",
              "movieId      0\n",
              "rating       0\n",
              "timestamp    0\n",
              "dtype: int64"
            ]
          },
          "metadata": {},
          "execution_count": 13
        }
      ]
    },
    {
      "cell_type": "markdown",
      "source": [
        "Menghilangkan duplikasi judul yang ada pada film"
      ],
      "metadata": {
        "id": "ZQKOYSKhePlW"
      }
    },
    {
      "cell_type": "code",
      "source": [
        "# Drop duplicate of movie\n",
        "\n",
        "movies = movies.drop_duplicates('title')\n",
        "len(movies)"
      ],
      "metadata": {
        "colab": {
          "base_uri": "https://localhost:8080/"
        },
        "id": "zaAiG0UY3zWQ",
        "outputId": "0595eea8-58e6-411c-b550-498bbef6544a"
      },
      "execution_count": 14,
      "outputs": [
        {
          "output_type": "execute_result",
          "data": {
            "text/plain": [
              "9737"
            ]
          },
          "metadata": {},
          "execution_count": 14
        }
      ]
    },
    {
      "cell_type": "markdown",
      "source": [
        "#### Content Based Filtering"
      ],
      "metadata": {
        "id": "eF0uDPnw3rE-"
      }
    },
    {
      "cell_type": "code",
      "source": [
        "data = movies\n",
        "data.sample(5)"
      ],
      "metadata": {
        "colab": {
          "base_uri": "https://localhost:8080/",
          "height": 206
        },
        "id": "KRzVKAlV3opH",
        "outputId": "a808b263-6c80-4380-9d34-85adfee01100"
      },
      "execution_count": 15,
      "outputs": [
        {
          "output_type": "execute_result",
          "data": {
            "text/plain": [
              "      movieId                                      title  \\\n",
              "2819     3767  Missing in Action 2: The Beginning (1985)   \n",
              "1776     2374                             Gung Ho (1986)   \n",
              "3747     5220                            Showtime (2002)   \n",
              "9254   155892                          Me Him Her (2015)   \n",
              "433       496                What Happened Was... (1994)   \n",
              "\n",
              "                             genres  \n",
              "2819                     Action,War  \n",
              "1776                   Comedy,Drama  \n",
              "3747                  Action,Comedy  \n",
              "9254                         Comedy  \n",
              "433   Comedy,Drama,Romance,Thriller  "
            ],
            "text/html": [
              "\n",
              "  <div id=\"df-fa50a9f7-46b8-473d-a0dd-4a0b019e239c\">\n",
              "    <div class=\"colab-df-container\">\n",
              "      <div>\n",
              "<style scoped>\n",
              "    .dataframe tbody tr th:only-of-type {\n",
              "        vertical-align: middle;\n",
              "    }\n",
              "\n",
              "    .dataframe tbody tr th {\n",
              "        vertical-align: top;\n",
              "    }\n",
              "\n",
              "    .dataframe thead th {\n",
              "        text-align: right;\n",
              "    }\n",
              "</style>\n",
              "<table border=\"1\" class=\"dataframe\">\n",
              "  <thead>\n",
              "    <tr style=\"text-align: right;\">\n",
              "      <th></th>\n",
              "      <th>movieId</th>\n",
              "      <th>title</th>\n",
              "      <th>genres</th>\n",
              "    </tr>\n",
              "  </thead>\n",
              "  <tbody>\n",
              "    <tr>\n",
              "      <th>2819</th>\n",
              "      <td>3767</td>\n",
              "      <td>Missing in Action 2: The Beginning (1985)</td>\n",
              "      <td>Action,War</td>\n",
              "    </tr>\n",
              "    <tr>\n",
              "      <th>1776</th>\n",
              "      <td>2374</td>\n",
              "      <td>Gung Ho (1986)</td>\n",
              "      <td>Comedy,Drama</td>\n",
              "    </tr>\n",
              "    <tr>\n",
              "      <th>3747</th>\n",
              "      <td>5220</td>\n",
              "      <td>Showtime (2002)</td>\n",
              "      <td>Action,Comedy</td>\n",
              "    </tr>\n",
              "    <tr>\n",
              "      <th>9254</th>\n",
              "      <td>155892</td>\n",
              "      <td>Me Him Her (2015)</td>\n",
              "      <td>Comedy</td>\n",
              "    </tr>\n",
              "    <tr>\n",
              "      <th>433</th>\n",
              "      <td>496</td>\n",
              "      <td>What Happened Was... (1994)</td>\n",
              "      <td>Comedy,Drama,Romance,Thriller</td>\n",
              "    </tr>\n",
              "  </tbody>\n",
              "</table>\n",
              "</div>\n",
              "      <button class=\"colab-df-convert\" onclick=\"convertToInteractive('df-fa50a9f7-46b8-473d-a0dd-4a0b019e239c')\"\n",
              "              title=\"Convert this dataframe to an interactive table.\"\n",
              "              style=\"display:none;\">\n",
              "        \n",
              "  <svg xmlns=\"http://www.w3.org/2000/svg\" height=\"24px\"viewBox=\"0 0 24 24\"\n",
              "       width=\"24px\">\n",
              "    <path d=\"M0 0h24v24H0V0z\" fill=\"none\"/>\n",
              "    <path d=\"M18.56 5.44l.94 2.06.94-2.06 2.06-.94-2.06-.94-.94-2.06-.94 2.06-2.06.94zm-11 1L8.5 8.5l.94-2.06 2.06-.94-2.06-.94L8.5 2.5l-.94 2.06-2.06.94zm10 10l.94 2.06.94-2.06 2.06-.94-2.06-.94-.94-2.06-.94 2.06-2.06.94z\"/><path d=\"M17.41 7.96l-1.37-1.37c-.4-.4-.92-.59-1.43-.59-.52 0-1.04.2-1.43.59L10.3 9.45l-7.72 7.72c-.78.78-.78 2.05 0 2.83L4 21.41c.39.39.9.59 1.41.59.51 0 1.02-.2 1.41-.59l7.78-7.78 2.81-2.81c.8-.78.8-2.07 0-2.86zM5.41 20L4 18.59l7.72-7.72 1.47 1.35L5.41 20z\"/>\n",
              "  </svg>\n",
              "      </button>\n",
              "      \n",
              "  <style>\n",
              "    .colab-df-container {\n",
              "      display:flex;\n",
              "      flex-wrap:wrap;\n",
              "      gap: 12px;\n",
              "    }\n",
              "\n",
              "    .colab-df-convert {\n",
              "      background-color: #E8F0FE;\n",
              "      border: none;\n",
              "      border-radius: 50%;\n",
              "      cursor: pointer;\n",
              "      display: none;\n",
              "      fill: #1967D2;\n",
              "      height: 32px;\n",
              "      padding: 0 0 0 0;\n",
              "      width: 32px;\n",
              "    }\n",
              "\n",
              "    .colab-df-convert:hover {\n",
              "      background-color: #E2EBFA;\n",
              "      box-shadow: 0px 1px 2px rgba(60, 64, 67, 0.3), 0px 1px 3px 1px rgba(60, 64, 67, 0.15);\n",
              "      fill: #174EA6;\n",
              "    }\n",
              "\n",
              "    [theme=dark] .colab-df-convert {\n",
              "      background-color: #3B4455;\n",
              "      fill: #D2E3FC;\n",
              "    }\n",
              "\n",
              "    [theme=dark] .colab-df-convert:hover {\n",
              "      background-color: #434B5C;\n",
              "      box-shadow: 0px 1px 3px 1px rgba(0, 0, 0, 0.15);\n",
              "      filter: drop-shadow(0px 1px 2px rgba(0, 0, 0, 0.3));\n",
              "      fill: #FFFFFF;\n",
              "    }\n",
              "  </style>\n",
              "\n",
              "      <script>\n",
              "        const buttonEl =\n",
              "          document.querySelector('#df-fa50a9f7-46b8-473d-a0dd-4a0b019e239c button.colab-df-convert');\n",
              "        buttonEl.style.display =\n",
              "          google.colab.kernel.accessAllowed ? 'block' : 'none';\n",
              "\n",
              "        async function convertToInteractive(key) {\n",
              "          const element = document.querySelector('#df-fa50a9f7-46b8-473d-a0dd-4a0b019e239c');\n",
              "          const dataTable =\n",
              "            await google.colab.kernel.invokeFunction('convertToInteractive',\n",
              "                                                     [key], {});\n",
              "          if (!dataTable) return;\n",
              "\n",
              "          const docLinkHtml = 'Like what you see? Visit the ' +\n",
              "            '<a target=\"_blank\" href=https://colab.research.google.com/notebooks/data_table.ipynb>data table notebook</a>'\n",
              "            + ' to learn more about interactive tables.';\n",
              "          element.innerHTML = '';\n",
              "          dataTable['output_type'] = 'display_data';\n",
              "          await google.colab.output.renderOutput(dataTable, element);\n",
              "          const docLink = document.createElement('div');\n",
              "          docLink.innerHTML = docLinkHtml;\n",
              "          element.appendChild(docLink);\n",
              "        }\n",
              "      </script>\n",
              "    </div>\n",
              "  </div>\n",
              "  "
            ]
          },
          "metadata": {},
          "execution_count": 15
        }
      ]
    },
    {
      "cell_type": "markdown",
      "source": [
        "Mengambil fitur genre menggunakan tfidfvectorizer"
      ],
      "metadata": {
        "id": "H9sICGDTeY_Y"
      }
    },
    {
      "cell_type": "code",
      "source": [
        "from sklearn.feature_extraction.text import TfidfVectorizer\n",
        " \n",
        "tf = TfidfVectorizer()\n",
        "tf.fit(data['genres']) \n",
        "tf.get_feature_names() "
      ],
      "metadata": {
        "colab": {
          "base_uri": "https://localhost:8080/"
        },
        "id": "UoHI78Nr4Rha",
        "outputId": "03d9e747-af08-4064-d447-ae2b948a850c"
      },
      "execution_count": 16,
      "outputs": [
        {
          "output_type": "stream",
          "name": "stderr",
          "text": [
            "/usr/local/lib/python3.7/dist-packages/sklearn/utils/deprecation.py:87: FutureWarning:\n",
            "\n",
            "Function get_feature_names is deprecated; get_feature_names is deprecated in 1.0 and will be removed in 1.2. Please use get_feature_names_out instead.\n",
            "\n"
          ]
        },
        {
          "output_type": "execute_result",
          "data": {
            "text/plain": [
              "['action',\n",
              " 'adventure',\n",
              " 'animation',\n",
              " 'children',\n",
              " 'comedy',\n",
              " 'crime',\n",
              " 'documentary',\n",
              " 'drama',\n",
              " 'fantasy',\n",
              " 'fi',\n",
              " 'film',\n",
              " 'genres',\n",
              " 'horror',\n",
              " 'imax',\n",
              " 'listed',\n",
              " 'musical',\n",
              " 'mystery',\n",
              " 'no',\n",
              " 'noir',\n",
              " 'romance',\n",
              " 'sci',\n",
              " 'thriller',\n",
              " 'war',\n",
              " 'western']"
            ]
          },
          "metadata": {},
          "execution_count": 16
        }
      ]
    },
    {
      "cell_type": "markdown",
      "source": [
        "Melakukan fit yang ditransformasi ke dalam bentuk matrix"
      ],
      "metadata": {
        "id": "vXC763mHeaCE"
      }
    },
    {
      "cell_type": "code",
      "source": [
        "tfidf_matrix = tf.fit_transform(data['genres']) \n",
        "\n",
        "tfidf_matrix.shape "
      ],
      "metadata": {
        "colab": {
          "base_uri": "https://localhost:8080/"
        },
        "id": "aBPbtFHx4XjF",
        "outputId": "7e289f7b-b237-430f-a3ab-9af39740aa10"
      },
      "execution_count": 17,
      "outputs": [
        {
          "output_type": "execute_result",
          "data": {
            "text/plain": [
              "(9737, 24)"
            ]
          },
          "metadata": {},
          "execution_count": 17
        }
      ]
    },
    {
      "cell_type": "markdown",
      "source": [
        "Mengubah vektor tfidf kedalam bentuk matriks"
      ],
      "metadata": {
        "id": "O5l5W3f_ejAM"
      }
    },
    {
      "cell_type": "code",
      "source": [
        "tfidf_matrix.todense()"
      ],
      "metadata": {
        "colab": {
          "base_uri": "https://localhost:8080/"
        },
        "id": "esp48jHv4oyQ",
        "outputId": "42126d8d-d436-41f1-8bfd-cdb248ec347b"
      },
      "execution_count": 18,
      "outputs": [
        {
          "output_type": "execute_result",
          "data": {
            "text/plain": [
              "matrix([[0.        , 0.41683543, 0.51622956, ..., 0.        , 0.        ,\n",
              "         0.        ],\n",
              "        [0.        , 0.51235123, 0.        , ..., 0.        , 0.        ,\n",
              "         0.        ],\n",
              "        [0.        , 0.        , 0.        , ..., 0.        , 0.        ,\n",
              "         0.        ],\n",
              "        ...,\n",
              "        [0.        , 0.        , 0.        , ..., 0.        , 0.        ,\n",
              "         0.        ],\n",
              "        [0.57866302, 0.        , 0.81556674, ..., 0.        , 0.        ,\n",
              "         0.        ],\n",
              "        [0.        , 0.        , 0.        , ..., 0.        , 0.        ,\n",
              "         0.        ]])"
            ]
          },
          "metadata": {},
          "execution_count": 18
        }
      ]
    },
    {
      "cell_type": "markdown",
      "source": [
        "Menampilkan film dengan genrenya"
      ],
      "metadata": {
        "id": "z0VjS4ICenwj"
      }
    },
    {
      "cell_type": "code",
      "source": [
        "pd.DataFrame(\n",
        "    tfidf_matrix.todense(), \n",
        "    columns=tf.get_feature_names(),\n",
        "    index=data.title\n",
        ").sample(22, axis=1).sample(10, axis=0)"
      ],
      "metadata": {
        "colab": {
          "base_uri": "https://localhost:8080/",
          "height": 956
        },
        "id": "qssHvpk84rhC",
        "outputId": "27f645fe-d8e8-418f-87bd-8d103999eaf3"
      },
      "execution_count": 19,
      "outputs": [
        {
          "output_type": "execute_result",
          "data": {
            "text/plain": [
              "                                               fi  documentary  listed  \\\n",
              "title                                                                    \n",
              "Alice Through the Looking Glass (2016)    0.00000          0.0     0.0   \n",
              "Pandorum (2009)                           0.52414          0.0     0.0   \n",
              "Mod Squad, The (1999)                     0.00000          0.0     0.0   \n",
              "Fox and the Hound, The (1981)             0.00000          0.0     0.0   \n",
              "Even Cowgirls Get the Blues (1993)        0.00000          0.0     0.0   \n",
              "Stuart Little 3: Call of the Wild (2005)  0.00000          0.0     0.0   \n",
              "The Gambler (2014)                        0.00000          0.0     0.0   \n",
              "Porky's Hare Hunt (1938)                  0.00000          0.0     0.0   \n",
              "3:10 to Yuma (1957)                       0.00000          0.0     0.0   \n",
              "Nevada Smith (1966)                       0.00000          0.0     0.0   \n",
              "\n",
              "                                            comedy  mystery  imax  adventure  \\\n",
              "title                                                                          \n",
              "Alice Through the Looking Glass (2016)    0.000000      0.0   0.0   0.512351   \n",
              "Pandorum (2009)                           0.000000      0.0   0.0   0.000000   \n",
              "Mod Squad, The (1999)                     0.000000      0.0   0.0   0.000000   \n",
              "Fox and the Hound, The (1981)             0.000000      0.0   0.0   0.000000   \n",
              "Even Cowgirls Get the Blues (1993)        0.570679      0.0   0.0   0.000000   \n",
              "Stuart Little 3: Call of the Wild (2005)  0.294386      0.0   0.0   0.000000   \n",
              "The Gambler (2014)                        0.000000      0.0   0.0   0.000000   \n",
              "Porky's Hare Hunt (1938)                  0.347501      0.0   0.0   0.000000   \n",
              "3:10 to Yuma (1957)                       0.000000      0.0   0.0   0.420969   \n",
              "Nevada Smith (1966)                       0.000000      0.0   0.0   0.000000   \n",
              "\n",
              "                                             crime  children    action  ...  \\\n",
              "title                                                                   ...   \n",
              "Alice Through the Looking Glass (2016)    0.000000  0.620531  0.000000  ...   \n",
              "Pandorum (2009)                           0.000000  0.000000  0.000000  ...   \n",
              "Mod Squad, The (1999)                     0.756793  0.000000  0.653655  ...   \n",
              "Fox and the Hound, The (1981)             0.000000  0.661502  0.000000  ...   \n",
              "Even Cowgirls Get the Blues (1993)        0.000000  0.000000  0.000000  ...   \n",
              "Stuart Little 3: Call of the Wild (2005)  0.000000  0.555399  0.000000  ...   \n",
              "The Gambler (2014)                        0.695669  0.000000  0.000000  ...   \n",
              "Porky's Hare Hunt (1938)                  0.000000  0.655608  0.000000  ...   \n",
              "3:10 to Yuma (1957)                       0.000000  0.000000  0.369909  ...   \n",
              "Nevada Smith (1966)                       0.000000  0.000000  0.000000  ...   \n",
              "\n",
              "                                           western  genres  musical   fantasy  \\\n",
              "title                                                                           \n",
              "Alice Through the Looking Glass (2016)    0.000000     0.0      0.0  0.593664   \n",
              "Pandorum (2009)                           0.000000     0.0      0.0  0.000000   \n",
              "Mod Squad, The (1999)                     0.000000     0.0      0.0  0.000000   \n",
              "Fox and the Hound, The (1981)             0.000000     0.0      0.0  0.000000   \n",
              "Even Cowgirls Get the Blues (1993)        0.000000     0.0      0.0  0.000000   \n",
              "Stuart Little 3: Call of the Wild (2005)  0.000000     0.0      0.0  0.531352   \n",
              "The Gambler (2014)                        0.000000     0.0      0.0  0.000000   \n",
              "Porky's Hare Hunt (1938)                  0.000000     0.0      0.0  0.000000   \n",
              "3:10 to Yuma (1957)                       0.700264     0.0      0.0  0.000000   \n",
              "Nevada Smith (1966)                       1.000000     0.0      0.0  0.000000   \n",
              "\n",
              "                                           no  thriller      sci   romance  \\\n",
              "title                                                                        \n",
              "Alice Through the Looking Glass (2016)    0.0  0.000000  0.00000  0.000000   \n",
              "Pandorum (2009)                           0.0  0.419322  0.52414  0.000000   \n",
              "Mod Squad, The (1999)                     0.0  0.000000  0.00000  0.000000   \n",
              "Fox and the Hound, The (1981)             0.0  0.000000  0.00000  0.000000   \n",
              "Even Cowgirls Get the Blues (1993)        0.0  0.000000  0.00000  0.821173   \n",
              "Stuart Little 3: Call of the Wild (2005)  0.0  0.000000  0.00000  0.000000   \n",
              "The Gambler (2014)                        0.0  0.593006  0.00000  0.000000   \n",
              "Porky's Hare Hunt (1938)                  0.0  0.000000  0.00000  0.000000   \n",
              "3:10 to Yuma (1957)                       0.0  0.365073  0.00000  0.000000   \n",
              "Nevada Smith (1966)                       0.0  0.000000  0.00000  0.000000   \n",
              "\n",
              "                                          noir  war  \n",
              "title                                                \n",
              "Alice Through the Looking Glass (2016)     0.0  0.0  \n",
              "Pandorum (2009)                            0.0  0.0  \n",
              "Mod Squad, The (1999)                      0.0  0.0  \n",
              "Fox and the Hound, The (1981)              0.0  0.0  \n",
              "Even Cowgirls Get the Blues (1993)         0.0  0.0  \n",
              "Stuart Little 3: Call of the Wild (2005)   0.0  0.0  \n",
              "The Gambler (2014)                         0.0  0.0  \n",
              "Porky's Hare Hunt (1938)                   0.0  0.0  \n",
              "3:10 to Yuma (1957)                        0.0  0.0  \n",
              "Nevada Smith (1966)                        0.0  0.0  \n",
              "\n",
              "[10 rows x 22 columns]"
            ],
            "text/html": [
              "\n",
              "  <div id=\"df-95efc24a-f9da-43b0-ae5a-8b250a587b9e\">\n",
              "    <div class=\"colab-df-container\">\n",
              "      <div>\n",
              "<style scoped>\n",
              "    .dataframe tbody tr th:only-of-type {\n",
              "        vertical-align: middle;\n",
              "    }\n",
              "\n",
              "    .dataframe tbody tr th {\n",
              "        vertical-align: top;\n",
              "    }\n",
              "\n",
              "    .dataframe thead th {\n",
              "        text-align: right;\n",
              "    }\n",
              "</style>\n",
              "<table border=\"1\" class=\"dataframe\">\n",
              "  <thead>\n",
              "    <tr style=\"text-align: right;\">\n",
              "      <th></th>\n",
              "      <th>fi</th>\n",
              "      <th>documentary</th>\n",
              "      <th>listed</th>\n",
              "      <th>comedy</th>\n",
              "      <th>mystery</th>\n",
              "      <th>imax</th>\n",
              "      <th>adventure</th>\n",
              "      <th>crime</th>\n",
              "      <th>children</th>\n",
              "      <th>action</th>\n",
              "      <th>...</th>\n",
              "      <th>western</th>\n",
              "      <th>genres</th>\n",
              "      <th>musical</th>\n",
              "      <th>fantasy</th>\n",
              "      <th>no</th>\n",
              "      <th>thriller</th>\n",
              "      <th>sci</th>\n",
              "      <th>romance</th>\n",
              "      <th>noir</th>\n",
              "      <th>war</th>\n",
              "    </tr>\n",
              "    <tr>\n",
              "      <th>title</th>\n",
              "      <th></th>\n",
              "      <th></th>\n",
              "      <th></th>\n",
              "      <th></th>\n",
              "      <th></th>\n",
              "      <th></th>\n",
              "      <th></th>\n",
              "      <th></th>\n",
              "      <th></th>\n",
              "      <th></th>\n",
              "      <th></th>\n",
              "      <th></th>\n",
              "      <th></th>\n",
              "      <th></th>\n",
              "      <th></th>\n",
              "      <th></th>\n",
              "      <th></th>\n",
              "      <th></th>\n",
              "      <th></th>\n",
              "      <th></th>\n",
              "      <th></th>\n",
              "    </tr>\n",
              "  </thead>\n",
              "  <tbody>\n",
              "    <tr>\n",
              "      <th>Alice Through the Looking Glass (2016)</th>\n",
              "      <td>0.00000</td>\n",
              "      <td>0.0</td>\n",
              "      <td>0.0</td>\n",
              "      <td>0.000000</td>\n",
              "      <td>0.0</td>\n",
              "      <td>0.0</td>\n",
              "      <td>0.512351</td>\n",
              "      <td>0.000000</td>\n",
              "      <td>0.620531</td>\n",
              "      <td>0.000000</td>\n",
              "      <td>...</td>\n",
              "      <td>0.000000</td>\n",
              "      <td>0.0</td>\n",
              "      <td>0.0</td>\n",
              "      <td>0.593664</td>\n",
              "      <td>0.0</td>\n",
              "      <td>0.000000</td>\n",
              "      <td>0.00000</td>\n",
              "      <td>0.000000</td>\n",
              "      <td>0.0</td>\n",
              "      <td>0.0</td>\n",
              "    </tr>\n",
              "    <tr>\n",
              "      <th>Pandorum (2009)</th>\n",
              "      <td>0.52414</td>\n",
              "      <td>0.0</td>\n",
              "      <td>0.0</td>\n",
              "      <td>0.000000</td>\n",
              "      <td>0.0</td>\n",
              "      <td>0.0</td>\n",
              "      <td>0.000000</td>\n",
              "      <td>0.000000</td>\n",
              "      <td>0.000000</td>\n",
              "      <td>0.000000</td>\n",
              "      <td>...</td>\n",
              "      <td>0.000000</td>\n",
              "      <td>0.0</td>\n",
              "      <td>0.0</td>\n",
              "      <td>0.000000</td>\n",
              "      <td>0.0</td>\n",
              "      <td>0.419322</td>\n",
              "      <td>0.52414</td>\n",
              "      <td>0.000000</td>\n",
              "      <td>0.0</td>\n",
              "      <td>0.0</td>\n",
              "    </tr>\n",
              "    <tr>\n",
              "      <th>Mod Squad, The (1999)</th>\n",
              "      <td>0.00000</td>\n",
              "      <td>0.0</td>\n",
              "      <td>0.0</td>\n",
              "      <td>0.000000</td>\n",
              "      <td>0.0</td>\n",
              "      <td>0.0</td>\n",
              "      <td>0.000000</td>\n",
              "      <td>0.756793</td>\n",
              "      <td>0.000000</td>\n",
              "      <td>0.653655</td>\n",
              "      <td>...</td>\n",
              "      <td>0.000000</td>\n",
              "      <td>0.0</td>\n",
              "      <td>0.0</td>\n",
              "      <td>0.000000</td>\n",
              "      <td>0.0</td>\n",
              "      <td>0.000000</td>\n",
              "      <td>0.00000</td>\n",
              "      <td>0.000000</td>\n",
              "      <td>0.0</td>\n",
              "      <td>0.0</td>\n",
              "    </tr>\n",
              "    <tr>\n",
              "      <th>Fox and the Hound, The (1981)</th>\n",
              "      <td>0.00000</td>\n",
              "      <td>0.0</td>\n",
              "      <td>0.0</td>\n",
              "      <td>0.000000</td>\n",
              "      <td>0.0</td>\n",
              "      <td>0.0</td>\n",
              "      <td>0.000000</td>\n",
              "      <td>0.000000</td>\n",
              "      <td>0.661502</td>\n",
              "      <td>0.000000</td>\n",
              "      <td>...</td>\n",
              "      <td>0.000000</td>\n",
              "      <td>0.0</td>\n",
              "      <td>0.0</td>\n",
              "      <td>0.000000</td>\n",
              "      <td>0.0</td>\n",
              "      <td>0.000000</td>\n",
              "      <td>0.00000</td>\n",
              "      <td>0.000000</td>\n",
              "      <td>0.0</td>\n",
              "      <td>0.0</td>\n",
              "    </tr>\n",
              "    <tr>\n",
              "      <th>Even Cowgirls Get the Blues (1993)</th>\n",
              "      <td>0.00000</td>\n",
              "      <td>0.0</td>\n",
              "      <td>0.0</td>\n",
              "      <td>0.570679</td>\n",
              "      <td>0.0</td>\n",
              "      <td>0.0</td>\n",
              "      <td>0.000000</td>\n",
              "      <td>0.000000</td>\n",
              "      <td>0.000000</td>\n",
              "      <td>0.000000</td>\n",
              "      <td>...</td>\n",
              "      <td>0.000000</td>\n",
              "      <td>0.0</td>\n",
              "      <td>0.0</td>\n",
              "      <td>0.000000</td>\n",
              "      <td>0.0</td>\n",
              "      <td>0.000000</td>\n",
              "      <td>0.00000</td>\n",
              "      <td>0.821173</td>\n",
              "      <td>0.0</td>\n",
              "      <td>0.0</td>\n",
              "    </tr>\n",
              "    <tr>\n",
              "      <th>Stuart Little 3: Call of the Wild (2005)</th>\n",
              "      <td>0.00000</td>\n",
              "      <td>0.0</td>\n",
              "      <td>0.0</td>\n",
              "      <td>0.294386</td>\n",
              "      <td>0.0</td>\n",
              "      <td>0.0</td>\n",
              "      <td>0.000000</td>\n",
              "      <td>0.000000</td>\n",
              "      <td>0.555399</td>\n",
              "      <td>0.000000</td>\n",
              "      <td>...</td>\n",
              "      <td>0.000000</td>\n",
              "      <td>0.0</td>\n",
              "      <td>0.0</td>\n",
              "      <td>0.531352</td>\n",
              "      <td>0.0</td>\n",
              "      <td>0.000000</td>\n",
              "      <td>0.00000</td>\n",
              "      <td>0.000000</td>\n",
              "      <td>0.0</td>\n",
              "      <td>0.0</td>\n",
              "    </tr>\n",
              "    <tr>\n",
              "      <th>The Gambler (2014)</th>\n",
              "      <td>0.00000</td>\n",
              "      <td>0.0</td>\n",
              "      <td>0.0</td>\n",
              "      <td>0.000000</td>\n",
              "      <td>0.0</td>\n",
              "      <td>0.0</td>\n",
              "      <td>0.000000</td>\n",
              "      <td>0.695669</td>\n",
              "      <td>0.000000</td>\n",
              "      <td>0.000000</td>\n",
              "      <td>...</td>\n",
              "      <td>0.000000</td>\n",
              "      <td>0.0</td>\n",
              "      <td>0.0</td>\n",
              "      <td>0.000000</td>\n",
              "      <td>0.0</td>\n",
              "      <td>0.593006</td>\n",
              "      <td>0.00000</td>\n",
              "      <td>0.000000</td>\n",
              "      <td>0.0</td>\n",
              "      <td>0.0</td>\n",
              "    </tr>\n",
              "    <tr>\n",
              "      <th>Porky's Hare Hunt (1938)</th>\n",
              "      <td>0.00000</td>\n",
              "      <td>0.0</td>\n",
              "      <td>0.0</td>\n",
              "      <td>0.347501</td>\n",
              "      <td>0.0</td>\n",
              "      <td>0.0</td>\n",
              "      <td>0.000000</td>\n",
              "      <td>0.000000</td>\n",
              "      <td>0.655608</td>\n",
              "      <td>0.000000</td>\n",
              "      <td>...</td>\n",
              "      <td>0.000000</td>\n",
              "      <td>0.0</td>\n",
              "      <td>0.0</td>\n",
              "      <td>0.000000</td>\n",
              "      <td>0.0</td>\n",
              "      <td>0.000000</td>\n",
              "      <td>0.00000</td>\n",
              "      <td>0.000000</td>\n",
              "      <td>0.0</td>\n",
              "      <td>0.0</td>\n",
              "    </tr>\n",
              "    <tr>\n",
              "      <th>3:10 to Yuma (1957)</th>\n",
              "      <td>0.00000</td>\n",
              "      <td>0.0</td>\n",
              "      <td>0.0</td>\n",
              "      <td>0.000000</td>\n",
              "      <td>0.0</td>\n",
              "      <td>0.0</td>\n",
              "      <td>0.420969</td>\n",
              "      <td>0.000000</td>\n",
              "      <td>0.000000</td>\n",
              "      <td>0.369909</td>\n",
              "      <td>...</td>\n",
              "      <td>0.700264</td>\n",
              "      <td>0.0</td>\n",
              "      <td>0.0</td>\n",
              "      <td>0.000000</td>\n",
              "      <td>0.0</td>\n",
              "      <td>0.365073</td>\n",
              "      <td>0.00000</td>\n",
              "      <td>0.000000</td>\n",
              "      <td>0.0</td>\n",
              "      <td>0.0</td>\n",
              "    </tr>\n",
              "    <tr>\n",
              "      <th>Nevada Smith (1966)</th>\n",
              "      <td>0.00000</td>\n",
              "      <td>0.0</td>\n",
              "      <td>0.0</td>\n",
              "      <td>0.000000</td>\n",
              "      <td>0.0</td>\n",
              "      <td>0.0</td>\n",
              "      <td>0.000000</td>\n",
              "      <td>0.000000</td>\n",
              "      <td>0.000000</td>\n",
              "      <td>0.000000</td>\n",
              "      <td>...</td>\n",
              "      <td>1.000000</td>\n",
              "      <td>0.0</td>\n",
              "      <td>0.0</td>\n",
              "      <td>0.000000</td>\n",
              "      <td>0.0</td>\n",
              "      <td>0.000000</td>\n",
              "      <td>0.00000</td>\n",
              "      <td>0.000000</td>\n",
              "      <td>0.0</td>\n",
              "      <td>0.0</td>\n",
              "    </tr>\n",
              "  </tbody>\n",
              "</table>\n",
              "<p>10 rows × 22 columns</p>\n",
              "</div>\n",
              "      <button class=\"colab-df-convert\" onclick=\"convertToInteractive('df-95efc24a-f9da-43b0-ae5a-8b250a587b9e')\"\n",
              "              title=\"Convert this dataframe to an interactive table.\"\n",
              "              style=\"display:none;\">\n",
              "        \n",
              "  <svg xmlns=\"http://www.w3.org/2000/svg\" height=\"24px\"viewBox=\"0 0 24 24\"\n",
              "       width=\"24px\">\n",
              "    <path d=\"M0 0h24v24H0V0z\" fill=\"none\"/>\n",
              "    <path d=\"M18.56 5.44l.94 2.06.94-2.06 2.06-.94-2.06-.94-.94-2.06-.94 2.06-2.06.94zm-11 1L8.5 8.5l.94-2.06 2.06-.94-2.06-.94L8.5 2.5l-.94 2.06-2.06.94zm10 10l.94 2.06.94-2.06 2.06-.94-2.06-.94-.94-2.06-.94 2.06-2.06.94z\"/><path d=\"M17.41 7.96l-1.37-1.37c-.4-.4-.92-.59-1.43-.59-.52 0-1.04.2-1.43.59L10.3 9.45l-7.72 7.72c-.78.78-.78 2.05 0 2.83L4 21.41c.39.39.9.59 1.41.59.51 0 1.02-.2 1.41-.59l7.78-7.78 2.81-2.81c.8-.78.8-2.07 0-2.86zM5.41 20L4 18.59l7.72-7.72 1.47 1.35L5.41 20z\"/>\n",
              "  </svg>\n",
              "      </button>\n",
              "      \n",
              "  <style>\n",
              "    .colab-df-container {\n",
              "      display:flex;\n",
              "      flex-wrap:wrap;\n",
              "      gap: 12px;\n",
              "    }\n",
              "\n",
              "    .colab-df-convert {\n",
              "      background-color: #E8F0FE;\n",
              "      border: none;\n",
              "      border-radius: 50%;\n",
              "      cursor: pointer;\n",
              "      display: none;\n",
              "      fill: #1967D2;\n",
              "      height: 32px;\n",
              "      padding: 0 0 0 0;\n",
              "      width: 32px;\n",
              "    }\n",
              "\n",
              "    .colab-df-convert:hover {\n",
              "      background-color: #E2EBFA;\n",
              "      box-shadow: 0px 1px 2px rgba(60, 64, 67, 0.3), 0px 1px 3px 1px rgba(60, 64, 67, 0.15);\n",
              "      fill: #174EA6;\n",
              "    }\n",
              "\n",
              "    [theme=dark] .colab-df-convert {\n",
              "      background-color: #3B4455;\n",
              "      fill: #D2E3FC;\n",
              "    }\n",
              "\n",
              "    [theme=dark] .colab-df-convert:hover {\n",
              "      background-color: #434B5C;\n",
              "      box-shadow: 0px 1px 3px 1px rgba(0, 0, 0, 0.15);\n",
              "      filter: drop-shadow(0px 1px 2px rgba(0, 0, 0, 0.3));\n",
              "      fill: #FFFFFF;\n",
              "    }\n",
              "  </style>\n",
              "\n",
              "      <script>\n",
              "        const buttonEl =\n",
              "          document.querySelector('#df-95efc24a-f9da-43b0-ae5a-8b250a587b9e button.colab-df-convert');\n",
              "        buttonEl.style.display =\n",
              "          google.colab.kernel.accessAllowed ? 'block' : 'none';\n",
              "\n",
              "        async function convertToInteractive(key) {\n",
              "          const element = document.querySelector('#df-95efc24a-f9da-43b0-ae5a-8b250a587b9e');\n",
              "          const dataTable =\n",
              "            await google.colab.kernel.invokeFunction('convertToInteractive',\n",
              "                                                     [key], {});\n",
              "          if (!dataTable) return;\n",
              "\n",
              "          const docLinkHtml = 'Like what you see? Visit the ' +\n",
              "            '<a target=\"_blank\" href=https://colab.research.google.com/notebooks/data_table.ipynb>data table notebook</a>'\n",
              "            + ' to learn more about interactive tables.';\n",
              "          element.innerHTML = '';\n",
              "          dataTable['output_type'] = 'display_data';\n",
              "          await google.colab.output.renderOutput(dataTable, element);\n",
              "          const docLink = document.createElement('div');\n",
              "          docLink.innerHTML = docLinkHtml;\n",
              "          element.appendChild(docLink);\n",
              "        }\n",
              "      </script>\n",
              "    </div>\n",
              "  </div>\n",
              "  "
            ]
          },
          "metadata": {},
          "execution_count": 19
        }
      ]
    },
    {
      "cell_type": "markdown",
      "source": [
        "Menghitung cosine similarity pada matrix tf-idf"
      ],
      "metadata": {
        "id": "LBmr9oIU44nJ"
      }
    },
    {
      "cell_type": "code",
      "source": [
        "from sklearn.metrics.pairwise import cosine_similarity\n",
        "\n",
        "cosine_sim = cosine_similarity(tfidf_matrix) \n",
        "cosine_sim"
      ],
      "metadata": {
        "colab": {
          "base_uri": "https://localhost:8080/"
        },
        "id": "cYt9dwu_4u4w",
        "outputId": "60f1abbd-d973-4047-d4a8-09903aae3218"
      },
      "execution_count": 20,
      "outputs": [
        {
          "output_type": "execute_result",
          "data": {
            "text/plain": [
              "array([[1.        , 0.81357359, 0.15270879, ..., 0.        , 0.42101966,\n",
              "        0.2675912 ],\n",
              "       [0.81357359, 1.        , 0.        , ..., 0.        , 0.        ,\n",
              "        0.        ],\n",
              "       [0.15270879, 0.        , 1.        , ..., 0.        , 0.        ,\n",
              "        0.57067944],\n",
              "       ...,\n",
              "       [0.        , 0.        , 0.        , ..., 1.        , 0.        ,\n",
              "        0.        ],\n",
              "       [0.42101966, 0.        , 0.        , ..., 0.        , 1.        ,\n",
              "        0.        ],\n",
              "       [0.2675912 , 0.        , 0.57067944, ..., 0.        , 0.        ,\n",
              "        1.        ]])"
            ]
          },
          "metadata": {},
          "execution_count": 20
        }
      ]
    },
    {
      "cell_type": "markdown",
      "source": [
        "Membuat dataframe cosine_sim dengan baris dan kolom berupa judul film serta melihat kesamaan data pada tiap film"
      ],
      "metadata": {
        "id": "HbEJ6K4ce2Lp"
      }
    },
    {
      "cell_type": "code",
      "source": [
        "cosine_sim_df = pd.DataFrame(cosine_sim, index=data['title'], columns=data['title'])\n",
        "print('Shape:', cosine_sim_df.shape)\n",
        " \n",
        "cosine_sim_df.sample(5, axis=1).sample(10, axis=0)"
      ],
      "metadata": {
        "colab": {
          "base_uri": "https://localhost:8080/",
          "height": 490
        },
        "id": "MxND_JA645zj",
        "outputId": "5d3b2f9a-5919-4f1a-cde6-e828c7c6a344"
      },
      "execution_count": 21,
      "outputs": [
        {
          "output_type": "stream",
          "name": "stdout",
          "text": [
            "Shape: (9737, 9737)\n"
          ]
        },
        {
          "output_type": "execute_result",
          "data": {
            "text/plain": [
              "title                                     Cowboy Bebop: The Movie (Cowboy Bebop: Tengoku no Tobira) (2001)  \\\n",
              "title                                                                                                        \n",
              "Hellraiser III: Hell on Earth (1992)                                               0.000000                  \n",
              "Child, The (L'enfant) (2005)                                                       0.000000                  \n",
              "Scary Movie 3 (2003)                                                               0.000000                  \n",
              "Dune (1984)                                                                        0.552125                  \n",
              "Sixteen Candles (1984)                                                             0.000000                  \n",
              "Sorority House Massacre II (1990)                                                  0.000000                  \n",
              "Pulse (Kairo) (2001)                                                               0.172531                  \n",
              "I Saw the Devil (Akmareul boatda) (2010)                                           0.241917                  \n",
              "Little Shop of Horrors, The (1960)                                                 0.000000                  \n",
              "Great Santini, The (1979)                                                          0.000000                  \n",
              "\n",
              "title                                     Return to Me (2000)  \\\n",
              "title                                                           \n",
              "Hellraiser III: Hell on Earth (1992)                 0.000000   \n",
              "Child, The (L'enfant) (2005)                         0.272002   \n",
              "Scary Movie 3 (2003)                                 0.000000   \n",
              "Dune (1984)                                          0.000000   \n",
              "Sixteen Candles (1984)                               0.691058   \n",
              "Sorority House Massacre II (1990)                    0.000000   \n",
              "Pulse (Kairo) (2001)                                 0.000000   \n",
              "I Saw the Devil (Akmareul boatda) (2010)             0.000000   \n",
              "Little Shop of Horrors, The (1960)                   0.000000   \n",
              "Great Santini, The (1979)                            0.540179   \n",
              "\n",
              "title                                     Closer to the Moon (2013)  \\\n",
              "title                                                                 \n",
              "Hellraiser III: Hell on Earth (1992)                       0.000000   \n",
              "Child, The (L'enfant) (2005)                               0.341652   \n",
              "Scary Movie 3 (2003)                                       0.374323   \n",
              "Dune (1984)                                                0.000000   \n",
              "Sixteen Candles (1984)                                     0.419221   \n",
              "Sorority House Massacre II (1990)                          0.000000   \n",
              "Pulse (Kairo) (2001)                                       0.000000   \n",
              "I Saw the Devil (Akmareul boatda) (2010)                   0.000000   \n",
              "Little Shop of Horrors, The (1960)                         0.374323   \n",
              "Great Santini, The (1979)                                  0.678501   \n",
              "\n",
              "title                                     Getaway, The (1972)  \\\n",
              "title                                                           \n",
              "Hellraiser III: Hell on Earth (1992)                 0.000000   \n",
              "Child, The (L'enfant) (2005)                         0.690189   \n",
              "Scary Movie 3 (2003)                                 0.000000   \n",
              "Dune (1984)                                          0.000000   \n",
              "Sixteen Candles (1984)                               0.000000   \n",
              "Sorority House Massacre II (1990)                    0.000000   \n",
              "Pulse (Kairo) (2001)                                 0.235170   \n",
              "I Saw the Devil (Akmareul boatda) (2010)             0.783552   \n",
              "Little Shop of Horrors, The (1960)                   0.000000   \n",
              "Great Santini, The (1979)                            0.347538   \n",
              "\n",
              "title                                     Black Dynamite (2009)  \n",
              "title                                                            \n",
              "Hellraiser III: Hell on Earth (1992)                   0.000000  \n",
              "Child, The (L'enfant) (2005)                           0.000000  \n",
              "Scary Movie 3 (2003)                                   0.300596  \n",
              "Dune (1984)                                            0.000000  \n",
              "Sixteen Candles (1984)                                 0.336651  \n",
              "Sorority House Massacre II (1990)                      0.000000  \n",
              "Pulse (Kairo) (2001)                                   0.000000  \n",
              "I Saw the Devil (Akmareul boatda) (2010)               0.000000  \n",
              "Little Shop of Horrors, The (1960)                     0.300596  \n",
              "Great Santini, The (1979)                              0.000000  "
            ],
            "text/html": [
              "\n",
              "  <div id=\"df-0740115e-611a-40a1-9494-5eac1614d521\">\n",
              "    <div class=\"colab-df-container\">\n",
              "      <div>\n",
              "<style scoped>\n",
              "    .dataframe tbody tr th:only-of-type {\n",
              "        vertical-align: middle;\n",
              "    }\n",
              "\n",
              "    .dataframe tbody tr th {\n",
              "        vertical-align: top;\n",
              "    }\n",
              "\n",
              "    .dataframe thead th {\n",
              "        text-align: right;\n",
              "    }\n",
              "</style>\n",
              "<table border=\"1\" class=\"dataframe\">\n",
              "  <thead>\n",
              "    <tr style=\"text-align: right;\">\n",
              "      <th>title</th>\n",
              "      <th>Cowboy Bebop: The Movie (Cowboy Bebop: Tengoku no Tobira) (2001)</th>\n",
              "      <th>Return to Me (2000)</th>\n",
              "      <th>Closer to the Moon (2013)</th>\n",
              "      <th>Getaway, The (1972)</th>\n",
              "      <th>Black Dynamite (2009)</th>\n",
              "    </tr>\n",
              "    <tr>\n",
              "      <th>title</th>\n",
              "      <th></th>\n",
              "      <th></th>\n",
              "      <th></th>\n",
              "      <th></th>\n",
              "      <th></th>\n",
              "    </tr>\n",
              "  </thead>\n",
              "  <tbody>\n",
              "    <tr>\n",
              "      <th>Hellraiser III: Hell on Earth (1992)</th>\n",
              "      <td>0.000000</td>\n",
              "      <td>0.000000</td>\n",
              "      <td>0.000000</td>\n",
              "      <td>0.000000</td>\n",
              "      <td>0.000000</td>\n",
              "    </tr>\n",
              "    <tr>\n",
              "      <th>Child, The (L'enfant) (2005)</th>\n",
              "      <td>0.000000</td>\n",
              "      <td>0.272002</td>\n",
              "      <td>0.341652</td>\n",
              "      <td>0.690189</td>\n",
              "      <td>0.000000</td>\n",
              "    </tr>\n",
              "    <tr>\n",
              "      <th>Scary Movie 3 (2003)</th>\n",
              "      <td>0.000000</td>\n",
              "      <td>0.000000</td>\n",
              "      <td>0.374323</td>\n",
              "      <td>0.000000</td>\n",
              "      <td>0.300596</td>\n",
              "    </tr>\n",
              "    <tr>\n",
              "      <th>Dune (1984)</th>\n",
              "      <td>0.552125</td>\n",
              "      <td>0.000000</td>\n",
              "      <td>0.000000</td>\n",
              "      <td>0.000000</td>\n",
              "      <td>0.000000</td>\n",
              "    </tr>\n",
              "    <tr>\n",
              "      <th>Sixteen Candles (1984)</th>\n",
              "      <td>0.000000</td>\n",
              "      <td>0.691058</td>\n",
              "      <td>0.419221</td>\n",
              "      <td>0.000000</td>\n",
              "      <td>0.336651</td>\n",
              "    </tr>\n",
              "    <tr>\n",
              "      <th>Sorority House Massacre II (1990)</th>\n",
              "      <td>0.000000</td>\n",
              "      <td>0.000000</td>\n",
              "      <td>0.000000</td>\n",
              "      <td>0.000000</td>\n",
              "      <td>0.000000</td>\n",
              "    </tr>\n",
              "    <tr>\n",
              "      <th>Pulse (Kairo) (2001)</th>\n",
              "      <td>0.172531</td>\n",
              "      <td>0.000000</td>\n",
              "      <td>0.000000</td>\n",
              "      <td>0.235170</td>\n",
              "      <td>0.000000</td>\n",
              "    </tr>\n",
              "    <tr>\n",
              "      <th>I Saw the Devil (Akmareul boatda) (2010)</th>\n",
              "      <td>0.241917</td>\n",
              "      <td>0.000000</td>\n",
              "      <td>0.000000</td>\n",
              "      <td>0.783552</td>\n",
              "      <td>0.000000</td>\n",
              "    </tr>\n",
              "    <tr>\n",
              "      <th>Little Shop of Horrors, The (1960)</th>\n",
              "      <td>0.000000</td>\n",
              "      <td>0.000000</td>\n",
              "      <td>0.374323</td>\n",
              "      <td>0.000000</td>\n",
              "      <td>0.300596</td>\n",
              "    </tr>\n",
              "    <tr>\n",
              "      <th>Great Santini, The (1979)</th>\n",
              "      <td>0.000000</td>\n",
              "      <td>0.540179</td>\n",
              "      <td>0.678501</td>\n",
              "      <td>0.347538</td>\n",
              "      <td>0.000000</td>\n",
              "    </tr>\n",
              "  </tbody>\n",
              "</table>\n",
              "</div>\n",
              "      <button class=\"colab-df-convert\" onclick=\"convertToInteractive('df-0740115e-611a-40a1-9494-5eac1614d521')\"\n",
              "              title=\"Convert this dataframe to an interactive table.\"\n",
              "              style=\"display:none;\">\n",
              "        \n",
              "  <svg xmlns=\"http://www.w3.org/2000/svg\" height=\"24px\"viewBox=\"0 0 24 24\"\n",
              "       width=\"24px\">\n",
              "    <path d=\"M0 0h24v24H0V0z\" fill=\"none\"/>\n",
              "    <path d=\"M18.56 5.44l.94 2.06.94-2.06 2.06-.94-2.06-.94-.94-2.06-.94 2.06-2.06.94zm-11 1L8.5 8.5l.94-2.06 2.06-.94-2.06-.94L8.5 2.5l-.94 2.06-2.06.94zm10 10l.94 2.06.94-2.06 2.06-.94-2.06-.94-.94-2.06-.94 2.06-2.06.94z\"/><path d=\"M17.41 7.96l-1.37-1.37c-.4-.4-.92-.59-1.43-.59-.52 0-1.04.2-1.43.59L10.3 9.45l-7.72 7.72c-.78.78-.78 2.05 0 2.83L4 21.41c.39.39.9.59 1.41.59.51 0 1.02-.2 1.41-.59l7.78-7.78 2.81-2.81c.8-.78.8-2.07 0-2.86zM5.41 20L4 18.59l7.72-7.72 1.47 1.35L5.41 20z\"/>\n",
              "  </svg>\n",
              "      </button>\n",
              "      \n",
              "  <style>\n",
              "    .colab-df-container {\n",
              "      display:flex;\n",
              "      flex-wrap:wrap;\n",
              "      gap: 12px;\n",
              "    }\n",
              "\n",
              "    .colab-df-convert {\n",
              "      background-color: #E8F0FE;\n",
              "      border: none;\n",
              "      border-radius: 50%;\n",
              "      cursor: pointer;\n",
              "      display: none;\n",
              "      fill: #1967D2;\n",
              "      height: 32px;\n",
              "      padding: 0 0 0 0;\n",
              "      width: 32px;\n",
              "    }\n",
              "\n",
              "    .colab-df-convert:hover {\n",
              "      background-color: #E2EBFA;\n",
              "      box-shadow: 0px 1px 2px rgba(60, 64, 67, 0.3), 0px 1px 3px 1px rgba(60, 64, 67, 0.15);\n",
              "      fill: #174EA6;\n",
              "    }\n",
              "\n",
              "    [theme=dark] .colab-df-convert {\n",
              "      background-color: #3B4455;\n",
              "      fill: #D2E3FC;\n",
              "    }\n",
              "\n",
              "    [theme=dark] .colab-df-convert:hover {\n",
              "      background-color: #434B5C;\n",
              "      box-shadow: 0px 1px 3px 1px rgba(0, 0, 0, 0.15);\n",
              "      filter: drop-shadow(0px 1px 2px rgba(0, 0, 0, 0.3));\n",
              "      fill: #FFFFFF;\n",
              "    }\n",
              "  </style>\n",
              "\n",
              "      <script>\n",
              "        const buttonEl =\n",
              "          document.querySelector('#df-0740115e-611a-40a1-9494-5eac1614d521 button.colab-df-convert');\n",
              "        buttonEl.style.display =\n",
              "          google.colab.kernel.accessAllowed ? 'block' : 'none';\n",
              "\n",
              "        async function convertToInteractive(key) {\n",
              "          const element = document.querySelector('#df-0740115e-611a-40a1-9494-5eac1614d521');\n",
              "          const dataTable =\n",
              "            await google.colab.kernel.invokeFunction('convertToInteractive',\n",
              "                                                     [key], {});\n",
              "          if (!dataTable) return;\n",
              "\n",
              "          const docLinkHtml = 'Like what you see? Visit the ' +\n",
              "            '<a target=\"_blank\" href=https://colab.research.google.com/notebooks/data_table.ipynb>data table notebook</a>'\n",
              "            + ' to learn more about interactive tables.';\n",
              "          element.innerHTML = '';\n",
              "          dataTable['output_type'] = 'display_data';\n",
              "          await google.colab.output.renderOutput(dataTable, element);\n",
              "          const docLink = document.createElement('div');\n",
              "          docLink.innerHTML = docLinkHtml;\n",
              "          element.appendChild(docLink);\n",
              "        }\n",
              "      </script>\n",
              "    </div>\n",
              "  </div>\n",
              "  "
            ]
          },
          "metadata": {},
          "execution_count": 21
        }
      ]
    },
    {
      "cell_type": "markdown",
      "source": [
        "Membuat fungsi movie_recommendations"
      ],
      "metadata": {
        "id": "Ria27P5CfYEU"
      }
    },
    {
      "cell_type": "code",
      "source": [
        "def movie_recommendations(movie_title, similarity_data=cosine_sim_df, items=data[['title', 'genres']], k=5):\n",
        "    index = similarity_data.loc[:,movie_title].to_numpy().argpartition(\n",
        "        range(-1, -k, -1))\n",
        "    closest = similarity_data.columns[index[-1:-(k+2):-1]]\n",
        "    closest = closest.drop(movie_title, errors='ignore')\n",
        "    return pd.DataFrame(closest).merge(items).head(k)"
      ],
      "metadata": {
        "id": "3qqQ5prm47a6"
      },
      "execution_count": 22,
      "outputs": []
    },
    {
      "cell_type": "markdown",
      "source": [
        "Membuat fungsi untuk memvisualisasikan data rekomendasi ke dalam bentuk tabel"
      ],
      "metadata": {
        "id": "2BTlByTofbst"
      }
    },
    {
      "cell_type": "code",
      "source": [
        "def render_predict_table(data, col_width=7.0, row_height=0.5, font_size=12,\n",
        "                     header_color='#40466e', row_colors=['#f1f1f2', 'w'], edge_color='w',\n",
        "                     bbox=[0, 0, 1, 1], header_columns=0,\n",
        "                     ax=None, **kwargs):\n",
        "    if ax is None:\n",
        "        size = (np.array(data.shape[::-1]) + np.array([0, 1])) * np.array([col_width, row_height])\n",
        "        fig, ax = plt.subplots(figsize=size)\n",
        "        ax.axis('off')\n",
        "    predict_table = ax.table(cellText=data.values, bbox=bbox, colLabels=data.columns, **kwargs)\n",
        "    predict_table.auto_set_font_size(False)\n",
        "    predict_table.set_fontsize(font_size)\n",
        "\n",
        "    for k, cell in predict_table._cells.items():\n",
        "        cell.set_edgecolor(edge_color)\n",
        "        if k[0] == 0 or k[1] < header_columns:\n",
        "            cell.set_text_props(weight='bold', color='w')\n",
        "            cell.set_facecolor(header_color)\n",
        "        else:\n",
        "            cell.set_facecolor(row_colors[k[0]%len(row_colors) ])\n",
        "    return ax.get_figure(), ax"
      ],
      "metadata": {
        "id": "20SaHt2IjcmT"
      },
      "execution_count": 23,
      "outputs": []
    },
    {
      "cell_type": "code",
      "source": [
        "data[data.title.eq('Jungle Book, The (1967)')]"
      ],
      "metadata": {
        "colab": {
          "base_uri": "https://localhost:8080/",
          "height": 81
        },
        "id": "Iaf2sgUy5OfN",
        "outputId": "28f98fbf-0876-44bc-cbc7-06f571e5f658"
      },
      "execution_count": 24,
      "outputs": [
        {
          "output_type": "execute_result",
          "data": {
            "text/plain": [
              "      movieId                    title                             genres\n",
              "1543     2078  Jungle Book, The (1967)  Animation,Children,Comedy,Musical"
            ],
            "text/html": [
              "\n",
              "  <div id=\"df-f5dbbf92-2d28-4e42-9147-fb4950a2328a\">\n",
              "    <div class=\"colab-df-container\">\n",
              "      <div>\n",
              "<style scoped>\n",
              "    .dataframe tbody tr th:only-of-type {\n",
              "        vertical-align: middle;\n",
              "    }\n",
              "\n",
              "    .dataframe tbody tr th {\n",
              "        vertical-align: top;\n",
              "    }\n",
              "\n",
              "    .dataframe thead th {\n",
              "        text-align: right;\n",
              "    }\n",
              "</style>\n",
              "<table border=\"1\" class=\"dataframe\">\n",
              "  <thead>\n",
              "    <tr style=\"text-align: right;\">\n",
              "      <th></th>\n",
              "      <th>movieId</th>\n",
              "      <th>title</th>\n",
              "      <th>genres</th>\n",
              "    </tr>\n",
              "  </thead>\n",
              "  <tbody>\n",
              "    <tr>\n",
              "      <th>1543</th>\n",
              "      <td>2078</td>\n",
              "      <td>Jungle Book, The (1967)</td>\n",
              "      <td>Animation,Children,Comedy,Musical</td>\n",
              "    </tr>\n",
              "  </tbody>\n",
              "</table>\n",
              "</div>\n",
              "      <button class=\"colab-df-convert\" onclick=\"convertToInteractive('df-f5dbbf92-2d28-4e42-9147-fb4950a2328a')\"\n",
              "              title=\"Convert this dataframe to an interactive table.\"\n",
              "              style=\"display:none;\">\n",
              "        \n",
              "  <svg xmlns=\"http://www.w3.org/2000/svg\" height=\"24px\"viewBox=\"0 0 24 24\"\n",
              "       width=\"24px\">\n",
              "    <path d=\"M0 0h24v24H0V0z\" fill=\"none\"/>\n",
              "    <path d=\"M18.56 5.44l.94 2.06.94-2.06 2.06-.94-2.06-.94-.94-2.06-.94 2.06-2.06.94zm-11 1L8.5 8.5l.94-2.06 2.06-.94-2.06-.94L8.5 2.5l-.94 2.06-2.06.94zm10 10l.94 2.06.94-2.06 2.06-.94-2.06-.94-.94-2.06-.94 2.06-2.06.94z\"/><path d=\"M17.41 7.96l-1.37-1.37c-.4-.4-.92-.59-1.43-.59-.52 0-1.04.2-1.43.59L10.3 9.45l-7.72 7.72c-.78.78-.78 2.05 0 2.83L4 21.41c.39.39.9.59 1.41.59.51 0 1.02-.2 1.41-.59l7.78-7.78 2.81-2.81c.8-.78.8-2.07 0-2.86zM5.41 20L4 18.59l7.72-7.72 1.47 1.35L5.41 20z\"/>\n",
              "  </svg>\n",
              "      </button>\n",
              "      \n",
              "  <style>\n",
              "    .colab-df-container {\n",
              "      display:flex;\n",
              "      flex-wrap:wrap;\n",
              "      gap: 12px;\n",
              "    }\n",
              "\n",
              "    .colab-df-convert {\n",
              "      background-color: #E8F0FE;\n",
              "      border: none;\n",
              "      border-radius: 50%;\n",
              "      cursor: pointer;\n",
              "      display: none;\n",
              "      fill: #1967D2;\n",
              "      height: 32px;\n",
              "      padding: 0 0 0 0;\n",
              "      width: 32px;\n",
              "    }\n",
              "\n",
              "    .colab-df-convert:hover {\n",
              "      background-color: #E2EBFA;\n",
              "      box-shadow: 0px 1px 2px rgba(60, 64, 67, 0.3), 0px 1px 3px 1px rgba(60, 64, 67, 0.15);\n",
              "      fill: #174EA6;\n",
              "    }\n",
              "\n",
              "    [theme=dark] .colab-df-convert {\n",
              "      background-color: #3B4455;\n",
              "      fill: #D2E3FC;\n",
              "    }\n",
              "\n",
              "    [theme=dark] .colab-df-convert:hover {\n",
              "      background-color: #434B5C;\n",
              "      box-shadow: 0px 1px 3px 1px rgba(0, 0, 0, 0.15);\n",
              "      filter: drop-shadow(0px 1px 2px rgba(0, 0, 0, 0.3));\n",
              "      fill: #FFFFFF;\n",
              "    }\n",
              "  </style>\n",
              "\n",
              "      <script>\n",
              "        const buttonEl =\n",
              "          document.querySelector('#df-f5dbbf92-2d28-4e42-9147-fb4950a2328a button.colab-df-convert');\n",
              "        buttonEl.style.display =\n",
              "          google.colab.kernel.accessAllowed ? 'block' : 'none';\n",
              "\n",
              "        async function convertToInteractive(key) {\n",
              "          const element = document.querySelector('#df-f5dbbf92-2d28-4e42-9147-fb4950a2328a');\n",
              "          const dataTable =\n",
              "            await google.colab.kernel.invokeFunction('convertToInteractive',\n",
              "                                                     [key], {});\n",
              "          if (!dataTable) return;\n",
              "\n",
              "          const docLinkHtml = 'Like what you see? Visit the ' +\n",
              "            '<a target=\"_blank\" href=https://colab.research.google.com/notebooks/data_table.ipynb>data table notebook</a>'\n",
              "            + ' to learn more about interactive tables.';\n",
              "          element.innerHTML = '';\n",
              "          dataTable['output_type'] = 'display_data';\n",
              "          await google.colab.output.renderOutput(dataTable, element);\n",
              "          const docLink = document.createElement('div');\n",
              "          docLink.innerHTML = docLinkHtml;\n",
              "          element.appendChild(docLink);\n",
              "        }\n",
              "      </script>\n",
              "    </div>\n",
              "  </div>\n",
              "  "
            ]
          },
          "metadata": {},
          "execution_count": 24
        }
      ]
    },
    {
      "cell_type": "markdown",
      "source": [
        "Hasil Prediksi"
      ],
      "metadata": {
        "id": "CwAIbw-afmEx"
      }
    },
    {
      "cell_type": "code",
      "source": [
        "movie_recommendations('Jungle Book, The (1967)')"
      ],
      "metadata": {
        "colab": {
          "base_uri": "https://localhost:8080/",
          "height": 206
        },
        "id": "Ztp6Mmez5UVo",
        "outputId": "d97ab384-4b62-43c4-d2cb-8c9469150399"
      },
      "execution_count": 25,
      "outputs": [
        {
          "output_type": "execute_result",
          "data": {
            "text/plain": [
              "                                            title  \\\n",
              "0           Ferngully: The Last Rainforest (1992)   \n",
              "1             All Dogs Christmas Carol, An (1998)   \n",
              "2  Alvin and the Chipmunks: The Squeakquel (2009)   \n",
              "3                         Steamboat Willie (1928)   \n",
              "4      Claymation Christmas Celebration, A (1987)   \n",
              "\n",
              "                              genres  \n",
              "0  Animation,Children,Comedy,Musical  \n",
              "1  Animation,Children,Comedy,Musical  \n",
              "2  Animation,Children,Comedy,Musical  \n",
              "3  Animation,Children,Comedy,Musical  \n",
              "4  Animation,Children,Comedy,Musical  "
            ],
            "text/html": [
              "\n",
              "  <div id=\"df-d6da9c6b-3597-412a-b600-99f112b4c570\">\n",
              "    <div class=\"colab-df-container\">\n",
              "      <div>\n",
              "<style scoped>\n",
              "    .dataframe tbody tr th:only-of-type {\n",
              "        vertical-align: middle;\n",
              "    }\n",
              "\n",
              "    .dataframe tbody tr th {\n",
              "        vertical-align: top;\n",
              "    }\n",
              "\n",
              "    .dataframe thead th {\n",
              "        text-align: right;\n",
              "    }\n",
              "</style>\n",
              "<table border=\"1\" class=\"dataframe\">\n",
              "  <thead>\n",
              "    <tr style=\"text-align: right;\">\n",
              "      <th></th>\n",
              "      <th>title</th>\n",
              "      <th>genres</th>\n",
              "    </tr>\n",
              "  </thead>\n",
              "  <tbody>\n",
              "    <tr>\n",
              "      <th>0</th>\n",
              "      <td>Ferngully: The Last Rainforest (1992)</td>\n",
              "      <td>Animation,Children,Comedy,Musical</td>\n",
              "    </tr>\n",
              "    <tr>\n",
              "      <th>1</th>\n",
              "      <td>All Dogs Christmas Carol, An (1998)</td>\n",
              "      <td>Animation,Children,Comedy,Musical</td>\n",
              "    </tr>\n",
              "    <tr>\n",
              "      <th>2</th>\n",
              "      <td>Alvin and the Chipmunks: The Squeakquel (2009)</td>\n",
              "      <td>Animation,Children,Comedy,Musical</td>\n",
              "    </tr>\n",
              "    <tr>\n",
              "      <th>3</th>\n",
              "      <td>Steamboat Willie (1928)</td>\n",
              "      <td>Animation,Children,Comedy,Musical</td>\n",
              "    </tr>\n",
              "    <tr>\n",
              "      <th>4</th>\n",
              "      <td>Claymation Christmas Celebration, A (1987)</td>\n",
              "      <td>Animation,Children,Comedy,Musical</td>\n",
              "    </tr>\n",
              "  </tbody>\n",
              "</table>\n",
              "</div>\n",
              "      <button class=\"colab-df-convert\" onclick=\"convertToInteractive('df-d6da9c6b-3597-412a-b600-99f112b4c570')\"\n",
              "              title=\"Convert this dataframe to an interactive table.\"\n",
              "              style=\"display:none;\">\n",
              "        \n",
              "  <svg xmlns=\"http://www.w3.org/2000/svg\" height=\"24px\"viewBox=\"0 0 24 24\"\n",
              "       width=\"24px\">\n",
              "    <path d=\"M0 0h24v24H0V0z\" fill=\"none\"/>\n",
              "    <path d=\"M18.56 5.44l.94 2.06.94-2.06 2.06-.94-2.06-.94-.94-2.06-.94 2.06-2.06.94zm-11 1L8.5 8.5l.94-2.06 2.06-.94-2.06-.94L8.5 2.5l-.94 2.06-2.06.94zm10 10l.94 2.06.94-2.06 2.06-.94-2.06-.94-.94-2.06-.94 2.06-2.06.94z\"/><path d=\"M17.41 7.96l-1.37-1.37c-.4-.4-.92-.59-1.43-.59-.52 0-1.04.2-1.43.59L10.3 9.45l-7.72 7.72c-.78.78-.78 2.05 0 2.83L4 21.41c.39.39.9.59 1.41.59.51 0 1.02-.2 1.41-.59l7.78-7.78 2.81-2.81c.8-.78.8-2.07 0-2.86zM5.41 20L4 18.59l7.72-7.72 1.47 1.35L5.41 20z\"/>\n",
              "  </svg>\n",
              "      </button>\n",
              "      \n",
              "  <style>\n",
              "    .colab-df-container {\n",
              "      display:flex;\n",
              "      flex-wrap:wrap;\n",
              "      gap: 12px;\n",
              "    }\n",
              "\n",
              "    .colab-df-convert {\n",
              "      background-color: #E8F0FE;\n",
              "      border: none;\n",
              "      border-radius: 50%;\n",
              "      cursor: pointer;\n",
              "      display: none;\n",
              "      fill: #1967D2;\n",
              "      height: 32px;\n",
              "      padding: 0 0 0 0;\n",
              "      width: 32px;\n",
              "    }\n",
              "\n",
              "    .colab-df-convert:hover {\n",
              "      background-color: #E2EBFA;\n",
              "      box-shadow: 0px 1px 2px rgba(60, 64, 67, 0.3), 0px 1px 3px 1px rgba(60, 64, 67, 0.15);\n",
              "      fill: #174EA6;\n",
              "    }\n",
              "\n",
              "    [theme=dark] .colab-df-convert {\n",
              "      background-color: #3B4455;\n",
              "      fill: #D2E3FC;\n",
              "    }\n",
              "\n",
              "    [theme=dark] .colab-df-convert:hover {\n",
              "      background-color: #434B5C;\n",
              "      box-shadow: 0px 1px 3px 1px rgba(0, 0, 0, 0.15);\n",
              "      filter: drop-shadow(0px 1px 2px rgba(0, 0, 0, 0.3));\n",
              "      fill: #FFFFFF;\n",
              "    }\n",
              "  </style>\n",
              "\n",
              "      <script>\n",
              "        const buttonEl =\n",
              "          document.querySelector('#df-d6da9c6b-3597-412a-b600-99f112b4c570 button.colab-df-convert');\n",
              "        buttonEl.style.display =\n",
              "          google.colab.kernel.accessAllowed ? 'block' : 'none';\n",
              "\n",
              "        async function convertToInteractive(key) {\n",
              "          const element = document.querySelector('#df-d6da9c6b-3597-412a-b600-99f112b4c570');\n",
              "          const dataTable =\n",
              "            await google.colab.kernel.invokeFunction('convertToInteractive',\n",
              "                                                     [key], {});\n",
              "          if (!dataTable) return;\n",
              "\n",
              "          const docLinkHtml = 'Like what you see? Visit the ' +\n",
              "            '<a target=\"_blank\" href=https://colab.research.google.com/notebooks/data_table.ipynb>data table notebook</a>'\n",
              "            + ' to learn more about interactive tables.';\n",
              "          element.innerHTML = '';\n",
              "          dataTable['output_type'] = 'display_data';\n",
              "          await google.colab.output.renderOutput(dataTable, element);\n",
              "          const docLink = document.createElement('div');\n",
              "          docLink.innerHTML = docLinkHtml;\n",
              "          element.appendChild(docLink);\n",
              "        }\n",
              "      </script>\n",
              "    </div>\n",
              "  </div>\n",
              "  "
            ]
          },
          "metadata": {},
          "execution_count": 25
        }
      ]
    },
    {
      "cell_type": "code",
      "source": [
        "fig,ax = render_predict_table(pd.DataFrame(movie_recommendations('Jungle Book, The (1967)')), header_columns=0, col_width=7)\n",
        "fig.savefig(\"table_predict.png\")"
      ],
      "metadata": {
        "colab": {
          "base_uri": "https://localhost:8080/",
          "height": 194
        },
        "id": "yzjdEkPrjk5g",
        "outputId": "128e0600-8584-49c0-8bc4-902f8bf5a819"
      },
      "execution_count": 26,
      "outputs": [
        {
          "output_type": "display_data",
          "data": {
            "text/plain": [
              "<Figure size 1008x216 with 1 Axes>"
            ],
            "image/png": "[encoded data removed]"
          },
          "metadata": {
            "needs_background": "light"
          }
        }
      ]
    },
    {
      "cell_type": "code",
      "source": [
        "data[data.title.eq('Alvin and the Chipmunks: The Squeakquel (2009)')]"
      ],
      "metadata": {
        "colab": {
          "base_uri": "https://localhost:8080/",
          "height": 81
        },
        "id": "xCZw63K25x4a",
        "outputId": "6cb3a0d1-cdf7-4afa-af65-09d6f533f925"
      },
      "execution_count": 27,
      "outputs": [
        {
          "output_type": "execute_result",
          "data": {
            "text/plain": [
              "      movieId                                           title  \\\n",
              "7216    73042  Alvin and the Chipmunks: The Squeakquel (2009)   \n",
              "\n",
              "                                 genres  \n",
              "7216  Animation,Children,Comedy,Musical  "
            ],
            "text/html": [
              "\n",
              "  <div id=\"df-7bf274e9-29b8-43c1-8ffb-5d6a41229a7b\">\n",
              "    <div class=\"colab-df-container\">\n",
              "      <div>\n",
              "<style scoped>\n",
              "    .dataframe tbody tr th:only-of-type {\n",
              "        vertical-align: middle;\n",
              "    }\n",
              "\n",
              "    .dataframe tbody tr th {\n",
              "        vertical-align: top;\n",
              "    }\n",
              "\n",
              "    .dataframe thead th {\n",
              "        text-align: right;\n",
              "    }\n",
              "</style>\n",
              "<table border=\"1\" class=\"dataframe\">\n",
              "  <thead>\n",
              "    <tr style=\"text-align: right;\">\n",
              "      <th></th>\n",
              "      <th>movieId</th>\n",
              "      <th>title</th>\n",
              "      <th>genres</th>\n",
              "    </tr>\n",
              "  </thead>\n",
              "  <tbody>\n",
              "    <tr>\n",
              "      <th>7216</th>\n",
              "      <td>73042</td>\n",
              "      <td>Alvin and the Chipmunks: The Squeakquel (2009)</td>\n",
              "      <td>Animation,Children,Comedy,Musical</td>\n",
              "    </tr>\n",
              "  </tbody>\n",
              "</table>\n",
              "</div>\n",
              "      <button class=\"colab-df-convert\" onclick=\"convertToInteractive('df-7bf274e9-29b8-43c1-8ffb-5d6a41229a7b')\"\n",
              "              title=\"Convert this dataframe to an interactive table.\"\n",
              "              style=\"display:none;\">\n",
              "        \n",
              "  <svg xmlns=\"http://www.w3.org/2000/svg\" height=\"24px\"viewBox=\"0 0 24 24\"\n",
              "       width=\"24px\">\n",
              "    <path d=\"M0 0h24v24H0V0z\" fill=\"none\"/>\n",
              "    <path d=\"M18.56 5.44l.94 2.06.94-2.06 2.06-.94-2.06-.94-.94-2.06-.94 2.06-2.06.94zm-11 1L8.5 8.5l.94-2.06 2.06-.94-2.06-.94L8.5 2.5l-.94 2.06-2.06.94zm10 10l.94 2.06.94-2.06 2.06-.94-2.06-.94-.94-2.06-.94 2.06-2.06.94z\"/><path d=\"M17.41 7.96l-1.37-1.37c-.4-.4-.92-.59-1.43-.59-.52 0-1.04.2-1.43.59L10.3 9.45l-7.72 7.72c-.78.78-.78 2.05 0 2.83L4 21.41c.39.39.9.59 1.41.59.51 0 1.02-.2 1.41-.59l7.78-7.78 2.81-2.81c.8-.78.8-2.07 0-2.86zM5.41 20L4 18.59l7.72-7.72 1.47 1.35L5.41 20z\"/>\n",
              "  </svg>\n",
              "      </button>\n",
              "      \n",
              "  <style>\n",
              "    .colab-df-container {\n",
              "      display:flex;\n",
              "      flex-wrap:wrap;\n",
              "      gap: 12px;\n",
              "    }\n",
              "\n",
              "    .colab-df-convert {\n",
              "      background-color: #E8F0FE;\n",
              "      border: none;\n",
              "      border-radius: 50%;\n",
              "      cursor: pointer;\n",
              "      display: none;\n",
              "      fill: #1967D2;\n",
              "      height: 32px;\n",
              "      padding: 0 0 0 0;\n",
              "      width: 32px;\n",
              "    }\n",
              "\n",
              "    .colab-df-convert:hover {\n",
              "      background-color: #E2EBFA;\n",
              "      box-shadow: 0px 1px 2px rgba(60, 64, 67, 0.3), 0px 1px 3px 1px rgba(60, 64, 67, 0.15);\n",
              "      fill: #174EA6;\n",
              "    }\n",
              "\n",
              "    [theme=dark] .colab-df-convert {\n",
              "      background-color: #3B4455;\n",
              "      fill: #D2E3FC;\n",
              "    }\n",
              "\n",
              "    [theme=dark] .colab-df-convert:hover {\n",
              "      background-color: #434B5C;\n",
              "      box-shadow: 0px 1px 3px 1px rgba(0, 0, 0, 0.15);\n",
              "      filter: drop-shadow(0px 1px 2px rgba(0, 0, 0, 0.3));\n",
              "      fill: #FFFFFF;\n",
              "    }\n",
              "  </style>\n",
              "\n",
              "      <script>\n",
              "        const buttonEl =\n",
              "          document.querySelector('#df-7bf274e9-29b8-43c1-8ffb-5d6a41229a7b button.colab-df-convert');\n",
              "        buttonEl.style.display =\n",
              "          google.colab.kernel.accessAllowed ? 'block' : 'none';\n",
              "\n",
              "        async function convertToInteractive(key) {\n",
              "          const element = document.querySelector('#df-7bf274e9-29b8-43c1-8ffb-5d6a41229a7b');\n",
              "          const dataTable =\n",
              "            await google.colab.kernel.invokeFunction('convertToInteractive',\n",
              "                                                     [key], {});\n",
              "          if (!dataTable) return;\n",
              "\n",
              "          const docLinkHtml = 'Like what you see? Visit the ' +\n",
              "            '<a target=\"_blank\" href=https://colab.research.google.com/notebooks/data_table.ipynb>data table notebook</a>'\n",
              "            + ' to learn more about interactive tables.';\n",
              "          element.innerHTML = '';\n",
              "          dataTable['output_type'] = 'display_data';\n",
              "          await google.colab.output.renderOutput(dataTable, element);\n",
              "          const docLink = document.createElement('div');\n",
              "          docLink.innerHTML = docLinkHtml;\n",
              "          element.appendChild(docLink);\n",
              "        }\n",
              "      </script>\n",
              "    </div>\n",
              "  </div>\n",
              "  "
            ]
          },
          "metadata": {},
          "execution_count": 27
        }
      ]
    },
    {
      "cell_type": "code",
      "source": [
        "movie_recommendations('Alvin and the Chipmunks: The Squeakquel (2009)')"
      ],
      "metadata": {
        "colab": {
          "base_uri": "https://localhost:8080/",
          "height": 206
        },
        "id": "ETRHJw-85e2D",
        "outputId": "720c0761-15ac-40ad-e905-d90ed39078af"
      },
      "execution_count": 28,
      "outputs": [
        {
          "output_type": "execute_result",
          "data": {
            "text/plain": [
              "                                        title  \\\n",
              "0       Ferngully: The Last Rainforest (1992)   \n",
              "1                     Jungle Book, The (1967)   \n",
              "2         All Dogs Christmas Carol, An (1998)   \n",
              "3                     Steamboat Willie (1928)   \n",
              "4  Claymation Christmas Celebration, A (1987)   \n",
              "\n",
              "                              genres  \n",
              "0  Animation,Children,Comedy,Musical  \n",
              "1  Animation,Children,Comedy,Musical  \n",
              "2  Animation,Children,Comedy,Musical  \n",
              "3  Animation,Children,Comedy,Musical  \n",
              "4  Animation,Children,Comedy,Musical  "
            ],
            "text/html": [
              "\n",
              "  <div id=\"df-bbaaf02f-b40d-4a87-9b52-71b6d6c34c94\">\n",
              "    <div class=\"colab-df-container\">\n",
              "      <div>\n",
              "<style scoped>\n",
              "    .dataframe tbody tr th:only-of-type {\n",
              "        vertical-align: middle;\n",
              "    }\n",
              "\n",
              "    .dataframe tbody tr th {\n",
              "        vertical-align: top;\n",
              "    }\n",
              "\n",
              "    .dataframe thead th {\n",
              "        text-align: right;\n",
              "    }\n",
              "</style>\n",
              "<table border=\"1\" class=\"dataframe\">\n",
              "  <thead>\n",
              "    <tr style=\"text-align: right;\">\n",
              "      <th></th>\n",
              "      <th>title</th>\n",
              "      <th>genres</th>\n",
              "    </tr>\n",
              "  </thead>\n",
              "  <tbody>\n",
              "    <tr>\n",
              "      <th>0</th>\n",
              "      <td>Ferngully: The Last Rainforest (1992)</td>\n",
              "      <td>Animation,Children,Comedy,Musical</td>\n",
              "    </tr>\n",
              "    <tr>\n",
              "      <th>1</th>\n",
              "      <td>Jungle Book, The (1967)</td>\n",
              "      <td>Animation,Children,Comedy,Musical</td>\n",
              "    </tr>\n",
              "    <tr>\n",
              "      <th>2</th>\n",
              "      <td>All Dogs Christmas Carol, An (1998)</td>\n",
              "      <td>Animation,Children,Comedy,Musical</td>\n",
              "    </tr>\n",
              "    <tr>\n",
              "      <th>3</th>\n",
              "      <td>Steamboat Willie (1928)</td>\n",
              "      <td>Animation,Children,Comedy,Musical</td>\n",
              "    </tr>\n",
              "    <tr>\n",
              "      <th>4</th>\n",
              "      <td>Claymation Christmas Celebration, A (1987)</td>\n",
              "      <td>Animation,Children,Comedy,Musical</td>\n",
              "    </tr>\n",
              "  </tbody>\n",
              "</table>\n",
              "</div>\n",
              "      <button class=\"colab-df-convert\" onclick=\"convertToInteractive('df-bbaaf02f-b40d-4a87-9b52-71b6d6c34c94')\"\n",
              "              title=\"Convert this dataframe to an interactive table.\"\n",
              "              style=\"display:none;\">\n",
              "        \n",
              "  <svg xmlns=\"http://www.w3.org/2000/svg\" height=\"24px\"viewBox=\"0 0 24 24\"\n",
              "       width=\"24px\">\n",
              "    <path d=\"M0 0h24v24H0V0z\" fill=\"none\"/>\n",
              "    <path d=\"M18.56 5.44l.94 2.06.94-2.06 2.06-.94-2.06-.94-.94-2.06-.94 2.06-2.06.94zm-11 1L8.5 8.5l.94-2.06 2.06-.94-2.06-.94L8.5 2.5l-.94 2.06-2.06.94zm10 10l.94 2.06.94-2.06 2.06-.94-2.06-.94-.94-2.06-.94 2.06-2.06.94z\"/><path d=\"M17.41 7.96l-1.37-1.37c-.4-.4-.92-.59-1.43-.59-.52 0-1.04.2-1.43.59L10.3 9.45l-7.72 7.72c-.78.78-.78 2.05 0 2.83L4 21.41c.39.39.9.59 1.41.59.51 0 1.02-.2 1.41-.59l7.78-7.78 2.81-2.81c.8-.78.8-2.07 0-2.86zM5.41 20L4 18.59l7.72-7.72 1.47 1.35L5.41 20z\"/>\n",
              "  </svg>\n",
              "      </button>\n",
              "      \n",
              "  <style>\n",
              "    .colab-df-container {\n",
              "      display:flex;\n",
              "      flex-wrap:wrap;\n",
              "      gap: 12px;\n",
              "    }\n",
              "\n",
              "    .colab-df-convert {\n",
              "      background-color: #E8F0FE;\n",
              "      border: none;\n",
              "      border-radius: 50%;\n",
              "      cursor: pointer;\n",
              "      display: none;\n",
              "      fill: #1967D2;\n",
              "      height: 32px;\n",
              "      padding: 0 0 0 0;\n",
              "      width: 32px;\n",
              "    }\n",
              "\n",
              "    .colab-df-convert:hover {\n",
              "      background-color: #E2EBFA;\n",
              "      box-shadow: 0px 1px 2px rgba(60, 64, 67, 0.3), 0px 1px 3px 1px rgba(60, 64, 67, 0.15);\n",
              "      fill: #174EA6;\n",
              "    }\n",
              "\n",
              "    [theme=dark] .colab-df-convert {\n",
              "      background-color: #3B4455;\n",
              "      fill: #D2E3FC;\n",
              "    }\n",
              "\n",
              "    [theme=dark] .colab-df-convert:hover {\n",
              "      background-color: #434B5C;\n",
              "      box-shadow: 0px 1px 3px 1px rgba(0, 0, 0, 0.15);\n",
              "      filter: drop-shadow(0px 1px 2px rgba(0, 0, 0, 0.3));\n",
              "      fill: #FFFFFF;\n",
              "    }\n",
              "  </style>\n",
              "\n",
              "      <script>\n",
              "        const buttonEl =\n",
              "          document.querySelector('#df-bbaaf02f-b40d-4a87-9b52-71b6d6c34c94 button.colab-df-convert');\n",
              "        buttonEl.style.display =\n",
              "          google.colab.kernel.accessAllowed ? 'block' : 'none';\n",
              "\n",
              "        async function convertToInteractive(key) {\n",
              "          const element = document.querySelector('#df-bbaaf02f-b40d-4a87-9b52-71b6d6c34c94');\n",
              "          const dataTable =\n",
              "            await google.colab.kernel.invokeFunction('convertToInteractive',\n",
              "                                                     [key], {});\n",
              "          if (!dataTable) return;\n",
              "\n",
              "          const docLinkHtml = 'Like what you see? Visit the ' +\n",
              "            '<a target=\"_blank\" href=https://colab.research.google.com/notebooks/data_table.ipynb>data table notebook</a>'\n",
              "            + ' to learn more about interactive tables.';\n",
              "          element.innerHTML = '';\n",
              "          dataTable['output_type'] = 'display_data';\n",
              "          await google.colab.output.renderOutput(dataTable, element);\n",
              "          const docLink = document.createElement('div');\n",
              "          docLink.innerHTML = docLinkHtml;\n",
              "          element.appendChild(docLink);\n",
              "        }\n",
              "      </script>\n",
              "    </div>\n",
              "  </div>\n",
              "  "
            ]
          },
          "metadata": {},
          "execution_count": 28
        }
      ]
    },
    {
      "cell_type": "code",
      "source": [
        "fig,ax = render_predict_table(pd.DataFrame(movie_recommendations('Alvin and the Chipmunks: The Squeakquel (2009)')), header_columns=0, col_width=7)\n",
        "fig.savefig(\"table_predict.png\")"
      ],
      "metadata": {
        "colab": {
          "base_uri": "https://localhost:8080/",
          "height": 194
        },
        "id": "wmNfHP52lD8I",
        "outputId": "479b7c64-5263-47c1-97b0-d115c0555234"
      },
      "execution_count": 29,
      "outputs": [
        {
          "output_type": "display_data",
          "data": {
            "text/plain": [
              "<Figure size 1008x216 with 1 Axes>"
            ],
            "image/png": "[encoded data removed]"
          },
          "metadata": {
            "needs_background": "light"
          }
        }
      ]
    },
    {
      "cell_type": "code",
      "source": [
        "data[data.title.eq('Conjuring, The (2013)')]"
      ],
      "metadata": {
        "colab": {
          "base_uri": "https://localhost:8080/",
          "height": 81
        },
        "outputId": "568dc148-2f06-49a2-b094-e2df14fd90f9",
        "id": "r-VAtsAr5_ad"
      },
      "execution_count": 30,
      "outputs": [
        {
          "output_type": "execute_result",
          "data": {
            "text/plain": [
              "      movieId                  title           genres\n",
              "8218   103688  Conjuring, The (2013)  Horror,Thriller"
            ],
            "text/html": [
              "\n",
              "  <div id=\"df-d4e95647-9455-4284-9b03-f6378d07c37d\">\n",
              "    <div class=\"colab-df-container\">\n",
              "      <div>\n",
              "<style scoped>\n",
              "    .dataframe tbody tr th:only-of-type {\n",
              "        vertical-align: middle;\n",
              "    }\n",
              "\n",
              "    .dataframe tbody tr th {\n",
              "        vertical-align: top;\n",
              "    }\n",
              "\n",
              "    .dataframe thead th {\n",
              "        text-align: right;\n",
              "    }\n",
              "</style>\n",
              "<table border=\"1\" class=\"dataframe\">\n",
              "  <thead>\n",
              "    <tr style=\"text-align: right;\">\n",
              "      <th></th>\n",
              "      <th>movieId</th>\n",
              "      <th>title</th>\n",
              "      <th>genres</th>\n",
              "    </tr>\n",
              "  </thead>\n",
              "  <tbody>\n",
              "    <tr>\n",
              "      <th>8218</th>\n",
              "      <td>103688</td>\n",
              "      <td>Conjuring, The (2013)</td>\n",
              "      <td>Horror,Thriller</td>\n",
              "    </tr>\n",
              "  </tbody>\n",
              "</table>\n",
              "</div>\n",
              "      <button class=\"colab-df-convert\" onclick=\"convertToInteractive('df-d4e95647-9455-4284-9b03-f6378d07c37d')\"\n",
              "              title=\"Convert this dataframe to an interactive table.\"\n",
              "              style=\"display:none;\">\n",
              "        \n",
              "  <svg xmlns=\"http://www.w3.org/2000/svg\" height=\"24px\"viewBox=\"0 0 24 24\"\n",
              "       width=\"24px\">\n",
              "    <path d=\"M0 0h24v24H0V0z\" fill=\"none\"/>\n",
              "    <path d=\"M18.56 5.44l.94 2.06.94-2.06 2.06-.94-2.06-.94-.94-2.06-.94 2.06-2.06.94zm-11 1L8.5 8.5l.94-2.06 2.06-.94-2.06-.94L8.5 2.5l-.94 2.06-2.06.94zm10 10l.94 2.06.94-2.06 2.06-.94-2.06-.94-.94-2.06-.94 2.06-2.06.94z\"/><path d=\"M17.41 7.96l-1.37-1.37c-.4-.4-.92-.59-1.43-.59-.52 0-1.04.2-1.43.59L10.3 9.45l-7.72 7.72c-.78.78-.78 2.05 0 2.83L4 21.41c.39.39.9.59 1.41.59.51 0 1.02-.2 1.41-.59l7.78-7.78 2.81-2.81c.8-.78.8-2.07 0-2.86zM5.41 20L4 18.59l7.72-7.72 1.47 1.35L5.41 20z\"/>\n",
              "  </svg>\n",
              "      </button>\n",
              "      \n",
              "  <style>\n",
              "    .colab-df-container {\n",
              "      display:flex;\n",
              "      flex-wrap:wrap;\n",
              "      gap: 12px;\n",
              "    }\n",
              "\n",
              "    .colab-df-convert {\n",
              "      background-color: #E8F0FE;\n",
              "      border: none;\n",
              "      border-radius: 50%;\n",
              "      cursor: pointer;\n",
              "      display: none;\n",
              "      fill: #1967D2;\n",
              "      height: 32px;\n",
              "      padding: 0 0 0 0;\n",
              "      width: 32px;\n",
              "    }\n",
              "\n",
              "    .colab-df-convert:hover {\n",
              "      background-color: #E2EBFA;\n",
              "      box-shadow: 0px 1px 2px rgba(60, 64, 67, 0.3), 0px 1px 3px 1px rgba(60, 64, 67, 0.15);\n",
              "      fill: #174EA6;\n",
              "    }\n",
              "\n",
              "    [theme=dark] .colab-df-convert {\n",
              "      background-color: #3B4455;\n",
              "      fill: #D2E3FC;\n",
              "    }\n",
              "\n",
              "    [theme=dark] .colab-df-convert:hover {\n",
              "      background-color: #434B5C;\n",
              "      box-shadow: 0px 1px 3px 1px rgba(0, 0, 0, 0.15);\n",
              "      filter: drop-shadow(0px 1px 2px rgba(0, 0, 0, 0.3));\n",
              "      fill: #FFFFFF;\n",
              "    }\n",
              "  </style>\n",
              "\n",
              "      <script>\n",
              "        const buttonEl =\n",
              "          document.querySelector('#df-d4e95647-9455-4284-9b03-f6378d07c37d button.colab-df-convert');\n",
              "        buttonEl.style.display =\n",
              "          google.colab.kernel.accessAllowed ? 'block' : 'none';\n",
              "\n",
              "        async function convertToInteractive(key) {\n",
              "          const element = document.querySelector('#df-d4e95647-9455-4284-9b03-f6378d07c37d');\n",
              "          const dataTable =\n",
              "            await google.colab.kernel.invokeFunction('convertToInteractive',\n",
              "                                                     [key], {});\n",
              "          if (!dataTable) return;\n",
              "\n",
              "          const docLinkHtml = 'Like what you see? Visit the ' +\n",
              "            '<a target=\"_blank\" href=https://colab.research.google.com/notebooks/data_table.ipynb>data table notebook</a>'\n",
              "            + ' to learn more about interactive tables.';\n",
              "          element.innerHTML = '';\n",
              "          dataTable['output_type'] = 'display_data';\n",
              "          await google.colab.output.renderOutput(dataTable, element);\n",
              "          const docLink = document.createElement('div');\n",
              "          docLink.innerHTML = docLinkHtml;\n",
              "          element.appendChild(docLink);\n",
              "        }\n",
              "      </script>\n",
              "    </div>\n",
              "  </div>\n",
              "  "
            ]
          },
          "metadata": {},
          "execution_count": 30
        }
      ]
    },
    {
      "cell_type": "code",
      "source": [
        "movie_recommendations('Conjuring, The (2013)')"
      ],
      "metadata": {
        "colab": {
          "base_uri": "https://localhost:8080/",
          "height": 206
        },
        "outputId": "48d42947-3e0f-4b6d-d2ef-f9db206613c4",
        "id": "oPTunJ0I5_ad"
      },
      "execution_count": 31,
      "outputs": [
        {
          "output_type": "execute_result",
          "data": {
            "text/plain": [
              "                                  title           genres\n",
              "0  Serbian Film, A (Srpski film) (2010)  Horror,Thriller\n",
              "1                         Cursed (2005)  Horror,Thriller\n",
              "2                      In Dreams (1999)  Horror,Thriller\n",
              "3                      Tormented (1960)  Horror,Thriller\n",
              "4                        Vacancy (2007)  Horror,Thriller"
            ],
            "text/html": [
              "\n",
              "  <div id=\"df-594f1bd2-5be3-4120-823b-ff3270fffaf6\">\n",
              "    <div class=\"colab-df-container\">\n",
              "      <div>\n",
              "<style scoped>\n",
              "    .dataframe tbody tr th:only-of-type {\n",
              "        vertical-align: middle;\n",
              "    }\n",
              "\n",
              "    .dataframe tbody tr th {\n",
              "        vertical-align: top;\n",
              "    }\n",
              "\n",
              "    .dataframe thead th {\n",
              "        text-align: right;\n",
              "    }\n",
              "</style>\n",
              "<table border=\"1\" class=\"dataframe\">\n",
              "  <thead>\n",
              "    <tr style=\"text-align: right;\">\n",
              "      <th></th>\n",
              "      <th>title</th>\n",
              "      <th>genres</th>\n",
              "    </tr>\n",
              "  </thead>\n",
              "  <tbody>\n",
              "    <tr>\n",
              "      <th>0</th>\n",
              "      <td>Serbian Film, A (Srpski film) (2010)</td>\n",
              "      <td>Horror,Thriller</td>\n",
              "    </tr>\n",
              "    <tr>\n",
              "      <th>1</th>\n",
              "      <td>Cursed (2005)</td>\n",
              "      <td>Horror,Thriller</td>\n",
              "    </tr>\n",
              "    <tr>\n",
              "      <th>2</th>\n",
              "      <td>In Dreams (1999)</td>\n",
              "      <td>Horror,Thriller</td>\n",
              "    </tr>\n",
              "    <tr>\n",
              "      <th>3</th>\n",
              "      <td>Tormented (1960)</td>\n",
              "      <td>Horror,Thriller</td>\n",
              "    </tr>\n",
              "    <tr>\n",
              "      <th>4</th>\n",
              "      <td>Vacancy (2007)</td>\n",
              "      <td>Horror,Thriller</td>\n",
              "    </tr>\n",
              "  </tbody>\n",
              "</table>\n",
              "</div>\n",
              "      <button class=\"colab-df-convert\" onclick=\"convertToInteractive('df-594f1bd2-5be3-4120-823b-ff3270fffaf6')\"\n",
              "              title=\"Convert this dataframe to an interactive table.\"\n",
              "              style=\"display:none;\">\n",
              "        \n",
              "  <svg xmlns=\"http://www.w3.org/2000/svg\" height=\"24px\"viewBox=\"0 0 24 24\"\n",
              "       width=\"24px\">\n",
              "    <path d=\"M0 0h24v24H0V0z\" fill=\"none\"/>\n",
              "    <path d=\"M18.56 5.44l.94 2.06.94-2.06 2.06-.94-2.06-.94-.94-2.06-.94 2.06-2.06.94zm-11 1L8.5 8.5l.94-2.06 2.06-.94-2.06-.94L8.5 2.5l-.94 2.06-2.06.94zm10 10l.94 2.06.94-2.06 2.06-.94-2.06-.94-.94-2.06-.94 2.06-2.06.94z\"/><path d=\"M17.41 7.96l-1.37-1.37c-.4-.4-.92-.59-1.43-.59-.52 0-1.04.2-1.43.59L10.3 9.45l-7.72 7.72c-.78.78-.78 2.05 0 2.83L4 21.41c.39.39.9.59 1.41.59.51 0 1.02-.2 1.41-.59l7.78-7.78 2.81-2.81c.8-.78.8-2.07 0-2.86zM5.41 20L4 18.59l7.72-7.72 1.47 1.35L5.41 20z\"/>\n",
              "  </svg>\n",
              "      </button>\n",
              "      \n",
              "  <style>\n",
              "    .colab-df-container {\n",
              "      display:flex;\n",
              "      flex-wrap:wrap;\n",
              "      gap: 12px;\n",
              "    }\n",
              "\n",
              "    .colab-df-convert {\n",
              "      background-color: #E8F0FE;\n",
              "      border: none;\n",
              "      border-radius: 50%;\n",
              "      cursor: pointer;\n",
              "      display: none;\n",
              "      fill: #1967D2;\n",
              "      height: 32px;\n",
              "      padding: 0 0 0 0;\n",
              "      width: 32px;\n",
              "    }\n",
              "\n",
              "    .colab-df-convert:hover {\n",
              "      background-color: #E2EBFA;\n",
              "      box-shadow: 0px 1px 2px rgba(60, 64, 67, 0.3), 0px 1px 3px 1px rgba(60, 64, 67, 0.15);\n",
              "      fill: #174EA6;\n",
              "    }\n",
              "\n",
              "    [theme=dark] .colab-df-convert {\n",
              "      background-color: #3B4455;\n",
              "      fill: #D2E3FC;\n",
              "    }\n",
              "\n",
              "    [theme=dark] .colab-df-convert:hover {\n",
              "      background-color: #434B5C;\n",
              "      box-shadow: 0px 1px 3px 1px rgba(0, 0, 0, 0.15);\n",
              "      filter: drop-shadow(0px 1px 2px rgba(0, 0, 0, 0.3));\n",
              "      fill: #FFFFFF;\n",
              "    }\n",
              "  </style>\n",
              "\n",
              "      <script>\n",
              "        const buttonEl =\n",
              "          document.querySelector('#df-594f1bd2-5be3-4120-823b-ff3270fffaf6 button.colab-df-convert');\n",
              "        buttonEl.style.display =\n",
              "          google.colab.kernel.accessAllowed ? 'block' : 'none';\n",
              "\n",
              "        async function convertToInteractive(key) {\n",
              "          const element = document.querySelector('#df-594f1bd2-5be3-4120-823b-ff3270fffaf6');\n",
              "          const dataTable =\n",
              "            await google.colab.kernel.invokeFunction('convertToInteractive',\n",
              "                                                     [key], {});\n",
              "          if (!dataTable) return;\n",
              "\n",
              "          const docLinkHtml = 'Like what you see? Visit the ' +\n",
              "            '<a target=\"_blank\" href=https://colab.research.google.com/notebooks/data_table.ipynb>data table notebook</a>'\n",
              "            + ' to learn more about interactive tables.';\n",
              "          element.innerHTML = '';\n",
              "          dataTable['output_type'] = 'display_data';\n",
              "          await google.colab.output.renderOutput(dataTable, element);\n",
              "          const docLink = document.createElement('div');\n",
              "          docLink.innerHTML = docLinkHtml;\n",
              "          element.appendChild(docLink);\n",
              "        }\n",
              "      </script>\n",
              "    </div>\n",
              "  </div>\n",
              "  "
            ]
          },
          "metadata": {},
          "execution_count": 31
        }
      ]
    },
    {
      "cell_type": "code",
      "source": [
        "fig,ax = render_predict_table(pd.DataFrame(movie_recommendations('Conjuring, The (2013)')), header_columns=0, col_width=7)\n",
        "fig.savefig(\"table_predict.png\")"
      ],
      "metadata": {
        "colab": {
          "base_uri": "https://localhost:8080/",
          "height": 194
        },
        "id": "iXl4ZVAIlN2S",
        "outputId": "07ff56e9-302b-4613-d195-fa9ed13cb04b"
      },
      "execution_count": 32,
      "outputs": [
        {
          "output_type": "display_data",
          "data": {
            "text/plain": [
              "<Figure size 1008x216 with 1 Axes>"
            ],
            "image/png": "[encoded data removed]"
          },
          "metadata": {
            "needs_background": "light"
          }
        }
      ]
    },
    {
      "cell_type": "markdown",
      "source": [
        "#### Collaborative Filtering"
      ],
      "metadata": {
        "id": "r77gHlQo65Da"
      }
    },
    {
      "cell_type": "code",
      "source": [
        "df = ratings\n",
        "df"
      ],
      "metadata": {
        "colab": {
          "base_uri": "https://localhost:8080/",
          "height": 424
        },
        "id": "FUVx-kra6L99",
        "outputId": "7439807a-a0fb-47c0-cad4-31601d54510c"
      },
      "execution_count": 33,
      "outputs": [
        {
          "output_type": "execute_result",
          "data": {
            "text/plain": [
              "        userId  movieId  rating   timestamp\n",
              "0            1        1     4.0   964982703\n",
              "1            1        3     4.0   964981247\n",
              "2            1        6     4.0   964982224\n",
              "3            1       47     5.0   964983815\n",
              "4            1       50     5.0   964982931\n",
              "...        ...      ...     ...         ...\n",
              "100831     610   166534     4.0  1493848402\n",
              "100832     610   168248     5.0  1493850091\n",
              "100833     610   168250     5.0  1494273047\n",
              "100834     610   168252     5.0  1493846352\n",
              "100835     610   170875     3.0  1493846415\n",
              "\n",
              "[100836 rows x 4 columns]"
            ],
            "text/html": [
              "\n",
              "  <div id=\"df-d1659c0e-db08-4e52-bb18-0326571d036f\">\n",
              "    <div class=\"colab-df-container\">\n",
              "      <div>\n",
              "<style scoped>\n",
              "    .dataframe tbody tr th:only-of-type {\n",
              "        vertical-align: middle;\n",
              "    }\n",
              "\n",
              "    .dataframe tbody tr th {\n",
              "        vertical-align: top;\n",
              "    }\n",
              "\n",
              "    .dataframe thead th {\n",
              "        text-align: right;\n",
              "    }\n",
              "</style>\n",
              "<table border=\"1\" class=\"dataframe\">\n",
              "  <thead>\n",
              "    <tr style=\"text-align: right;\">\n",
              "      <th></th>\n",
              "      <th>userId</th>\n",
              "      <th>movieId</th>\n",
              "      <th>rating</th>\n",
              "      <th>timestamp</th>\n",
              "    </tr>\n",
              "  </thead>\n",
              "  <tbody>\n",
              "    <tr>\n",
              "      <th>0</th>\n",
              "      <td>1</td>\n",
              "      <td>1</td>\n",
              "      <td>4.0</td>\n",
              "      <td>964982703</td>\n",
              "    </tr>\n",
              "    <tr>\n",
              "      <th>1</th>\n",
              "      <td>1</td>\n",
              "      <td>3</td>\n",
              "      <td>4.0</td>\n",
              "      <td>964981247</td>\n",
              "    </tr>\n",
              "    <tr>\n",
              "      <th>2</th>\n",
              "      <td>1</td>\n",
              "      <td>6</td>\n",
              "      <td>4.0</td>\n",
              "      <td>964982224</td>\n",
              "    </tr>\n",
              "    <tr>\n",
              "      <th>3</th>\n",
              "      <td>1</td>\n",
              "      <td>47</td>\n",
              "      <td>5.0</td>\n",
              "      <td>964983815</td>\n",
              "    </tr>\n",
              "    <tr>\n",
              "      <th>4</th>\n",
              "      <td>1</td>\n",
              "      <td>50</td>\n",
              "      <td>5.0</td>\n",
              "      <td>964982931</td>\n",
              "    </tr>\n",
              "    <tr>\n",
              "      <th>...</th>\n",
              "      <td>...</td>\n",
              "      <td>...</td>\n",
              "      <td>...</td>\n",
              "      <td>...</td>\n",
              "    </tr>\n",
              "    <tr>\n",
              "      <th>100831</th>\n",
              "      <td>610</td>\n",
              "      <td>166534</td>\n",
              "      <td>4.0</td>\n",
              "      <td>1493848402</td>\n",
              "    </tr>\n",
              "    <tr>\n",
              "      <th>100832</th>\n",
              "      <td>610</td>\n",
              "      <td>168248</td>\n",
              "      <td>5.0</td>\n",
              "      <td>1493850091</td>\n",
              "    </tr>\n",
              "    <tr>\n",
              "      <th>100833</th>\n",
              "      <td>610</td>\n",
              "      <td>168250</td>\n",
              "      <td>5.0</td>\n",
              "      <td>1494273047</td>\n",
              "    </tr>\n",
              "    <tr>\n",
              "      <th>100834</th>\n",
              "      <td>610</td>\n",
              "      <td>168252</td>\n",
              "      <td>5.0</td>\n",
              "      <td>1493846352</td>\n",
              "    </tr>\n",
              "    <tr>\n",
              "      <th>100835</th>\n",
              "      <td>610</td>\n",
              "      <td>170875</td>\n",
              "      <td>3.0</td>\n",
              "      <td>1493846415</td>\n",
              "    </tr>\n",
              "  </tbody>\n",
              "</table>\n",
              "<p>100836 rows × 4 columns</p>\n",
              "</div>\n",
              "      <button class=\"colab-df-convert\" onclick=\"convertToInteractive('df-d1659c0e-db08-4e52-bb18-0326571d036f')\"\n",
              "              title=\"Convert this dataframe to an interactive table.\"\n",
              "              style=\"display:none;\">\n",
              "        \n",
              "  <svg xmlns=\"http://www.w3.org/2000/svg\" height=\"24px\"viewBox=\"0 0 24 24\"\n",
              "       width=\"24px\">\n",
              "    <path d=\"M0 0h24v24H0V0z\" fill=\"none\"/>\n",
              "    <path d=\"M18.56 5.44l.94 2.06.94-2.06 2.06-.94-2.06-.94-.94-2.06-.94 2.06-2.06.94zm-11 1L8.5 8.5l.94-2.06 2.06-.94-2.06-.94L8.5 2.5l-.94 2.06-2.06.94zm10 10l.94 2.06.94-2.06 2.06-.94-2.06-.94-.94-2.06-.94 2.06-2.06.94z\"/><path d=\"M17.41 7.96l-1.37-1.37c-.4-.4-.92-.59-1.43-.59-.52 0-1.04.2-1.43.59L10.3 9.45l-7.72 7.72c-.78.78-.78 2.05 0 2.83L4 21.41c.39.39.9.59 1.41.59.51 0 1.02-.2 1.41-.59l7.78-7.78 2.81-2.81c.8-.78.8-2.07 0-2.86zM5.41 20L4 18.59l7.72-7.72 1.47 1.35L5.41 20z\"/>\n",
              "  </svg>\n",
              "      </button>\n",
              "      \n",
              "  <style>\n",
              "    .colab-df-container {\n",
              "      display:flex;\n",
              "      flex-wrap:wrap;\n",
              "      gap: 12px;\n",
              "    }\n",
              "\n",
              "    .colab-df-convert {\n",
              "      background-color: #E8F0FE;\n",
              "      border: none;\n",
              "      border-radius: 50%;\n",
              "      cursor: pointer;\n",
              "      display: none;\n",
              "      fill: #1967D2;\n",
              "      height: 32px;\n",
              "      padding: 0 0 0 0;\n",
              "      width: 32px;\n",
              "    }\n",
              "\n",
              "    .colab-df-convert:hover {\n",
              "      background-color: #E2EBFA;\n",
              "      box-shadow: 0px 1px 2px rgba(60, 64, 67, 0.3), 0px 1px 3px 1px rgba(60, 64, 67, 0.15);\n",
              "      fill: #174EA6;\n",
              "    }\n",
              "\n",
              "    [theme=dark] .colab-df-convert {\n",
              "      background-color: #3B4455;\n",
              "      fill: #D2E3FC;\n",
              "    }\n",
              "\n",
              "    [theme=dark] .colab-df-convert:hover {\n",
              "      background-color: #434B5C;\n",
              "      box-shadow: 0px 1px 3px 1px rgba(0, 0, 0, 0.15);\n",
              "      filter: drop-shadow(0px 1px 2px rgba(0, 0, 0, 0.3));\n",
              "      fill: #FFFFFF;\n",
              "    }\n",
              "  </style>\n",
              "\n",
              "      <script>\n",
              "        const buttonEl =\n",
              "          document.querySelector('#df-d1659c0e-db08-4e52-bb18-0326571d036f button.colab-df-convert');\n",
              "        buttonEl.style.display =\n",
              "          google.colab.kernel.accessAllowed ? 'block' : 'none';\n",
              "\n",
              "        async function convertToInteractive(key) {\n",
              "          const element = document.querySelector('#df-d1659c0e-db08-4e52-bb18-0326571d036f');\n",
              "          const dataTable =\n",
              "            await google.colab.kernel.invokeFunction('convertToInteractive',\n",
              "                                                     [key], {});\n",
              "          if (!dataTable) return;\n",
              "\n",
              "          const docLinkHtml = 'Like what you see? Visit the ' +\n",
              "            '<a target=\"_blank\" href=https://colab.research.google.com/notebooks/data_table.ipynb>data table notebook</a>'\n",
              "            + ' to learn more about interactive tables.';\n",
              "          element.innerHTML = '';\n",
              "          dataTable['output_type'] = 'display_data';\n",
              "          await google.colab.output.renderOutput(dataTable, element);\n",
              "          const docLink = document.createElement('div');\n",
              "          docLink.innerHTML = docLinkHtml;\n",
              "          element.appendChild(docLink);\n",
              "        }\n",
              "      </script>\n",
              "    </div>\n",
              "  </div>\n",
              "  "
            ]
          },
          "metadata": {},
          "execution_count": 33
        }
      ]
    },
    {
      "cell_type": "markdown",
      "source": [
        "Encoding data user"
      ],
      "metadata": {
        "id": "rNuI4EEsf2Ej"
      }
    },
    {
      "cell_type": "code",
      "source": [
        "user_ids = df['userId'].unique().tolist()\n",
        "user_to_user_encoded = {x: i for i, x in enumerate(user_ids)}\n",
        "user_encoded_to_user = {i: x for i, x in enumerate(user_ids)}"
      ],
      "metadata": {
        "id": "x8HmJAh868BK"
      },
      "execution_count": 34,
      "outputs": []
    },
    {
      "cell_type": "markdown",
      "source": [
        "Encoding data movie"
      ],
      "metadata": {
        "id": "49o5N6-Mf5Ye"
      }
    },
    {
      "cell_type": "code",
      "source": [
        "movie_ids = df['movieId'].unique().tolist()\n",
        "movie_to_movie_encoded = {x: i for i, x in enumerate(movie_ids)}\n",
        "movie_encoded_to_movie = {i: x for i, x in enumerate(movie_ids)}"
      ],
      "metadata": {
        "id": "vNlEGReC7FQ9"
      },
      "execution_count": 35,
      "outputs": []
    },
    {
      "cell_type": "markdown",
      "source": [
        "Mapping data user dan movie"
      ],
      "metadata": {
        "id": "3QmyTSVygcVe"
      }
    },
    {
      "cell_type": "code",
      "source": [
        "df['user'] = df['userId'].map(user_to_user_encoded)\n",
        "df['movie'] = df['movieId'].map(movie_to_movie_encoded)"
      ],
      "metadata": {
        "id": "DyKkDBFa7IEU"
      },
      "execution_count": 36,
      "outputs": []
    },
    {
      "cell_type": "code",
      "source": [
        "df"
      ],
      "metadata": {
        "colab": {
          "base_uri": "https://localhost:8080/",
          "height": 424
        },
        "id": "FENXStQB7JG9",
        "outputId": "f1ed54c8-9862-4c94-f09e-4b43211f317f"
      },
      "execution_count": 37,
      "outputs": [
        {
          "output_type": "execute_result",
          "data": {
            "text/plain": [
              "        userId  movieId  rating   timestamp  user  movie\n",
              "0            1        1     4.0   964982703     0      0\n",
              "1            1        3     4.0   964981247     0      1\n",
              "2            1        6     4.0   964982224     0      2\n",
              "3            1       47     5.0   964983815     0      3\n",
              "4            1       50     5.0   964982931     0      4\n",
              "...        ...      ...     ...         ...   ...    ...\n",
              "100831     610   166534     4.0  1493848402   609   3120\n",
              "100832     610   168248     5.0  1493850091   609   2035\n",
              "100833     610   168250     5.0  1494273047   609   3121\n",
              "100834     610   168252     5.0  1493846352   609   1392\n",
              "100835     610   170875     3.0  1493846415   609   2873\n",
              "\n",
              "[100836 rows x 6 columns]"
            ],
            "text/html": [
              "\n",
              "  <div id=\"df-8d912c1b-ae50-4bab-83ff-3f7bd531a726\">\n",
              "    <div class=\"colab-df-container\">\n",
              "      <div>\n",
              "<style scoped>\n",
              "    .dataframe tbody tr th:only-of-type {\n",
              "        vertical-align: middle;\n",
              "    }\n",
              "\n",
              "    .dataframe tbody tr th {\n",
              "        vertical-align: top;\n",
              "    }\n",
              "\n",
              "    .dataframe thead th {\n",
              "        text-align: right;\n",
              "    }\n",
              "</style>\n",
              "<table border=\"1\" class=\"dataframe\">\n",
              "  <thead>\n",
              "    <tr style=\"text-align: right;\">\n",
              "      <th></th>\n",
              "      <th>userId</th>\n",
              "      <th>movieId</th>\n",
              "      <th>rating</th>\n",
              "      <th>timestamp</th>\n",
              "      <th>user</th>\n",
              "      <th>movie</th>\n",
              "    </tr>\n",
              "  </thead>\n",
              "  <tbody>\n",
              "    <tr>\n",
              "      <th>0</th>\n",
              "      <td>1</td>\n",
              "      <td>1</td>\n",
              "      <td>4.0</td>\n",
              "      <td>964982703</td>\n",
              "      <td>0</td>\n",
              "      <td>0</td>\n",
              "    </tr>\n",
              "    <tr>\n",
              "      <th>1</th>\n",
              "      <td>1</td>\n",
              "      <td>3</td>\n",
              "      <td>4.0</td>\n",
              "      <td>964981247</td>\n",
              "      <td>0</td>\n",
              "      <td>1</td>\n",
              "    </tr>\n",
              "    <tr>\n",
              "      <th>2</th>\n",
              "      <td>1</td>\n",
              "      <td>6</td>\n",
              "      <td>4.0</td>\n",
              "      <td>964982224</td>\n",
              "      <td>0</td>\n",
              "      <td>2</td>\n",
              "    </tr>\n",
              "    <tr>\n",
              "      <th>3</th>\n",
              "      <td>1</td>\n",
              "      <td>47</td>\n",
              "      <td>5.0</td>\n",
              "      <td>964983815</td>\n",
              "      <td>0</td>\n",
              "      <td>3</td>\n",
              "    </tr>\n",
              "    <tr>\n",
              "      <th>4</th>\n",
              "      <td>1</td>\n",
              "      <td>50</td>\n",
              "      <td>5.0</td>\n",
              "      <td>964982931</td>\n",
              "      <td>0</td>\n",
              "      <td>4</td>\n",
              "    </tr>\n",
              "    <tr>\n",
              "      <th>...</th>\n",
              "      <td>...</td>\n",
              "      <td>...</td>\n",
              "      <td>...</td>\n",
              "      <td>...</td>\n",
              "      <td>...</td>\n",
              "      <td>...</td>\n",
              "    </tr>\n",
              "    <tr>\n",
              "      <th>100831</th>\n",
              "      <td>610</td>\n",
              "      <td>166534</td>\n",
              "      <td>4.0</td>\n",
              "      <td>1493848402</td>\n",
              "      <td>609</td>\n",
              "      <td>3120</td>\n",
              "    </tr>\n",
              "    <tr>\n",
              "      <th>100832</th>\n",
              "      <td>610</td>\n",
              "      <td>168248</td>\n",
              "      <td>5.0</td>\n",
              "      <td>1493850091</td>\n",
              "      <td>609</td>\n",
              "      <td>2035</td>\n",
              "    </tr>\n",
              "    <tr>\n",
              "      <th>100833</th>\n",
              "      <td>610</td>\n",
              "      <td>168250</td>\n",
              "      <td>5.0</td>\n",
              "      <td>1494273047</td>\n",
              "      <td>609</td>\n",
              "      <td>3121</td>\n",
              "    </tr>\n",
              "    <tr>\n",
              "      <th>100834</th>\n",
              "      <td>610</td>\n",
              "      <td>168252</td>\n",
              "      <td>5.0</td>\n",
              "      <td>1493846352</td>\n",
              "      <td>609</td>\n",
              "      <td>1392</td>\n",
              "    </tr>\n",
              "    <tr>\n",
              "      <th>100835</th>\n",
              "      <td>610</td>\n",
              "      <td>170875</td>\n",
              "      <td>3.0</td>\n",
              "      <td>1493846415</td>\n",
              "      <td>609</td>\n",
              "      <td>2873</td>\n",
              "    </tr>\n",
              "  </tbody>\n",
              "</table>\n",
              "<p>100836 rows × 6 columns</p>\n",
              "</div>\n",
              "      <button class=\"colab-df-convert\" onclick=\"convertToInteractive('df-8d912c1b-ae50-4bab-83ff-3f7bd531a726')\"\n",
              "              title=\"Convert this dataframe to an interactive table.\"\n",
              "              style=\"display:none;\">\n",
              "        \n",
              "  <svg xmlns=\"http://www.w3.org/2000/svg\" height=\"24px\"viewBox=\"0 0 24 24\"\n",
              "       width=\"24px\">\n",
              "    <path d=\"M0 0h24v24H0V0z\" fill=\"none\"/>\n",
              "    <path d=\"M18.56 5.44l.94 2.06.94-2.06 2.06-.94-2.06-.94-.94-2.06-.94 2.06-2.06.94zm-11 1L8.5 8.5l.94-2.06 2.06-.94-2.06-.94L8.5 2.5l-.94 2.06-2.06.94zm10 10l.94 2.06.94-2.06 2.06-.94-2.06-.94-.94-2.06-.94 2.06-2.06.94z\"/><path d=\"M17.41 7.96l-1.37-1.37c-.4-.4-.92-.59-1.43-.59-.52 0-1.04.2-1.43.59L10.3 9.45l-7.72 7.72c-.78.78-.78 2.05 0 2.83L4 21.41c.39.39.9.59 1.41.59.51 0 1.02-.2 1.41-.59l7.78-7.78 2.81-2.81c.8-.78.8-2.07 0-2.86zM5.41 20L4 18.59l7.72-7.72 1.47 1.35L5.41 20z\"/>\n",
              "  </svg>\n",
              "      </button>\n",
              "      \n",
              "  <style>\n",
              "    .colab-df-container {\n",
              "      display:flex;\n",
              "      flex-wrap:wrap;\n",
              "      gap: 12px;\n",
              "    }\n",
              "\n",
              "    .colab-df-convert {\n",
              "      background-color: #E8F0FE;\n",
              "      border: none;\n",
              "      border-radius: 50%;\n",
              "      cursor: pointer;\n",
              "      display: none;\n",
              "      fill: #1967D2;\n",
              "      height: 32px;\n",
              "      padding: 0 0 0 0;\n",
              "      width: 32px;\n",
              "    }\n",
              "\n",
              "    .colab-df-convert:hover {\n",
              "      background-color: #E2EBFA;\n",
              "      box-shadow: 0px 1px 2px rgba(60, 64, 67, 0.3), 0px 1px 3px 1px rgba(60, 64, 67, 0.15);\n",
              "      fill: #174EA6;\n",
              "    }\n",
              "\n",
              "    [theme=dark] .colab-df-convert {\n",
              "      background-color: #3B4455;\n",
              "      fill: #D2E3FC;\n",
              "    }\n",
              "\n",
              "    [theme=dark] .colab-df-convert:hover {\n",
              "      background-color: #434B5C;\n",
              "      box-shadow: 0px 1px 3px 1px rgba(0, 0, 0, 0.15);\n",
              "      filter: drop-shadow(0px 1px 2px rgba(0, 0, 0, 0.3));\n",
              "      fill: #FFFFFF;\n",
              "    }\n",
              "  </style>\n",
              "\n",
              "      <script>\n",
              "        const buttonEl =\n",
              "          document.querySelector('#df-8d912c1b-ae50-4bab-83ff-3f7bd531a726 button.colab-df-convert');\n",
              "        buttonEl.style.display =\n",
              "          google.colab.kernel.accessAllowed ? 'block' : 'none';\n",
              "\n",
              "        async function convertToInteractive(key) {\n",
              "          const element = document.querySelector('#df-8d912c1b-ae50-4bab-83ff-3f7bd531a726');\n",
              "          const dataTable =\n",
              "            await google.colab.kernel.invokeFunction('convertToInteractive',\n",
              "                                                     [key], {});\n",
              "          if (!dataTable) return;\n",
              "\n",
              "          const docLinkHtml = 'Like what you see? Visit the ' +\n",
              "            '<a target=\"_blank\" href=https://colab.research.google.com/notebooks/data_table.ipynb>data table notebook</a>'\n",
              "            + ' to learn more about interactive tables.';\n",
              "          element.innerHTML = '';\n",
              "          dataTable['output_type'] = 'display_data';\n",
              "          await google.colab.output.renderOutput(dataTable, element);\n",
              "          const docLink = document.createElement('div');\n",
              "          docLink.innerHTML = docLinkHtml;\n",
              "          element.appendChild(docLink);\n",
              "        }\n",
              "      </script>\n",
              "    </div>\n",
              "  </div>\n",
              "  "
            ]
          },
          "metadata": {},
          "execution_count": 37
        }
      ]
    },
    {
      "cell_type": "markdown",
      "source": [
        "Menampilkan jumlah user dan movie, serta mengubah nilai rating menjadi bentuk float"
      ],
      "metadata": {
        "id": "FoVHhiE8gqbg"
      }
    },
    {
      "cell_type": "code",
      "source": [
        "num_users = len(user_to_user_encoded)\n",
        "print(num_users)\n",
        "\n",
        "num_movie = len(movie_encoded_to_movie)\n",
        "print(num_movie)\n",
        "\n",
        "df['rating'] = df['rating'].values.astype(np.float32)"
      ],
      "metadata": {
        "colab": {
          "base_uri": "https://localhost:8080/"
        },
        "id": "KGcqMlZW7Mwl",
        "outputId": "6f7a5368-da96-41f6-c5bc-0e2d3fd7277f"
      },
      "execution_count": 38,
      "outputs": [
        {
          "output_type": "stream",
          "name": "stdout",
          "text": [
            "610\n",
            "9724\n"
          ]
        }
      ]
    },
    {
      "cell_type": "code",
      "source": [
        "min_rating = min(df['rating'])\n",
        "max_rating = max(df['rating'])\n",
        " \n",
        "print('Number of User: {}, Number of Movie: {}, Min Rating: {}, Max Rating: {}'.format(\n",
        "    num_users, num_movie, min_rating, max_rating\n",
        "))"
      ],
      "metadata": {
        "colab": {
          "base_uri": "https://localhost:8080/"
        },
        "id": "rW6fuIJ97QFG",
        "outputId": "6d357510-fa7b-4a1c-ea22-ee787957454d"
      },
      "execution_count": 39,
      "outputs": [
        {
          "output_type": "stream",
          "name": "stdout",
          "text": [
            "Number of User: 610, Number of Movie: 9724, Min Rating: 0.5, Max Rating: 5.0\n"
          ]
        }
      ]
    },
    {
      "cell_type": "code",
      "source": [
        "df = df.sample(frac=1, random_state=57)\n",
        "df"
      ],
      "metadata": {
        "colab": {
          "base_uri": "https://localhost:8080/",
          "height": 424
        },
        "id": "5kWtRCGi7U3A",
        "outputId": "0c9f31a4-c0e8-436f-eab9-4b511ef02d23"
      },
      "execution_count": 40,
      "outputs": [
        {
          "output_type": "execute_result",
          "data": {
            "text/plain": [
              "       userId  movieId  rating   timestamp  user  movie\n",
              "63136     414     2433     2.0   961436616   413   2576\n",
              "57907     380    91500     3.0  1494708626   379   1067\n",
              "71638     462     1261     4.0  1138343577   461   1108\n",
              "92518     597     2505     2.0   940420065   596   2579\n",
              "34595     232    53127     0.5  1209068728   231   5962\n",
              "...       ...      ...     ...         ...   ...    ...\n",
              "19064     122    86833     5.0  1461562287   121   3484\n",
              "85071     552     3751     4.5  1112151337   551   1186\n",
              "35845     243      485     3.0   837155479   242    647\n",
              "11990      73   112290     3.5  1464282984    72   2537\n",
              "35791     242      161     4.0   834073121   241    530\n",
              "\n",
              "[100836 rows x 6 columns]"
            ],
            "text/html": [
              "\n",
              "  <div id=\"df-9623517c-5be9-4f14-9e9c-b0eed97f4565\">\n",
              "    <div class=\"colab-df-container\">\n",
              "      <div>\n",
              "<style scoped>\n",
              "    .dataframe tbody tr th:only-of-type {\n",
              "        vertical-align: middle;\n",
              "    }\n",
              "\n",
              "    .dataframe tbody tr th {\n",
              "        vertical-align: top;\n",
              "    }\n",
              "\n",
              "    .dataframe thead th {\n",
              "        text-align: right;\n",
              "    }\n",
              "</style>\n",
              "<table border=\"1\" class=\"dataframe\">\n",
              "  <thead>\n",
              "    <tr style=\"text-align: right;\">\n",
              "      <th></th>\n",
              "      <th>userId</th>\n",
              "      <th>movieId</th>\n",
              "      <th>rating</th>\n",
              "      <th>timestamp</th>\n",
              "      <th>user</th>\n",
              "      <th>movie</th>\n",
              "    </tr>\n",
              "  </thead>\n",
              "  <tbody>\n",
              "    <tr>\n",
              "      <th>63136</th>\n",
              "      <td>414</td>\n",
              "      <td>2433</td>\n",
              "      <td>2.0</td>\n",
              "      <td>961436616</td>\n",
              "      <td>413</td>\n",
              "      <td>2576</td>\n",
              "    </tr>\n",
              "    <tr>\n",
              "      <th>57907</th>\n",
              "      <td>380</td>\n",
              "      <td>91500</td>\n",
              "      <td>3.0</td>\n",
              "      <td>1494708626</td>\n",
              "      <td>379</td>\n",
              "      <td>1067</td>\n",
              "    </tr>\n",
              "    <tr>\n",
              "      <th>71638</th>\n",
              "      <td>462</td>\n",
              "      <td>1261</td>\n",
              "      <td>4.0</td>\n",
              "      <td>1138343577</td>\n",
              "      <td>461</td>\n",
              "      <td>1108</td>\n",
              "    </tr>\n",
              "    <tr>\n",
              "      <th>92518</th>\n",
              "      <td>597</td>\n",
              "      <td>2505</td>\n",
              "      <td>2.0</td>\n",
              "      <td>940420065</td>\n",
              "      <td>596</td>\n",
              "      <td>2579</td>\n",
              "    </tr>\n",
              "    <tr>\n",
              "      <th>34595</th>\n",
              "      <td>232</td>\n",
              "      <td>53127</td>\n",
              "      <td>0.5</td>\n",
              "      <td>1209068728</td>\n",
              "      <td>231</td>\n",
              "      <td>5962</td>\n",
              "    </tr>\n",
              "    <tr>\n",
              "      <th>...</th>\n",
              "      <td>...</td>\n",
              "      <td>...</td>\n",
              "      <td>...</td>\n",
              "      <td>...</td>\n",
              "      <td>...</td>\n",
              "      <td>...</td>\n",
              "    </tr>\n",
              "    <tr>\n",
              "      <th>19064</th>\n",
              "      <td>122</td>\n",
              "      <td>86833</td>\n",
              "      <td>5.0</td>\n",
              "      <td>1461562287</td>\n",
              "      <td>121</td>\n",
              "      <td>3484</td>\n",
              "    </tr>\n",
              "    <tr>\n",
              "      <th>85071</th>\n",
              "      <td>552</td>\n",
              "      <td>3751</td>\n",
              "      <td>4.5</td>\n",
              "      <td>1112151337</td>\n",
              "      <td>551</td>\n",
              "      <td>1186</td>\n",
              "    </tr>\n",
              "    <tr>\n",
              "      <th>35845</th>\n",
              "      <td>243</td>\n",
              "      <td>485</td>\n",
              "      <td>3.0</td>\n",
              "      <td>837155479</td>\n",
              "      <td>242</td>\n",
              "      <td>647</td>\n",
              "    </tr>\n",
              "    <tr>\n",
              "      <th>11990</th>\n",
              "      <td>73</td>\n",
              "      <td>112290</td>\n",
              "      <td>3.5</td>\n",
              "      <td>1464282984</td>\n",
              "      <td>72</td>\n",
              "      <td>2537</td>\n",
              "    </tr>\n",
              "    <tr>\n",
              "      <th>35791</th>\n",
              "      <td>242</td>\n",
              "      <td>161</td>\n",
              "      <td>4.0</td>\n",
              "      <td>834073121</td>\n",
              "      <td>241</td>\n",
              "      <td>530</td>\n",
              "    </tr>\n",
              "  </tbody>\n",
              "</table>\n",
              "<p>100836 rows × 6 columns</p>\n",
              "</div>\n",
              "      <button class=\"colab-df-convert\" onclick=\"convertToInteractive('df-9623517c-5be9-4f14-9e9c-b0eed97f4565')\"\n",
              "              title=\"Convert this dataframe to an interactive table.\"\n",
              "              style=\"display:none;\">\n",
              "        \n",
              "  <svg xmlns=\"http://www.w3.org/2000/svg\" height=\"24px\"viewBox=\"0 0 24 24\"\n",
              "       width=\"24px\">\n",
              "    <path d=\"M0 0h24v24H0V0z\" fill=\"none\"/>\n",
              "    <path d=\"M18.56 5.44l.94 2.06.94-2.06 2.06-.94-2.06-.94-.94-2.06-.94 2.06-2.06.94zm-11 1L8.5 8.5l.94-2.06 2.06-.94-2.06-.94L8.5 2.5l-.94 2.06-2.06.94zm10 10l.94 2.06.94-2.06 2.06-.94-2.06-.94-.94-2.06-.94 2.06-2.06.94z\"/><path d=\"M17.41 7.96l-1.37-1.37c-.4-.4-.92-.59-1.43-.59-.52 0-1.04.2-1.43.59L10.3 9.45l-7.72 7.72c-.78.78-.78 2.05 0 2.83L4 21.41c.39.39.9.59 1.41.59.51 0 1.02-.2 1.41-.59l7.78-7.78 2.81-2.81c.8-.78.8-2.07 0-2.86zM5.41 20L4 18.59l7.72-7.72 1.47 1.35L5.41 20z\"/>\n",
              "  </svg>\n",
              "      </button>\n",
              "      \n",
              "  <style>\n",
              "    .colab-df-container {\n",
              "      display:flex;\n",
              "      flex-wrap:wrap;\n",
              "      gap: 12px;\n",
              "    }\n",
              "\n",
              "    .colab-df-convert {\n",
              "      background-color: #E8F0FE;\n",
              "      border: none;\n",
              "      border-radius: 50%;\n",
              "      cursor: pointer;\n",
              "      display: none;\n",
              "      fill: #1967D2;\n",
              "      height: 32px;\n",
              "      padding: 0 0 0 0;\n",
              "      width: 32px;\n",
              "    }\n",
              "\n",
              "    .colab-df-convert:hover {\n",
              "      background-color: #E2EBFA;\n",
              "      box-shadow: 0px 1px 2px rgba(60, 64, 67, 0.3), 0px 1px 3px 1px rgba(60, 64, 67, 0.15);\n",
              "      fill: #174EA6;\n",
              "    }\n",
              "\n",
              "    [theme=dark] .colab-df-convert {\n",
              "      background-color: #3B4455;\n",
              "      fill: #D2E3FC;\n",
              "    }\n",
              "\n",
              "    [theme=dark] .colab-df-convert:hover {\n",
              "      background-color: #434B5C;\n",
              "      box-shadow: 0px 1px 3px 1px rgba(0, 0, 0, 0.15);\n",
              "      filter: drop-shadow(0px 1px 2px rgba(0, 0, 0, 0.3));\n",
              "      fill: #FFFFFF;\n",
              "    }\n",
              "  </style>\n",
              "\n",
              "      <script>\n",
              "        const buttonEl =\n",
              "          document.querySelector('#df-9623517c-5be9-4f14-9e9c-b0eed97f4565 button.colab-df-convert');\n",
              "        buttonEl.style.display =\n",
              "          google.colab.kernel.accessAllowed ? 'block' : 'none';\n",
              "\n",
              "        async function convertToInteractive(key) {\n",
              "          const element = document.querySelector('#df-9623517c-5be9-4f14-9e9c-b0eed97f4565');\n",
              "          const dataTable =\n",
              "            await google.colab.kernel.invokeFunction('convertToInteractive',\n",
              "                                                     [key], {});\n",
              "          if (!dataTable) return;\n",
              "\n",
              "          const docLinkHtml = 'Like what you see? Visit the ' +\n",
              "            '<a target=\"_blank\" href=https://colab.research.google.com/notebooks/data_table.ipynb>data table notebook</a>'\n",
              "            + ' to learn more about interactive tables.';\n",
              "          element.innerHTML = '';\n",
              "          dataTable['output_type'] = 'display_data';\n",
              "          await google.colab.output.renderOutput(dataTable, element);\n",
              "          const docLink = document.createElement('div');\n",
              "          docLink.innerHTML = docLinkHtml;\n",
              "          element.appendChild(docLink);\n",
              "        }\n",
              "      </script>\n",
              "    </div>\n",
              "  </div>\n",
              "  "
            ]
          },
          "metadata": {},
          "execution_count": 40
        }
      ]
    },
    {
      "cell_type": "markdown",
      "source": [
        "Melakukan train dan test split"
      ],
      "metadata": {
        "id": "2z1PzweUgz-H"
      }
    },
    {
      "cell_type": "code",
      "source": [
        "x = df[['user', 'movie']].values\n",
        "y = df['rating'].apply(lambda x: (x - min_rating) / (max_rating - min_rating)).values\n",
        "\n",
        "train_indices = int(0.8 * df.shape[0])\n",
        "x_train, x_val, y_train, y_val = (\n",
        "    x[:train_indices],\n",
        "    x[train_indices:],\n",
        "    y[:train_indices],\n",
        "    y[train_indices:]\n",
        ")\n",
        " \n",
        "print(x, y)"
      ],
      "metadata": {
        "colab": {
          "base_uri": "https://localhost:8080/"
        },
        "id": "qiGHwt8h7X9d",
        "outputId": "4eb3997f-6bcc-46dc-c5e4-a3ae47e8abed"
      },
      "execution_count": 41,
      "outputs": [
        {
          "output_type": "stream",
          "name": "stdout",
          "text": [
            "[[ 413 2576]\n",
            " [ 379 1067]\n",
            " [ 461 1108]\n",
            " ...\n",
            " [ 242  647]\n",
            " [  72 2537]\n",
            " [ 241  530]] [0.33333333 0.55555556 0.77777778 ... 0.55555556 0.66666667 0.77777778]\n"
          ]
        }
      ]
    },
    {
      "cell_type": "markdown",
      "source": [
        "Membuat class RecommenderNet"
      ],
      "metadata": {
        "id": "R_6hbersg9Og"
      }
    },
    {
      "cell_type": "code",
      "source": [
        "import tensorflow as tf\n",
        "\n",
        "class RecommenderNet(tf.keras.Model):\n",
        "  # Insialisasi fungsi\n",
        "  def __init__(self, num_users, num_movie, embedding_size, **kwargs):\n",
        "    super(RecommenderNet, self).__init__(**kwargs)\n",
        "    self.num_users = num_users\n",
        "    self.num_movie = num_movie\n",
        "    self.embedding_size = embedding_size\n",
        "    self.user_embedding = layers.Embedding( #layer embedding user\n",
        "        num_users,\n",
        "        embedding_size,\n",
        "        embeddings_initializer = 'he_normal',\n",
        "        embeddings_regularizer = keras.regularizers.l2(1e-6)\n",
        "    )\n",
        "\n",
        "    self.user_bias = layers.Embedding(num_users, 1) # layer embedding user bias\n",
        "    self.movie_embedding = layers.Embedding( # layer embeddings movie\n",
        "        num_movie,\n",
        "        embedding_size,\n",
        "        embeddings_initializer = 'he_normal',\n",
        "        embeddings_regularizer = keras.regularizers.l2(1e-6)\n",
        "    )\n",
        "    self.movie_bias = layers.Embedding(num_movie, 1) # layer embedding movie bias\n",
        "\n",
        "  def call(self, inputs):\n",
        "    user_vector = self.user_embedding(inputs[:,0])\n",
        "    user_bias = self.user_bias(inputs[:, 0])\n",
        "    movie_vector = self.movie_embedding(inputs[:, 1])\n",
        "    movie_bias = self.movie_bias(inputs[:, 1])\n",
        " \n",
        "    dot_user_movie = tf.tensordot(user_vector, movie_vector, 2) \n",
        " \n",
        "    x = dot_user_movie + user_bias + movie_bias\n",
        "    \n",
        "    return tf.nn.sigmoid(x) # activation sigmoid"
      ],
      "metadata": {
        "id": "yLMTfa2a7Zku"
      },
      "execution_count": 42,
      "outputs": []
    },
    {
      "cell_type": "markdown",
      "source": [
        "Inisialisasi model dan melakukan compile"
      ],
      "metadata": {
        "id": "DFf7aZ2Eg_yG"
      }
    },
    {
      "cell_type": "code",
      "source": [
        "model = RecommenderNet(num_users, num_movie, 50)\n",
        "\n",
        "model.compile(\n",
        "    loss = tf.keras.losses.BinaryCrossentropy(),\n",
        "    optimizer = keras.optimizers.Adam(learning_rate=0.0001),\n",
        "    metrics=[tf.keras.metrics.RootMeanSquaredError()]\n",
        ")"
      ],
      "metadata": {
        "id": "zFi2JYhB7cCC"
      },
      "execution_count": 43,
      "outputs": []
    },
    {
      "cell_type": "code",
      "source": [
        "history = model.fit(\n",
        "    x = x_train,\n",
        "    y = y_train,\n",
        "    batch_size = 32,\n",
        "    epochs = 25,\n",
        "    validation_data = (x_val, y_val)\n",
        ")"
      ],
      "metadata": {
        "colab": {
          "base_uri": "https://localhost:8080/"
        },
        "id": "2iieqt5v7e9J",
        "outputId": "3b6bc2c0-565d-4bc5-d3d4-7c2832b226dc"
      },
      "execution_count": 44,
      "outputs": [
        {
          "output_type": "stream",
          "name": "stdout",
          "text": [
            "Epoch 1/25\n",
            "2521/2521 [==============================] - 21s 5ms/step - loss: 0.6867 - root_mean_squared_error: 0.2798 - val_loss: 0.6781 - val_root_mean_squared_error: 0.2721\n",
            "Epoch 2/25\n",
            "2521/2521 [==============================] - 11s 4ms/step - loss: 0.6519 - root_mean_squared_error: 0.2471 - val_loss: 0.6424 - val_root_mean_squared_error: 0.2377\n",
            "Epoch 3/25\n",
            "2521/2521 [==============================] - 12s 5ms/step - loss: 0.6291 - root_mean_squared_error: 0.2244 - val_loss: 0.6322 - val_root_mean_squared_error: 0.2274\n",
            "Epoch 4/25\n",
            "2521/2521 [==============================] - 11s 4ms/step - loss: 0.6252 - root_mean_squared_error: 0.2204 - val_loss: 0.6293 - val_root_mean_squared_error: 0.2243\n",
            "Epoch 5/25\n",
            "2521/2521 [==============================] - 13s 5ms/step - loss: 0.6218 - root_mean_squared_error: 0.2170 - val_loss: 0.6260 - val_root_mean_squared_error: 0.2210\n",
            "Epoch 6/25\n",
            "2521/2521 [==============================] - 13s 5ms/step - loss: 0.6190 - root_mean_squared_error: 0.2141 - val_loss: 0.6236 - val_root_mean_squared_error: 0.2185\n",
            "Epoch 7/25\n",
            "2521/2521 [==============================] - 12s 5ms/step - loss: 0.6165 - root_mean_squared_error: 0.2115 - val_loss: 0.6212 - val_root_mean_squared_error: 0.2160\n",
            "Epoch 8/25\n",
            "2521/2521 [==============================] - 12s 5ms/step - loss: 0.6145 - root_mean_squared_error: 0.2094 - val_loss: 0.6197 - val_root_mean_squared_error: 0.2144\n",
            "Epoch 9/25\n",
            "2521/2521 [==============================] - 12s 5ms/step - loss: 0.6127 - root_mean_squared_error: 0.2075 - val_loss: 0.6177 - val_root_mean_squared_error: 0.2123\n",
            "Epoch 10/25\n",
            "2521/2521 [==============================] - 12s 5ms/step - loss: 0.6111 - root_mean_squared_error: 0.2058 - val_loss: 0.6168 - val_root_mean_squared_error: 0.2114\n",
            "Epoch 11/25\n",
            "2521/2521 [==============================] - 12s 5ms/step - loss: 0.6096 - root_mean_squared_error: 0.2043 - val_loss: 0.6154 - val_root_mean_squared_error: 0.2099\n",
            "Epoch 12/25\n",
            "2521/2521 [==============================] - 12s 5ms/step - loss: 0.6085 - root_mean_squared_error: 0.2031 - val_loss: 0.6142 - val_root_mean_squared_error: 0.2087\n",
            "Epoch 13/25\n",
            "2521/2521 [==============================] - 13s 5ms/step - loss: 0.6072 - root_mean_squared_error: 0.2018 - val_loss: 0.6133 - val_root_mean_squared_error: 0.2079\n",
            "Epoch 14/25\n",
            "2521/2521 [==============================] - 11s 4ms/step - loss: 0.6061 - root_mean_squared_error: 0.2006 - val_loss: 0.6126 - val_root_mean_squared_error: 0.2070\n",
            "Epoch 15/25\n",
            "2521/2521 [==============================] - 11s 4ms/step - loss: 0.6052 - root_mean_squared_error: 0.1996 - val_loss: 0.6115 - val_root_mean_squared_error: 0.2060\n",
            "Epoch 16/25\n",
            "2521/2521 [==============================] - 11s 4ms/step - loss: 0.6042 - root_mean_squared_error: 0.1986 - val_loss: 0.6110 - val_root_mean_squared_error: 0.2055\n",
            "Epoch 17/25\n",
            "2521/2521 [==============================] - 12s 5ms/step - loss: 0.6034 - root_mean_squared_error: 0.1977 - val_loss: 0.6099 - val_root_mean_squared_error: 0.2043\n",
            "Epoch 18/25\n",
            "2521/2521 [==============================] - 11s 4ms/step - loss: 0.6027 - root_mean_squared_error: 0.1969 - val_loss: 0.6097 - val_root_mean_squared_error: 0.2041\n",
            "Epoch 19/25\n",
            "2521/2521 [==============================] - 11s 4ms/step - loss: 0.6020 - root_mean_squared_error: 0.1962 - val_loss: 0.6088 - val_root_mean_squared_error: 0.2032\n",
            "Epoch 20/25\n",
            "2521/2521 [==============================] - 12s 5ms/step - loss: 0.6013 - root_mean_squared_error: 0.1954 - val_loss: 0.6087 - val_root_mean_squared_error: 0.2031\n",
            "Epoch 21/25\n",
            "2521/2521 [==============================] - 12s 5ms/step - loss: 0.6007 - root_mean_squared_error: 0.1948 - val_loss: 0.6080 - val_root_mean_squared_error: 0.2024\n",
            "Epoch 22/25\n",
            "2521/2521 [==============================] - 11s 4ms/step - loss: 0.6001 - root_mean_squared_error: 0.1941 - val_loss: 0.6074 - val_root_mean_squared_error: 0.2018\n",
            "Epoch 23/25\n",
            "2521/2521 [==============================] - 11s 4ms/step - loss: 0.5996 - root_mean_squared_error: 0.1936 - val_loss: 0.6071 - val_root_mean_squared_error: 0.2015\n",
            "Epoch 24/25\n",
            "2521/2521 [==============================] - 11s 4ms/step - loss: 0.5990 - root_mean_squared_error: 0.1929 - val_loss: 0.6066 - val_root_mean_squared_error: 0.2010\n",
            "Epoch 25/25\n",
            "2521/2521 [==============================] - 12s 5ms/step - loss: 0.5986 - root_mean_squared_error: 0.1924 - val_loss: 0.6062 - val_root_mean_squared_error: 0.2006\n"
          ]
        }
      ]
    },
    {
      "cell_type": "markdown",
      "source": [
        "Plotting hasil RMSE data train dan test"
      ],
      "metadata": {
        "id": "6XBwnWerhFnU"
      }
    },
    {
      "cell_type": "code",
      "source": [
        "plt.plot(history.history['root_mean_squared_error'])\n",
        "plt.plot(history.history['val_root_mean_squared_error'])\n",
        "plt.title('model_metrics')\n",
        "plt.ylabel('root_mean_squared_error')\n",
        "plt.xlabel('epoch')\n",
        "plt.legend(['train', 'test'], loc='upper left')\n",
        "plt.show()"
      ],
      "metadata": {
        "colab": {
          "base_uri": "https://localhost:8080/",
          "height": 295
        },
        "id": "uiUY2k2e7jfC",
        "outputId": "864fd75d-9586-4c14-90d0-5dc98b4ff9fe"
      },
      "execution_count": 45,
      "outputs": [
        {
          "output_type": "display_data",
          "data": {
            "text/plain": [
              "<Figure size 432x288 with 1 Axes>"
            ],
            "image/png": "[encoded data removed]"
          },
          "metadata": {
            "needs_background": "light"
          }
        }
      ]
    },
    {
      "cell_type": "markdown",
      "source": [
        "Mengambil sampel untuk dilakukan prediksi film rekomendasi"
      ],
      "metadata": {
        "id": "HReZ7oKThPTj"
      }
    },
    {
      "cell_type": "code",
      "source": [
        "movie_df = movies\n",
        "df = pd.read_csv('ratings.csv')\n",
        "\n",
        "user_id = df.userId.sample(5).iloc[0]\n",
        "movie_watched_by_user = df[df.userId == user_id]\n",
        " \n",
        "movie_not_watched = movie_df[~movie_df['movieId'].isin(movie_watched_by_user.movieId.values)]['movieId'] \n",
        "movie_not_watched = list(\n",
        "    set(movie_not_watched)\n",
        "    .intersection(set(movie_to_movie_encoded.keys()))\n",
        ")\n",
        "\n",
        "movie_not_watched = [[movie_to_movie_encoded.get(x)] for x in movie_not_watched]\n",
        "user_encoder = user_to_user_encoded.get(user_id)\n",
        "user_movie_array = np.hstack(\n",
        "    ([[user_encoder]] * len(movie_not_watched), movie_not_watched)\n",
        ")"
      ],
      "metadata": {
        "id": "GexCu1go7p9_"
      },
      "execution_count": 46,
      "outputs": []
    },
    {
      "cell_type": "markdown",
      "source": [
        "Menampilkan hasil dari sistem rekomendasi dengan teknik *collaborative filtering*"
      ],
      "metadata": {
        "id": "ixBCTwtIhZmh"
      }
    },
    {
      "cell_type": "code",
      "source": [
        "ratings = model.predict(user_movie_array).flatten()\n",
        " \n",
        "top_ratings_indices = ratings.argsort()[-5:][::-1]\n",
        "recommended_movie_ids = [\n",
        "    movie_encoded_to_movie.get(movie_not_watched[x][0]) for x in top_ratings_indices\n",
        "]\n",
        "\n",
        "print('---' * 9)\n",
        "print('Movie with high ratings from users: {}'.format(user_id))\n",
        "print('---' * 9)\n",
        " \n",
        "top_movie_user = (\n",
        "    movie_watched_by_user.sort_values(\n",
        "        by = 'rating',\n",
        "        ascending=False\n",
        "    )\n",
        "    .head(5)\n",
        "    .movieId.values\n",
        ")\n",
        " \n",
        "movie_df_rows = movie_df[movie_df['movieId'].isin(top_movie_user)]\n",
        "for row in movie_df_rows.itertuples():\n",
        "    print(row.title, ':', row.genres)\n",
        " \n",
        "print('----' * 8)\n",
        "print('Top 5 movie recommendation for users: {} '.format(user_id))\n",
        "print('----' * 8)\n",
        " \n",
        "recommended_movie = movie_df[movie_df['movieId'].isin(recommended_movie_ids)]\n",
        "for row in recommended_movie.itertuples():\n",
        "    print(row.title, ':', row.genres)"
      ],
      "metadata": {
        "colab": {
          "base_uri": "https://localhost:8080/"
        },
        "id": "Ox24-XNn9ncU",
        "outputId": "a34609fd-92f4-4ff1-e195-75f82e9db675"
      },
      "execution_count": 47,
      "outputs": [
        {
          "output_type": "stream",
          "name": "stdout",
          "text": [
            "---------------------------\n",
            "Movie with high ratings from users: 594\n",
            "---------------------------\n",
            "Three Musketeers, The (1993) : Action,Adventure,Comedy,Romance\n",
            "Terminator 2: Judgment Day (1991) : Action,Sci-Fi\n",
            "Terminator, The (1984) : Action,Sci-Fi,Thriller\n",
            "Serendipity (2001) : Comedy,Romance\n",
            "Chasing Liberty (2004) : Comedy,Romance\n",
            "--------------------------------\n",
            "Top 5 movie recommendation for users: 594 \n",
            "--------------------------------\n",
            "Star Wars: Episode V - The Empire Strikes Back (1980) : Action,Adventure,Sci-Fi\n",
            "Raiders of the Lost Ark (Indiana Jones and the Raiders of the Lost Ark) (1981) : Action,Adventure\n",
            "Goodfellas (1990) : Crime,Drama\n",
            "Cool Hand Luke (1967) : Drama\n",
            "Young Frankenstein (1974) : Comedy,Fantasy\n"
          ]
        }
      ]
    }
  ]
}